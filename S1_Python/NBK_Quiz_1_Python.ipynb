{
  "cells": [
    {
      "cell_type": "markdown",
      "metadata": {
        "id": "view-in-github",
        "colab_type": "text"
      },
      "source": [
        "<a href=\"https://colab.research.google.com/github/cecordobat/MSc_Computer_Enginnering_DS/blob/main/S1_M1/NBK_Quiz_1_Python.ipynb\" target=\"_parent\"><img src=\"https://colab.research.google.com/assets/colab-badge.svg\" alt=\"Open In Colab\"/></a>"
      ]
    },
    {
      "cell_type": "markdown",
      "metadata": {
        "id": "blpKpnQvwPNy"
      },
      "source": [
        "<img src = \"https://drive.google.com/uc?export=view&id=13qgLt1GChCQgM3eb5SU5PoZjR7NYmSil\" alt = \"Encabezado MLDS\" width = \"100%\">  </img>"
      ]
    },
    {
      "cell_type": "markdown",
      "metadata": {
        "id": "4Gb04XWVHDB6"
      },
      "source": [
        "# **Quiz 1 - Lenguaje de programación *Python***\n",
        "---\n",
        "Este quiz le servirá para practicar las habilidades adquiridas en la creación de código en el lenguaje de programación *Python*, en el manejo de variables, tipos de dato, estructuras de control y funciones.\n",
        "\n",
        "> **Nota:** Esta tarea va a ser calificada estableciendo una conexión con **[UNCode](https://juezun.github.io/)**. La conexión se realizará al ejecutar la celda indicada e ingresando los datos de usuariio.En cada ejercicio se indicará si es calificable o no, también los lugares donde debe escribir su código sin modificar lo demás con un aproximado de cantidad de líneas a escribir. No se preocupe si su código toma más líneas, esto es simplemente un aproximado destinado a que pueda replantear su estrategia si el código está tomando más de las esperadas. No es un requisito estricto y soluciones más largas también son válidas.\n",
        "\n",
        "> **La tarea es incremental, es recomendable resolver los puntos en orden.**\n",
        "\n",
        "> En caso de tener dudas de cómo solucionar este tipo de ejercicios, por favor consultar el demo en la unidad 0"
      ]
    },
    {
      "cell_type": "code",
      "execution_count": 1,
      "metadata": {
        "colab": {
          "base_uri": "https://localhost:8080/"
        },
        "id": "875DsJCur8zB",
        "outputId": "e3e29a2e-f7d8-407d-9d0a-5c596cb67407"
      },
      "outputs": [
        {
          "output_type": "stream",
          "name": "stdout",
          "text": [
            "Python 3.10.12\n"
          ]
        }
      ],
      "source": [
        "!python --version"
      ]
    },
    {
      "cell_type": "markdown",
      "metadata": {
        "id": "Xyl5fF0zr9r4"
      },
      "source": [
        "Este material fue realizado con la siguiente versión:\n",
        "\n",
        "- Python 3.10.12"
      ]
    },
    {
      "cell_type": "markdown",
      "metadata": {
        "id": "Xx3ZWySgHkwh"
      },
      "source": [
        "**Conexión con UNCode**"
      ]
    },
    {
      "cell_type": "code",
      "execution_count": 2,
      "metadata": {
        "colab": {
          "base_uri": "https://localhost:8080/"
        },
        "id": "1sdN0wYLHj8Q",
        "outputId": "19945d79-7fbf-4279-d51c-a8434283c46c"
      },
      "outputs": [
        {
          "output_type": "stream",
          "name": "stdout",
          "text": [
            "Collecting rlxcrypt\n",
            "  Downloading rlxcrypt-0.0.4-cp310-cp310-manylinux_2_17_x86_64.manylinux2014_x86_64.whl.metadata (1.9 kB)\n",
            "Collecting imphook (from rlxcrypt)\n",
            "  Downloading imphook-1.0.tar.gz (12 kB)\n",
            "  Preparing metadata (setup.py) ... \u001b[?25l\u001b[?25hdone\n",
            "Requirement already satisfied: cython in /usr/local/lib/python3.10/dist-packages (from rlxcrypt) (3.0.11)\n",
            "Collecting pycryptodome (from rlxcrypt)\n",
            "  Downloading pycryptodome-3.20.0-cp35-abi3-manylinux_2_17_x86_64.manylinux2014_x86_64.whl.metadata (3.4 kB)\n",
            "Requirement already satisfied: cryptography in /usr/local/lib/python3.10/dist-packages (from rlxcrypt) (43.0.0)\n",
            "Requirement already satisfied: cffi>=1.12 in /usr/local/lib/python3.10/dist-packages (from cryptography->rlxcrypt) (1.17.0)\n",
            "Requirement already satisfied: pycparser in /usr/local/lib/python3.10/dist-packages (from cffi>=1.12->cryptography->rlxcrypt) (2.22)\n",
            "Downloading rlxcrypt-0.0.4-cp310-cp310-manylinux_2_17_x86_64.manylinux2014_x86_64.whl (297 kB)\n",
            "\u001b[2K   \u001b[90m━━━━━━━━━━━━━━━━━━━━━━━━━━━━━━━━━━━━━━━━\u001b[0m \u001b[32m297.9/297.9 kB\u001b[0m \u001b[31m4.9 MB/s\u001b[0m eta \u001b[36m0:00:00\u001b[0m\n",
            "\u001b[?25hDownloading pycryptodome-3.20.0-cp35-abi3-manylinux_2_17_x86_64.manylinux2014_x86_64.whl (2.1 MB)\n",
            "\u001b[2K   \u001b[90m━━━━━━━━━━━━━━━━━━━━━━━━━━━━━━━━━━━━━━━━\u001b[0m \u001b[32m2.1/2.1 MB\u001b[0m \u001b[31m13.2 MB/s\u001b[0m eta \u001b[36m0:00:00\u001b[0m\n",
            "\u001b[?25hBuilding wheels for collected packages: imphook\n",
            "  Building wheel for imphook (setup.py) ... \u001b[?25l\u001b[?25hdone\n",
            "  Created wheel for imphook: filename=imphook-1.0-py3-none-any.whl size=9421 sha256=6646c8d3d33b051c0243d61a45117a1801298850660ac93540e91986e321c1a1\n",
            "  Stored in directory: /root/.cache/pip/wheels/dc/e2/a4/fcb3817d09a2eb047b2b08eb58e7d9140041b0f3f415eb1256\n",
            "Successfully built imphook\n",
            "Installing collected packages: imphook, pycryptodome, rlxcrypt\n",
            "Successfully installed imphook-1.0 pycryptodome-3.20.0 rlxcrypt-0.0.4\n"
          ]
        }
      ],
      "source": [
        "!pip install rlxcrypt\n",
        "!wget --no-cache -O session.pye -q https://raw.githubusercontent.com/JuezUN/INGInious/master/external%20libs/session.pye"
      ]
    },
    {
      "cell_type": "code",
      "execution_count": 3,
      "metadata": {
        "colab": {
          "base_uri": "https://localhost:8080/",
          "height": 289
        },
        "id": "qIYeG_bEIbmg",
        "outputId": "b62874d6-f2e8-4d4f-e4ad-2a1296216bee"
      },
      "outputs": [
        {
          "output_type": "display_data",
          "data": {
            "text/plain": [
              "<IPython.core.display.HTML object>"
            ],
            "text/html": [
              "\n",
              "    <div>\n",
              "    <div style=\"display: flex\">\n",
              "        <div style=\"padding: 10px\">\n",
              "          <img\n",
              "            src=\"https://uncode.unal.edu.co/static/images/logo_unc.svg\"\n",
              "            width=\"50px\"\n",
              "            height=\"50px\"\n",
              "          />\n",
              "        </div>\n",
              "      \n",
              "        <div>\n",
              "          <h2>UNCode Notebooks grader API</h2>\n",
              "          <hr />\n",
              "        </div>\n",
              "      </div>\n",
              "      \n",
              "      <div style=\"display: flex\">\n",
              "        <span>Please enter authentication data</span>\n",
              "      </div>\n",
              "    </div>\n",
              "    "
            ]
          },
          "metadata": {}
        },
        {
          "name": "stdout",
          "output_type": "stream",
          "text": [
            "Please enter your UNCode username: cecordobat\n",
            "Please enter your password: ··········\n"
          ]
        },
        {
          "output_type": "display_data",
          "data": {
            "text/plain": [
              "<IPython.core.display.HTML object>"
            ],
            "text/html": [
              "<h5 style=\"color: green\"><Response [200]></h5>"
            ]
          },
          "metadata": {}
        },
        {
          "output_type": "display_data",
          "data": {
            "text/plain": [
              "<IPython.core.display.HTML object>"
            ],
            "text/html": [
              "<h5 style=\"color: green\">Auth process succeeded</h5>"
            ]
          },
          "metadata": {}
        },
        {
          "output_type": "display_data",
          "data": {
            "text/plain": [
              "<IPython.core.display.HTML object>"
            ],
            "text/html": [
              "<h5>View your courses <a href=\"https://uncode.unal.edu.co/courselist\">at UNCode platform</a></h5>"
            ]
          },
          "metadata": {}
        },
        {
          "output_type": "display_data",
          "data": {
            "text/plain": [
              "<IPython.core.display.HTML object>"
            ],
            "text/html": [
              "<h3>You will sumbit code to course: <span style=\"color: green\">Análisis y visualización de datos con Python | Grupo MLDS-1 | 2024 - 2<span></h3>"
            ]
          },
          "metadata": {}
        },
        {
          "output_type": "display_data",
          "data": {
            "text/plain": [
              "<IPython.core.display.HTML object>"
            ],
            "text/html": [
              "<h3>You will sumbit code to task: <span style=\"color: blue\">Unidad 1 - Quiz 1 - Python<span></h3>"
            ]
          },
          "metadata": {}
        }
      ],
      "source": [
        "import rlxcrypt\n",
        "import session\n",
        "\n",
        "grader = session.LoginSequence(\"AYVDDCP-GroupMLDS-1-2024-2@quiz_1\")"
      ]
    },
    {
      "cell_type": "markdown",
      "metadata": {
        "id": "aq3HM6YEMIxM"
      },
      "source": [
        "## **1. FizzBuzz**\n",
        "---\n",
        "*FizzBuzz* es un popular ejercicio de programación de computadores basado en el concepto de divisibilidad de números enteros.\n",
        "\n",
        ">Un número entero $x$ es divisible por $m$ cuando $x$ es un múltiplo de $m$. Es decir, cuando el residuo de la división de $x$ por $m$ es $0$.\n",
        "\n",
        "Un programa que solucione el problema *FizzBuzz* debe seguir las siguientes reglas.\n",
        "\n",
        "> Dado un número entero $x$ como entrada en el programa:\n",
        "  1. Se debe retornar la cadena **`Fizz!`** cuando $x$ es divisible por $3$.\n",
        "  2. Se debe retornar la cadena **`Buzz!`** cuando $x$ es divisible por $5$.\n",
        "  3. Cuando el número $x$ sea divisible **tanto por $3$ como por $5$**, se debe retornar la cadena **`FizzBuzz!`**\n",
        "  4. En los casos que el número no sea divisible por $3$ ni por $5$ se debe retornar la cadena **`...`**\n",
        "\n",
        "Veamos unos ejemplos:\n",
        "\n",
        "```\n",
        ">>> FizzBuzz(3)\n",
        "Fizz!\n",
        "\n",
        ">>> FizzBuzz(11)\n",
        "...\n",
        "\n",
        ">>> FizzBuzz(5)\n",
        "Buzz!\n",
        "\n",
        ">>> FizzBuzz(7)\n",
        "...\n",
        "\n",
        ">>> FizzBuzz(15)\n",
        "FizzBuzz!\n",
        "```"
      ]
    },
    {
      "cell_type": "markdown",
      "metadata": {
        "id": "BA-nbOmnPYl6"
      },
      "source": [
        "<details>    \n",
        "<summary>\n",
        "    <font size=\"3\" color=\"darkgreen\"><b>Pistas</b></font>\n",
        "</summary>\n",
        "\n",
        "* Puede saber si un número $x$ es divisible por $y$ verificando que **`x % y`** es igual a $0$. Recuerde que **`%`** es el operador de módulo.\n",
        "* Asegúrese que esté retornando exactamente lo que se pide. Las únicas salidas válidas de su función deberían ser las cadenas: **`'...'`**, **`'Fizz!'`**, **`'Buzz!'`**, o **`'FizzBuzz!'`**. No debería haber espacios en blanco.\n",
        "* Utilice las estructuras de control condicionales **`if`**, **`elif`** y **`else`** para retornar la respuesta correcta.\n",
        "* Puede utilizar una expresión **`return`** para cada caso posible.\n"
      ]
    },
    {
      "cell_type": "code",
      "execution_count": 9,
      "metadata": {
        "id": "szKPIvFwzhUG"
      },
      "outputs": [],
      "source": [
        "# FUNCIÓN CALIFICADA: FizzBuzz(x)\n",
        "def FizzBuzz(x):\n",
        "    \"\"\"\n",
        "    x: número entero positivo\n",
        "\n",
        "    Retorna la respuesta a FizzBuzz para el número x\n",
        "    \"\"\"\n",
        "    ### ESCRIBA SU CÓDIGO AQUÍ ###\n",
        "    # Reemplace la palabra None por el código correspondiente\n",
        "    # 8 líneas de código aproximadamente\n",
        "    if x % 5 == 0 and x % 3 == 0 : # Valide la primera condición.\n",
        "        return \"FizzBuzz!\" # Retorne la respuesta para cada caso\n",
        "    elif x % 5 == 0 : # Valide la segunda condición\n",
        "        return \"Buzz!\" # Retorne la respuesta para cada caso\n",
        "    elif x % 3 == 0 :# Si es necesario agregue más condiciones.\n",
        "        return \"Fizz!\"\n",
        "    else: # Valide la condición por defecto.\n",
        "        return \"...\" # Retorne el valor por defecto\n",
        "    ### FIN DEL CÓDIGO ###"
      ]
    },
    {
      "cell_type": "code",
      "execution_count": 10,
      "metadata": {
        "colab": {
          "base_uri": "https://localhost:8080/"
        },
        "id": "xicbXt1uYDDt",
        "outputId": "aca8d939-3f83-42bc-920a-b2c7f2da8585"
      },
      "outputs": [
        {
          "output_type": "stream",
          "name": "stdout",
          "text": [
            "Fizz!\n",
            "...\n",
            "Buzz!\n",
            "...\n",
            "FizzBuzz!\n"
          ]
        }
      ],
      "source": [
        "# CELDA DE PRUEBAS\n",
        "print(FizzBuzz(3))\n",
        "print(FizzBuzz(7))\n",
        "print(FizzBuzz(5))\n",
        "print(FizzBuzz(11))\n",
        "print(FizzBuzz(15))"
      ]
    },
    {
      "cell_type": "markdown",
      "metadata": {
        "id": "gS8eqbf4X2Am"
      },
      "source": [
        "La salida de la ejecución de la celda anterior debería ser:\n",
        "```\n",
        "Fizz!\n",
        "...\n",
        "Buzz!\n",
        "...\n",
        "FizzBuzz!\n",
        "```"
      ]
    },
    {
      "cell_type": "markdown",
      "metadata": {
        "id": "4dXdQejgJG19"
      },
      "source": [
        "### **Evaluar código**"
      ]
    },
    {
      "cell_type": "code",
      "execution_count": 11,
      "metadata": {
        "colab": {
          "base_uri": "https://localhost:8080/",
          "height": 141
        },
        "id": "OuitWhqhxPN1",
        "outputId": "86d6e146-f277-45cd-be9c-d92400639879"
      },
      "outputs": [
        {
          "output_type": "stream",
          "name": "stdout",
          "text": [
            "Test 1_1\n"
          ]
        },
        {
          "output_type": "display_data",
          "data": {
            "text/plain": [
              "<IPython.core.display.HTML object>"
            ],
            "text/html": [
              "<h4>Test Run correctly</h4>"
            ]
          },
          "metadata": {}
        },
        {
          "output_type": "display_data",
          "data": {
            "text/plain": [
              "<IPython.core.display.HTML object>"
            ],
            "text/html": [
              "<h6 style=\"color: green;\">Your test grade: 100</h6>\n",
              "<h6>Feedback: Probando código x = 12</h6>"
            ]
          },
          "metadata": {}
        }
      ],
      "source": [
        "grader.run_test(\"Test 1_1\", globals())"
      ]
    },
    {
      "cell_type": "code",
      "execution_count": 12,
      "metadata": {
        "colab": {
          "base_uri": "https://localhost:8080/",
          "height": 141
        },
        "id": "fsDGkVwhbnqt",
        "outputId": "873ede08-e05a-48af-c577-41acbc923869"
      },
      "outputs": [
        {
          "output_type": "stream",
          "name": "stdout",
          "text": [
            "Test 1_2\n"
          ]
        },
        {
          "output_type": "display_data",
          "data": {
            "text/plain": [
              "<IPython.core.display.HTML object>"
            ],
            "text/html": [
              "<h4>Test Run correctly</h4>"
            ]
          },
          "metadata": {}
        },
        {
          "output_type": "display_data",
          "data": {
            "text/plain": [
              "<IPython.core.display.HTML object>"
            ],
            "text/html": [
              "<h6 style=\"color: green;\">Your test grade: 100</h6>\n",
              "<h6>Feedback: Probando código x = 10</h6>"
            ]
          },
          "metadata": {}
        }
      ],
      "source": [
        "grader.run_test(\"Test 1_2\", globals())"
      ]
    },
    {
      "cell_type": "code",
      "execution_count": 13,
      "metadata": {
        "colab": {
          "base_uri": "https://localhost:8080/",
          "height": 141
        },
        "id": "W8LFi2N4eQRp",
        "outputId": "de8061f8-acdd-4784-d0fa-2fe4a3c02407"
      },
      "outputs": [
        {
          "output_type": "stream",
          "name": "stdout",
          "text": [
            "Test 1_3\n"
          ]
        },
        {
          "output_type": "display_data",
          "data": {
            "text/plain": [
              "<IPython.core.display.HTML object>"
            ],
            "text/html": [
              "<h4>Test Run correctly</h4>"
            ]
          },
          "metadata": {}
        },
        {
          "output_type": "display_data",
          "data": {
            "text/plain": [
              "<IPython.core.display.HTML object>"
            ],
            "text/html": [
              "<h6 style=\"color: green;\">Your test grade: 100</h6>\n",
              "<h6>Feedback: Probando código x = 15</h6>"
            ]
          },
          "metadata": {}
        }
      ],
      "source": [
        "grader.run_test(\"Test 1_3\", globals())"
      ]
    },
    {
      "cell_type": "code",
      "execution_count": 14,
      "metadata": {
        "colab": {
          "base_uri": "https://localhost:8080/",
          "height": 141
        },
        "id": "H8oDy3iuzA6K",
        "outputId": "685c0f70-7866-4970-865e-f05a3bbf9111"
      },
      "outputs": [
        {
          "output_type": "stream",
          "name": "stdout",
          "text": [
            "Test 1_4\n"
          ]
        },
        {
          "output_type": "display_data",
          "data": {
            "text/plain": [
              "<IPython.core.display.HTML object>"
            ],
            "text/html": [
              "<h4>Test Run correctly</h4>"
            ]
          },
          "metadata": {}
        },
        {
          "output_type": "display_data",
          "data": {
            "text/plain": [
              "<IPython.core.display.HTML object>"
            ],
            "text/html": [
              "<h6 style=\"color: green;\">Your test grade: 100</h6>\n",
              "<h6>Feedback: Probando código x = 1</h6>"
            ]
          },
          "metadata": {}
        }
      ],
      "source": [
        "grader.run_test(\"Test 1_4\", globals())"
      ]
    },
    {
      "cell_type": "code",
      "execution_count": 15,
      "metadata": {
        "colab": {
          "base_uri": "https://localhost:8080/",
          "height": 141
        },
        "id": "ZXksDJXw5IPq",
        "outputId": "369d20b3-75b5-4dfb-9bca-8aef3355c2cf"
      },
      "outputs": [
        {
          "output_type": "stream",
          "name": "stdout",
          "text": [
            "Test 1_5\n"
          ]
        },
        {
          "output_type": "display_data",
          "data": {
            "text/plain": [
              "<IPython.core.display.HTML object>"
            ],
            "text/html": [
              "<h4>Test Run correctly</h4>"
            ]
          },
          "metadata": {}
        },
        {
          "output_type": "display_data",
          "data": {
            "text/plain": [
              "<IPython.core.display.HTML object>"
            ],
            "text/html": [
              "<h6 style=\"color: green;\">Your test grade: 100</h6>\n",
              "<h6>Feedback: Probando código x = [0...99]</h6>"
            ]
          },
          "metadata": {}
        }
      ],
      "source": [
        "grader.run_test(\"Test 1_5\", globals())"
      ]
    },
    {
      "cell_type": "markdown",
      "metadata": {
        "id": "HwSDMxzDMWMF"
      },
      "source": [
        "## **2. *FizzBuzz* extendido**\n",
        "---\n",
        "\n",
        "Para hacer las cosas más interesantes le pedimos que para un número entero **`n`** resuelva *FizzBuzz* para todos los números entre $1$ y $n$ (incluido).\n",
        "\n",
        "Implemente la función **`FizzBuzzN`** de tal manera que retorne la solución en una lista de *Python*.\n",
        "\n",
        "> **Nota:** En caso tal de que la entrada no sea un número entero positivo, deberá retornar una **lista vacía** como el resultado de su función.\n",
        "\n",
        "Veamos un ejemplo:\n",
        "\n",
        "```\n",
        ">>> FizzBuzzN(4)\n",
        "['...', '...', 'Fizz!', '...']\n",
        "\n",
        ">>> FizzBuzz(-1)\n",
        "[]\n",
        "```"
      ]
    },
    {
      "cell_type": "markdown",
      "metadata": {
        "id": "WW_D0N3eEDlG"
      },
      "source": [
        "<details>    \n",
        "<summary>\n",
        "    <font size=\"3\" color=\"darkgreen\"><b>Pistas</b></font>\n",
        "</summary>\n",
        "\n",
        "* Utilice un bucle o ciclo **`for`** o **`while`** para realizar la operación sobre cada caso.\n",
        "* Utilice la función **`range(inicio, fin)`**. Tenga en cuenta deberá utilizar el valor ambos argumentos para expresar los límites de su programa.\n",
        "* Llame la función **`FizzBuzz(x)`** declarada en la primera parte del ejercicio. Se considera buena práctica reutilizar código con el uso de funciones."
      ]
    },
    {
      "cell_type": "code",
      "execution_count": 17,
      "metadata": {
        "id": "6s-3IwFKQGdb"
      },
      "outputs": [],
      "source": [
        "# FUNCIÓN CALIFICADA: FizzBuzzN(n)\n",
        "def FizzBuzzN(n):\n",
        "    \"\"\"\n",
        "    n: numero entero que determina el rango [1, n]\n",
        "    Retorna la respuesta a FizzBuzz para cada número en el rango [1, n] en una lista\n",
        "    \"\"\"\n",
        "    ### ESCRIBA SU CÓDIGO AQUÍ ###\n",
        "    # Reemplace la palabra None por el código correspondiente\n",
        "    # ~ 4 líneas de código\n",
        "    # Cree una lista vacía donde se retornará la respuesta.\n",
        "    if n <1:\n",
        "      return []\n",
        "    respuesta = []\n",
        "    # Recorra el rango de [1, n] y resuelva FizzBuzz.\n",
        "    for x in range(1, n + 1):\n",
        "      if x % 5 == 0 and x % 3 == 0 : # Valide la primera condición.\n",
        "          respuesta.append(\"FizzBuzz!\") # Retorne la respuesta para cada caso\n",
        "      elif x % 5 == 0 : # Valide la segunda condición\n",
        "          respuesta.append(\"Buzz!\") # Retorne la respuesta para cada caso\n",
        "      elif x % 3 == 0 :# Si es necesario agregue más condiciones.\n",
        "          respuesta.append(\"Fizz!\")\n",
        "      else: # Valide la condición por defecto.\n",
        "          respuesta.append(\"...\") # Retorne el valor por defecto\n",
        "    ### FIN DEL CÓDIGO ###\n",
        "    return respuesta"
      ]
    },
    {
      "cell_type": "code",
      "execution_count": 18,
      "metadata": {
        "id": "7mOw5WE2NhdV",
        "outputId": "1c48741c-048a-4a3d-c8dc-d7139f0313df",
        "colab": {
          "base_uri": "https://localhost:8080/"
        }
      },
      "outputs": [
        {
          "output_type": "execute_result",
          "data": {
            "text/plain": [
              "['...', '...', 'Fizz!', '...', 'Buzz!']"
            ]
          },
          "metadata": {},
          "execution_count": 18
        }
      ],
      "source": [
        "# CELDA DE PRUEBAS\n",
        "FizzBuzzN(5)"
      ]
    },
    {
      "cell_type": "markdown",
      "metadata": {
        "id": "PUEUSpxmUbap"
      },
      "source": [
        "La salida de la celda anterior debería ser:\n",
        "```\n",
        "['...', '...', 'Fizz!', '...', 'Buzz!']\n",
        "```"
      ]
    },
    {
      "cell_type": "code",
      "execution_count": 19,
      "metadata": {
        "id": "f3W35RVK2BR8",
        "outputId": "d2dd595b-e733-4647-faed-b8f733930175",
        "colab": {
          "base_uri": "https://localhost:8080/"
        }
      },
      "outputs": [
        {
          "output_type": "execute_result",
          "data": {
            "text/plain": [
              "[]"
            ]
          },
          "metadata": {},
          "execution_count": 19
        }
      ],
      "source": [
        "# CELDA DE PRUEBAS\n",
        "FizzBuzzN(-30)"
      ]
    },
    {
      "cell_type": "markdown",
      "metadata": {
        "id": "DCVg_ENm2BR9"
      },
      "source": [
        "La salida de la celda anterior debería ser:\n",
        "```\n",
        "[]\n",
        "```"
      ]
    },
    {
      "cell_type": "markdown",
      "metadata": {
        "id": "ROPkvQGZJJE3"
      },
      "source": [
        "### **Evaluar código**"
      ]
    },
    {
      "cell_type": "code",
      "execution_count": 20,
      "metadata": {
        "colab": {
          "base_uri": "https://localhost:8080/",
          "height": 141
        },
        "id": "CpOrHV33AlpH",
        "outputId": "9f87ef44-52c7-4a38-c8e5-73ef8acbda6b"
      },
      "outputs": [
        {
          "output_type": "stream",
          "name": "stdout",
          "text": [
            "Test 2_1\n"
          ]
        },
        {
          "output_type": "display_data",
          "data": {
            "text/plain": [
              "<IPython.core.display.HTML object>"
            ],
            "text/html": [
              "<h4>Test Run correctly</h4>"
            ]
          },
          "metadata": {}
        },
        {
          "output_type": "display_data",
          "data": {
            "text/plain": [
              "<IPython.core.display.HTML object>"
            ],
            "text/html": [
              "<h6 style=\"color: green;\">Your test grade: 100</h6>\n",
              "<h6>Feedback: Probando código n = 5</h6>"
            ]
          },
          "metadata": {}
        }
      ],
      "source": [
        "grader.run_test(\"Test 2_1\", globals())"
      ]
    },
    {
      "cell_type": "code",
      "execution_count": 21,
      "metadata": {
        "colab": {
          "base_uri": "https://localhost:8080/",
          "height": 141
        },
        "id": "jrIlzYv2H8Os",
        "outputId": "cfca7812-25ed-4051-a217-050a40bf4d4b"
      },
      "outputs": [
        {
          "output_type": "stream",
          "name": "stdout",
          "text": [
            "Test 2_2\n"
          ]
        },
        {
          "output_type": "display_data",
          "data": {
            "text/plain": [
              "<IPython.core.display.HTML object>"
            ],
            "text/html": [
              "<h4>Test Run correctly</h4>"
            ]
          },
          "metadata": {}
        },
        {
          "output_type": "display_data",
          "data": {
            "text/plain": [
              "<IPython.core.display.HTML object>"
            ],
            "text/html": [
              "<h6 style=\"color: green;\">Your test grade: 100</h6>\n",
              "<h6>Feedback: Probando código n = 15</h6>"
            ]
          },
          "metadata": {}
        }
      ],
      "source": [
        "grader.run_test(\"Test 2_2\", globals())"
      ]
    },
    {
      "cell_type": "code",
      "execution_count": 22,
      "metadata": {
        "colab": {
          "base_uri": "https://localhost:8080/",
          "height": 141
        },
        "id": "139drgPfIaG1",
        "outputId": "caeb9e3c-d7bc-4939-c98e-bd7f251c2d10"
      },
      "outputs": [
        {
          "output_type": "stream",
          "name": "stdout",
          "text": [
            "Test 2_3\n"
          ]
        },
        {
          "output_type": "display_data",
          "data": {
            "text/plain": [
              "<IPython.core.display.HTML object>"
            ],
            "text/html": [
              "<h4>Test Run correctly</h4>"
            ]
          },
          "metadata": {}
        },
        {
          "output_type": "display_data",
          "data": {
            "text/plain": [
              "<IPython.core.display.HTML object>"
            ],
            "text/html": [
              "<h6 style=\"color: green;\">Your test grade: 100</h6>\n",
              "<h6>Feedback: Probando código n = -3</h6>"
            ]
          },
          "metadata": {}
        }
      ],
      "source": [
        "grader.run_test(\"Test 2_3\", globals())"
      ]
    },
    {
      "cell_type": "code",
      "execution_count": 23,
      "metadata": {
        "colab": {
          "base_uri": "https://localhost:8080/",
          "height": 141
        },
        "id": "-lEw-aYBLCb9",
        "outputId": "4b952187-92f6-4522-e2e5-cf783a1b1aeb"
      },
      "outputs": [
        {
          "output_type": "stream",
          "name": "stdout",
          "text": [
            "Test 2_4\n"
          ]
        },
        {
          "output_type": "display_data",
          "data": {
            "text/plain": [
              "<IPython.core.display.HTML object>"
            ],
            "text/html": [
              "<h4>Test Run correctly</h4>"
            ]
          },
          "metadata": {}
        },
        {
          "output_type": "display_data",
          "data": {
            "text/plain": [
              "<IPython.core.display.HTML object>"
            ],
            "text/html": [
              "<h6 style=\"color: green;\">Your test grade: 100</h6>\n",
              "<h6>Feedback: Probando código n = 0</h6>"
            ]
          },
          "metadata": {}
        }
      ],
      "source": [
        "grader.run_test(\"Test 2_4\", globals())"
      ]
    },
    {
      "cell_type": "code",
      "execution_count": 24,
      "metadata": {
        "colab": {
          "base_uri": "https://localhost:8080/",
          "height": 141
        },
        "id": "6i8gSnd0L9MI",
        "outputId": "a8050068-40e3-4c77-bb25-2d798d07090b"
      },
      "outputs": [
        {
          "output_type": "stream",
          "name": "stdout",
          "text": [
            "Test 2_5\n"
          ]
        },
        {
          "output_type": "display_data",
          "data": {
            "text/plain": [
              "<IPython.core.display.HTML object>"
            ],
            "text/html": [
              "<h4>Test Run correctly</h4>"
            ]
          },
          "metadata": {}
        },
        {
          "output_type": "display_data",
          "data": {
            "text/plain": [
              "<IPython.core.display.HTML object>"
            ],
            "text/html": [
              "<h6 style=\"color: green;\">Your test grade: 100</h6>\n",
              "<h6>Feedback: Probando código n = 100</h6>"
            ]
          },
          "metadata": {}
        }
      ],
      "source": [
        "grader.run_test(\"Test 2_5\", globals())"
      ]
    },
    {
      "cell_type": "markdown",
      "metadata": {
        "id": "4Igf_jPe3yBd"
      },
      "source": [
        "## **Evaluación**\n",
        "**¡Felicitaciones!** Ha terminado su primer quiz. ¡Buen trabajo!\n",
        "\n"
      ]
    },
    {
      "cell_type": "code",
      "execution_count": 25,
      "metadata": {
        "colab": {
          "base_uri": "https://localhost:8080/",
          "height": 937
        },
        "id": "S_EEDJA3JT45",
        "outputId": "004a1ddb-e67b-41d8-fcfa-7635e45472d3"
      },
      "outputs": [
        {
          "output_type": "stream",
          "name": "stdout",
          "text": [
            "Test 1_1\n",
            "Test 1_2\n",
            "Test 1_3\n",
            "Test 1_4\n",
            "Test 1_5\n",
            "Test 2_1\n",
            "Test 2_2\n",
            "Test 2_3\n",
            "Test 2_4\n",
            "Test 2_5\n"
          ]
        },
        {
          "output_type": "display_data",
          "data": {
            "text/plain": [
              "<IPython.core.display.HTML object>"
            ],
            "text/html": [
              "<h3>Grading succeeded</h3>"
            ]
          },
          "metadata": {}
        },
        {
          "output_type": "display_data",
          "data": {
            "text/plain": [
              "<IPython.core.display.HTML object>"
            ],
            "text/html": [
              "<h6 style=\"color: green;\">TEST Test 1_1 , Your test grade: 100</h6>\n",
              "<h6>Feedback: Probando código x = 12</h6>"
            ]
          },
          "metadata": {}
        },
        {
          "output_type": "display_data",
          "data": {
            "text/plain": [
              "<IPython.core.display.HTML object>"
            ],
            "text/html": [
              "<h6 style=\"color: green;\">TEST Test 1_2 , Your test grade: 100</h6>\n",
              "<h6>Feedback: Probando código x = 10</h6>"
            ]
          },
          "metadata": {}
        },
        {
          "output_type": "display_data",
          "data": {
            "text/plain": [
              "<IPython.core.display.HTML object>"
            ],
            "text/html": [
              "<h6 style=\"color: green;\">TEST Test 1_3 , Your test grade: 100</h6>\n",
              "<h6>Feedback: Probando código x = 15</h6>"
            ]
          },
          "metadata": {}
        },
        {
          "output_type": "display_data",
          "data": {
            "text/plain": [
              "<IPython.core.display.HTML object>"
            ],
            "text/html": [
              "<h6 style=\"color: green;\">TEST Test 1_4 , Your test grade: 100</h6>\n",
              "<h6>Feedback: Probando código x = 1</h6>"
            ]
          },
          "metadata": {}
        },
        {
          "output_type": "display_data",
          "data": {
            "text/plain": [
              "<IPython.core.display.HTML object>"
            ],
            "text/html": [
              "<h6 style=\"color: green;\">TEST Test 1_5 , Your test grade: 100</h6>\n",
              "<h6>Feedback: Probando código x = [0...99]</h6>"
            ]
          },
          "metadata": {}
        },
        {
          "output_type": "display_data",
          "data": {
            "text/plain": [
              "<IPython.core.display.HTML object>"
            ],
            "text/html": [
              "<h6 style=\"color: green;\">TEST Test 2_1 , Your test grade: 100</h6>\n",
              "<h6>Feedback: Probando código n = 5</h6>"
            ]
          },
          "metadata": {}
        },
        {
          "output_type": "display_data",
          "data": {
            "text/plain": [
              "<IPython.core.display.HTML object>"
            ],
            "text/html": [
              "<h6 style=\"color: green;\">TEST Test 2_2 , Your test grade: 100</h6>\n",
              "<h6>Feedback: Probando código n = 15</h6>"
            ]
          },
          "metadata": {}
        },
        {
          "output_type": "display_data",
          "data": {
            "text/plain": [
              "<IPython.core.display.HTML object>"
            ],
            "text/html": [
              "<h6 style=\"color: green;\">TEST Test 2_3 , Your test grade: 100</h6>\n",
              "<h6>Feedback: Probando código n = -3</h6>"
            ]
          },
          "metadata": {}
        },
        {
          "output_type": "display_data",
          "data": {
            "text/plain": [
              "<IPython.core.display.HTML object>"
            ],
            "text/html": [
              "<h6 style=\"color: green;\">TEST Test 2_4 , Your test grade: 100</h6>\n",
              "<h6>Feedback: Probando código n = 0</h6>"
            ]
          },
          "metadata": {}
        },
        {
          "output_type": "display_data",
          "data": {
            "text/plain": [
              "<IPython.core.display.HTML object>"
            ],
            "text/html": [
              "<h6 style=\"color: green;\">TEST Test 2_5 , Your test grade: 100</h6>\n",
              "<h6>Feedback: Probando código n = 100</h6>"
            ]
          },
          "metadata": {}
        },
        {
          "output_type": "display_data",
          "data": {
            "text/plain": [
              "<IPython.core.display.HTML object>"
            ],
            "text/html": [
              "<h3 style=\"color: purple;\">Your submission grade: \"100.0%\"</h3>"
            ]
          },
          "metadata": {}
        }
      ],
      "source": [
        "grader.submit_task(globals())"
      ]
    },
    {
      "cell_type": "markdown",
      "metadata": {
        "id": "QETcLEiG3yBs"
      },
      "source": [
        "## **Créditos**\n",
        "\n",
        "* **Profesor:** [Felipe Restrepo Calle](https://dis.unal.edu.co/~ferestrepoca/)\n",
        "* **Asistentes docentes:**\n",
        "  - Alberto Nicolai Romero Martínez\n",
        "  - Miguel Angel Ortiz Marín\n",
        "\n",
        "**Universidad Nacional de Colombia** - *Facultad de Ingeniería*\n"
      ]
    }
  ],
  "metadata": {
    "colab": {
      "collapsed_sections": [
        "lbzORUpRixia",
        "wiuUIePdiZb3"
      ],
      "provenance": [],
      "toc_visible": true,
      "include_colab_link": true
    },
    "kernelspec": {
      "display_name": "Python 3",
      "name": "python3"
    }
  },
  "nbformat": 4,
  "nbformat_minor": 0
}