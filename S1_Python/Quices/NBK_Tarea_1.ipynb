{
  "cells": [
    {
      "cell_type": "markdown",
      "metadata": {
        "id": "view-in-github",
        "colab_type": "text"
      },
      "source": [
        "<a href=\"https://colab.research.google.com/github/cecordobat/MSc_Computer_Enginnering_DS/blob/main/S1_M1/NBK_Tarea_1.ipynb\" target=\"_parent\"><img src=\"https://colab.research.google.com/assets/colab-badge.svg\" alt=\"Open In Colab\"/></a>"
      ]
    },
    {
      "cell_type": "markdown",
      "metadata": {
        "id": "XKOWh-r8MLGq"
      },
      "source": [
        "<img src = \"https://drive.google.com/uc?export=view&id=13qgLt1GChCQgM3eb5SU5PoZjR7NYmSil\" alt = \"Encabezado MLDS\" width = \"100%\">  </img>"
      ]
    },
    {
      "cell_type": "markdown",
      "metadata": {
        "id": "IonuYotBN6_Y"
      },
      "source": [
        "# **Tarea 1 - Introducción al análisis de datos: *Python* y *NumPy***\n",
        "---\n",
        "Esta tarea le permitirá practicar y aplicar las habilidades adquiridas para la escritura de código en el lenguaje de programación *Python* y su librería de numérica *NumPy*.\n",
        "\n",
        "> **Nota:** Esta tarea va a ser calificada estableciendo una conexión con **[UNCode](https://juezun.github.io/)**. La conexión se realizará al ejecutar la celda indicada e ingresando los datos de usuariio.En cada ejercicio se indicará si es calificable o no, también los lugares donde debe escribir su código sin modificar lo demás con un aproximado de cantidad de líneas a escribir. No se preocupe si su código toma más líneas, esto es simplemente un aproximado destinado a que pueda replantear su estrategia si el código está tomando más de las esperadas. No es un requisito estricto y soluciones más largas también son válidas.\n",
        "\n",
        "> **La tarea es incremental, es recomendable resolver los puntos en orden.**\n",
        "\n",
        "> En caso de tener dudas de cómo solucionar este tipo de ejercicios, por favor consultar el demo en la unidad 0"
      ]
    },
    {
      "cell_type": "markdown",
      "metadata": {
        "id": "pxQV2PvQjHc_"
      },
      "source": [
        "Ejecute las siguientes celdas para importar las librerías y conocer sus respectivas versiones."
      ]
    },
    {
      "cell_type": "code",
      "execution_count": 6,
      "metadata": {
        "id": "puqicAezq-ra"
      },
      "outputs": [],
      "source": [
        "import numpy as np"
      ]
    },
    {
      "cell_type": "code",
      "execution_count": 7,
      "metadata": {
        "id": "CNSeA2Jfrr20",
        "colab": {
          "base_uri": "https://localhost:8080/"
        },
        "outputId": "b4a0a461-ad66-4888-cbcd-353afbfd92c0"
      },
      "outputs": [
        {
          "output_type": "stream",
          "name": "stdout",
          "text": [
            "Python 3.10.12\n",
            "NumPy 1.26.4\n"
          ]
        }
      ],
      "source": [
        "!python --version\n",
        "print('NumPy', np.__version__)"
      ]
    },
    {
      "cell_type": "markdown",
      "metadata": {
        "id": "Sx-3yPQtq5iv"
      },
      "source": [
        "Este material fue realizado con las siguientes versiones:\n",
        "\n",
        "*  *Python*: 3.10.12\n",
        "*  *NumPy*:  1.26.4\n"
      ]
    },
    {
      "cell_type": "code",
      "execution_count": null,
      "metadata": {
        "id": "4PAttzPSPmOu",
        "colab": {
          "base_uri": "https://localhost:8080/"
        },
        "outputId": "20f63a98-aa03-4a29-e134-82dec924effb"
      },
      "outputs": [
        {
          "output_type": "stream",
          "name": "stdout",
          "text": [
            "Collecting rlxcrypt\n",
            "  Downloading rlxcrypt-0.0.4-cp310-cp310-manylinux_2_17_x86_64.manylinux2014_x86_64.whl.metadata (1.9 kB)\n",
            "Collecting imphook (from rlxcrypt)\n",
            "  Downloading imphook-1.0.tar.gz (12 kB)\n",
            "  Preparing metadata (setup.py) ... \u001b[?25l\u001b[?25hdone\n",
            "Requirement already satisfied: cython in /usr/local/lib/python3.10/dist-packages (from rlxcrypt) (3.0.11)\n",
            "Collecting pycryptodome (from rlxcrypt)\n",
            "  Downloading pycryptodome-3.20.0-cp35-abi3-manylinux_2_17_x86_64.manylinux2014_x86_64.whl.metadata (3.4 kB)\n",
            "Requirement already satisfied: cryptography in /usr/local/lib/python3.10/dist-packages (from rlxcrypt) (43.0.0)\n",
            "Requirement already satisfied: cffi>=1.12 in /usr/local/lib/python3.10/dist-packages (from cryptography->rlxcrypt) (1.17.0)\n",
            "Requirement already satisfied: pycparser in /usr/local/lib/python3.10/dist-packages (from cffi>=1.12->cryptography->rlxcrypt) (2.22)\n",
            "Downloading rlxcrypt-0.0.4-cp310-cp310-manylinux_2_17_x86_64.manylinux2014_x86_64.whl (297 kB)\n",
            "\u001b[2K   \u001b[90m━━━━━━━━━━━━━━━━━━━━━━━━━━━━━━━━━━━━━━━━\u001b[0m \u001b[32m297.9/297.9 kB\u001b[0m \u001b[31m6.8 MB/s\u001b[0m eta \u001b[36m0:00:00\u001b[0m\n",
            "\u001b[?25hDownloading pycryptodome-3.20.0-cp35-abi3-manylinux_2_17_x86_64.manylinux2014_x86_64.whl (2.1 MB)\n",
            "\u001b[2K   \u001b[90m━━━━━━━━━━━━━━━━━━━━━━━━━━━━━━━━━━━━━━━━\u001b[0m \u001b[32m2.1/2.1 MB\u001b[0m \u001b[31m35.3 MB/s\u001b[0m eta \u001b[36m0:00:00\u001b[0m\n",
            "\u001b[?25hBuilding wheels for collected packages: imphook\n",
            "  Building wheel for imphook (setup.py) ... \u001b[?25l\u001b[?25hdone\n",
            "  Created wheel for imphook: filename=imphook-1.0-py3-none-any.whl size=9421 sha256=17aa7d60292b2839e229545d84c38e32d0e8920c3a0557f3e745e82a9f64be85\n",
            "  Stored in directory: /root/.cache/pip/wheels/dc/e2/a4/fcb3817d09a2eb047b2b08eb58e7d9140041b0f3f415eb1256\n",
            "Successfully built imphook\n",
            "Installing collected packages: imphook, pycryptodome, rlxcrypt\n",
            "Successfully installed imphook-1.0 pycryptodome-3.20.0 rlxcrypt-0.0.4\n"
          ]
        }
      ],
      "source": [
        "!pip install rlxcrypt\n",
        "!wget --no-cache -O session.pye -q https://raw.githubusercontent.com/JuezUN/INGInious/master/external%20libs/session.pye"
      ]
    },
    {
      "cell_type": "code",
      "execution_count": 9,
      "metadata": {
        "id": "5gaFeAXkPnwg",
        "colab": {
          "base_uri": "https://localhost:8080/",
          "height": 329
        },
        "outputId": "b3875d22-e4a9-4845-e512-b7f9a825705d"
      },
      "outputs": [
        {
          "output_type": "display_data",
          "data": {
            "text/plain": [
              "<IPython.core.display.HTML object>"
            ],
            "text/html": [
              "\n",
              "    <div>\n",
              "    <div style=\"display: flex\">\n",
              "        <div style=\"padding: 10px\">\n",
              "          <img\n",
              "            src=\"https://uncode.unal.edu.co/static/images/logo_unc.svg\"\n",
              "            width=\"50px\"\n",
              "            height=\"50px\"\n",
              "          />\n",
              "        </div>\n",
              "      \n",
              "        <div>\n",
              "          <h2>UNCode Notebooks grader API</h2>\n",
              "          <hr />\n",
              "        </div>\n",
              "      </div>\n",
              "      \n",
              "      <div style=\"display: flex\">\n",
              "        <span>Please enter authentication data</span>\n",
              "      </div>\n",
              "    </div>\n",
              "    "
            ]
          },
          "metadata": {}
        },
        {
          "name": "stdout",
          "output_type": "stream",
          "text": [
            "Please enter your UNCode username: cecordobat\n",
            "Please enter your password: ··········\n"
          ]
        },
        {
          "output_type": "display_data",
          "data": {
            "text/plain": [
              "<IPython.core.display.HTML object>"
            ],
            "text/html": [
              "<h5 style=\"color: green\"><Response [200]></h5>"
            ]
          },
          "metadata": {}
        },
        {
          "output_type": "display_data",
          "data": {
            "text/plain": [
              "<IPython.core.display.HTML object>"
            ],
            "text/html": [
              "<h5 style=\"color: green\">Auth process succeeded</h5>"
            ]
          },
          "metadata": {}
        },
        {
          "output_type": "display_data",
          "data": {
            "text/plain": [
              "<IPython.core.display.HTML object>"
            ],
            "text/html": [
              "<h5>View your courses <a href=\"https://uncode.unal.edu.co/courselist\">at UNCode platform</a></h5>"
            ]
          },
          "metadata": {}
        },
        {
          "output_type": "display_data",
          "data": {
            "text/plain": [
              "<IPython.core.display.HTML object>"
            ],
            "text/html": [
              "<h3>You will sumbit code to course: <span style=\"color: green\">Análisis y visualización de datos con Python | Grupo MLDS-1 | 2024 - 2<span></h3>"
            ]
          },
          "metadata": {}
        },
        {
          "output_type": "display_data",
          "data": {
            "text/plain": [
              "<IPython.core.display.HTML object>"
            ],
            "text/html": [
              "<h3>You will sumbit code to task: <span style=\"color: blue\">Unidad 1 - Tarea 1 - Introducción al análisis de datos con Python<span></h3>"
            ]
          },
          "metadata": {}
        }
      ],
      "source": [
        "import rlxcrypt\n",
        "import session\n",
        "\n",
        "grader = session.LoginSequence(\"AYVDDCP-GroupMLDS-1-2024-2@tarea_1\")"
      ]
    },
    {
      "cell_type": "markdown",
      "metadata": {
        "id": "_iPmsk70gfdf"
      },
      "source": [
        "## **1. Conteo de pedidos**\n",
        "---\n",
        "\n",
        "Usted es responsable de la recepción de pedidos en un pequeño negocio en crecimiento. Un día, se produce una gran e inusual cantidad de pedidos por lo que decide usar sus habilidades de programación para realizar esta tarea de una manera más eficiente y automática. Para esto, le asigna a cada uno de los $n$ productos distintos del negocio un código con un número entero de $0$ a $n - 1$ como identificador (ID).\n",
        "\n",
        "Una de las tareas iniciales que desea realizar en su sistema es tomar la lista de pedidos, que cuidadosamente logró convertir y cargar en un formato digital, y conocer la cantidad total de pedidos que se realizó por cada producto. De esta forma, podrá realizar la solicitud respectiva a sus proveedores.\n",
        "\n",
        "Suponga que, gracias a la codificación de productos realizada, usted puede obtener una lista con todos los IDs de los productos solicitados fácilmente. A continuación, deberá implementar la función **`conteo_pedidos`**. Esta función debe cumplir con la siguiente especificación:\n",
        "\n",
        "* La función recibirá como argumento la lista original de IDs de todos los productos pedidos: **`pedidos`**.\n",
        "* Debe generar y retornar un arreglo con el conteo de veces que se realizó el pedido de cada uno de los productos. El número de pedidos del producto con ID $i$ se debe almacenar en la posición $i$ en el arreglo creado.\n",
        "\n",
        "Tenga en cuenta que el tamaño del arreglo resultante debe corresponder con el identificador con el número mayor en la lista de **`pedidos`**.\n",
        "\n",
        "\n",
        "> **Nota:** En este ejercicio se garantiza que la lista ingresada en el momento de la calificación esté compuesta exclusivamente por números enteros entre $0$ y $n - 1$. No obstante, en un escenario real se considera buena práctica validar las posibles entradas del sistema y realizar un análisis de los flujos alternativos que su problema deberá realizar en cada caso posible.\n",
        "\n",
        "Considere los siguientes ejemplos de ejecución de la función:\n",
        "\n",
        "```\n",
        ">>> print(conteo_pedidos(np.array([2, 2, 3, 4, 2, 2])))\n",
        "[0. 0. 4. 1. 1.]\n",
        "\n",
        ">>> print(conteo_pedidos(np.array([1, 2, 3])))\n",
        "[0. 1. 1. 1.]\n",
        "\n",
        ">>> print(conteo_pedidos(np.array([0])))\n",
        "[1.]\n",
        "```"
      ]
    },
    {
      "cell_type": "markdown",
      "metadata": {
        "id": "VEwjASRh7pTc"
      },
      "source": [
        "<details>    \n",
        "<summary>\n",
        "    <font size=\"3\" color=\"darkgreen\"><b>Pistas</b></font>\n",
        "</summary>\n",
        "\n",
        "* Se puede calcular el máximo de un arreglo **`x`** llamando a la función **`np.max(x)`**.\n",
        "* La función **`np.zeros`** devuelve un arreglo inicializado con ceros.\n",
        "* Una opción recomendada es recorrer (iterar) el arreglo de **`pedidos`** a medida que construye el arreglo con el conteo.\n"
      ]
    },
    {
      "cell_type": "code",
      "execution_count": 15,
      "metadata": {
        "id": "6sNDkXB-M26B"
      },
      "outputs": [],
      "source": [
        "# FUNCIÓN CALIFICADA: conteo_pedidos(pedidos)\n",
        "def conteo_pedidos(pedidos):\n",
        "    \"\"\"\n",
        "    pedidos: un arreglo de NumPy con valores enteros no negativos. Contiene IDs de productos pedidos, pueden estar repetidos.\n",
        "\n",
        "    Retorna un arreglo con el conteo de los IDs del arreglo de pedidos.\n",
        "    El arreglo resultante codifica cada conteo en su posición de ID correspondiente.\n",
        "    \"\"\"\n",
        "    ### ESCRIBA SU CÓDIGO AQUÍ ###\n",
        "    # Reemplace la palabra None por el código correspondiente\n",
        "    # ~ 6 líneas de código\n",
        "\n",
        "    # Obtenga el valor máximo del arreglo 'pedidos'\n",
        "    id_max = max(pedidos)\n",
        "\n",
        "    # Crear un arreglo de conteos inicializado en 0 con un tamaño de id_max + 1\n",
        "    conteos = np.zeros(id_max + 1, dtype=int)\n",
        "\n",
        "    # Recorrer la lista de pedidos y actualizar los conteos\n",
        "    for pedido in pedidos:\n",
        "        conteos[pedido] += 1\n",
        "\n",
        "    return conteos"
      ]
    },
    {
      "cell_type": "code",
      "execution_count": 16,
      "metadata": {
        "id": "yQV8yJKVgET3",
        "colab": {
          "base_uri": "https://localhost:8080/"
        },
        "outputId": "5a274413-a448-406c-8292-8546fe8b1676"
      },
      "outputs": [
        {
          "output_type": "stream",
          "name": "stdout",
          "text": [
            "[0 1 1 3 0 2 1]\n",
            "[0 0 2 1 1]\n",
            "[0 1 1 1]\n"
          ]
        }
      ],
      "source": [
        "# CELDA DE PRUEBAS\n",
        "print(conteo_pedidos(np.array([1, 2, 3, 3, 3, 5, 5, 6])))\n",
        "\n",
        "print(conteo_pedidos(np.array([2, 2, 3, 4])))\n",
        "\n",
        "print(conteo_pedidos(np.array([1, 2, 3])))"
      ]
    },
    {
      "cell_type": "markdown",
      "metadata": {
        "id": "sXvJcptSgpD8"
      },
      "source": [
        "La salida de la celda anterior debería ser:\n",
        "```\n",
        "[0. 1. 1. 3. 0. 2. 1.]\n",
        "[0. 0. 2. 1. 1.]\n",
        "[0. 1. 1. 1.]\n",
        "```"
      ]
    },
    {
      "cell_type": "markdown",
      "metadata": {
        "id": "RYuy4xZyORwX"
      },
      "source": [
        "### **Evaluar código**"
      ]
    },
    {
      "cell_type": "code",
      "execution_count": 17,
      "metadata": {
        "id": "OuitWhqhxPN1",
        "colab": {
          "base_uri": "https://localhost:8080/",
          "height": 141
        },
        "outputId": "4b1394cd-e72c-47df-d6f7-b24f0cb51265"
      },
      "outputs": [
        {
          "output_type": "stream",
          "name": "stdout",
          "text": [
            "Test 1_1\n"
          ]
        },
        {
          "output_type": "display_data",
          "data": {
            "text/plain": [
              "<IPython.core.display.HTML object>"
            ],
            "text/html": [
              "<h4>Test Run correctly</h4>"
            ]
          },
          "metadata": {}
        },
        {
          "output_type": "display_data",
          "data": {
            "text/plain": [
              "<IPython.core.display.HTML object>"
            ],
            "text/html": [
              "<h6 style=\"color: green;\">Your test grade: 100</h6>\n",
              "<h6>Feedback: Probando código</h6>"
            ]
          },
          "metadata": {}
        }
      ],
      "source": [
        "grader.run_test(\"Test 1_1\", globals())"
      ]
    },
    {
      "cell_type": "code",
      "execution_count": 18,
      "metadata": {
        "id": "G1f62lifGqtC",
        "colab": {
          "base_uri": "https://localhost:8080/",
          "height": 141
        },
        "outputId": "95f6fe26-0f1b-48e1-d8e9-5b034b0efad8"
      },
      "outputs": [
        {
          "output_type": "stream",
          "name": "stdout",
          "text": [
            "Test 1_2\n"
          ]
        },
        {
          "output_type": "display_data",
          "data": {
            "text/plain": [
              "<IPython.core.display.HTML object>"
            ],
            "text/html": [
              "<h4>Test Run correctly</h4>"
            ]
          },
          "metadata": {}
        },
        {
          "output_type": "display_data",
          "data": {
            "text/plain": [
              "<IPython.core.display.HTML object>"
            ],
            "text/html": [
              "<h6 style=\"color: green;\">Your test grade: 100</h6>\n",
              "<h6>Feedback: Probando código</h6>"
            ]
          },
          "metadata": {}
        }
      ],
      "source": [
        "grader.run_test(\"Test 1_2\", globals())"
      ]
    },
    {
      "cell_type": "code",
      "execution_count": 19,
      "metadata": {
        "id": "FsotzO9iTb1o",
        "colab": {
          "base_uri": "https://localhost:8080/",
          "height": 141
        },
        "outputId": "1c6624d2-0e5e-483d-a94d-48df0295c26d"
      },
      "outputs": [
        {
          "output_type": "stream",
          "name": "stdout",
          "text": [
            "Test 1_3\n"
          ]
        },
        {
          "output_type": "display_data",
          "data": {
            "text/plain": [
              "<IPython.core.display.HTML object>"
            ],
            "text/html": [
              "<h4>Test Run correctly</h4>"
            ]
          },
          "metadata": {}
        },
        {
          "output_type": "display_data",
          "data": {
            "text/plain": [
              "<IPython.core.display.HTML object>"
            ],
            "text/html": [
              "<h6 style=\"color: green;\">Your test grade: 100</h6>\n",
              "<h6>Feedback: Probando código</h6>"
            ]
          },
          "metadata": {}
        }
      ],
      "source": [
        "grader.run_test(\"Test 1_3\", globals())"
      ]
    },
    {
      "cell_type": "code",
      "execution_count": 20,
      "metadata": {
        "id": "pZTK8RfeTuoE",
        "colab": {
          "base_uri": "https://localhost:8080/",
          "height": 141
        },
        "outputId": "b8e13bfd-cc33-451d-a8ec-974b59c339ff"
      },
      "outputs": [
        {
          "output_type": "stream",
          "name": "stdout",
          "text": [
            "Test 1_4\n"
          ]
        },
        {
          "output_type": "display_data",
          "data": {
            "text/plain": [
              "<IPython.core.display.HTML object>"
            ],
            "text/html": [
              "<h4>Test Run correctly</h4>"
            ]
          },
          "metadata": {}
        },
        {
          "output_type": "display_data",
          "data": {
            "text/plain": [
              "<IPython.core.display.HTML object>"
            ],
            "text/html": [
              "<h6 style=\"color: green;\">Your test grade: 100</h6>\n",
              "<h6>Feedback: Probando código</h6>"
            ]
          },
          "metadata": {}
        }
      ],
      "source": [
        "grader.run_test(\"Test 1_4\", globals())"
      ]
    },
    {
      "cell_type": "code",
      "execution_count": 21,
      "metadata": {
        "id": "zIwMXF0VUOzp",
        "colab": {
          "base_uri": "https://localhost:8080/",
          "height": 141
        },
        "outputId": "2a01cb7f-ec09-446f-8dc6-02785434fbc6"
      },
      "outputs": [
        {
          "output_type": "stream",
          "name": "stdout",
          "text": [
            "Test 1_5\n"
          ]
        },
        {
          "output_type": "display_data",
          "data": {
            "text/plain": [
              "<IPython.core.display.HTML object>"
            ],
            "text/html": [
              "<h4>Test Run correctly</h4>"
            ]
          },
          "metadata": {}
        },
        {
          "output_type": "display_data",
          "data": {
            "text/plain": [
              "<IPython.core.display.HTML object>"
            ],
            "text/html": [
              "<h6 style=\"color: green;\">Your test grade: 100</h6>\n",
              "<h6>Feedback: Probando código</h6>"
            ]
          },
          "metadata": {}
        }
      ],
      "source": [
        "grader.run_test(\"Test 1_5\", globals())"
      ]
    },
    {
      "cell_type": "markdown",
      "metadata": {
        "id": "e3ZfWKJiusgf"
      },
      "source": [
        "## **2. Cantidad de material**\n",
        "---\n",
        "Cada producto fabricado en su empresa requiere de una cierta cantidad de unidades de materias primas $M_j$. Usted posee una tabla con la cantidad de unidades de cada material $M_j$ que se requiere para la fabricación de cada producto $P_i$. Al igual que con los productos, cada una de las $m$ materias primas están identificadas con números enteros $j$ entre $0$  y $m - 1$ que corresponden a la posición del arreglo. Usted decide calcular automáticamente la cantidad de materia prima requerida para cumplir con un pedido determinado.\n",
        "\n",
        "Considere el siguiente ejemplo de un pedido:\n",
        "\n",
        "* Cantidad de unidades por producto:\n",
        "\n",
        "| $P_0$ | $P_1$ | $P_2$ | $P_3$ |\n",
        "|-----|-----|-----|-----|\n",
        "| 2   | 5   | 7   | 8   |\n",
        "\n",
        "* Cantidad de material $M_j$ necesario para fabricar el producto $P_i$:\n",
        "\n",
        "|       | $P_0$ | $P_1$ | $P_2$ | $P_3$ |\n",
        "|-------|-------|-------|-------|-------|\n",
        "| $M_0$ | 2     | 0     | 2     | 1     |\n",
        "| $M_1$ | 1     | 1     | 1     | 0     |\n",
        "| $M_2$ | 2     | 2     | 0     | 2     |\n",
        "\n",
        "\n",
        "Por ejemplo, para cumplir con este pedido se requiere el siguiente número de unidades del material $M_0$:\n",
        "* $4$ unidades del material $M_0$ para fabricar $2$ unidades de $P_0$.\n",
        "* $14$ unidades del material $M_0$ para fabricar $7$ unidades de $P_2$.\n",
        "* $8$ unidades del material $M_0$ para fabricar $8$ unidades de $P_3$.\n",
        "\n",
        "Para un total de $26$ unidades de material $M_0$. Si se repite el proceso para los demás materiales el total de materiales que se deben adquirir para este pedido son:\n",
        "\n",
        "\n",
        "| $M_0$ | $M_1$ | $M_2$ |\n",
        "|-----|-----|-----|\n",
        "| 26   | 14   | 30  |\n",
        "\n",
        "Para esta actividad deberá implementar la función **`cantidad_material`**, que recibe como argumento:\n",
        "* Lista de cantidad de unidades por producto: **`productos`**.\n",
        "* Tabla de cantidades de material por producto **`cantidades`**.\n",
        "\n",
        "A partir de estos $2$ arreglos de *NumPy* la función debe retornar el arreglo con la cantidad de cada material del pedido.\n",
        "\n",
        "Considere el caso anterior en el ejemplo de ejecución de la función:\n",
        "\n",
        "```\n",
        ">>> productos = np.array([2, 5, 7, 8])\n",
        ">>> cantidades = np.array(\n",
        "    [[2, 0, 2, 1,],\n",
        "    [1, 1, 1, 0],\n",
        "    [2, 2, 0, 2]]  \n",
        "  )\n",
        ">>> cantidad_material(productos, cantidades)\n",
        "array([26, 14, 30])\n",
        "```"
      ]
    },
    {
      "cell_type": "markdown",
      "metadata": {
        "id": "OhY7IFzIiXvk"
      },
      "source": [
        "<details>    \n",
        "<summary>\n",
        "    <font size=\"3\" color=\"darkgreen\"><b>Pistas</b></font>\n",
        "</summary>\n",
        "\n",
        "* Tómese su tiempo para comprender el problema. Este problema puede solucionarse de varias formas. Una de ellas es mediante operaciones de **álgebra lineal**. Para más información, considere el uso de operaciones como la **multiplicación matricial** (operador **`@`**) y el **producto punto** (**`np.dot`**) y aplique la solución usando los conceptos vistos en el taller guiado de *NumPy*.\n",
        "\n",
        "* Otra solución puede ser mediante operaciones entre vectores y agregaciones como la suma con **`np.sum(axis = ?)`**, definiendo como argumento el eje por el cual se debe realizar la suma (0 para filas, 1 para columnas).\n",
        "\n"
      ]
    },
    {
      "cell_type": "code",
      "execution_count": 24,
      "metadata": {
        "id": "6pp7NisfTWqd"
      },
      "outputs": [],
      "source": [
        "# FUNCIÓN CALIFICADA: cantidad_material(productos, cantidades)\n",
        "def cantidad_material(productos, cantidades):\n",
        "    \"\"\"\n",
        "    productos: un arreglo de NumPy con dimensión (n,) con valores enteros no negativos.\n",
        "                Contiene la cantidad pedida de cada uno de los productos.\n",
        "    cantidades: un arreglo de NumPy con dimensión (m, n) con valores enteros no negativos.\n",
        "                Contiene las unidades de materia prima (filas) necesarias para la\n",
        "                fabricación de cada producto (columnas)\n",
        "\n",
        "    Retorna un arreglo con dimensión (m,) con la cantidad de unidades de materia prima\n",
        "    requeridas en el pedido.\n",
        "    \"\"\"\n",
        "    ### ESCRIBA SU CÓDIGO AQUÍ ###\n",
        "    # Reemplace la palabra None por el código correspondiente\n",
        "    # ~ 1-5 líneas de código\n",
        "\n",
        "    # Opere las matrices de entrada para obtener el valor requerido.\n",
        "    productos=np.array(productos)\n",
        "    cantidades=np.array(cantidades)\n",
        "    # Tenga en cuenta la dimensión de los arreglos a la hora de realizar las operaciones\n",
        "    materiales = np.dot(cantidades, productos)\n",
        "    ### FIN DEL CÓDIGO ###\n",
        "\n",
        "    return materiales"
      ]
    },
    {
      "cell_type": "code",
      "execution_count": 25,
      "metadata": {
        "id": "B8lWKRZ6iQJa",
        "outputId": "e37b9b49-9760-4cda-e141-65342e128293",
        "colab": {
          "base_uri": "https://localhost:8080/"
        }
      },
      "outputs": [
        {
          "output_type": "execute_result",
          "data": {
            "text/plain": [
              "array([ 4, 26, 10, 14])"
            ]
          },
          "metadata": {},
          "execution_count": 25
        }
      ],
      "source": [
        "# CELDA DE PRUEBAS\n",
        "productos = np.array([0, 5, 1, 2])\n",
        "\n",
        "cantidades = np.array(\n",
        "  [[2, 0, 2, 1,],\n",
        "  [1, 5, 1, 0],\n",
        "  [3, 2, 0, 0],\n",
        "  [2, 2, 0, 2]]\n",
        ")\n",
        "\n",
        "cantidad_material(productos, cantidades)"
      ]
    },
    {
      "cell_type": "markdown",
      "metadata": {
        "id": "IJJg18zQiQJc"
      },
      "source": [
        "La salida de la celda anterior debería ser:\n",
        "```\n",
        "array([ 4,  26, 10, 14])\n",
        "```"
      ]
    },
    {
      "cell_type": "markdown",
      "metadata": {
        "id": "h7JAMBF7OToL"
      },
      "source": [
        "### **Evaluar código**"
      ]
    },
    {
      "cell_type": "code",
      "execution_count": 26,
      "metadata": {
        "id": "pWtQlQ69XZdI",
        "outputId": "0b52a16a-5bb4-4caf-8552-f59925dbb287",
        "colab": {
          "base_uri": "https://localhost:8080/",
          "height": 141
        }
      },
      "outputs": [
        {
          "output_type": "stream",
          "name": "stdout",
          "text": [
            "Test 2_1\n"
          ]
        },
        {
          "output_type": "display_data",
          "data": {
            "text/plain": [
              "<IPython.core.display.HTML object>"
            ],
            "text/html": [
              "<h4>Test Run correctly</h4>"
            ]
          },
          "metadata": {}
        },
        {
          "output_type": "display_data",
          "data": {
            "text/plain": [
              "<IPython.core.display.HTML object>"
            ],
            "text/html": [
              "<h6 style=\"color: green;\">Your test grade: 100</h6>\n",
              "<h6>Feedback: Probando código</h6>"
            ]
          },
          "metadata": {}
        }
      ],
      "source": [
        "grader.run_test(\"Test 2_1\", globals())"
      ]
    },
    {
      "cell_type": "code",
      "execution_count": 27,
      "metadata": {
        "id": "UVhxLFcpmNoe",
        "outputId": "378e9255-86df-4948-c365-a106499affd9",
        "colab": {
          "base_uri": "https://localhost:8080/",
          "height": 141
        }
      },
      "outputs": [
        {
          "output_type": "stream",
          "name": "stdout",
          "text": [
            "Test 2_2\n"
          ]
        },
        {
          "output_type": "display_data",
          "data": {
            "text/plain": [
              "<IPython.core.display.HTML object>"
            ],
            "text/html": [
              "<h4>Test Run correctly</h4>"
            ]
          },
          "metadata": {}
        },
        {
          "output_type": "display_data",
          "data": {
            "text/plain": [
              "<IPython.core.display.HTML object>"
            ],
            "text/html": [
              "<h6 style=\"color: green;\">Your test grade: 100</h6>\n",
              "<h6>Feedback: Probando código</h6>"
            ]
          },
          "metadata": {}
        }
      ],
      "source": [
        "grader.run_test(\"Test 2_2\", globals())"
      ]
    },
    {
      "cell_type": "code",
      "execution_count": 28,
      "metadata": {
        "id": "c9g1Vvo_nGYB",
        "outputId": "b5dba29a-6668-4695-d8ef-84c6b2fc3ffb",
        "colab": {
          "base_uri": "https://localhost:8080/",
          "height": 141
        }
      },
      "outputs": [
        {
          "output_type": "stream",
          "name": "stdout",
          "text": [
            "Test 2_3\n"
          ]
        },
        {
          "output_type": "display_data",
          "data": {
            "text/plain": [
              "<IPython.core.display.HTML object>"
            ],
            "text/html": [
              "<h4>Test Run correctly</h4>"
            ]
          },
          "metadata": {}
        },
        {
          "output_type": "display_data",
          "data": {
            "text/plain": [
              "<IPython.core.display.HTML object>"
            ],
            "text/html": [
              "<h6 style=\"color: green;\">Your test grade: 100</h6>\n",
              "<h6>Feedback: Probando código</h6>"
            ]
          },
          "metadata": {}
        }
      ],
      "source": [
        "grader.run_test(\"Test 2_3\", globals())"
      ]
    },
    {
      "cell_type": "code",
      "execution_count": 29,
      "metadata": {
        "id": "-kcJjyamnm0r",
        "outputId": "66ce425d-8f24-4fc5-a5fe-f02c462366f8",
        "colab": {
          "base_uri": "https://localhost:8080/",
          "height": 141
        }
      },
      "outputs": [
        {
          "output_type": "stream",
          "name": "stdout",
          "text": [
            "Test 2_4\n"
          ]
        },
        {
          "output_type": "display_data",
          "data": {
            "text/plain": [
              "<IPython.core.display.HTML object>"
            ],
            "text/html": [
              "<h4>Test Run correctly</h4>"
            ]
          },
          "metadata": {}
        },
        {
          "output_type": "display_data",
          "data": {
            "text/plain": [
              "<IPython.core.display.HTML object>"
            ],
            "text/html": [
              "<h6 style=\"color: green;\">Your test grade: 100</h6>\n",
              "<h6>Feedback: Probando código</h6>"
            ]
          },
          "metadata": {}
        }
      ],
      "source": [
        "grader.run_test(\"Test 2_4\", globals())"
      ]
    },
    {
      "cell_type": "code",
      "execution_count": 30,
      "metadata": {
        "id": "pWqUHAfnn-5A",
        "outputId": "2204bc46-2be8-435d-8ad1-f327afb96fc8",
        "colab": {
          "base_uri": "https://localhost:8080/",
          "height": 141
        }
      },
      "outputs": [
        {
          "output_type": "stream",
          "name": "stdout",
          "text": [
            "Test 2_5\n"
          ]
        },
        {
          "output_type": "display_data",
          "data": {
            "text/plain": [
              "<IPython.core.display.HTML object>"
            ],
            "text/html": [
              "<h4>Test Run correctly</h4>"
            ]
          },
          "metadata": {}
        },
        {
          "output_type": "display_data",
          "data": {
            "text/plain": [
              "<IPython.core.display.HTML object>"
            ],
            "text/html": [
              "<h6 style=\"color: green;\">Your test grade: 100</h6>\n",
              "<h6>Feedback: Probando código</h6>"
            ]
          },
          "metadata": {}
        }
      ],
      "source": [
        "grader.run_test(\"Test 2_5\", globals())"
      ]
    },
    {
      "cell_type": "markdown",
      "metadata": {
        "id": "zhQLW7Stik6Y"
      },
      "source": [
        "## **3. Cálculo de costos**\n",
        "---\n",
        "¡Buen trabajo! Con la ayuda de *NumPy* logró obtener el conteo de pedidos por cada producto y la cantidad de material necesario para fabricarlos. Ahora, para fabricar el producto $P_i$ debe realizar un pedido al proveedor de las materias primas necesarias para construirlo.\n",
        "\n",
        "La empresa tiene un convenio con el proveedor por medio del cual se aplica un descuento de un porcentaje $D$ en materiales cuando se adquieren por lo menos $L$ unidades.\n",
        "\n",
        "Por ejemplo, retomando uno de los ejemplos anteriores, teníamos la cantidad de materiales que solicitar al proveedor:\n",
        "\n",
        "| $M_0$ | $M_1$ | $M_2$ |\n",
        "|-----|-----|-----|\n",
        "| 26   | 14   | 30  |\n",
        "\n",
        "Ahora también conocemos una lista de precios del proveedor por cada material:\n",
        "\n",
        "| $M_0$ | $M_1$ | $M_2$ |\n",
        "|-----|-----|-----|\n",
        "| \\$5.0   | \\$3.0   | \\$4.5  |\n",
        "\n",
        "En este caso, el valor estipulado en el convenio para $L$ es 15 y el de $D$ de $0.2$ ($20\\%$).\n",
        "\n",
        "Entonces, el costo total del $M_0 = 5.0 \\cdot 26 = \\$130$. Adicionalmente, dado que se pidieron más de $15$ unidades aplica el descuento del $20\\%$ de descuento, para un valor final de \\$$104$.\n",
        "\n",
        "Repetimos el proceso para los demás materiales y obtenemos el siguiente resultado:\n",
        "\n",
        "| $M_0$ | $M_1$ | $M_2$ |\n",
        "|-----|-----|-----|\n",
        "| 104.0   | 42.0   | 108.0  |\n",
        "\n",
        "Por lo tanto, el costo total del pedido es de \\$$254.0$\n",
        "\n",
        "Su tarea es implementar la función **`costo_pedido`**, que recibe como argumento:\n",
        "\n",
        "* Lista original de pedidos individuales **`pedidos`**.\n",
        "* Tabla de cantidades de material por producto **`cantidades`**.\n",
        "* Lista de costos por material **`costos`**.\n",
        "* Descuento $D$ **`descuento`**. (Número real entre $0.0$ y $1.0$)\n",
        "* Mínimo de tamaño del lote $L$ **`lote`**. (Número entero mayor o igual que $0$)\n",
        "\n",
        "A partir de esto deberá calcular el **costo total** del pedido.\n",
        "\n",
        "Considere el siguiente ejemplo de ejecución de la función:\n",
        "\n",
        "```\n",
        ">>> pedidos = np.array([0, 0, 1, 2, 2, 2, 2, 2, 3])\n",
        ">>> cantidades = np.array(\n",
        "      [[2, 0, 2, 1,],\n",
        "      [1, 1, 1, 0],\n",
        "      [2, 2, 0, 2]]  \n",
        "    )\n",
        "\n",
        ">>> costos = np.array([5.0, 3.0, 4.5])\n",
        ">>> coste_pedido(pedidos, cantidades, costos, 0.1, 5)\n",
        "121.5\n",
        "```"
      ]
    },
    {
      "cell_type": "markdown",
      "metadata": {
        "id": "w0eFU9tjnHlM"
      },
      "source": [
        "<details>    \n",
        "<summary>\n",
        "    <font size=\"3\" color=\"darkgreen\"><b>Pistas</b></font>\n",
        "</summary>\n",
        "\n",
        "* Utilice las funciones **`conteo_pedidos`** y **`cantidad_material`** realizadas en los puntos anteriores.\n",
        "* Recuerde que con *NumPy* puede realizar multiplicación matricial (con **`@`**) y multiplicación elemento a elemento (con **`*`**).\n",
        "* Puede utilizar selección condicional para realizar operaciones únicamente en los elementos de un arreglo que cumplan una determinada condición.\n",
        "* La selección condicional sólo requiere que el arreglo tenga la misma dimensión que en el que se realiza la operación. No es necesario que la condición realizada sea con el mismo arreglo.\n",
        "* El descuento $D$ es un número entre $0.0$ y $1.0$ que se tiene que descontar del total del precio de un material.\n",
        "\n"
      ]
    },
    {
      "cell_type": "code",
      "execution_count": 31,
      "metadata": {
        "id": "PmNQFvJIUy-F"
      },
      "outputs": [],
      "source": [
        "# FUNCIÓN CALIFICADA: costo_pedido(pedidos, cantidades, costos, descuento, lote)\n",
        "def costo_pedido(pedidos, cantidades, costos, descuento, lote):\n",
        "    \"\"\"\n",
        "    pedidos: un arreglo de NumPy con valores enteros no negativos entre 0 y n - 1.\n",
        "    cantidades: un arreglo de NumPy con dimensión (m, n) con valores enteros no negativos.\n",
        "    costos: un arreglo de NumPy con dimensión (m, ) con valores reales no negativos.\n",
        "    descuento: un número real entre 0.0 y 1.0\n",
        "    lote: un número entero no negativo.\n",
        "\n",
        "    Retorna un número real no negativo con el costo total del pedido.\n",
        "    \"\"\"\n",
        "    ### ESCRIBA SU CÓDIGO AQUÍ ###\n",
        "  # Convertir entradas a arreglos de NumPy en caso de que no lo sean\n",
        "    pedidos = np.array(pedidos)\n",
        "    cantidades = np.array(cantidades)\n",
        "    costos = np.array(costos)\n",
        "\n",
        "    # Calcular la cantidad total de cada materia prima\n",
        "    cantidad_total = np.dot(cantidades, np.bincount(pedidos, minlength=cantidades.shape[1]))\n",
        "\n",
        "    # Calcular el costo inicial para cada material\n",
        "    costo_inicial = cantidad_total * costos\n",
        "\n",
        "    # Aplicar el descuento si se supera el umbral de lote\n",
        "    costo_final = np.where(cantidad_total >= lote, costo_inicial * (1 - descuento), costo_inicial)\n",
        "\n",
        "    # Calcular el costo total del pedido\n",
        "    costo_total = costo_final.sum()\n",
        "\n",
        "    return costo_total\n",
        ""
      ]
    },
    {
      "cell_type": "code",
      "execution_count": 32,
      "metadata": {
        "id": "srbdDwYlRtno",
        "outputId": "5d313305-5d8f-4220-ffba-e2a38f6d919f",
        "colab": {
          "base_uri": "https://localhost:8080/"
        }
      },
      "outputs": [
        {
          "output_type": "execute_result",
          "data": {
            "text/plain": [
              "93.0"
            ]
          },
          "metadata": {},
          "execution_count": 32
        }
      ],
      "source": [
        "# CELDA DE PRUEBAS\n",
        "pedidos = np.array([0, 0, 1, 2, 2, 2, 2])\n",
        "cantidades = np.array(\n",
        "    [[2, 3, 2],\n",
        "    [1, 5, 1]]\n",
        "  )\n",
        "costos = np.array([5.0, 3.0])\n",
        "\n",
        "costo_pedido(pedidos, cantidades, costos, 0.2, 15)"
      ]
    },
    {
      "cell_type": "markdown",
      "metadata": {
        "id": "yRZRVPH8m1PR"
      },
      "source": [
        "La salida de la celda anterior debería ser:\n",
        "```\n",
        "93.0\n",
        "```"
      ]
    },
    {
      "cell_type": "markdown",
      "metadata": {
        "id": "yMUIVnPqOVYW"
      },
      "source": [
        "### **Evaluar código**"
      ]
    },
    {
      "cell_type": "code",
      "execution_count": 33,
      "metadata": {
        "id": "cbJxlQ8t4Qt9",
        "outputId": "6e42c66f-101b-4188-8525-6108501cbcb3",
        "colab": {
          "base_uri": "https://localhost:8080/",
          "height": 141
        }
      },
      "outputs": [
        {
          "output_type": "stream",
          "name": "stdout",
          "text": [
            "Test 3_1\n"
          ]
        },
        {
          "output_type": "display_data",
          "data": {
            "text/plain": [
              "<IPython.core.display.HTML object>"
            ],
            "text/html": [
              "<h4>Test Run correctly</h4>"
            ]
          },
          "metadata": {}
        },
        {
          "output_type": "display_data",
          "data": {
            "text/plain": [
              "<IPython.core.display.HTML object>"
            ],
            "text/html": [
              "<h6 style=\"color: green;\">Your test grade: 100</h6>\n",
              "<h6>Feedback: Probando código</h6>"
            ]
          },
          "metadata": {}
        }
      ],
      "source": [
        "grader.run_test(\"Test 3_1\", globals())"
      ]
    },
    {
      "cell_type": "code",
      "execution_count": 34,
      "metadata": {
        "id": "Tjkni3J2CisM",
        "outputId": "b6c333e0-de3d-41e9-ec29-394d6aa23f50",
        "colab": {
          "base_uri": "https://localhost:8080/",
          "height": 141
        }
      },
      "outputs": [
        {
          "output_type": "stream",
          "name": "stdout",
          "text": [
            "Test 3_2\n"
          ]
        },
        {
          "output_type": "display_data",
          "data": {
            "text/plain": [
              "<IPython.core.display.HTML object>"
            ],
            "text/html": [
              "<h4>Test Run correctly</h4>"
            ]
          },
          "metadata": {}
        },
        {
          "output_type": "display_data",
          "data": {
            "text/plain": [
              "<IPython.core.display.HTML object>"
            ],
            "text/html": [
              "<h6 style=\"color: green;\">Your test grade: 100</h6>\n",
              "<h6>Feedback: Probando código</h6>"
            ]
          },
          "metadata": {}
        }
      ],
      "source": [
        "grader.run_test(\"Test 3_2\", globals())"
      ]
    },
    {
      "cell_type": "code",
      "execution_count": 35,
      "metadata": {
        "id": "mptS3AWgO7hE",
        "outputId": "73b99c38-320e-4967-ff82-ce2b42e0d423",
        "colab": {
          "base_uri": "https://localhost:8080/",
          "height": 141
        }
      },
      "outputs": [
        {
          "output_type": "stream",
          "name": "stdout",
          "text": [
            "Test 3_3\n"
          ]
        },
        {
          "output_type": "display_data",
          "data": {
            "text/plain": [
              "<IPython.core.display.HTML object>"
            ],
            "text/html": [
              "<h4>Test Run correctly</h4>"
            ]
          },
          "metadata": {}
        },
        {
          "output_type": "display_data",
          "data": {
            "text/plain": [
              "<IPython.core.display.HTML object>"
            ],
            "text/html": [
              "<h6 style=\"color: green;\">Your test grade: 100</h6>\n",
              "<h6>Feedback: Probando código</h6>"
            ]
          },
          "metadata": {}
        }
      ],
      "source": [
        "grader.run_test(\"Test 3_3\", globals())"
      ]
    },
    {
      "cell_type": "code",
      "execution_count": 36,
      "metadata": {
        "id": "HenETZR7S5VP",
        "outputId": "feaf63f2-674d-4097-cb87-3c4bdf4f677a",
        "colab": {
          "base_uri": "https://localhost:8080/",
          "height": 161
        }
      },
      "outputs": [
        {
          "output_type": "stream",
          "name": "stdout",
          "text": [
            "Test 3_4\n"
          ]
        },
        {
          "output_type": "display_data",
          "data": {
            "text/plain": [
              "<IPython.core.display.HTML object>"
            ],
            "text/html": [
              "<h4>Test Run correctly</h4>"
            ]
          },
          "metadata": {}
        },
        {
          "output_type": "display_data",
          "data": {
            "text/plain": [
              "<IPython.core.display.HTML object>"
            ],
            "text/html": [
              "<h6 style=\"color: red;\">Your test grade: 0</h6>\n",
              "<h6>Feedback: Probando código<p>* El tipo de dato retornado es incorrecto. Debe devolver un número flotante de numpy</p></h6>"
            ]
          },
          "metadata": {}
        }
      ],
      "source": [
        "grader.run_test(\"Test 3_4\", globals())"
      ]
    },
    {
      "cell_type": "code",
      "execution_count": 37,
      "metadata": {
        "id": "y1RoPMdCUCOc",
        "outputId": "c846781f-8339-417d-83d2-d6df843e4021",
        "colab": {
          "base_uri": "https://localhost:8080/",
          "height": 141
        }
      },
      "outputs": [
        {
          "output_type": "stream",
          "name": "stdout",
          "text": [
            "Test 3_5\n"
          ]
        },
        {
          "output_type": "display_data",
          "data": {
            "text/plain": [
              "<IPython.core.display.HTML object>"
            ],
            "text/html": [
              "<h4>Test Run correctly</h4>"
            ]
          },
          "metadata": {}
        },
        {
          "output_type": "display_data",
          "data": {
            "text/plain": [
              "<IPython.core.display.HTML object>"
            ],
            "text/html": [
              "<h6 style=\"color: green;\">Your test grade: 100</h6>\n",
              "<h6>Feedback: Probando código</h6>"
            ]
          },
          "metadata": {}
        }
      ],
      "source": [
        "grader.run_test(\"Test 3_5\", globals())"
      ]
    },
    {
      "cell_type": "markdown",
      "metadata": {
        "id": "4luKKP58V-Qs"
      },
      "source": [
        "\n",
        "## **Evaluación**\n",
        "**¡Felicitaciones!** Ha terminado la tarea de la Unidad 1. ¡Excelente trabajo!\n",
        "\n"
      ]
    },
    {
      "cell_type": "code",
      "execution_count": 38,
      "metadata": {
        "id": "rh714POZOgTD",
        "outputId": "0be3daa0-d400-4b28-ce6f-b5567a59d33a",
        "colab": {
          "base_uri": "https://localhost:8080/",
          "height": 1000
        }
      },
      "outputs": [
        {
          "output_type": "stream",
          "name": "stdout",
          "text": [
            "Test 1_1\n",
            "Test 1_2\n",
            "Test 1_3\n",
            "Test 1_4\n",
            "Test 1_5\n",
            "Test 2_1\n",
            "Test 2_2\n",
            "Test 2_3\n",
            "Test 2_4\n",
            "Test 2_5\n",
            "Test 3_1\n",
            "Test 3_2\n",
            "Test 3_3\n",
            "Test 3_4\n",
            "Test 3_5\n"
          ]
        },
        {
          "output_type": "display_data",
          "data": {
            "text/plain": [
              "<IPython.core.display.HTML object>"
            ],
            "text/html": [
              "<h3>Grading succeeded</h3>"
            ]
          },
          "metadata": {}
        },
        {
          "output_type": "display_data",
          "data": {
            "text/plain": [
              "<IPython.core.display.HTML object>"
            ],
            "text/html": [
              "<h6 style=\"color: green;\">TEST Test 1_1 , Your test grade: 100</h6>\n",
              "<h6>Feedback: Probando código</h6>"
            ]
          },
          "metadata": {}
        },
        {
          "output_type": "display_data",
          "data": {
            "text/plain": [
              "<IPython.core.display.HTML object>"
            ],
            "text/html": [
              "<h6 style=\"color: green;\">TEST Test 1_2 , Your test grade: 100</h6>\n",
              "<h6>Feedback: Probando código</h6>"
            ]
          },
          "metadata": {}
        },
        {
          "output_type": "display_data",
          "data": {
            "text/plain": [
              "<IPython.core.display.HTML object>"
            ],
            "text/html": [
              "<h6 style=\"color: green;\">TEST Test 1_3 , Your test grade: 100</h6>\n",
              "<h6>Feedback: Probando código</h6>"
            ]
          },
          "metadata": {}
        },
        {
          "output_type": "display_data",
          "data": {
            "text/plain": [
              "<IPython.core.display.HTML object>"
            ],
            "text/html": [
              "<h6 style=\"color: green;\">TEST Test 1_4 , Your test grade: 100</h6>\n",
              "<h6>Feedback: Probando código</h6>"
            ]
          },
          "metadata": {}
        },
        {
          "output_type": "display_data",
          "data": {
            "text/plain": [
              "<IPython.core.display.HTML object>"
            ],
            "text/html": [
              "<h6 style=\"color: green;\">TEST Test 1_5 , Your test grade: 100</h6>\n",
              "<h6>Feedback: Probando código</h6>"
            ]
          },
          "metadata": {}
        },
        {
          "output_type": "display_data",
          "data": {
            "text/plain": [
              "<IPython.core.display.HTML object>"
            ],
            "text/html": [
              "<h6 style=\"color: green;\">TEST Test 2_1 , Your test grade: 100</h6>\n",
              "<h6>Feedback: Probando código</h6>"
            ]
          },
          "metadata": {}
        },
        {
          "output_type": "display_data",
          "data": {
            "text/plain": [
              "<IPython.core.display.HTML object>"
            ],
            "text/html": [
              "<h6 style=\"color: green;\">TEST Test 2_2 , Your test grade: 100</h6>\n",
              "<h6>Feedback: Probando código</h6>"
            ]
          },
          "metadata": {}
        },
        {
          "output_type": "display_data",
          "data": {
            "text/plain": [
              "<IPython.core.display.HTML object>"
            ],
            "text/html": [
              "<h6 style=\"color: green;\">TEST Test 2_3 , Your test grade: 100</h6>\n",
              "<h6>Feedback: Probando código</h6>"
            ]
          },
          "metadata": {}
        },
        {
          "output_type": "display_data",
          "data": {
            "text/plain": [
              "<IPython.core.display.HTML object>"
            ],
            "text/html": [
              "<h6 style=\"color: green;\">TEST Test 2_4 , Your test grade: 100</h6>\n",
              "<h6>Feedback: Probando código</h6>"
            ]
          },
          "metadata": {}
        },
        {
          "output_type": "display_data",
          "data": {
            "text/plain": [
              "<IPython.core.display.HTML object>"
            ],
            "text/html": [
              "<h6 style=\"color: green;\">TEST Test 2_5 , Your test grade: 100</h6>\n",
              "<h6>Feedback: Probando código</h6>"
            ]
          },
          "metadata": {}
        },
        {
          "output_type": "display_data",
          "data": {
            "text/plain": [
              "<IPython.core.display.HTML object>"
            ],
            "text/html": [
              "<h6 style=\"color: green;\">TEST Test 3_1 , Your test grade: 100</h6>\n",
              "<h6>Feedback: Probando código</h6>"
            ]
          },
          "metadata": {}
        },
        {
          "output_type": "display_data",
          "data": {
            "text/plain": [
              "<IPython.core.display.HTML object>"
            ],
            "text/html": [
              "<h6 style=\"color: green;\">TEST Test 3_2 , Your test grade: 100</h6>\n",
              "<h6>Feedback: Probando código</h6>"
            ]
          },
          "metadata": {}
        },
        {
          "output_type": "display_data",
          "data": {
            "text/plain": [
              "<IPython.core.display.HTML object>"
            ],
            "text/html": [
              "<h6 style=\"color: green;\">TEST Test 3_3 , Your test grade: 100</h6>\n",
              "<h6>Feedback: Probando código</h6>"
            ]
          },
          "metadata": {}
        },
        {
          "output_type": "display_data",
          "data": {
            "text/plain": [
              "<IPython.core.display.HTML object>"
            ],
            "text/html": [
              "<h6 style=\"color: red;\">TEST Test 3_4 , Your test grade: 0</h6>\n",
              "<h6>Feedback: Probando código<p>* El tipo de dato retornado es incorrecto. Debe devolver un número flotante de numpy</p></h6>"
            ]
          },
          "metadata": {}
        },
        {
          "output_type": "display_data",
          "data": {
            "text/plain": [
              "<IPython.core.display.HTML object>"
            ],
            "text/html": [
              "<h6 style=\"color: green;\">TEST Test 3_5 , Your test grade: 100</h6>\n",
              "<h6>Feedback: Probando código</h6>"
            ]
          },
          "metadata": {}
        },
        {
          "output_type": "display_data",
          "data": {
            "text/plain": [
              "<IPython.core.display.HTML object>"
            ],
            "text/html": [
              "<h3 style=\"color: purple;\">Your submission grade: \"93.55%\"</h3>"
            ]
          },
          "metadata": {}
        }
      ],
      "source": [
        "grader.submit_task(globals())"
      ]
    },
    {
      "cell_type": "markdown",
      "metadata": {
        "id": "lbAroKIyuX_p"
      },
      "source": [
        "## **Créditos**\n",
        "\n",
        "* **Profesor:** [Felipe Restrepo Calle](https://dis.unal.edu.co/~ferestrepoca/)\n",
        "* **Asistente docente:** Alberto Nicolai Romero Martínez\n",
        "  \n",
        "**Universidad Nacional de Colombia** - *Facultad de Ingeniería*"
      ]
    }
  ],
  "metadata": {
    "colab": {
      "provenance": [],
      "include_colab_link": true
    },
    "kernelspec": {
      "display_name": "Python 3",
      "name": "python3"
    }
  },
  "nbformat": 4,
  "nbformat_minor": 0
}