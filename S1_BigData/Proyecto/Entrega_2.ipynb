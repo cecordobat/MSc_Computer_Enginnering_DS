{
  "nbformat": 4,
  "nbformat_minor": 0,
  "metadata": {
    "colab": {
      "provenance": []
    },
    "kernelspec": {
      "name": "python3",
      "display_name": "Python 3"
    },
    "language_info": {
      "name": "python"
    }
  },
  "cells": [
    {
      "cell_type": "markdown",
      "source": [
        "<img src = \"https://drive.google.com/uc?export=view&id=110NHJ-qD3Maf3x2GX8ngyEREwaBjKpuo\" alt = \"Encabezado MLDS\" width = \"100%\">  </img>"
      ],
      "metadata": {
        "id": "2qrgS_sCJquS"
      }
    },
    {
      "cell_type": "markdown",
      "metadata": {
        "id": "a9669dfd"
      },
      "source": [
        "# **Definición e implementación de las tecnologías**\n",
        "---\n",
        "\n",
        "Este notebook es una plantilla que le puede servir como guía para el segundo entregable del proyecto aplicado."
      ]
    },
    {
      "cell_type": "markdown",
      "metadata": {
        "id": "f6de2158"
      },
      "source": [
        "## **1. Tecnologías a utilizar**\n",
        "---\n",
        "\n",
        "Se debe proporcionar una justificación sólida para la elección de las tecnologías específicas que se utilizarán en el proyecto de *Big Data*."
      ]
    },
    {
      "cell_type": "markdown",
      "metadata": {
        "id": "20031c7b"
      },
      "source": [
        "### **1.1. Selección de tecnologías**\n",
        "---\n",
        "\n",
        "- ¿Cuáles son las tecnologías seleccionadas para el proyecto?\n",
        "- ¿Por qué se eligieron estas tecnologías en lugar de otras alternativas?\n",
        "- ¿Cómo se alinean las tecnologías seleccionadas con los objetivos del proyecto?\n",
        "- ¿Cuáles son las ventajas clave de cada tecnología seleccionada?\n",
        "- ¿Existen desventajas o limitaciones que deben ser abordadas?"
      ]
    },
    {
      "cell_type": "markdown",
      "metadata": {
        "id": "8b0f9910"
      },
      "source": [
        "---**INGRESE SU RESPUESTA**---"
      ]
    },
    {
      "cell_type": "markdown",
      "source": [
        "## **2. Instalación de Herramientas**\n",
        "---\n",
        "Debe describir el proceso de instalación de las herramientas y tecnologías seleccionadas e incluir los *scripts* utilizados para ello."
      ],
      "metadata": {
        "id": "qG-gA0MvzMTA"
      }
    },
    {
      "cell_type": "markdown",
      "source": [
        "- ¿Cuáles son las herramientas específicas que se instalarán en el entorno? ¿Por qué?\n",
        "- ¿Existen requisitos específicos del sistema para cada herramienta?\n",
        "- ¿Cómo se configurarán y personalizarán las herramientas para adaptarse a los requisitos específicos del proyecto?\n",
        "- ¿Existen configuraciones recomendadas para optimizar el rendimiento?"
      ],
      "metadata": {
        "id": "eWhhKe7HdrKA"
      }
    },
    {
      "cell_type": "code",
      "source": [
        "# ---INGRESE SU CÓDIGO---"
      ],
      "metadata": {
        "id": "FxykiJtCzQl2"
      },
      "execution_count": null,
      "outputs": []
    },
    {
      "cell_type": "markdown",
      "source": [
        "## **Créditos**\n",
        "---\n",
        "\n",
        "* **Profesor:** [Jorge E. Camargo, PhD](https://dis.unal.edu.co/~jecamargom/)\n",
        "* **Asistentes docentes:**\n",
        "    - [Juan Sebastián Lara Ramírez](https://www.linkedin.com/in/juan-sebastian-lara-ramirez-43570a214/).\n",
        "* **Diseño de imágenes:**\n",
        "    - [Rosa Alejandra Superlano Esquibel](mailto:rsuperlano@unal.edu.co).\n",
        "* **Coordinador de virtualización:**\n",
        "    - [Edder Hernández Forero](https://www.linkedin.com/in/edder-hernandez-forero-28aa8b207/).\n",
        "    \n",
        "**Universidad Nacional de Colombia** - *Facultad de Ingeniería*"
      ],
      "metadata": {
        "id": "2FLj-UiEd91C"
      }
    }
  ]
}