{
 "cells": [
  {
   "cell_type": "markdown",
   "metadata": {
    "id": "2qrgS_sCJquS"
   },
   "source": [
    "<img src=\"./resources/images/Banner1.png\" alt=\"Encabezado MLDS\" width=\"100%\"></img>"
   ]
  },
  {
   "cell_type": "markdown",
   "metadata": {
    "id": "--22KSZzLR-o"
   },
   "source": [
    "# **Entendimiento del negocio**\n",
    "---"
   ]
  },
  {
   "cell_type": "markdown",
   "metadata": {},
   "source": [
    "## **0. Integrantes del equipo de trabajo**\n",
    "---\n",
    "\n",
    "<table><thead>\n",
    "  <tr>\n",
    "    <th>#</th>\n",
    "    <th>Integrante</th>\n",
    "    <th>Documento de identidad</th>\n",
    "  </tr></thead>\n",
    "<tbody>\n",
    "  <tr>\n",
    "    <td>1</td>\n",
    "    <td>Cristhian Enrique Córdoba Trillos</td>\n",
    "    <td>1030649666</td>\n",
    "  </tr>\n",
    "  <tr>\n",
    "    <td>2</td>\n",
    "    <td>Diego Alejandro Feliciano Ramos</td>\n",
    "    <td>1024586904</td>\n",
    "  </tr>\n",
    "  <tr>\n",
    "    <td>3</td>\n",
    "    <td>Ivonne Cristina Ruiz Páez</td>\n",
    "    <td>1014302058</td>\n",
    "  </tr>\n",
    "</tbody>\n",
    "</table>"
   ]
  },
  {
   "cell_type": "markdown",
   "metadata": {
    "id": "fdb4c33d"
   },
   "source": [
    "## **1. Marco de Proyecto**\n",
    "---"
   ]
  },
  {
   "cell_type": "markdown",
   "metadata": {
    "id": "7a974ec1"
   },
   "source": [
    "### **1.1. Trasfondo del Negocio**\n",
    "---\n",
    "* ¿Quienes son los beneficiarios del proyecto? ¿En qué dominio se encuentran (marketing, medicina, entre otros)?\n",
    "* ¿Cuáles son los principales desafíos o problemas de la situación que motivan la necesidad de realizar un proyecto de análisis de datos?\n",
    "---\n",
    "* Los principales beneficiarios del proyecto son profesionales del área de biología de la conservación, quienes dedican una enorme cantidad de tiempo revisando imágenes de cámaras trampa, y gran parte de ese tiempo revisando imágenes que no son de interés. Esto incluye particularmente imágenes vacías, pero para muchos proyectos, las imágenes de personas y vehículos también son consideradas \"ruido\", o al menos deben manejarse por separado de los animales. Además de las organizaciones de conservación ambiental, potencialmente pueden beneficiarse también ONGs, centros de atención y valoración de la fauna silvestre, así como departamentos, parques, reservas naturales y entidades hacedoras de política pública. Por otro lado, la industria turística puede promover el flujo de personas interesadas en temas de fauna y el ecoturismo. Finalmente, pensamos que también puede tener usos educativos en colegios y universidades para concientizar a los alumnos sobre la importancia de la conservación y la protección del medio ambiente.\n",
    "\n",
    "* El desafio inicial es la gran cantidad de datos de entrada, pues contamos con 2.5 millones de imagenes distintas para la clasificación. Esta clasificación es inviable de forma manual, por tanto, el uso de técnicas de machine learning es imperativo para la resolución del problema planteado. Además, si queremos realizar un modelo de clasificación, se debe acotar el problema en gran medida puesto que tenemos 97 especies en el dataset. Así, se podría identificar entre especies herbívoras y carnívoras, hembras y machos, una especie X respecto de una Y, entre otros. Otros posibles posibles desafios son la capacidad computacional de las máquinas locales sobre las cuales se trabajará este dataset."
   ]
  },
  {
   "cell_type": "markdown",
   "metadata": {
    "id": "d09c63e5"
   },
   "source": [
    "### **1.2. Alcance**\n",
    "---\n",
    "\n",
    "- ¿Qué  solución se desea implementar?\n",
    "- ¿Cuáles son los límites y fronteras del proyecto de análisis de datos? ¿Qué aspectos específicos del negocio se incluirán y cuáles se excluyen en el alcance del proyecto?\n",
    "- ¿De qué forma el cliente o beneficiario utilizará el producto del proyecto?\n",
    "\n",
    "---\n",
    "\n",
    "* El objetivo principal del proyecto es desarrollar un modelo de clasificación utilizando técnicas de machine learning, que permita identificar y clasificar las especies animales presentes en el conjunto de datos de cámaras trampa. La idea preliminar es que este modelo pueda distinguir otras categorías más específicas más allá de animales/personas/vehículos, identificando las diferentes categorías de especies etiquetadas. Dado que puede ser una tarea compleja debido a la cantidad de especies que tiene el conjunto de datos, se plantean también otras alternativas de clasificación que pueden ser eventualmente evaluadas. Por ejemplo, especies herbívoras y carnívoras, hembras y machos, tamaños de animales, entre otros. Esta decisión se determinará a medida que vayamos avanzando y evaluando la dificultad del desarrollo de la tarea propuesta inicialmente. En general, la solución permitirá procesar grandes volúmenes de datos (2.5 millones de imágenes) de manera eficiente, sin necesidad de intervención manual. Además, se implementarán métodos de optimización para gestionar los recursos computacionales limitados durante el entrenamiento y la predicción del modelo.\n",
    "\n",
    "* El proyecto se centrará únicamente en la clasificación de las imágenes de fauna capturadas por cámaras trampa en Nueva Zelanda, utilizando las 97 especies disponibles en el conjunto de datos. Sin embargo, se excluye el análisis más detallado de características biológicas específicas (como edad o estado de salud de los animales), el estudio profundo sobre sus comportamientos, su impacto ambiental y el seguimiento de la biodiversidad en tiempo real, ya que el proyecto se limita a la clasificación de imágenes, sin análisis ecológicos o de conservación. Por último, dentro de los aspectos que se incluirán se encuentran: preprocesamiento de imágenes y etiquetado de datos, implementación de modelos de clasificación, la optimización del modelo para la clasificación eficiente de especies en función de nuevas categorías para las imágenes, así como la evaluación y validación del rendimiento del modelo.\n",
    "\n",
    "* El producto final, consiste en un modelo de clasificación entrenado, que se pondrá a disposición de los beneficiarios, quienes podrán usar el modelo para:\n",
    "\n",
    "    * Automatizar la identificación de especies: Reduciendo la necesidad de intervención manual y acelerando el proceso de monitoreo de fauna en los proyectos de conservación.\n",
    "\n",
    "    * Monitoreo y conservación: Mejorando la capacidad para hacer un seguimiento de las especies en peligro, las especies endémicas/invasoras o la biodiversidad en general. Esto será especialmente útil para la planificación de estrategias de conservación.\n",
    "\n",
    "    * Investigación educativa y turística: Las entidades educativas y los operadores turísticos pueden utilizar el modelo para crear contenido interactivo y educativo, sensibilizando a los estudiantes o visitantes sobre la fauna local y la importancia de su conservación.\n",
    "\n",
    "    En una etapa más avanzada el modelo también podría integrarse en aplicaciones o plataformas de monitoreo en tiempo real de fauna, mejorando la eficiencia en la recopilación de datos y ayudando en la toma de decisiones relacionadas con la conservación ambiental."
   ]
  },
  {
   "cell_type": "markdown",
   "metadata": {
    "id": "370e4a5d"
   },
   "source": [
    "### **1.3. Plan**\n",
    "---\n",
    "Para la ejecución de las actividades se tomó la decisión de usar [GitHub](https://github.com/MLDS-UN-ProjectTeam/final-term-project) con Jira integradas, esto permitirá llevar un seguimiento detallado del trabajo a realizar a su vez de intentar asegurar la calidad de los entregables. \n",
    "\n",
    "A continuación se detalla el [diagrama de Gantt llevado a cabo con Jira](https://unal-team-mlds-project.atlassian.net/jira/software/projects/MLDS3/boards/3/timeline) con las tareas conocidas hasta ahora:\n",
    "\n",
    "<img src=\"./resources/images/gantt.png\" alt=\"Diagrama de Gantt\" width=\"100%\"></img>\n",
    "\n",
    "También se hace constar que el proyecto, tal y como fue creado y seguirá siendo modificado en Jira, constará de épicas que corresponden a cada entrega del proyecto, con tareas que engloban los puntos iniciales a realizar y subtareas que describen mejor cada uno de los subitems que se deben realizar en el punto.\n",
    "\n",
    "Además del [estado actual de las epicas, tareas y subtareas](https://unal-team-mlds-project.atlassian.net/jira/software/projects/MLDS3/boards/3):\n",
    "\n",
    "<img src=\"./resources/images/sprint_view.png\" alt = \"Vista del sprint\" width=\"100%\"></img>\n",
    "\n",
    "También, se añade una vista detallada de una de las tareas para mayor claridad sobre la distribución y asignación de tareas:\n",
    "\n",
    "<img src=\"./resources/images/task_view.png\" alt = \"Vista de tarea\" width=\"100%\"></img>\n",
    "\n",
    "Por último, se añade una visualización al trabajo conocido y estimado hasta ahora en [el backlog del proyecto](https://unal-team-mlds-project.atlassian.net/jira/software/projects/MLDS3/boards/3/backlog):\n",
    "\n",
    "<img src=\"./resources/images/backlog.png\" alt=\"Vista del backlog\" width=\"100%\"></img>"
   ]
  },
  {
   "cell_type": "markdown",
   "metadata": {
    "id": "4a4e145b"
   },
   "source": [
    "## **2. Definición del diseño y/o arquitectura de la solución**\n",
    "---"
   ]
  },
  {
   "cell_type": "markdown",
   "metadata": {
    "id": "2c5f8274"
   },
   "source": [
    "### **2.1. Descripción**\n",
    "---\n",
    "\n",
    "- ¿Cómo se estructura la solución propuesta?\n",
    "- ¿Cuáles son los componentes clave de la solución?\n",
    "- ¿Existen opciones de diseño alternativas y cuáles son sus ventajas y desventajas?\n",
    "\n",
    "---\n",
    "\n",
    "* La solución propuesta se basa en un pipeline escalable y eficiente, diseñado para manejar un gran volumen de datos (2.5 millones de imágenes) y facilitar el entrenamiento de un modelo de machine learning. La estructura incluye:\n",
    "\n",
    "    * Obtención de datos: Las imágenes provienen del dataset NZ Trailcams, alojado en plataformas como AWS S3, Google Cloud Storage y Azure. Los metadatos asociados contienen información clave como ubicación, especie, fecha y nombre del archivo.\n",
    "    * Gestión de metadatos: Los metadatos se almacenan en MongoDB, una base de datos orientada a documentos. Esto permite manejar datos semi-estructurados con flexibilidad y realizar consultas eficientes para filtrar imágenes relevantes según criterios específicos (como especie o ubicación).\n",
    "    * Procesamiento distribuido: Se empleará Apache Spark para gestionar y procesar los datos de manera paralela. Spark se conecta a MongoDB para extraer los metadatos necesarios y coordinar la descarga y preprocesamiento de imágenes en función de las necesidades del pipeline.\n",
    "    * Entrenamiento del modelo: Una vez procesadas, las imágenes se utilizan para entrenar un modelo de deep learning, como una red neuronal convolucional (CNN), para clasificar especies. El entrenamiento se lleva a cabo utilizando frameworks como TensorFlow o PyTorch, aprovechando GPUs o infraestructuras en la nube si es necesario.\n",
    "    * Análisis: Los resultados se evalúan y se ajustan los parámetros del modelo para mejorar su rendimiento. Además, se pueden utilizar los datos y metadatos para generar visualizaciones o reportes sobre la biodiversidad registrada.\n",
    "\n",
    "A grandes rasgos sería algo como lo siguiente: \n",
    "\n",
    "<img src=\"./resources/images/architecture.png\" alt = \"Diagrama de arquitectura\" width=\"100%\"></img>\n",
    "\n",
    "* Los componentes clave de la solución son los siguientes:\n",
    "    * **Fuentes de datos**:\n",
    "        * Imágenes alojadas en plataformas como AWS, GCP y Azure, y sus metadatos correspondientes.\n",
    "    * **MongoDB para metadatos**:\n",
    "        * Almacena los metadatos asociados a cada imagen en un formato flexible (JSON), facilitando consultas como:\n",
    "            * Obtener imágenes de una especie específica.\n",
    "            * Filtrar por fecha o ubicación.\n",
    "            * Descargar rutas específicas para procesamiento posterior.\n",
    "    * **Apache Spark para procesamiento distribuido**:\n",
    "        * Administra el preprocesamiento de imágenes en paralelo:\n",
    "            * Descarga de imágenes según los metadatos filtrados.\n",
    "            * Transformaciones como redimensionado, normalización y limpieza.\n",
    "    * **Modelo de Machine Learning**:\n",
    "        * Arquitecturas como CNNs para clasificar especies animales en las imágenes.\n",
    "    * **Infraestructura en la nube**:\n",
    "        * Uso de servicios en la nube para almacenamiento, procesamiento y escalabilidad del proyecto.\n",
    "    * **Conectores MongoDB-Spark**:\n",
    "        * Integración de MongoDB con Spark para consultas dinámicas de metadatos durante el procesamiento.\n",
    "        \n",
    "* Las opciones de diseño alternativas y sus ventajas y desventajas son:\n",
    "    * **Uso de bases de datos relacionales en lugar de MongoDB**:\n",
    "        * Ventajas:\n",
    "            * Mejor para consultas muy estructuradas o datos normalizados.\n",
    "            * Amplio soporte en la industria.\n",
    "        * Desventajas:\n",
    "            * Menos eficiente para manejar datos semi-estructurados como los metadatos JSON.\n",
    "            * Cambios en la estructura de datos requerirían migraciones más complejas.\n",
    "    * **Procesamiento sin Apache Spark**:\n",
    "        * Ventajas:\n",
    "            * Simplicidad para volúmenes pequeños de datos o en etapas iniciales del proyecto.\n",
    "        * Desventajas:\n",
    "            * Imposibilidad de escalar eficientemente con grandes volúmenes de datos como 2.5 millones de imágenes.\n",
    "    * **Uso de un servicio serverless**:\n",
    "        * Ventajas:\n",
    "            * Servicios como AWS Lambda pueden ejecutar tareas específicas sin necesidad de mantener un servidor.\n",
    "        * Desventajas:\n",
    "            * Puede ser costoso y limitado para flujos intensivos como el entrenamiento de modelos de Machine Learning.\n",
    "    * **Almacenamiento local de imágenes**:\n",
    "        * Ventajas:\n",
    "            * Evita costos asociados al almacenamiento en la nube.\n",
    "        * Desventajas:\n",
    "            * Menor accesibilidad y escalabilidad, especialmente para equipos distribuidos.\n",
    "    * **Uso de otras bases de datos NoSQL (como DynamoDB o Firestore)**:\n",
    "        * Ventajas:\n",
    "            * Mejor integración con su proveedor en la nube (AWS o GCP respectivamente).\n",
    "        * Desventajas:\n",
    "            * Pueden ser menos versátiles para tareas complejas o grandes volúmenes de consultas."
   ]
  },
  {
   "cell_type": "markdown",
   "metadata": {
    "id": "iL8ggH64bGKH"
   },
   "source": [
    "### **2.2. Restricciones y escalabilidad**\n",
    "---\n",
    "\n",
    "* ¿Cuáles son los requisitos funcionales y no funcionales de la solución?\n",
    "* ¿Existen restricciones tecnológicas, presupuestarias o de tiempo que deben tenerse en cuenta en el diseño?\n",
    "* ¿Cómo se abordará la escalabilidad de la solución a medida que crezcan los datos o las necesidades del negocio?\n",
    "* ¿Cómo se integrará la nueva solución con los sistemas existentes en la organización?\n",
    "\n",
    "---\n",
    "\n",
    "* **Requisitos funcionales**:\n",
    "\n",
    "    * Clasificación precisa de imágenes: El modelo debe ser capaz de identificar y clasificar las imágenes de fauna de manera precisa entre las 97 especies presentes en el conjunto de datos, diferenciando entre categorías como herbívoros y carnívoros, machos y hembras, y otras posibles distinciones.\n",
    "\n",
    "    * Automatización del proceso: El sistema debe permitir la carga masiva de imágenes, que serán procesadas automáticamente por el modelo sin intervención manual.\n",
    "\n",
    "* **Requisitos no funcionales**:\n",
    "\n",
    "    * Desempeño y velocidad: El sistema debe ser capaz de procesar grandes volúmenes de imágenes (2.5 millones de imágenes en este caso) en un tiempo razonable.\n",
    "\n",
    "* **Oportunidades de mejora**:\n",
    "\n",
    "    * Escalabilidad: La solución eventualmente debería ser capaz de manejar un crecimiento en la cantidad de datos (nuevas imágenes) y en la demanda de procesamiento sin comprometer el rendimiento del modelo.\n",
    "\n",
    "    * Seguridad y privacidad: Con el tiempo, se buscaría asegurar que las imágenes y los datos sean tratados de forma segura y que no se expongan a accesos no autorizados, en cumplimiento con normativas de confidencialidad de datos.\n",
    "\n",
    "\n",
    "* **Restricciones tecnológicas**:\n",
    "\n",
    "    * Capacidad computacional limitada: La cantidad de imágenes es masiva y el procesamiento de grandes volúmenes puede requerir recursos computacionales significativos. Las máquinas locales utilizadas para entrenar el modelo pueden no ser lo suficientemente potentes, lo que puede requerir la optimización del modelo o el uso de servicios en la nube para el procesamiento de imágenes.\n",
    "\n",
    "    * Limitaciones del hardware local: Si el proyecto se lleva a cabo en un entorno con capacidad limitada en términos de GPUs o CPUs, puede haber restricciones en la velocidad de procesamiento y el entrenamiento de modelos complejos.\n",
    "\n",
    "* **Restricciones presupuestarias**:\n",
    "\n",
    "    * El uso de infraestructura en la nube para el procesamiento masivo de imágenes y el entrenamiento de modelos puede generar costos, especialmente si el volumen de datos crece significativamente. Es importante planificar el presupuesto de acuerdo con la necesidad de computación y almacenamiento en la nube.\n",
    "\n",
    "    * La implementación de una solución automatizada también podría implicar costos asociados a la creación de la infraestructura de TI necesaria, como servidores, almacenamiento.\n",
    "\n",
    "* **Restricciones de tiempo**:\n",
    "\n",
    "    * El proyecto debe ser completado dentro de un período específico, lo que implica priorizar ciertas funcionalidades (por ejemplo, obtener una clasificación básica y eficiente) antes de explorar mejoras más complejas.\n",
    "\n",
    "    * El tiempo necesario para preprocesar las imágenes y entrenar el modelo podría ser considerablemente largo debido al gran volumen de datos.\n",
    "\n",
    "* **Escalabilidad en términos de datos**:\n",
    "\n",
    "    * La solución se diseñará con una arquitectura flexible que permita agregar más imágenes y especies sin afectar significativamente el rendimiento del modelo. Esto incluirá el uso de servicios de almacenamiento escalables en la nube (Google Cloud, AWS, Azure) para manejar grandes volúmenes de datos.\n",
    "\n",
    "    * El modelo de clasificación se entrenará de forma modular, permitiendo la incorporación de nuevas especies o datos sin necesidad de realizar ajustes extensivos al sistema.\n",
    "\n",
    "    * Se implementarán técnicas de optimización o de paralelización y procesamiento distribuido utilizando la computación en la nube para distribuir la carga de trabajo, por ejemplo.\n",
    "\n",
    "* **Escalabilidad en términos de demanda**:\n",
    "\n",
    "    * A medida que más organizaciones y entidades interesadas (como ONGs, parques, etc.) adopten el sistema, se podrá integrar una infraestructura que soporte múltiples usuarios simultáneos, ofreciendo un acceso rápido y sin caídas.\n",
    "\n",
    "    * La solución podrá ser expandida para incluir nuevos módulos, como la integración de análisis de comportamiento o monitoreo en tiempo real, conforme las necesidades del negocio evolucionen.\n",
    "\n",
    "* **Integración con sistemas existentes**:\n",
    "\n",
    "    * El modelo de clasificación y las interfaces se diseñarán para ser fácilmente integrables con los sistemas de monitoreo de fauna o bases de datos que ya estén en uso por las organizaciones de conservación. Esto podría incluir la integración con bases de datos de especies, plataformas de gestión de parques, o sistemas de análisis de biodiversidad.\n",
    "\n",
    "    * La solución también se podría integrar con plataformas de reporte y visualización de datos, permitiendo a los beneficiarios visualizar estadísticas sobre la fauna observada en diferentes hábitats, contribuyendo al análisis y toma de decisiones en tiempo real."
   ]
  },
  {
   "cell_type": "markdown",
   "metadata": {
    "id": "ceibuW1dNH9a"
   },
   "source": [
    "## **Créditos**\n",
    "---\n",
    "\n",
    "* **Profesor:** [Jorge E. Camargo, PhD](https://dis.unal.edu.co/~jecamargom/)\n",
    "* **Asistentes docentes:**\n",
    "    - [Juan Sebastián Lara Ramírez](https://www.linkedin.com/in/juan-sebastian-lara-ramirez-43570a214/).\n",
    "* **Diseño de imágenes:**\n",
    "    - [Rosa Alejandra Superlano Esquibel](mailto:rsuperlano@unal.edu.co).\n",
    "* **Coordinador de virtualización:**\n",
    "    - [Edder Hernández Forero](https://www.linkedin.com/in/edder-hernandez-forero-28aa8b207/).\n",
    "    \n",
    "**Universidad Nacional de Colombia** - *Facultad de Ingeniería*"
   ]
  }
 ],
 "metadata": {
  "colab": {
   "provenance": []
  },
  "kernelspec": {
   "display_name": "Python 3",
   "name": "python3"
  },
  "language_info": {
   "name": "python"
  }
 },
 "nbformat": 4,
 "nbformat_minor": 0
}
