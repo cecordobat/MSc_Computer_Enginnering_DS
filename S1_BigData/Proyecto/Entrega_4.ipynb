{
 "cells": [
  {
   "cell_type": "markdown",
   "metadata": {
    "id": "2qrgS_sCJquS"
   },
   "source": [
    "<img src = \"./resources/images/banner4.png\" alt = \"Encabezado MLDS\" width = \"100%\">  </img>"
   ]
  },
  {
   "cell_type": "markdown",
   "metadata": {
    "id": "fb006272"
   },
   "source": [
    "# **Preparación de los datos**\n",
    "---"
   ]
  },
  {
   "cell_type": "markdown",
   "metadata": {},
   "source": [
    "## **0. Integrantes del equipo de trabajo**\n",
    "---\n",
    "\n",
    "<table><thead>\n",
    "  <tr>\n",
    "    <th>#</th>\n",
    "    <th>Integrante</th>\n",
    "    <th>Documento de identidad</th>\n",
    "  </tr></thead>\n",
    "<tbody>\n",
    "  <tr>\n",
    "    <td>1</td>\n",
    "    <td>Cristhian Enrique Córdoba Trillos</td>\n",
    "    <td>1030649666</td>\n",
    "  </tr>\n",
    "  <tr>\n",
    "    <td>2</td>\n",
    "    <td>Diego Alejandro Feliciano Ramos</td>\n",
    "    <td>1024586904</td>\n",
    "  </tr>\n",
    "  <tr>\n",
    "    <td>3</td>\n",
    "    <td>Ivonne Cristina Ruiz Páez</td>\n",
    "    <td>1014302058</td>\n",
    "  </tr>\n",
    "</tbody>\n",
    "</table>"
   ]
  },
  {
   "cell_type": "markdown",
   "metadata": {
    "id": "f6de2158"
   },
   "source": [
    "## **1. Análisis de calidad de los datos**\n",
    "---"
   ]
  },
  {
   "cell_type": "markdown",
   "metadata": {
    "id": "447ad6f5"
   },
   "source": [
    "### **1.1. Resumen de la calidad de los datos**\n",
    "---\n",
    "\n",
    "- ¿Se detecta la ausencia de datos, la presencia de documentos vacíos o la existencia de datos de baja calidad en el conjunto?\n",
    "- ¿Se identifican documentos ilegibles o con dificultades de codificación durante la revisión del conjunto de datos?\n",
    "- ¿Se observa una diversidad de formatos en el conjunto de datos que pueda dificultar su consistencia o comprensión?\n",
    "- ¿Se identificaron y abordan posibles problemas, como valores atípicos, duplicados o datos faltantes?"
   ]
  },
  {
   "cell_type": "markdown",
   "metadata": {
    "id": "eYBZoWP_f3RK"
   },
   "source": [
    "## **2. Limpieza de los Datos**\n",
    "---\n",
    "\n",
    "La elección de las técnicas de preprocesamiento puede diferir en cada conjunto de datos. Recuerde que es posible aplicar, según sea necesario (no necesariamente todas), las técnicas generales que se han explorado en el curso. La elección dependerá del tipo de datos con el que esté trabajando, ya sea imágenes, datos estructurados, textos, entre otros.\n",
    "\n",
    "- ¿Cuáles fueron los criterios utilizados para identificar y tratar valores atípicos, datos faltantes o cualquier otra anomalía en el conjunto de datos durante el proceso de limpieza?\n",
    "- ¿Cómo se justificaría la necesidad de cada paso de preprocesamiento en términos de mejora de la calidad de los datos y preparación para el análisis subsiguiente?"
   ]
  },
  {
   "cell_type": "markdown",
   "metadata": {
    "id": "2FLj-UiEd91C"
   },
   "source": [
    "## **Créditos**\n",
    "---\n",
    "\n",
    "* **Profesor:** [Jorge E. Camargo, PhD](https://dis.unal.edu.co/~jecamargom/)\n",
    "* **Asistentes docentes:**\n",
    "    - [Juan Sebastián Lara Ramírez](https://www.linkedin.com/in/juan-sebastian-lara-ramirez-43570a214/).\n",
    "* **Diseño de imágenes:**\n",
    "    - [Rosa Alejandra Superlano Esquibel](mailto:rsuperlano@unal.edu.co).\n",
    "* **Coordinador de virtualización:**\n",
    "    - [Edder Hernández Forero](https://www.linkedin.com/in/edder-hernandez-forero-28aa8b207/).\n",
    "    \n",
    "**Universidad Nacional de Colombia** - *Facultad de Ingeniería*"
   ]
  }
 ],
 "metadata": {
  "colab": {
   "provenance": []
  },
  "kernelspec": {
   "display_name": "Python 3",
   "name": "python3"
  },
  "language_info": {
   "name": "python"
  }
 },
 "nbformat": 4,
 "nbformat_minor": 0
}
