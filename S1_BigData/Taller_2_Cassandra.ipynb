{
  "cells": [
    {
      "cell_type": "markdown",
      "metadata": {
        "id": "view-in-github",
        "colab_type": "text"
      },
      "source": [
        "<a href=\"https://colab.research.google.com/github/cecordobat/MSc_Computer_Enginnering_DS/blob/main/S1_BigData/Taller_2_Cassandra.ipynb\" target=\"_parent\"><img src=\"https://colab.research.google.com/assets/colab-badge.svg\" alt=\"Open In Colab\"/></a>"
      ]
    },
    {
      "cell_type": "markdown",
      "id": "6418beed",
      "metadata": {
        "id": "6418beed"
      },
      "source": [
        "<img src=\"https://drive.google.com/uc?export=view&id=10rLzZzH5ctQ4bPRDZTbZk5tQMc9sDO0W\" width=\"100%\"></img>"
      ]
    },
    {
      "cell_type": "markdown",
      "id": "761e8e39",
      "metadata": {
        "id": "761e8e39"
      },
      "source": [
        "# **Taller 2: Cassandra**\n",
        "---\n",
        "\n",
        "En este taller se evaluarán las habilidades adquiridas usando _Cassandra_ desde _Python_. Usted deberá realizar algunas operaciones de consulta sobre el conjunto de datos [Netflix Data: Cleaning, Analysis and Visualization](https://www.kaggle.com/datasets/ariyoomotade/netflix-data-cleaning-analysis-and-visualization)\n",
        "\n",
        "Este conjunto de datos incluye la información acerca del contenido añadido a la plataforma de streaming *Netflix* entre el $2008$ y el $2021$. Está conformado por 12 columnas, las cuales son:\n",
        "\n",
        "* `show_id:` corresponde a la llave primaria de la tabla. Tiene un formato establecido el cual corresponde a una <i>s</i> seguida de un número en secuencia, por ejemplo: s34.\n",
        "* `type:` indica el tipo de show ofrecido (Película o Serie).\n",
        "* `title:` señala el nombre de la serie o la película.\n",
        "* `director:` indica el nombre de quién dirigió la película o serie.\n",
        "* `country:` indica el lugar de producción del show.\n",
        "* `date_added:` muestra la fecha de publicación de la serie o película en la plataforma con el formato <i>MMMMMM DD, AAAA</i>.\n",
        "* `release_year:` muestra el año de publicación original de la película o serie.\n",
        "* `rating:` muestra las calificaciones o el nivel de conveniencia de la película según su contenido, por ejemplo: PG-13, TV-PG, etc.\n",
        "* `duration:` corresponde a la duración en minutos en el caso de las películas y la cantidad de temporadas en el caso de las series.\n",
        "* `listed_in:` indica el género o categoría donde se clasifica la serie o película dentro de la plataforma.\n",
        "\n",
        "> **Nota:** Esta tarea va a ser calificada **dentro del mismo notebook**. Para esto, en cada ejercicio se indicará las intrucciones, la función calificada, también los lugares donde debe escribir su código sin modificar lo demás con un aproximado de cantidad de líneas a escribir. No se preocupe si su código toma más líneas, esto es simplemente un aproximado destinado a que pueda replantear su estrategia si el código está tomando más de las esperadas. No es un requisito estricto y soluciones más largas también son válidas.\n",
        "\n",
        "Al finalizar, para realizar el envío (*submission*), debe ejecutar la función `submit_task` al final, en la sección de evaluación **Edunext**. Recuerde que primero debe haber visto la actividad dentro de la plataforma para hacer correctamente el enlace y que la calificación se vea reflejada en esta.\n"
      ]
    },
    {
      "cell_type": "markdown",
      "id": "w-N11wux48EL",
      "metadata": {
        "id": "w-N11wux48EL"
      },
      "source": [
        "Ejecute las siguientes celdas para crear el enlace con su cuenta de UNCode"
      ]
    },
    {
      "cell_type": "code",
      "execution_count": 1,
      "id": "Ay1VEEV143-w",
      "metadata": {
        "id": "Ay1VEEV143-w",
        "outputId": "8d6c1489-9c69-4ed5-bbc3-7987f061b145",
        "colab": {
          "base_uri": "https://localhost:8080/"
        }
      },
      "outputs": [
        {
          "output_type": "stream",
          "name": "stdout",
          "text": [
            "Collecting rlxcrypt\n",
            "  Downloading rlxcrypt-0.0.4-cp310-cp310-manylinux_2_17_x86_64.manylinux2014_x86_64.whl.metadata (1.9 kB)\n",
            "Collecting imphook (from rlxcrypt)\n",
            "  Downloading imphook-1.0.tar.gz (12 kB)\n",
            "  Preparing metadata (setup.py) ... \u001b[?25l\u001b[?25hdone\n",
            "Requirement already satisfied: cython in /usr/local/lib/python3.10/dist-packages (from rlxcrypt) (3.0.11)\n",
            "Collecting pycryptodome (from rlxcrypt)\n",
            "  Downloading pycryptodome-3.21.0-cp36-abi3-manylinux_2_17_x86_64.manylinux2014_x86_64.whl.metadata (3.4 kB)\n",
            "Requirement already satisfied: cryptography in /usr/local/lib/python3.10/dist-packages (from rlxcrypt) (43.0.3)\n",
            "Requirement already satisfied: cffi>=1.12 in /usr/local/lib/python3.10/dist-packages (from cryptography->rlxcrypt) (1.17.1)\n",
            "Requirement already satisfied: pycparser in /usr/local/lib/python3.10/dist-packages (from cffi>=1.12->cryptography->rlxcrypt) (2.22)\n",
            "Downloading rlxcrypt-0.0.4-cp310-cp310-manylinux_2_17_x86_64.manylinux2014_x86_64.whl (297 kB)\n",
            "\u001b[2K   \u001b[90m━━━━━━━━━━━━━━━━━━━━━━━━━━━━━━━━━━━━━━━━\u001b[0m \u001b[32m297.9/297.9 kB\u001b[0m \u001b[31m14.3 MB/s\u001b[0m eta \u001b[36m0:00:00\u001b[0m\n",
            "\u001b[?25hDownloading pycryptodome-3.21.0-cp36-abi3-manylinux_2_17_x86_64.manylinux2014_x86_64.whl (2.3 MB)\n",
            "\u001b[2K   \u001b[90m━━━━━━━━━━━━━━━━━━━━━━━━━━━━━━━━━━━━━━━━\u001b[0m \u001b[32m2.3/2.3 MB\u001b[0m \u001b[31m32.4 MB/s\u001b[0m eta \u001b[36m0:00:00\u001b[0m\n",
            "\u001b[?25hBuilding wheels for collected packages: imphook\n",
            "  Building wheel for imphook (setup.py) ... \u001b[?25l\u001b[?25hdone\n",
            "  Created wheel for imphook: filename=imphook-1.0-py3-none-any.whl size=9423 sha256=bdc379797d26d7428cc522c9c9cd2e67097442807a44a66450226f2f3680e5b8\n",
            "  Stored in directory: /root/.cache/pip/wheels/dc/e2/a4/fcb3817d09a2eb047b2b08eb58e7d9140041b0f3f415eb1256\n",
            "Successfully built imphook\n",
            "Installing collected packages: imphook, pycryptodome, rlxcrypt\n",
            "Successfully installed imphook-1.0 pycryptodome-3.21.0 rlxcrypt-0.0.4\n"
          ]
        }
      ],
      "source": [
        "!pip install rlxcrypt\n",
        "!wget --no-cache -O session.pye -q https://raw.githubusercontent.com/JuezUN/INGInious/master/external%20libs/session.pye"
      ]
    },
    {
      "cell_type": "code",
      "execution_count": 2,
      "id": "o1c1UHyz5EnF",
      "metadata": {
        "id": "o1c1UHyz5EnF",
        "outputId": "3e4ea44b-be34-4130-ff17-f95f8264395d",
        "colab": {
          "base_uri": "https://localhost:8080/",
          "height": 288
        }
      },
      "outputs": [
        {
          "output_type": "display_data",
          "data": {
            "text/plain": [
              "<IPython.core.display.HTML object>"
            ],
            "text/html": [
              "\n",
              "    <div>\n",
              "    <div style=\"display: flex\">\n",
              "        <div style=\"padding: 10px\">\n",
              "          <img\n",
              "            src=\"https://uncode.unal.edu.co/static/images/logo_unc.svg\"\n",
              "            width=\"50px\"\n",
              "            height=\"50px\"\n",
              "          />\n",
              "        </div>\n",
              "      \n",
              "        <div>\n",
              "          <h2>UNCode Notebooks grader API</h2>\n",
              "          <hr />\n",
              "        </div>\n",
              "      </div>\n",
              "      \n",
              "      <div style=\"display: flex\">\n",
              "        <span>Please enter authentication data</span>\n",
              "      </div>\n",
              "    </div>\n",
              "    "
            ]
          },
          "metadata": {}
        },
        {
          "name": "stdout",
          "output_type": "stream",
          "text": [
            "Please enter your UNCode username: cecordobat\n",
            "Please enter your password: ··········\n"
          ]
        },
        {
          "output_type": "display_data",
          "data": {
            "text/plain": [
              "<IPython.core.display.HTML object>"
            ],
            "text/html": [
              "<h5 style=\"color: green\"><Response [200]></h5>"
            ]
          },
          "metadata": {}
        },
        {
          "output_type": "display_data",
          "data": {
            "text/plain": [
              "<IPython.core.display.HTML object>"
            ],
            "text/html": [
              "<h5 style=\"color: green\">Auth process succeeded</h5>"
            ]
          },
          "metadata": {}
        },
        {
          "output_type": "display_data",
          "data": {
            "text/plain": [
              "<IPython.core.display.HTML object>"
            ],
            "text/html": [
              "<h5>View your courses <a href=\"https://uncode.unal.edu.co/courselist\">at UNCode platform</a></h5>"
            ]
          },
          "metadata": {}
        },
        {
          "output_type": "display_data",
          "data": {
            "text/plain": [
              "<IPython.core.display.HTML object>"
            ],
            "text/html": [
              "<h3>You will sumbit code to course: <span style=\"color: green\">Big Data | Grupo MLDS-3 | 2024 - 2<span></h3>"
            ]
          },
          "metadata": {}
        },
        {
          "output_type": "display_data",
          "data": {
            "text/plain": [
              "<IPython.core.display.HTML object>"
            ],
            "text/html": [
              "<h3>You will sumbit code to task: <span style=\"color: blue\">Taller 2 - Bases NoSQL Columnares<span></h3>"
            ]
          },
          "metadata": {}
        }
      ],
      "source": [
        "import rlxcrypt\n",
        "import session\n",
        "\n",
        "grader = session.LoginSequence(\"BD-GroupMLDS-3-2024-2@dc3d96c2-1470-4df0-9cb7-d8ef399175c4\")"
      ]
    },
    {
      "cell_type": "markdown",
      "id": "446QgSsN448T",
      "metadata": {
        "id": "446QgSsN448T"
      },
      "source": [
        "Ejecute la siguiente celda para importar las librerías que permiten la ejecucuión de los queries de *Cassandra*."
      ]
    },
    {
      "cell_type": "code",
      "execution_count": 3,
      "id": "e838e2f7",
      "metadata": {
        "id": "e838e2f7",
        "outputId": "a2608ac2-e741-4de2-e682-b5e9b98b8358",
        "colab": {
          "base_uri": "https://localhost:8080/"
        }
      },
      "outputs": [
        {
          "output_type": "stream",
          "name": "stdout",
          "text": [
            "Collecting cassandra-driver\n",
            "  Downloading cassandra_driver-3.29.2-cp310-cp310-manylinux_2_17_x86_64.manylinux2014_x86_64.whl.metadata (6.2 kB)\n",
            "Collecting geomet<0.3,>=0.1 (from cassandra-driver)\n",
            "  Downloading geomet-0.2.1.post1-py3-none-any.whl.metadata (1.0 kB)\n",
            "Requirement already satisfied: click in /usr/local/lib/python3.10/dist-packages (from geomet<0.3,>=0.1->cassandra-driver) (8.1.7)\n",
            "Requirement already satisfied: six in /usr/local/lib/python3.10/dist-packages (from geomet<0.3,>=0.1->cassandra-driver) (1.16.0)\n",
            "Downloading cassandra_driver-3.29.2-cp310-cp310-manylinux_2_17_x86_64.manylinux2014_x86_64.whl (3.9 MB)\n",
            "\u001b[2K   \u001b[90m━━━━━━━━━━━━━━━━━━━━━━━━━━━━━━━━━━━━━━━━\u001b[0m \u001b[32m3.9/3.9 MB\u001b[0m \u001b[31m32.1 MB/s\u001b[0m eta \u001b[36m0:00:00\u001b[0m\n",
            "\u001b[?25hDownloading geomet-0.2.1.post1-py3-none-any.whl (18 kB)\n",
            "Installing collected packages: geomet, cassandra-driver\n",
            "Successfully installed cassandra-driver-3.29.2 geomet-0.2.1.post1\n"
          ]
        }
      ],
      "source": [
        "!pip install cassandra-driver"
      ]
    },
    {
      "cell_type": "code",
      "execution_count": 4,
      "id": "a05bfa16",
      "metadata": {
        "id": "a05bfa16"
      },
      "outputs": [],
      "source": [
        "import pandas as pd\n",
        "from cassandra.cluster import Cluster\n",
        "from cassandra.auth import PlainTextAuthProvider\n",
        "from IPython.display import display\n",
        "import json"
      ]
    },
    {
      "cell_type": "markdown",
      "id": "ad302242",
      "metadata": {
        "id": "ad302242"
      },
      "source": [
        "## **Conexión con Astra**\n",
        "---\n",
        "\n",
        "Realizaremos la conexión a la base de datos de [Astra](https://astra.datastax.com/) tal y cómo se mostró en el notebook `1_cassandra_python.ipynb`:\n",
        "\n",
        "> **Nota**: No olvides cargar los archivos `bundle.zip` y `token.json`."
      ]
    },
    {
      "cell_type": "code",
      "execution_count": 9,
      "id": "8b214610",
      "metadata": {
        "id": "8b214610",
        "outputId": "10e5b735-f6c7-41e9-d281-1a5e3d82c76a",
        "colab": {
          "base_uri": "https://localhost:8080/"
        }
      },
      "outputs": [
        {
          "output_type": "stream",
          "name": "stderr",
          "text": [
            "WARNING:cassandra.cluster:Downgrading core protocol version from 66 to 65 for 9c6e24e9-46d3-408b-b1f0-dde6a7a32f63-us-east1.db.astra.datastax.com:29042:678e6a1d-e5b1-3cba-b949-7bfaf823957f. To avoid this, it is best practice to explicitly set Cluster(protocol_version) to the version supported by your cluster. http://datastax.github.io/python-driver/api/cassandra/cluster.html#cassandra.cluster.Cluster.protocol_version\n",
            "WARNING:cassandra.cluster:Downgrading core protocol version from 65 to 5 for 9c6e24e9-46d3-408b-b1f0-dde6a7a32f63-us-east1.db.astra.datastax.com:29042:678e6a1d-e5b1-3cba-b949-7bfaf823957f. To avoid this, it is best practice to explicitly set Cluster(protocol_version) to the version supported by your cluster. http://datastax.github.io/python-driver/api/cassandra/cluster.html#cassandra.cluster.Cluster.protocol_version\n",
            "WARNING:cassandra.cluster:Downgrading core protocol version from 5 to 4 for 9c6e24e9-46d3-408b-b1f0-dde6a7a32f63-us-east1.db.astra.datastax.com:29042:678e6a1d-e5b1-3cba-b949-7bfaf823957f. To avoid this, it is best practice to explicitly set Cluster(protocol_version) to the version supported by your cluster. http://datastax.github.io/python-driver/api/cassandra/cluster.html#cassandra.cluster.Cluster.protocol_version\n"
          ]
        }
      ],
      "source": [
        "cloud_config= {\n",
        "        \"secure_connect_bundle\": \"bundle.zip\" # nombre de su archivo de bundle\n",
        "}\n",
        "with open('token.json') as user_file:\n",
        "  token = json.loads(user_file.read())\n",
        "\n",
        "auth_provider = PlainTextAuthProvider(\n",
        "        token[\"clientId\"],\n",
        "        token[\"secret\"]\n",
        "        )\n",
        "cluster = Cluster(\n",
        "        cloud=cloud_config,\n",
        "        auth_provider=auth_provider\n",
        "        )\n",
        "session = cluster.connect()"
      ]
    },
    {
      "cell_type": "markdown",
      "id": "b24dc481",
      "metadata": {
        "id": "b24dc481"
      },
      "source": [
        "## **Creación de la Base de Datos**\n",
        "---\n",
        "\n",
        "Primero, vamos a cargar el conjunto de datos desde `pandas` para subirlo al servidor de _Cassandra_:"
      ]
    },
    {
      "cell_type": "code",
      "execution_count": 10,
      "id": "690bb528",
      "metadata": {
        "id": "690bb528"
      },
      "outputs": [],
      "source": [
        "df = pd.read_parquet(\"https://drive.google.com/uc?export=view&id=1TSP7sZBUDDJs0UVrvDv8MinGquXe0aE3\")"
      ]
    },
    {
      "cell_type": "markdown",
      "id": "91dfa3e4",
      "metadata": {
        "id": "91dfa3e4"
      },
      "source": [
        "El siguiente código crea las tablas necesarias para el taller, no debe modificar esta celda. Puede revisar el código si desea ver el proceso de creación de la base de datos y carga de datos."
      ]
    },
    {
      "cell_type": "code",
      "execution_count": 11,
      "id": "d5c54606",
      "metadata": {
        "id": "d5c54606",
        "lines_to_next_cell": 1
      },
      "outputs": [],
      "source": [
        "#@title **Carga de datos. Ejecute esta celda para obtener todos los datos**\n",
        "queries = []\n",
        "table_name = [\n",
        "        \"query_by_year\",\n",
        "        \"query_by_country\",\n",
        "        \"query_by_year_country\"\n",
        "        ]\n",
        "queries.extend(\n",
        "        [\n",
        "            \"DROP TABLE IF EXISTS test.{};\".format(table)\n",
        "            for table in table_name\n",
        "            ]\n",
        "        )\n",
        "queries.append(\"\"\"\n",
        "CREATE TABLE IF NOT EXISTS test.query_by_year (\n",
        "        show_id TEXT,\n",
        "        type TEXT,\n",
        "        title TEXT,\n",
        "        director TEXT,\n",
        "        country TEXT,\n",
        "        date_added TEXT,\n",
        "        release_year INT,\n",
        "        rating TEXT,\n",
        "        duration TEXT,\n",
        "        listed_in TEXT,\n",
        "        PRIMARY KEY(release_year, type, rating, show_id)\n",
        "        )\n",
        ";\n",
        "\"\"\"\n",
        ")\n",
        "\n",
        "queries.append(\"\"\"\n",
        "CREATE TABLE IF NOT EXISTS test.query_by_country (\n",
        "        show_id TEXT,\n",
        "        type TEXT,\n",
        "        title TEXT,\n",
        "        director TEXT,\n",
        "        country TEXT,\n",
        "        date_added TEXT,\n",
        "        release_year INT,\n",
        "        rating TEXT,\n",
        "        duration TEXT,\n",
        "        listed_in TEXT,\n",
        "        PRIMARY KEY(country, type, rating, show_id)\n",
        "        )\n",
        ";\n",
        "\"\"\")\n",
        "\n",
        "queries.append(\"\"\"\n",
        "CREATE TABLE IF NOT EXISTS test.query_by_year_country (\n",
        "        show_id TEXT,\n",
        "        type TEXT,\n",
        "        title TEXT,\n",
        "        director TEXT,\n",
        "        country TEXT,\n",
        "        date_added TEXT,\n",
        "        release_year INT,\n",
        "        rating TEXT,\n",
        "        duration TEXT,\n",
        "        listed_in TEXT,\n",
        "        PRIMARY KEY((release_year, country), type, rating, show_id)\n",
        "        )\n",
        ";\n",
        "\"\"\")\n",
        "\n",
        "for query in queries:\n",
        "    session.execute(query, timeout=None)\n",
        "\n",
        "query_format = \"\"\"\n",
        "INSERT INTO\n",
        "    test.{} (\n",
        "            show_id, type, title, director, country, date_added,\n",
        "            release_year, rating, duration, listed_in\n",
        "            )\n",
        "VALUES\n",
        "    ('{}', '{}', '{}', '{}', '{}', '{}', {}, '{}', '{}', '{}')\n",
        ";\n",
        "\"\"\"\n",
        "\n",
        "batch_size = 256\n",
        "for table in table_name:\n",
        "    data = [\n",
        "            query_format.format(\n",
        "                table, row.show_id, row.type, row.title,\n",
        "                row.director, row.country, row.date_added,\n",
        "                row.release_year, row.rating, row.duration,\n",
        "                row.listed_in\n",
        "                )\n",
        "            for row in df.itertuples()\n",
        "            ]\n",
        "    for i in range(len(data) // batch_size + 1):\n",
        "        batch_data = \"\\n\".join(\n",
        "                data[i * batch_size: (i + 1) * batch_size]\n",
        "                )\n",
        "        query = \"\"\"\n",
        "        BEGIN BATCH\n",
        "        {}\n",
        "        APPLY BATCH;\n",
        "        \"\"\".format(batch_data)\n",
        "        session.execute(query)"
      ]
    },
    {
      "cell_type": "markdown",
      "id": "11a67934",
      "metadata": {
        "id": "11a67934"
      },
      "source": [
        "## **Recomendaciones**\n",
        "---\n",
        "\n",
        "* Para todos los ejercicios se consideran los datos de la tabla [Netflix Data: Cleaning, Analysis and Visualization](https://www.kaggle.com/datasets/ariyoomotade/netflix-data-cleaning-analysis-and-visualization), señalada al inicio del notebook. Además, las tablas se diseñaron siguiendo el enfoque **Query - First Design**.\n",
        "* La base de datos creada tiene el esquema mostrado en la siguiente imagen (llaves de partición en rojo y llaves de agrupamiento en azul). En los ejercicios propuestos en este notebook deberá seleccionar la tabla más apropiada para una consulta en específico.\n",
        "\n",
        "<img src=\"https://drive.google.com/uc?export=view&id=1AAtVRxVjKh_45Lb4ML4PDJRaqZDp4hox\" width=\"40%\">"
      ]
    },
    {
      "cell_type": "markdown",
      "id": "78ec340a",
      "metadata": {
        "id": "78ec340a"
      },
      "source": [
        "## **1. Shows de un Año Específico**\n",
        "---\n",
        "\n",
        "En este primer ejercicio usted deberá completar la función `shows_year`, esta recibe como entrada un año y debe retornar una cadena de texto con una consulta **CQL** válida que permita obtener los campos `title` y `director` de **TODOS** los shows para un año de lanzamiento específico.\n",
        "\n",
        "Debe modificar el string `query` para cumplir con la consulta. Se recomienda usar [f-strings](https://realpython.com/python-f-strings/) para poder cumplir con este requisito.\n",
        "\n",
        "**Parámetros**\n",
        "\n",
        "* `year`: entero que representa el año de lanzamiento de un show.\n",
        "\n",
        "**Retorna**\n",
        "\n",
        "* `query`: cadena de texto con una consulta válida de **CQL**."
      ]
    },
    {
      "cell_type": "code",
      "source": [
        "rows = session.execute('SELECT keyspace_name FROM system_schema.keyspaces;')\n",
        "print(\"Keyspaces:\")\n",
        "for row in rows:\n",
        "    print(row.keyspace_name)"
      ],
      "metadata": {
        "id": "8ACfoZdE80FS",
        "outputId": "6aac3ab4-b8e9-44a6-fca8-a4906eb51a14",
        "colab": {
          "base_uri": "https://localhost:8080/"
        }
      },
      "id": "8ACfoZdE80FS",
      "execution_count": 23,
      "outputs": [
        {
          "output_type": "stream",
          "name": "stdout",
          "text": [
            "Keyspaces:\n",
            "system_auth\n",
            "system_schema\n",
            "datastax_sla\n",
            "test\n",
            "system\n",
            "system_traces\n",
            "data_endpoint_auth\n"
          ]
        }
      ]
    },
    {
      "cell_type": "code",
      "execution_count": 26,
      "id": "7ZvppJ8S8Rit",
      "metadata": {
        "id": "7ZvppJ8S8Rit"
      },
      "outputs": [],
      "source": [
        "def shows_year(year):\n",
        "    query = f\"\"\"\n",
        "    SELECT\n",
        "        title, director\n",
        "    FROM\n",
        "        test.query_by_year\n",
        "    WHERE\n",
        "        release_year = {year}\n",
        "    ;\n",
        "    \"\"\"\n",
        "    return query"
      ]
    },
    {
      "cell_type": "markdown",
      "id": "c75930b6",
      "metadata": {
        "id": "c75930b6"
      },
      "source": [
        "Use la siguiente celda para probar su código para filtrar los registros en el año 2018."
      ]
    },
    {
      "cell_type": "code",
      "execution_count": 27,
      "id": "51adf210",
      "metadata": {
        "id": "51adf210",
        "lines_to_next_cell": 1,
        "outputId": "521c1f6b-9837-49e5-fd83-bc6e31673fde",
        "colab": {
          "base_uri": "https://localhost:8080/",
          "height": 363
        }
      },
      "outputs": [
        {
          "output_type": "display_data",
          "data": {
            "text/plain": [
              "                          title           director\n",
              "0              a champion heart       david de vos\n",
              "1           pup star world tour       robert vince\n",
              "2                      ladylike          not given\n",
              "3   adventures in public school       kyle rideout\n",
              "4             at eternitys gate    julian schnabel\n",
              "5              operation finale        chris weitz\n",
              "6  elliot the littlest reindeer  jennifer westcott\n",
              "7                        adrift   baltasar kormkur\n",
              "8                     okkos inn      kitaro kosaka\n",
              "9                         mirai      mamoru hosoda"
            ],
            "text/html": [
              "\n",
              "  <div id=\"df-b2926d8b-8bfc-46cf-b9ad-1676d0254463\" class=\"colab-df-container\">\n",
              "    <div>\n",
              "<style scoped>\n",
              "    .dataframe tbody tr th:only-of-type {\n",
              "        vertical-align: middle;\n",
              "    }\n",
              "\n",
              "    .dataframe tbody tr th {\n",
              "        vertical-align: top;\n",
              "    }\n",
              "\n",
              "    .dataframe thead th {\n",
              "        text-align: right;\n",
              "    }\n",
              "</style>\n",
              "<table border=\"1\" class=\"dataframe\">\n",
              "  <thead>\n",
              "    <tr style=\"text-align: right;\">\n",
              "      <th></th>\n",
              "      <th>title</th>\n",
              "      <th>director</th>\n",
              "    </tr>\n",
              "  </thead>\n",
              "  <tbody>\n",
              "    <tr>\n",
              "      <th>0</th>\n",
              "      <td>a champion heart</td>\n",
              "      <td>david de vos</td>\n",
              "    </tr>\n",
              "    <tr>\n",
              "      <th>1</th>\n",
              "      <td>pup star world tour</td>\n",
              "      <td>robert vince</td>\n",
              "    </tr>\n",
              "    <tr>\n",
              "      <th>2</th>\n",
              "      <td>ladylike</td>\n",
              "      <td>not given</td>\n",
              "    </tr>\n",
              "    <tr>\n",
              "      <th>3</th>\n",
              "      <td>adventures in public school</td>\n",
              "      <td>kyle rideout</td>\n",
              "    </tr>\n",
              "    <tr>\n",
              "      <th>4</th>\n",
              "      <td>at eternitys gate</td>\n",
              "      <td>julian schnabel</td>\n",
              "    </tr>\n",
              "    <tr>\n",
              "      <th>5</th>\n",
              "      <td>operation finale</td>\n",
              "      <td>chris weitz</td>\n",
              "    </tr>\n",
              "    <tr>\n",
              "      <th>6</th>\n",
              "      <td>elliot the littlest reindeer</td>\n",
              "      <td>jennifer westcott</td>\n",
              "    </tr>\n",
              "    <tr>\n",
              "      <th>7</th>\n",
              "      <td>adrift</td>\n",
              "      <td>baltasar kormkur</td>\n",
              "    </tr>\n",
              "    <tr>\n",
              "      <th>8</th>\n",
              "      <td>okkos inn</td>\n",
              "      <td>kitaro kosaka</td>\n",
              "    </tr>\n",
              "    <tr>\n",
              "      <th>9</th>\n",
              "      <td>mirai</td>\n",
              "      <td>mamoru hosoda</td>\n",
              "    </tr>\n",
              "  </tbody>\n",
              "</table>\n",
              "</div>\n",
              "    <div class=\"colab-df-buttons\">\n",
              "\n",
              "  <div class=\"colab-df-container\">\n",
              "    <button class=\"colab-df-convert\" onclick=\"convertToInteractive('df-b2926d8b-8bfc-46cf-b9ad-1676d0254463')\"\n",
              "            title=\"Convert this dataframe to an interactive table.\"\n",
              "            style=\"display:none;\">\n",
              "\n",
              "  <svg xmlns=\"http://www.w3.org/2000/svg\" height=\"24px\" viewBox=\"0 -960 960 960\">\n",
              "    <path d=\"M120-120v-720h720v720H120Zm60-500h600v-160H180v160Zm220 220h160v-160H400v160Zm0 220h160v-160H400v160ZM180-400h160v-160H180v160Zm440 0h160v-160H620v160ZM180-180h160v-160H180v160Zm440 0h160v-160H620v160Z\"/>\n",
              "  </svg>\n",
              "    </button>\n",
              "\n",
              "  <style>\n",
              "    .colab-df-container {\n",
              "      display:flex;\n",
              "      gap: 12px;\n",
              "    }\n",
              "\n",
              "    .colab-df-convert {\n",
              "      background-color: #E8F0FE;\n",
              "      border: none;\n",
              "      border-radius: 50%;\n",
              "      cursor: pointer;\n",
              "      display: none;\n",
              "      fill: #1967D2;\n",
              "      height: 32px;\n",
              "      padding: 0 0 0 0;\n",
              "      width: 32px;\n",
              "    }\n",
              "\n",
              "    .colab-df-convert:hover {\n",
              "      background-color: #E2EBFA;\n",
              "      box-shadow: 0px 1px 2px rgba(60, 64, 67, 0.3), 0px 1px 3px 1px rgba(60, 64, 67, 0.15);\n",
              "      fill: #174EA6;\n",
              "    }\n",
              "\n",
              "    .colab-df-buttons div {\n",
              "      margin-bottom: 4px;\n",
              "    }\n",
              "\n",
              "    [theme=dark] .colab-df-convert {\n",
              "      background-color: #3B4455;\n",
              "      fill: #D2E3FC;\n",
              "    }\n",
              "\n",
              "    [theme=dark] .colab-df-convert:hover {\n",
              "      background-color: #434B5C;\n",
              "      box-shadow: 0px 1px 3px 1px rgba(0, 0, 0, 0.15);\n",
              "      filter: drop-shadow(0px 1px 2px rgba(0, 0, 0, 0.3));\n",
              "      fill: #FFFFFF;\n",
              "    }\n",
              "  </style>\n",
              "\n",
              "    <script>\n",
              "      const buttonEl =\n",
              "        document.querySelector('#df-b2926d8b-8bfc-46cf-b9ad-1676d0254463 button.colab-df-convert');\n",
              "      buttonEl.style.display =\n",
              "        google.colab.kernel.accessAllowed ? 'block' : 'none';\n",
              "\n",
              "      async function convertToInteractive(key) {\n",
              "        const element = document.querySelector('#df-b2926d8b-8bfc-46cf-b9ad-1676d0254463');\n",
              "        const dataTable =\n",
              "          await google.colab.kernel.invokeFunction('convertToInteractive',\n",
              "                                                    [key], {});\n",
              "        if (!dataTable) return;\n",
              "\n",
              "        const docLinkHtml = 'Like what you see? Visit the ' +\n",
              "          '<a target=\"_blank\" href=https://colab.research.google.com/notebooks/data_table.ipynb>data table notebook</a>'\n",
              "          + ' to learn more about interactive tables.';\n",
              "        element.innerHTML = '';\n",
              "        dataTable['output_type'] = 'display_data';\n",
              "        await google.colab.output.renderOutput(dataTable, element);\n",
              "        const docLink = document.createElement('div');\n",
              "        docLink.innerHTML = docLinkHtml;\n",
              "        element.appendChild(docLink);\n",
              "      }\n",
              "    </script>\n",
              "  </div>\n",
              "\n",
              "\n",
              "<div id=\"df-3b5477e4-f2ed-4815-9a34-3df68729692a\">\n",
              "  <button class=\"colab-df-quickchart\" onclick=\"quickchart('df-3b5477e4-f2ed-4815-9a34-3df68729692a')\"\n",
              "            title=\"Suggest charts\"\n",
              "            style=\"display:none;\">\n",
              "\n",
              "<svg xmlns=\"http://www.w3.org/2000/svg\" height=\"24px\"viewBox=\"0 0 24 24\"\n",
              "     width=\"24px\">\n",
              "    <g>\n",
              "        <path d=\"M19 3H5c-1.1 0-2 .9-2 2v14c0 1.1.9 2 2 2h14c1.1 0 2-.9 2-2V5c0-1.1-.9-2-2-2zM9 17H7v-7h2v7zm4 0h-2V7h2v10zm4 0h-2v-4h2v4z\"/>\n",
              "    </g>\n",
              "</svg>\n",
              "  </button>\n",
              "\n",
              "<style>\n",
              "  .colab-df-quickchart {\n",
              "      --bg-color: #E8F0FE;\n",
              "      --fill-color: #1967D2;\n",
              "      --hover-bg-color: #E2EBFA;\n",
              "      --hover-fill-color: #174EA6;\n",
              "      --disabled-fill-color: #AAA;\n",
              "      --disabled-bg-color: #DDD;\n",
              "  }\n",
              "\n",
              "  [theme=dark] .colab-df-quickchart {\n",
              "      --bg-color: #3B4455;\n",
              "      --fill-color: #D2E3FC;\n",
              "      --hover-bg-color: #434B5C;\n",
              "      --hover-fill-color: #FFFFFF;\n",
              "      --disabled-bg-color: #3B4455;\n",
              "      --disabled-fill-color: #666;\n",
              "  }\n",
              "\n",
              "  .colab-df-quickchart {\n",
              "    background-color: var(--bg-color);\n",
              "    border: none;\n",
              "    border-radius: 50%;\n",
              "    cursor: pointer;\n",
              "    display: none;\n",
              "    fill: var(--fill-color);\n",
              "    height: 32px;\n",
              "    padding: 0;\n",
              "    width: 32px;\n",
              "  }\n",
              "\n",
              "  .colab-df-quickchart:hover {\n",
              "    background-color: var(--hover-bg-color);\n",
              "    box-shadow: 0 1px 2px rgba(60, 64, 67, 0.3), 0 1px 3px 1px rgba(60, 64, 67, 0.15);\n",
              "    fill: var(--button-hover-fill-color);\n",
              "  }\n",
              "\n",
              "  .colab-df-quickchart-complete:disabled,\n",
              "  .colab-df-quickchart-complete:disabled:hover {\n",
              "    background-color: var(--disabled-bg-color);\n",
              "    fill: var(--disabled-fill-color);\n",
              "    box-shadow: none;\n",
              "  }\n",
              "\n",
              "  .colab-df-spinner {\n",
              "    border: 2px solid var(--fill-color);\n",
              "    border-color: transparent;\n",
              "    border-bottom-color: var(--fill-color);\n",
              "    animation:\n",
              "      spin 1s steps(1) infinite;\n",
              "  }\n",
              "\n",
              "  @keyframes spin {\n",
              "    0% {\n",
              "      border-color: transparent;\n",
              "      border-bottom-color: var(--fill-color);\n",
              "      border-left-color: var(--fill-color);\n",
              "    }\n",
              "    20% {\n",
              "      border-color: transparent;\n",
              "      border-left-color: var(--fill-color);\n",
              "      border-top-color: var(--fill-color);\n",
              "    }\n",
              "    30% {\n",
              "      border-color: transparent;\n",
              "      border-left-color: var(--fill-color);\n",
              "      border-top-color: var(--fill-color);\n",
              "      border-right-color: var(--fill-color);\n",
              "    }\n",
              "    40% {\n",
              "      border-color: transparent;\n",
              "      border-right-color: var(--fill-color);\n",
              "      border-top-color: var(--fill-color);\n",
              "    }\n",
              "    60% {\n",
              "      border-color: transparent;\n",
              "      border-right-color: var(--fill-color);\n",
              "    }\n",
              "    80% {\n",
              "      border-color: transparent;\n",
              "      border-right-color: var(--fill-color);\n",
              "      border-bottom-color: var(--fill-color);\n",
              "    }\n",
              "    90% {\n",
              "      border-color: transparent;\n",
              "      border-bottom-color: var(--fill-color);\n",
              "    }\n",
              "  }\n",
              "</style>\n",
              "\n",
              "  <script>\n",
              "    async function quickchart(key) {\n",
              "      const quickchartButtonEl =\n",
              "        document.querySelector('#' + key + ' button');\n",
              "      quickchartButtonEl.disabled = true;  // To prevent multiple clicks.\n",
              "      quickchartButtonEl.classList.add('colab-df-spinner');\n",
              "      try {\n",
              "        const charts = await google.colab.kernel.invokeFunction(\n",
              "            'suggestCharts', [key], {});\n",
              "      } catch (error) {\n",
              "        console.error('Error during call to suggestCharts:', error);\n",
              "      }\n",
              "      quickchartButtonEl.classList.remove('colab-df-spinner');\n",
              "      quickchartButtonEl.classList.add('colab-df-quickchart-complete');\n",
              "    }\n",
              "    (() => {\n",
              "      let quickchartButtonEl =\n",
              "        document.querySelector('#df-3b5477e4-f2ed-4815-9a34-3df68729692a button');\n",
              "      quickchartButtonEl.style.display =\n",
              "        google.colab.kernel.accessAllowed ? 'block' : 'none';\n",
              "    })();\n",
              "  </script>\n",
              "</div>\n",
              "\n",
              "    </div>\n",
              "  </div>\n"
            ],
            "application/vnd.google.colaboratory.intrinsic+json": {
              "type": "dataframe",
              "summary": "{\n  \"name\": \"    print(e)\",\n  \"rows\": 10,\n  \"fields\": [\n    {\n      \"column\": \"title\",\n      \"properties\": {\n        \"dtype\": \"string\",\n        \"num_unique_values\": 10,\n        \"samples\": [\n          \"okkos inn\",\n          \"pup star world tour\",\n          \"operation finale\"\n        ],\n        \"semantic_type\": \"\",\n        \"description\": \"\"\n      }\n    },\n    {\n      \"column\": \"director\",\n      \"properties\": {\n        \"dtype\": \"string\",\n        \"num_unique_values\": 10,\n        \"samples\": [\n          \"kitaro kosaka\",\n          \"robert vince\",\n          \"chris weitz\"\n        ],\n        \"semantic_type\": \"\",\n        \"description\": \"\"\n      }\n    }\n  ]\n}"
            }
          },
          "metadata": {}
        }
      ],
      "source": [
        "try:\n",
        "    df = pd.DataFrame(session.execute(shows_year(2018)).all())\n",
        "    display(df.head(10))\n",
        "except Exception as e:\n",
        "    print(e)"
      ]
    },
    {
      "cell_type": "markdown",
      "id": "15d18e13",
      "metadata": {
        "id": "15d18e13"
      },
      "source": [
        "**Salida esperada:**\n",
        "\n",
        "|    | title                        | director          |\n",
        "|---:|:-----------------------------|:------------------|\n",
        "|  0 | a champion heart             | david de vos      |\n",
        "|  1 | pup star world tour          | robert vince      |\n",
        "|  2 | ladylike                     | not given         |\n",
        "|  3 | adventures in public school  | kyle rideout      |\n",
        "|  4 | at eternitys gate            | julian schnabel   |\n",
        "|  5 | operation finale             | chris weitz       |\n",
        "|  6 | elliot the littlest reindeer | jennifer westcott |\n",
        "|  7 | adrift                       | baltasar kormkur  |\n",
        "|  8 | okkos inn                    | kitaro kosaka     |\n",
        "|  9 | mirai                        | mamoru hosoda     |"
      ]
    },
    {
      "cell_type": "markdown",
      "id": "a617a7f8",
      "metadata": {
        "id": "a617a7f8"
      },
      "source": [
        "<details>    \n",
        "<summary>\n",
        "    <font size=\"3\" color=\"darkgreen\"><b>Pista 1</b></font>\n",
        "</summary>\n",
        "\n",
        "Verifique que los campos seleccionados en su consulta están escritos correspondientemente a los nombres de los campos en las tablas y en minúscula:\n",
        "\n",
        "  - título: `title`\n",
        "  - director: `director`\n",
        "</details>"
      ]
    },
    {
      "cell_type": "markdown",
      "id": "8325ab3f",
      "metadata": {
        "id": "8325ab3f"
      },
      "source": [
        "<details>    \n",
        "<summary>\n",
        "    <font size=\"3\" color=\"darkgreen\"><b>Pista 2</b></font>\n",
        "</summary>\n",
        "\n",
        "Verifique que al momento de seleccionar la tabla la está escribiendo correctamente en su query, el nombre de la tabla debe cumplir la siguiente estructura:\n",
        "\n",
        "```sql\n",
        "<nombre_keyspace>.<nombre_tabla>\n",
        "```\n",
        "</details>"
      ]
    },
    {
      "cell_type": "markdown",
      "id": "258dacb2",
      "metadata": {
        "id": "258dacb2"
      },
      "source": [
        "<details>    \n",
        "<summary>\n",
        "    <font size=\"3\" color=\"darkgreen\"><b>Pista 3</b></font>\n",
        "</summary>\n",
        "\n",
        "* Verifique que al momento de filtrar (momento de usar la sentencia `WHERE`) está usando una llave de partición o una llave de agrupamiento.\n",
        "* Si la tabla sobre la que está haciendo la consulta, no tiene como llave de partición o agrupamiento el campo con el que está filtrando, probablemente está seleccionando mal la tabla.\n",
        "</details>"
      ]
    },
    {
      "cell_type": "markdown",
      "id": "CtKCtq2Y8m1g",
      "metadata": {
        "id": "CtKCtq2Y8m1g"
      },
      "source": [
        "### **Evaluar código**"
      ]
    },
    {
      "cell_type": "code",
      "execution_count": 28,
      "id": "hpuEryev6wWj",
      "metadata": {
        "id": "hpuEryev6wWj",
        "outputId": "c3b431a8-fab2-46e7-ad4e-49898e5596c1",
        "colab": {
          "base_uri": "https://localhost:8080/",
          "height": 141
        }
      },
      "outputs": [
        {
          "output_type": "stream",
          "name": "stdout",
          "text": [
            "Test 1_1\n"
          ]
        },
        {
          "output_type": "display_data",
          "data": {
            "text/plain": [
              "<IPython.core.display.HTML object>"
            ],
            "text/html": [
              "<h4>Test Run correctly</h4>"
            ]
          },
          "metadata": {}
        },
        {
          "output_type": "display_data",
          "data": {
            "text/plain": [
              "<IPython.core.display.HTML object>"
            ],
            "text/html": [
              "<h6 style=\"color: green;\">Your test grade: 100</h6>\n",
              "<h6>Feedback: Probando código ejemplo.</h6>"
            ]
          },
          "metadata": {}
        }
      ],
      "source": [
        "grader.run_test(\"Test 1_1\", globals())"
      ]
    },
    {
      "cell_type": "code",
      "execution_count": 29,
      "id": "x2yz0ktDRysT",
      "metadata": {
        "id": "x2yz0ktDRysT",
        "outputId": "062ad3d5-5a93-4c75-91b3-22f1838748f5",
        "colab": {
          "base_uri": "https://localhost:8080/",
          "height": 141
        }
      },
      "outputs": [
        {
          "output_type": "stream",
          "name": "stdout",
          "text": [
            "Test 1_2\n"
          ]
        },
        {
          "output_type": "display_data",
          "data": {
            "text/plain": [
              "<IPython.core.display.HTML object>"
            ],
            "text/html": [
              "<h4>Test Run correctly</h4>"
            ]
          },
          "metadata": {}
        },
        {
          "output_type": "display_data",
          "data": {
            "text/plain": [
              "<IPython.core.display.HTML object>"
            ],
            "text/html": [
              "<h6 style=\"color: green;\">Your test grade: 100</h6>\n",
              "<h6>Feedback: Probando código.</h6>"
            ]
          },
          "metadata": {}
        }
      ],
      "source": [
        "grader.run_test(\"Test 1_2\", globals())"
      ]
    },
    {
      "cell_type": "code",
      "execution_count": 30,
      "id": "Y3I42yT7SHHk",
      "metadata": {
        "id": "Y3I42yT7SHHk",
        "outputId": "257b81e9-1a26-4789-e949-b1be93a1d410",
        "colab": {
          "base_uri": "https://localhost:8080/",
          "height": 141
        }
      },
      "outputs": [
        {
          "output_type": "stream",
          "name": "stdout",
          "text": [
            "Test 1_3\n"
          ]
        },
        {
          "output_type": "display_data",
          "data": {
            "text/plain": [
              "<IPython.core.display.HTML object>"
            ],
            "text/html": [
              "<h4>Test Run correctly</h4>"
            ]
          },
          "metadata": {}
        },
        {
          "output_type": "display_data",
          "data": {
            "text/plain": [
              "<IPython.core.display.HTML object>"
            ],
            "text/html": [
              "<h6 style=\"color: green;\">Your test grade: 100</h6>\n",
              "<h6>Feedback: Probando código</h6>"
            ]
          },
          "metadata": {}
        }
      ],
      "source": [
        "grader.run_test(\"Test 1_3\", globals())"
      ]
    },
    {
      "cell_type": "markdown",
      "id": "30e023f0",
      "metadata": {
        "id": "30e023f0"
      },
      "source": [
        "## **2. Shows de un Tipo y Año Específico**\n",
        "---\n",
        "\n",
        "En este punto debe seleccionar todos los shows de un tipo y año en específico. Debe completar la función `shows_year_type`, la cual deberá retornar una cadena de texto con una consulta **CQL** válida que contenga los campos `title` y `director` de cada una de las películas o series que cumplan con los argumentos dados.\n",
        "\n",
        "**Parámetros**\n",
        "\n",
        "* `year`: número entero que sirve para señalar el año de publicación original de la película o serie.\n",
        "* `show_type`: string que indica el tipo del show que se desea obtener.\n",
        "\n",
        "**Retorna**\n",
        "\n",
        "* `query`: cadena de texto con una consulta válida para _Cassandra_."
      ]
    },
    {
      "cell_type": "code",
      "execution_count": 31,
      "id": "bFUUmJkK8YeG",
      "metadata": {
        "id": "bFUUmJkK8YeG"
      },
      "outputs": [],
      "source": [
        "def shows_year_type(year, show_type):\n",
        "    query = f\"\"\"\n",
        "    SELECT\n",
        "        title, director\n",
        "    FROM\n",
        "        test.query_by_year\n",
        "    WHERE\n",
        "        release_year = {year} AND type = '{show_type}'\n",
        "    ;\n",
        "    \"\"\"\n",
        "    return query"
      ]
    },
    {
      "cell_type": "markdown",
      "id": "d7fb49d2",
      "metadata": {
        "id": "d7fb49d2"
      },
      "source": [
        "Use la siguiente celda para probar su código:"
      ]
    },
    {
      "cell_type": "code",
      "execution_count": 32,
      "id": "da66a144",
      "metadata": {
        "id": "da66a144",
        "lines_to_next_cell": 1,
        "outputId": "f49b79ea-2109-4d92-dd3b-bdf4deda631c",
        "colab": {
          "base_uri": "https://localhost:8080/",
          "height": 363
        }
      },
      "outputs": [
        {
          "output_type": "display_data",
          "data": {
            "text/plain": [
              "                           title   director\n",
              "0              my secret romance  not given\n",
              "1          sons of the caliphate  not given\n",
              "2  because this is my first life  not given\n",
              "3            the bride of habaek  not given\n",
              "4                  my sassy girl  not given\n",
              "5              tomorrow with you  not given\n",
              "6             chicago typewriter  not given\n",
              "7     march comes in like a lion  not given\n",
              "8                   this evening  not given\n",
              "9          the kirlian frequency  not given"
            ],
            "text/html": [
              "\n",
              "  <div id=\"df-17b3f14e-0b61-45d9-bd9a-2f7c01ded819\" class=\"colab-df-container\">\n",
              "    <div>\n",
              "<style scoped>\n",
              "    .dataframe tbody tr th:only-of-type {\n",
              "        vertical-align: middle;\n",
              "    }\n",
              "\n",
              "    .dataframe tbody tr th {\n",
              "        vertical-align: top;\n",
              "    }\n",
              "\n",
              "    .dataframe thead th {\n",
              "        text-align: right;\n",
              "    }\n",
              "</style>\n",
              "<table border=\"1\" class=\"dataframe\">\n",
              "  <thead>\n",
              "    <tr style=\"text-align: right;\">\n",
              "      <th></th>\n",
              "      <th>title</th>\n",
              "      <th>director</th>\n",
              "    </tr>\n",
              "  </thead>\n",
              "  <tbody>\n",
              "    <tr>\n",
              "      <th>0</th>\n",
              "      <td>my secret romance</td>\n",
              "      <td>not given</td>\n",
              "    </tr>\n",
              "    <tr>\n",
              "      <th>1</th>\n",
              "      <td>sons of the caliphate</td>\n",
              "      <td>not given</td>\n",
              "    </tr>\n",
              "    <tr>\n",
              "      <th>2</th>\n",
              "      <td>because this is my first life</td>\n",
              "      <td>not given</td>\n",
              "    </tr>\n",
              "    <tr>\n",
              "      <th>3</th>\n",
              "      <td>the bride of habaek</td>\n",
              "      <td>not given</td>\n",
              "    </tr>\n",
              "    <tr>\n",
              "      <th>4</th>\n",
              "      <td>my sassy girl</td>\n",
              "      <td>not given</td>\n",
              "    </tr>\n",
              "    <tr>\n",
              "      <th>5</th>\n",
              "      <td>tomorrow with you</td>\n",
              "      <td>not given</td>\n",
              "    </tr>\n",
              "    <tr>\n",
              "      <th>6</th>\n",
              "      <td>chicago typewriter</td>\n",
              "      <td>not given</td>\n",
              "    </tr>\n",
              "    <tr>\n",
              "      <th>7</th>\n",
              "      <td>march comes in like a lion</td>\n",
              "      <td>not given</td>\n",
              "    </tr>\n",
              "    <tr>\n",
              "      <th>8</th>\n",
              "      <td>this evening</td>\n",
              "      <td>not given</td>\n",
              "    </tr>\n",
              "    <tr>\n",
              "      <th>9</th>\n",
              "      <td>the kirlian frequency</td>\n",
              "      <td>not given</td>\n",
              "    </tr>\n",
              "  </tbody>\n",
              "</table>\n",
              "</div>\n",
              "    <div class=\"colab-df-buttons\">\n",
              "\n",
              "  <div class=\"colab-df-container\">\n",
              "    <button class=\"colab-df-convert\" onclick=\"convertToInteractive('df-17b3f14e-0b61-45d9-bd9a-2f7c01ded819')\"\n",
              "            title=\"Convert this dataframe to an interactive table.\"\n",
              "            style=\"display:none;\">\n",
              "\n",
              "  <svg xmlns=\"http://www.w3.org/2000/svg\" height=\"24px\" viewBox=\"0 -960 960 960\">\n",
              "    <path d=\"M120-120v-720h720v720H120Zm60-500h600v-160H180v160Zm220 220h160v-160H400v160Zm0 220h160v-160H400v160ZM180-400h160v-160H180v160Zm440 0h160v-160H620v160ZM180-180h160v-160H180v160Zm440 0h160v-160H620v160Z\"/>\n",
              "  </svg>\n",
              "    </button>\n",
              "\n",
              "  <style>\n",
              "    .colab-df-container {\n",
              "      display:flex;\n",
              "      gap: 12px;\n",
              "    }\n",
              "\n",
              "    .colab-df-convert {\n",
              "      background-color: #E8F0FE;\n",
              "      border: none;\n",
              "      border-radius: 50%;\n",
              "      cursor: pointer;\n",
              "      display: none;\n",
              "      fill: #1967D2;\n",
              "      height: 32px;\n",
              "      padding: 0 0 0 0;\n",
              "      width: 32px;\n",
              "    }\n",
              "\n",
              "    .colab-df-convert:hover {\n",
              "      background-color: #E2EBFA;\n",
              "      box-shadow: 0px 1px 2px rgba(60, 64, 67, 0.3), 0px 1px 3px 1px rgba(60, 64, 67, 0.15);\n",
              "      fill: #174EA6;\n",
              "    }\n",
              "\n",
              "    .colab-df-buttons div {\n",
              "      margin-bottom: 4px;\n",
              "    }\n",
              "\n",
              "    [theme=dark] .colab-df-convert {\n",
              "      background-color: #3B4455;\n",
              "      fill: #D2E3FC;\n",
              "    }\n",
              "\n",
              "    [theme=dark] .colab-df-convert:hover {\n",
              "      background-color: #434B5C;\n",
              "      box-shadow: 0px 1px 3px 1px rgba(0, 0, 0, 0.15);\n",
              "      filter: drop-shadow(0px 1px 2px rgba(0, 0, 0, 0.3));\n",
              "      fill: #FFFFFF;\n",
              "    }\n",
              "  </style>\n",
              "\n",
              "    <script>\n",
              "      const buttonEl =\n",
              "        document.querySelector('#df-17b3f14e-0b61-45d9-bd9a-2f7c01ded819 button.colab-df-convert');\n",
              "      buttonEl.style.display =\n",
              "        google.colab.kernel.accessAllowed ? 'block' : 'none';\n",
              "\n",
              "      async function convertToInteractive(key) {\n",
              "        const element = document.querySelector('#df-17b3f14e-0b61-45d9-bd9a-2f7c01ded819');\n",
              "        const dataTable =\n",
              "          await google.colab.kernel.invokeFunction('convertToInteractive',\n",
              "                                                    [key], {});\n",
              "        if (!dataTable) return;\n",
              "\n",
              "        const docLinkHtml = 'Like what you see? Visit the ' +\n",
              "          '<a target=\"_blank\" href=https://colab.research.google.com/notebooks/data_table.ipynb>data table notebook</a>'\n",
              "          + ' to learn more about interactive tables.';\n",
              "        element.innerHTML = '';\n",
              "        dataTable['output_type'] = 'display_data';\n",
              "        await google.colab.output.renderOutput(dataTable, element);\n",
              "        const docLink = document.createElement('div');\n",
              "        docLink.innerHTML = docLinkHtml;\n",
              "        element.appendChild(docLink);\n",
              "      }\n",
              "    </script>\n",
              "  </div>\n",
              "\n",
              "\n",
              "<div id=\"df-1741a164-ff63-42fd-9b1d-80f0b75cf80f\">\n",
              "  <button class=\"colab-df-quickchart\" onclick=\"quickchart('df-1741a164-ff63-42fd-9b1d-80f0b75cf80f')\"\n",
              "            title=\"Suggest charts\"\n",
              "            style=\"display:none;\">\n",
              "\n",
              "<svg xmlns=\"http://www.w3.org/2000/svg\" height=\"24px\"viewBox=\"0 0 24 24\"\n",
              "     width=\"24px\">\n",
              "    <g>\n",
              "        <path d=\"M19 3H5c-1.1 0-2 .9-2 2v14c0 1.1.9 2 2 2h14c1.1 0 2-.9 2-2V5c0-1.1-.9-2-2-2zM9 17H7v-7h2v7zm4 0h-2V7h2v10zm4 0h-2v-4h2v4z\"/>\n",
              "    </g>\n",
              "</svg>\n",
              "  </button>\n",
              "\n",
              "<style>\n",
              "  .colab-df-quickchart {\n",
              "      --bg-color: #E8F0FE;\n",
              "      --fill-color: #1967D2;\n",
              "      --hover-bg-color: #E2EBFA;\n",
              "      --hover-fill-color: #174EA6;\n",
              "      --disabled-fill-color: #AAA;\n",
              "      --disabled-bg-color: #DDD;\n",
              "  }\n",
              "\n",
              "  [theme=dark] .colab-df-quickchart {\n",
              "      --bg-color: #3B4455;\n",
              "      --fill-color: #D2E3FC;\n",
              "      --hover-bg-color: #434B5C;\n",
              "      --hover-fill-color: #FFFFFF;\n",
              "      --disabled-bg-color: #3B4455;\n",
              "      --disabled-fill-color: #666;\n",
              "  }\n",
              "\n",
              "  .colab-df-quickchart {\n",
              "    background-color: var(--bg-color);\n",
              "    border: none;\n",
              "    border-radius: 50%;\n",
              "    cursor: pointer;\n",
              "    display: none;\n",
              "    fill: var(--fill-color);\n",
              "    height: 32px;\n",
              "    padding: 0;\n",
              "    width: 32px;\n",
              "  }\n",
              "\n",
              "  .colab-df-quickchart:hover {\n",
              "    background-color: var(--hover-bg-color);\n",
              "    box-shadow: 0 1px 2px rgba(60, 64, 67, 0.3), 0 1px 3px 1px rgba(60, 64, 67, 0.15);\n",
              "    fill: var(--button-hover-fill-color);\n",
              "  }\n",
              "\n",
              "  .colab-df-quickchart-complete:disabled,\n",
              "  .colab-df-quickchart-complete:disabled:hover {\n",
              "    background-color: var(--disabled-bg-color);\n",
              "    fill: var(--disabled-fill-color);\n",
              "    box-shadow: none;\n",
              "  }\n",
              "\n",
              "  .colab-df-spinner {\n",
              "    border: 2px solid var(--fill-color);\n",
              "    border-color: transparent;\n",
              "    border-bottom-color: var(--fill-color);\n",
              "    animation:\n",
              "      spin 1s steps(1) infinite;\n",
              "  }\n",
              "\n",
              "  @keyframes spin {\n",
              "    0% {\n",
              "      border-color: transparent;\n",
              "      border-bottom-color: var(--fill-color);\n",
              "      border-left-color: var(--fill-color);\n",
              "    }\n",
              "    20% {\n",
              "      border-color: transparent;\n",
              "      border-left-color: var(--fill-color);\n",
              "      border-top-color: var(--fill-color);\n",
              "    }\n",
              "    30% {\n",
              "      border-color: transparent;\n",
              "      border-left-color: var(--fill-color);\n",
              "      border-top-color: var(--fill-color);\n",
              "      border-right-color: var(--fill-color);\n",
              "    }\n",
              "    40% {\n",
              "      border-color: transparent;\n",
              "      border-right-color: var(--fill-color);\n",
              "      border-top-color: var(--fill-color);\n",
              "    }\n",
              "    60% {\n",
              "      border-color: transparent;\n",
              "      border-right-color: var(--fill-color);\n",
              "    }\n",
              "    80% {\n",
              "      border-color: transparent;\n",
              "      border-right-color: var(--fill-color);\n",
              "      border-bottom-color: var(--fill-color);\n",
              "    }\n",
              "    90% {\n",
              "      border-color: transparent;\n",
              "      border-bottom-color: var(--fill-color);\n",
              "    }\n",
              "  }\n",
              "</style>\n",
              "\n",
              "  <script>\n",
              "    async function quickchart(key) {\n",
              "      const quickchartButtonEl =\n",
              "        document.querySelector('#' + key + ' button');\n",
              "      quickchartButtonEl.disabled = true;  // To prevent multiple clicks.\n",
              "      quickchartButtonEl.classList.add('colab-df-spinner');\n",
              "      try {\n",
              "        const charts = await google.colab.kernel.invokeFunction(\n",
              "            'suggestCharts', [key], {});\n",
              "      } catch (error) {\n",
              "        console.error('Error during call to suggestCharts:', error);\n",
              "      }\n",
              "      quickchartButtonEl.classList.remove('colab-df-spinner');\n",
              "      quickchartButtonEl.classList.add('colab-df-quickchart-complete');\n",
              "    }\n",
              "    (() => {\n",
              "      let quickchartButtonEl =\n",
              "        document.querySelector('#df-1741a164-ff63-42fd-9b1d-80f0b75cf80f button');\n",
              "      quickchartButtonEl.style.display =\n",
              "        google.colab.kernel.accessAllowed ? 'block' : 'none';\n",
              "    })();\n",
              "  </script>\n",
              "</div>\n",
              "\n",
              "    </div>\n",
              "  </div>\n"
            ],
            "application/vnd.google.colaboratory.intrinsic+json": {
              "type": "dataframe",
              "summary": "{\n  \"name\": \"    print(e)\",\n  \"rows\": 10,\n  \"fields\": [\n    {\n      \"column\": \"title\",\n      \"properties\": {\n        \"dtype\": \"string\",\n        \"num_unique_values\": 10,\n        \"samples\": [\n          \"this evening\",\n          \"sons of the caliphate\",\n          \"tomorrow with you\"\n        ],\n        \"semantic_type\": \"\",\n        \"description\": \"\"\n      }\n    },\n    {\n      \"column\": \"director\",\n      \"properties\": {\n        \"dtype\": \"category\",\n        \"num_unique_values\": 1,\n        \"samples\": [\n          \"not given\"\n        ],\n        \"semantic_type\": \"\",\n        \"description\": \"\"\n      }\n    }\n  ]\n}"
            }
          },
          "metadata": {}
        }
      ],
      "source": [
        "try:\n",
        "    df = pd.DataFrame(session.execute(shows_year_type(2017, \"tv show\")).all())\n",
        "    display(df.head(10))\n",
        "except Exception as e:\n",
        "    print(e)"
      ]
    },
    {
      "cell_type": "markdown",
      "id": "780a9929",
      "metadata": {
        "id": "780a9929"
      },
      "source": [
        "**Salida esperada:**\n",
        "\n",
        "Para el el caso `shows_year_type(2017, \"tv show\")` se obtiene la siguiente tabla de ejemplo:\n",
        "\n",
        "<table border=\"1\" class=\"dataframe\">\n",
        "  <thead>\n",
        "    <tr style=\"text-align: right;\">\n",
        "      <th></th>\n",
        "      <th>title</th>\n",
        "      <th>director</th>\n",
        "    </tr>\n",
        "  </thead>\n",
        "  <tbody>\n",
        "    <tr>\n",
        "      <th>0</th>\n",
        "      <td>my secret romance</td>\n",
        "      <td>not given</td>\n",
        "    </tr>\n",
        "    <tr>\n",
        "      <th>1</th>\n",
        "      <td>sons of the caliphate</td>\n",
        "      <td>not given</td>\n",
        "    </tr>\n",
        "    <tr>\n",
        "      <th>2</th>\n",
        "      <td>because this is my first life</td>\n",
        "      <td>not given</td>\n",
        "    </tr>\n",
        "    <tr>\n",
        "      <th>3</th>\n",
        "      <td>the bride of habaek</td>\n",
        "      <td>not given</td>\n",
        "    </tr>\n",
        "    <tr>\n",
        "      <th>4</th>\n",
        "      <td>my sassy girl</td>\n",
        "      <td>not given</td>\n",
        "    </tr>\n",
        "    <tr>\n",
        "      <th>5</th>\n",
        "      <td>tomorrow with you</td>\n",
        "      <td>not given</td>\n",
        "    </tr>\n",
        "    <tr>\n",
        "      <th>6</th>\n",
        "      <td>chicago typewriter</td>\n",
        "      <td>not given</td>\n",
        "    </tr>\n",
        "    <tr>\n",
        "      <th>7</th>\n",
        "      <td>march comes in like a lion</td>\n",
        "      <td>not given</td>\n",
        "    </tr>\n",
        "    <tr>\n",
        "      <th>8</th>\n",
        "      <td>this evening</td>\n",
        "      <td>not given</td>\n",
        "    </tr>\n",
        "    <tr>\n",
        "      <th>9</th>\n",
        "      <td>the kirlian frequency</td>\n",
        "      <td>not given</td>\n",
        "    </tr>\n",
        "  </tbody>\n",
        "</table>"
      ]
    },
    {
      "cell_type": "markdown",
      "id": "21ffb172",
      "metadata": {
        "id": "21ffb172"
      },
      "source": [
        "<details>    \n",
        "<summary>\n",
        "    <font size=\"3\" color=\"darkgreen\"><b>Pista 1</b></font>\n",
        "</summary>\n",
        "\n",
        "Puede usar el operador `AND` para unir dos condiciones lógicas. Por ejemplo, la comparación del año con la comparación del tipo.\n",
        "</details>"
      ]
    },
    {
      "cell_type": "markdown",
      "id": "3f865a8e",
      "metadata": {
        "id": "3f865a8e"
      },
      "source": [
        "<details>    \n",
        "<summary>\n",
        "    <font size=\"3\" color=\"darkgreen\"><b>Pista 2</b></font>\n",
        "</summary>\n",
        "\n",
        "Para realizar correctamente la consulta, recuerde los tipos de datos de los argumentos (`year` es de tipo `INT` y `show_type` de tipo `TEXT`). Recuerde que en **CQL** los datos de tipo texto deben ser acotados por comillas simples `''`.\n",
        "</details>"
      ]
    },
    {
      "cell_type": "markdown",
      "id": "iT6u7ZYX8oQu",
      "metadata": {
        "id": "iT6u7ZYX8oQu"
      },
      "source": [
        "### **Evaluar código**"
      ]
    },
    {
      "cell_type": "code",
      "execution_count": 33,
      "id": "gHTgpU8pSqFH",
      "metadata": {
        "id": "gHTgpU8pSqFH",
        "outputId": "fbca3121-0926-4168-c2bb-645690e90942",
        "colab": {
          "base_uri": "https://localhost:8080/",
          "height": 141
        }
      },
      "outputs": [
        {
          "output_type": "stream",
          "name": "stdout",
          "text": [
            "Test 2_1\n"
          ]
        },
        {
          "output_type": "display_data",
          "data": {
            "text/plain": [
              "<IPython.core.display.HTML object>"
            ],
            "text/html": [
              "<h4>Test Run correctly</h4>"
            ]
          },
          "metadata": {}
        },
        {
          "output_type": "display_data",
          "data": {
            "text/plain": [
              "<IPython.core.display.HTML object>"
            ],
            "text/html": [
              "<h6 style=\"color: green;\">Your test grade: 100</h6>\n",
              "<h6>Feedback: Probando código ejemplo</h6>"
            ]
          },
          "metadata": {}
        }
      ],
      "source": [
        "grader.run_test(\"Test 2_1\", globals())"
      ]
    },
    {
      "cell_type": "code",
      "execution_count": 34,
      "id": "L6XvGWUJXHHW",
      "metadata": {
        "id": "L6XvGWUJXHHW",
        "outputId": "44f837a8-96e8-471c-cf86-c2fb6c07db8a",
        "colab": {
          "base_uri": "https://localhost:8080/",
          "height": 141
        }
      },
      "outputs": [
        {
          "output_type": "stream",
          "name": "stdout",
          "text": [
            "Test 2_2\n"
          ]
        },
        {
          "output_type": "display_data",
          "data": {
            "text/plain": [
              "<IPython.core.display.HTML object>"
            ],
            "text/html": [
              "<h4>Test Run correctly</h4>"
            ]
          },
          "metadata": {}
        },
        {
          "output_type": "display_data",
          "data": {
            "text/plain": [
              "<IPython.core.display.HTML object>"
            ],
            "text/html": [
              "<h6 style=\"color: green;\">Your test grade: 100</h6>\n",
              "<h6>Feedback: Probando código ejemplo</h6>"
            ]
          },
          "metadata": {}
        }
      ],
      "source": [
        "grader.run_test(\"Test 2_2\", globals())"
      ]
    },
    {
      "cell_type": "markdown",
      "id": "ee446f04",
      "metadata": {
        "id": "ee446f04"
      },
      "source": [
        "## **3. Número de Shows por País y Tipo**\n",
        "---\n",
        "\n",
        "En este punto usted deberá completar la función `number_shows_country_type` la cual debe retornar una cadena de texto con una consulta **CQL** válida con el recuento de elementos por cada tipo de show en cada uno de los países. La tabla resultante debe obtener los campos `country` (país), `type` (tipo) y un campo adicional que debe nombrar como `counts` con el recuento de shows por tipo y país. Adicionalmente, debe retornar solo los valores del país indicado.\n",
        "\n",
        "**Parámetros**\n",
        "\n",
        "* `country`: string que indica el país de consulta.\n",
        "\n",
        "**Retorna**\n",
        "\n",
        "* `query`: cadena de texto con una consulta válida de **CQL**."
      ]
    },
    {
      "cell_type": "code",
      "execution_count": 35,
      "id": "6MEQRKmJ8Z1v",
      "metadata": {
        "id": "6MEQRKmJ8Z1v"
      },
      "outputs": [],
      "source": [
        "def number_shows_country_type(country):\n",
        "    query = f\"\"\"\n",
        "    SELECT\n",
        "        country, type, COUNT(*) AS counts\n",
        "    FROM\n",
        "        test.query_by_country\n",
        "    WHERE\n",
        "        country = '{country}'\n",
        "    GROUP BY\n",
        "        country, type\n",
        "    ;\n",
        "    \"\"\"\n",
        "    return query"
      ]
    },
    {
      "cell_type": "markdown",
      "id": "4182d042",
      "metadata": {
        "id": "4182d042"
      },
      "source": [
        "Use la siguiente celda para probar su código:"
      ]
    },
    {
      "cell_type": "code",
      "execution_count": 36,
      "id": "8ejfeEgamWZt",
      "metadata": {
        "id": "8ejfeEgamWZt",
        "lines_to_next_cell": 1,
        "outputId": "4dca2e4e-653f-4ccc-c1e3-415585ceec62",
        "colab": {
          "base_uri": "https://localhost:8080/",
          "height": 112
        }
      },
      "outputs": [
        {
          "output_type": "display_data",
          "data": {
            "text/plain": [
              "   country     type  counts\n",
              "0  germany    movie      79\n",
              "1  germany  tv show      25"
            ],
            "text/html": [
              "\n",
              "  <div id=\"df-72319304-329a-4ff8-a8ff-4afae16ad30a\" class=\"colab-df-container\">\n",
              "    <div>\n",
              "<style scoped>\n",
              "    .dataframe tbody tr th:only-of-type {\n",
              "        vertical-align: middle;\n",
              "    }\n",
              "\n",
              "    .dataframe tbody tr th {\n",
              "        vertical-align: top;\n",
              "    }\n",
              "\n",
              "    .dataframe thead th {\n",
              "        text-align: right;\n",
              "    }\n",
              "</style>\n",
              "<table border=\"1\" class=\"dataframe\">\n",
              "  <thead>\n",
              "    <tr style=\"text-align: right;\">\n",
              "      <th></th>\n",
              "      <th>country</th>\n",
              "      <th>type</th>\n",
              "      <th>counts</th>\n",
              "    </tr>\n",
              "  </thead>\n",
              "  <tbody>\n",
              "    <tr>\n",
              "      <th>0</th>\n",
              "      <td>germany</td>\n",
              "      <td>movie</td>\n",
              "      <td>79</td>\n",
              "    </tr>\n",
              "    <tr>\n",
              "      <th>1</th>\n",
              "      <td>germany</td>\n",
              "      <td>tv show</td>\n",
              "      <td>25</td>\n",
              "    </tr>\n",
              "  </tbody>\n",
              "</table>\n",
              "</div>\n",
              "    <div class=\"colab-df-buttons\">\n",
              "\n",
              "  <div class=\"colab-df-container\">\n",
              "    <button class=\"colab-df-convert\" onclick=\"convertToInteractive('df-72319304-329a-4ff8-a8ff-4afae16ad30a')\"\n",
              "            title=\"Convert this dataframe to an interactive table.\"\n",
              "            style=\"display:none;\">\n",
              "\n",
              "  <svg xmlns=\"http://www.w3.org/2000/svg\" height=\"24px\" viewBox=\"0 -960 960 960\">\n",
              "    <path d=\"M120-120v-720h720v720H120Zm60-500h600v-160H180v160Zm220 220h160v-160H400v160Zm0 220h160v-160H400v160ZM180-400h160v-160H180v160Zm440 0h160v-160H620v160ZM180-180h160v-160H180v160Zm440 0h160v-160H620v160Z\"/>\n",
              "  </svg>\n",
              "    </button>\n",
              "\n",
              "  <style>\n",
              "    .colab-df-container {\n",
              "      display:flex;\n",
              "      gap: 12px;\n",
              "    }\n",
              "\n",
              "    .colab-df-convert {\n",
              "      background-color: #E8F0FE;\n",
              "      border: none;\n",
              "      border-radius: 50%;\n",
              "      cursor: pointer;\n",
              "      display: none;\n",
              "      fill: #1967D2;\n",
              "      height: 32px;\n",
              "      padding: 0 0 0 0;\n",
              "      width: 32px;\n",
              "    }\n",
              "\n",
              "    .colab-df-convert:hover {\n",
              "      background-color: #E2EBFA;\n",
              "      box-shadow: 0px 1px 2px rgba(60, 64, 67, 0.3), 0px 1px 3px 1px rgba(60, 64, 67, 0.15);\n",
              "      fill: #174EA6;\n",
              "    }\n",
              "\n",
              "    .colab-df-buttons div {\n",
              "      margin-bottom: 4px;\n",
              "    }\n",
              "\n",
              "    [theme=dark] .colab-df-convert {\n",
              "      background-color: #3B4455;\n",
              "      fill: #D2E3FC;\n",
              "    }\n",
              "\n",
              "    [theme=dark] .colab-df-convert:hover {\n",
              "      background-color: #434B5C;\n",
              "      box-shadow: 0px 1px 3px 1px rgba(0, 0, 0, 0.15);\n",
              "      filter: drop-shadow(0px 1px 2px rgba(0, 0, 0, 0.3));\n",
              "      fill: #FFFFFF;\n",
              "    }\n",
              "  </style>\n",
              "\n",
              "    <script>\n",
              "      const buttonEl =\n",
              "        document.querySelector('#df-72319304-329a-4ff8-a8ff-4afae16ad30a button.colab-df-convert');\n",
              "      buttonEl.style.display =\n",
              "        google.colab.kernel.accessAllowed ? 'block' : 'none';\n",
              "\n",
              "      async function convertToInteractive(key) {\n",
              "        const element = document.querySelector('#df-72319304-329a-4ff8-a8ff-4afae16ad30a');\n",
              "        const dataTable =\n",
              "          await google.colab.kernel.invokeFunction('convertToInteractive',\n",
              "                                                    [key], {});\n",
              "        if (!dataTable) return;\n",
              "\n",
              "        const docLinkHtml = 'Like what you see? Visit the ' +\n",
              "          '<a target=\"_blank\" href=https://colab.research.google.com/notebooks/data_table.ipynb>data table notebook</a>'\n",
              "          + ' to learn more about interactive tables.';\n",
              "        element.innerHTML = '';\n",
              "        dataTable['output_type'] = 'display_data';\n",
              "        await google.colab.output.renderOutput(dataTable, element);\n",
              "        const docLink = document.createElement('div');\n",
              "        docLink.innerHTML = docLinkHtml;\n",
              "        element.appendChild(docLink);\n",
              "      }\n",
              "    </script>\n",
              "  </div>\n",
              "\n",
              "\n",
              "<div id=\"df-cf80c6a7-565d-48b0-8cd7-8b939b045e11\">\n",
              "  <button class=\"colab-df-quickchart\" onclick=\"quickchart('df-cf80c6a7-565d-48b0-8cd7-8b939b045e11')\"\n",
              "            title=\"Suggest charts\"\n",
              "            style=\"display:none;\">\n",
              "\n",
              "<svg xmlns=\"http://www.w3.org/2000/svg\" height=\"24px\"viewBox=\"0 0 24 24\"\n",
              "     width=\"24px\">\n",
              "    <g>\n",
              "        <path d=\"M19 3H5c-1.1 0-2 .9-2 2v14c0 1.1.9 2 2 2h14c1.1 0 2-.9 2-2V5c0-1.1-.9-2-2-2zM9 17H7v-7h2v7zm4 0h-2V7h2v10zm4 0h-2v-4h2v4z\"/>\n",
              "    </g>\n",
              "</svg>\n",
              "  </button>\n",
              "\n",
              "<style>\n",
              "  .colab-df-quickchart {\n",
              "      --bg-color: #E8F0FE;\n",
              "      --fill-color: #1967D2;\n",
              "      --hover-bg-color: #E2EBFA;\n",
              "      --hover-fill-color: #174EA6;\n",
              "      --disabled-fill-color: #AAA;\n",
              "      --disabled-bg-color: #DDD;\n",
              "  }\n",
              "\n",
              "  [theme=dark] .colab-df-quickchart {\n",
              "      --bg-color: #3B4455;\n",
              "      --fill-color: #D2E3FC;\n",
              "      --hover-bg-color: #434B5C;\n",
              "      --hover-fill-color: #FFFFFF;\n",
              "      --disabled-bg-color: #3B4455;\n",
              "      --disabled-fill-color: #666;\n",
              "  }\n",
              "\n",
              "  .colab-df-quickchart {\n",
              "    background-color: var(--bg-color);\n",
              "    border: none;\n",
              "    border-radius: 50%;\n",
              "    cursor: pointer;\n",
              "    display: none;\n",
              "    fill: var(--fill-color);\n",
              "    height: 32px;\n",
              "    padding: 0;\n",
              "    width: 32px;\n",
              "  }\n",
              "\n",
              "  .colab-df-quickchart:hover {\n",
              "    background-color: var(--hover-bg-color);\n",
              "    box-shadow: 0 1px 2px rgba(60, 64, 67, 0.3), 0 1px 3px 1px rgba(60, 64, 67, 0.15);\n",
              "    fill: var(--button-hover-fill-color);\n",
              "  }\n",
              "\n",
              "  .colab-df-quickchart-complete:disabled,\n",
              "  .colab-df-quickchart-complete:disabled:hover {\n",
              "    background-color: var(--disabled-bg-color);\n",
              "    fill: var(--disabled-fill-color);\n",
              "    box-shadow: none;\n",
              "  }\n",
              "\n",
              "  .colab-df-spinner {\n",
              "    border: 2px solid var(--fill-color);\n",
              "    border-color: transparent;\n",
              "    border-bottom-color: var(--fill-color);\n",
              "    animation:\n",
              "      spin 1s steps(1) infinite;\n",
              "  }\n",
              "\n",
              "  @keyframes spin {\n",
              "    0% {\n",
              "      border-color: transparent;\n",
              "      border-bottom-color: var(--fill-color);\n",
              "      border-left-color: var(--fill-color);\n",
              "    }\n",
              "    20% {\n",
              "      border-color: transparent;\n",
              "      border-left-color: var(--fill-color);\n",
              "      border-top-color: var(--fill-color);\n",
              "    }\n",
              "    30% {\n",
              "      border-color: transparent;\n",
              "      border-left-color: var(--fill-color);\n",
              "      border-top-color: var(--fill-color);\n",
              "      border-right-color: var(--fill-color);\n",
              "    }\n",
              "    40% {\n",
              "      border-color: transparent;\n",
              "      border-right-color: var(--fill-color);\n",
              "      border-top-color: var(--fill-color);\n",
              "    }\n",
              "    60% {\n",
              "      border-color: transparent;\n",
              "      border-right-color: var(--fill-color);\n",
              "    }\n",
              "    80% {\n",
              "      border-color: transparent;\n",
              "      border-right-color: var(--fill-color);\n",
              "      border-bottom-color: var(--fill-color);\n",
              "    }\n",
              "    90% {\n",
              "      border-color: transparent;\n",
              "      border-bottom-color: var(--fill-color);\n",
              "    }\n",
              "  }\n",
              "</style>\n",
              "\n",
              "  <script>\n",
              "    async function quickchart(key) {\n",
              "      const quickchartButtonEl =\n",
              "        document.querySelector('#' + key + ' button');\n",
              "      quickchartButtonEl.disabled = true;  // To prevent multiple clicks.\n",
              "      quickchartButtonEl.classList.add('colab-df-spinner');\n",
              "      try {\n",
              "        const charts = await google.colab.kernel.invokeFunction(\n",
              "            'suggestCharts', [key], {});\n",
              "      } catch (error) {\n",
              "        console.error('Error during call to suggestCharts:', error);\n",
              "      }\n",
              "      quickchartButtonEl.classList.remove('colab-df-spinner');\n",
              "      quickchartButtonEl.classList.add('colab-df-quickchart-complete');\n",
              "    }\n",
              "    (() => {\n",
              "      let quickchartButtonEl =\n",
              "        document.querySelector('#df-cf80c6a7-565d-48b0-8cd7-8b939b045e11 button');\n",
              "      quickchartButtonEl.style.display =\n",
              "        google.colab.kernel.accessAllowed ? 'block' : 'none';\n",
              "    })();\n",
              "  </script>\n",
              "</div>\n",
              "\n",
              "    </div>\n",
              "  </div>\n"
            ],
            "application/vnd.google.colaboratory.intrinsic+json": {
              "type": "dataframe",
              "summary": "{\n  \"name\": \"    print(e)\",\n  \"rows\": 2,\n  \"fields\": [\n    {\n      \"column\": \"country\",\n      \"properties\": {\n        \"dtype\": \"string\",\n        \"num_unique_values\": 1,\n        \"samples\": [\n          \"germany\"\n        ],\n        \"semantic_type\": \"\",\n        \"description\": \"\"\n      }\n    },\n    {\n      \"column\": \"type\",\n      \"properties\": {\n        \"dtype\": \"string\",\n        \"num_unique_values\": 2,\n        \"samples\": [\n          \"tv show\"\n        ],\n        \"semantic_type\": \"\",\n        \"description\": \"\"\n      }\n    },\n    {\n      \"column\": \"counts\",\n      \"properties\": {\n        \"dtype\": \"number\",\n        \"std\": 38,\n        \"min\": 25,\n        \"max\": 79,\n        \"num_unique_values\": 2,\n        \"samples\": [\n          25\n        ],\n        \"semantic_type\": \"\",\n        \"description\": \"\"\n      }\n    }\n  ]\n}"
            }
          },
          "metadata": {}
        }
      ],
      "source": [
        "try:\n",
        "    df = pd.DataFrame(session.execute(number_shows_country_type('germany')).all())\n",
        "    display(df.head(10))\n",
        "except Exception as e:\n",
        "    print(e)"
      ]
    },
    {
      "cell_type": "markdown",
      "id": "cd0c2b41",
      "metadata": {
        "id": "cd0c2b41"
      },
      "source": [
        "**Salida esperada:**\n",
        "\n",
        "|    | country              | type    |   counts |\n",
        "|---:|:---------------------|:--------|---------:|\n",
        "|  0 | germany              | movie   |       79 |\n",
        "|  1 | germany              | tv show |       25 |\n"
      ]
    },
    {
      "cell_type": "code",
      "execution_count": null,
      "id": "KlclJyl8voGc",
      "metadata": {
        "id": "KlclJyl8voGc",
        "lines_to_next_cell": 1
      },
      "outputs": [],
      "source": [
        "try:\n",
        "    df = pd.DataFrame(session.execute(number_shows_country_type('poland')).all())\n",
        "    display(df.head(10))\n",
        "except Exception as e:\n",
        "    print(e)"
      ]
    },
    {
      "cell_type": "markdown",
      "id": "emOqG4fkvw4S",
      "metadata": {
        "id": "emOqG4fkvw4S"
      },
      "source": [
        "**Salida esperada:**\n",
        "\n",
        "|    | country              | type    |   counts |\n",
        "|---:|:---------------------|:--------|---------:|\n",
        "|  0 | poland              | movie   |       22 |\n",
        "|  1 | poland              | tv show |       8 |"
      ]
    },
    {
      "cell_type": "markdown",
      "id": "e7069631",
      "metadata": {
        "id": "e7069631"
      },
      "source": [
        "<details>    \n",
        "<summary>\n",
        "    <font size=\"3\" color=\"darkgreen\"><b>Pista 1</b></font>\n",
        "</summary>\n",
        "\n",
        "Se recomienda revisar la función `COUNT()` tal y como se mostró en el taller guiado de _Cassandra_, recuerde que la sintaxis en el lenguaje *CQL* es muy similar al de `SQL`.\n",
        "</details>"
      ]
    },
    {
      "cell_type": "markdown",
      "id": "c08144b3",
      "metadata": {
        "id": "c08144b3"
      },
      "source": [
        "<details>    \n",
        "<summary>\n",
        "    <font size=\"3\" color=\"darkgreen\"><b>Pista 2</b></font>\n",
        "</summary>\n",
        "    \n",
        "Verifique que los campos seleccionados en su consulta corresponden a los nombres de los campos en las tablas y se encuentran en minúscula:\n",
        "\n",
        "  * país: `country`\n",
        "  * tipo: `type`\n",
        "\n",
        "Igualmente recuerde renombrar los conteos obtenidos de la función `COUNT()`, algo de la forma:\n",
        "\n",
        "```sql\n",
        "COUNT(columna) AS counts\n",
        "```\n",
        "</details>"
      ]
    },
    {
      "cell_type": "markdown",
      "id": "b149747f",
      "metadata": {
        "id": "b149747f"
      },
      "source": [
        "<details>    \n",
        "<summary>\n",
        "    <font size=\"3\" color=\"darkgreen\"><b>Pista 3</b></font>\n",
        "</summary>\n",
        "\n",
        "Verifique que esté usando un esquema válido, es decir:\n",
        "\n",
        "```sql\n",
        "SELECT\n",
        "    ...\n",
        "FROM\n",
        "    test.<nombre_tabla>\n",
        "...\n",
        "```\n",
        "</details>"
      ]
    },
    {
      "cell_type": "markdown",
      "id": "01e-7ZfavHJe",
      "metadata": {
        "id": "01e-7ZfavHJe"
      },
      "source": [
        "<details>    \n",
        "<summary>\n",
        "    <font size=\"3\" color=\"darkgreen\"><b>Pista 4</b></font>\n",
        "</summary>\n",
        "\n",
        "Al igual que en el punto anterior, debe realizar una consulta correcta, teniendo en cuenta el tipo de dato de `country` es un string\n",
        "</details>"
      ]
    },
    {
      "cell_type": "markdown",
      "id": "b5185ecf",
      "metadata": {
        "id": "b5185ecf"
      },
      "source": [
        "<details>    \n",
        "<summary>\n",
        "    <font size=\"3\" color=\"darkgreen\"><b>Pista 5</b></font>\n",
        "</summary>\n",
        "\n",
        "No olvide que para realizar un `GROUP BY` sobre una llave de agrupamiento, debe agrupar sobre todas las llaves de agrupamiento anteriores a esta, es decir, de acuerdo a las posiciones en las que fue creada la tabla.\n",
        "</details>"
      ]
    },
    {
      "cell_type": "markdown",
      "id": "tQbF3MqP8pZm",
      "metadata": {
        "id": "tQbF3MqP8pZm"
      },
      "source": [
        "### **Evaluar código**"
      ]
    },
    {
      "cell_type": "code",
      "execution_count": 37,
      "id": "0qIqfu7-XtNM",
      "metadata": {
        "id": "0qIqfu7-XtNM",
        "outputId": "837bfecd-feae-4356-f4a5-258cbb8e09c9",
        "colab": {
          "base_uri": "https://localhost:8080/",
          "height": 141
        }
      },
      "outputs": [
        {
          "output_type": "stream",
          "name": "stdout",
          "text": [
            "Test 3_1\n"
          ]
        },
        {
          "output_type": "display_data",
          "data": {
            "text/plain": [
              "<IPython.core.display.HTML object>"
            ],
            "text/html": [
              "<h4>Test Run correctly</h4>"
            ]
          },
          "metadata": {}
        },
        {
          "output_type": "display_data",
          "data": {
            "text/plain": [
              "<IPython.core.display.HTML object>"
            ],
            "text/html": [
              "<h6 style=\"color: green;\">Your test grade: 100</h6>\n",
              "<h6>Feedback: Probando código</h6>"
            ]
          },
          "metadata": {}
        }
      ],
      "source": [
        "grader.run_test(\"Test 3_1\", globals())"
      ]
    },
    {
      "cell_type": "code",
      "execution_count": 38,
      "id": "1mKKGYQ6yEFI",
      "metadata": {
        "id": "1mKKGYQ6yEFI",
        "outputId": "9da5692b-b31a-4f50-d51d-2b6105f0abaf",
        "colab": {
          "base_uri": "https://localhost:8080/",
          "height": 141
        }
      },
      "outputs": [
        {
          "output_type": "stream",
          "name": "stdout",
          "text": [
            "Test 3_1\n"
          ]
        },
        {
          "output_type": "display_data",
          "data": {
            "text/plain": [
              "<IPython.core.display.HTML object>"
            ],
            "text/html": [
              "<h4>Test Run correctly</h4>"
            ]
          },
          "metadata": {}
        },
        {
          "output_type": "display_data",
          "data": {
            "text/plain": [
              "<IPython.core.display.HTML object>"
            ],
            "text/html": [
              "<h6 style=\"color: green;\">Your test grade: 100</h6>\n",
              "<h6>Feedback: Probando código</h6>"
            ]
          },
          "metadata": {}
        }
      ],
      "source": [
        "grader.run_test(\"Test 3_2\", globals())"
      ]
    },
    {
      "cell_type": "markdown",
      "id": "4fa74bd4",
      "metadata": {
        "id": "4fa74bd4"
      },
      "source": [
        "## **4. Shows en un Año y País Específico**\n",
        "---\n",
        "\n",
        "En este ejercicio usted debe completar la función `shows_year_country`, la cual deberá retornar una cadena de texto con una **CQL** válida para obetener los campos `title` y `director` de todas las películas en un año y país específico.\n",
        "\n",
        "**Parámetros**\n",
        "\n",
        "* `year`: número entero que indica el año sobre el que se debe filtrar.\n",
        "* `country`: string que representa el país de producción de la serie o película que se desea filtrar.\n",
        "\n",
        "**Retorna**\n",
        "\n",
        "* `query`: cadena de texto con una consulta válida para _Cassandra_."
      ]
    },
    {
      "cell_type": "code",
      "execution_count": 39,
      "id": "7iZ5mtec8bh9",
      "metadata": {
        "id": "7iZ5mtec8bh9"
      },
      "outputs": [],
      "source": [
        "def shows_year_country(year, country):\n",
        "    query = f\"\"\"\n",
        "    SELECT\n",
        "        title, director\n",
        "    FROM\n",
        "        test.query_by_year_country\n",
        "    WHERE\n",
        "        release_year = {year} AND country = '{country}'\n",
        "    ;\n",
        "    \"\"\"\n",
        "    return query"
      ]
    },
    {
      "cell_type": "markdown",
      "id": "ba919f79",
      "metadata": {
        "id": "ba919f79"
      },
      "source": [
        "Use la siguiente celda para probar su código:"
      ]
    },
    {
      "cell_type": "code",
      "execution_count": 40,
      "id": "4ac0229d",
      "metadata": {
        "id": "4ac0229d",
        "lines_to_next_cell": 1,
        "outputId": "d1de702a-3859-4402-dc8e-a6392c02a889",
        "colab": {
          "base_uri": "https://localhost:8080/",
          "height": 237
        }
      },
      "outputs": [
        {
          "output_type": "display_data",
          "data": {
            "text/plain": [
              "                   title              director\n",
              "0         look whos back          david wnendt\n",
              "1                colonia  florian gallenberger\n",
              "2        pedal the world          felix starck\n",
              "3          a heavy heart         thomas stuber\n",
              "4        trken  ein baby            sinan akku\n",
              "5  ho mermaid adventures             not given"
            ],
            "text/html": [
              "\n",
              "  <div id=\"df-9a42f731-278b-4c36-a3bf-e8a0d9598e13\" class=\"colab-df-container\">\n",
              "    <div>\n",
              "<style scoped>\n",
              "    .dataframe tbody tr th:only-of-type {\n",
              "        vertical-align: middle;\n",
              "    }\n",
              "\n",
              "    .dataframe tbody tr th {\n",
              "        vertical-align: top;\n",
              "    }\n",
              "\n",
              "    .dataframe thead th {\n",
              "        text-align: right;\n",
              "    }\n",
              "</style>\n",
              "<table border=\"1\" class=\"dataframe\">\n",
              "  <thead>\n",
              "    <tr style=\"text-align: right;\">\n",
              "      <th></th>\n",
              "      <th>title</th>\n",
              "      <th>director</th>\n",
              "    </tr>\n",
              "  </thead>\n",
              "  <tbody>\n",
              "    <tr>\n",
              "      <th>0</th>\n",
              "      <td>look whos back</td>\n",
              "      <td>david wnendt</td>\n",
              "    </tr>\n",
              "    <tr>\n",
              "      <th>1</th>\n",
              "      <td>colonia</td>\n",
              "      <td>florian gallenberger</td>\n",
              "    </tr>\n",
              "    <tr>\n",
              "      <th>2</th>\n",
              "      <td>pedal the world</td>\n",
              "      <td>felix starck</td>\n",
              "    </tr>\n",
              "    <tr>\n",
              "      <th>3</th>\n",
              "      <td>a heavy heart</td>\n",
              "      <td>thomas stuber</td>\n",
              "    </tr>\n",
              "    <tr>\n",
              "      <th>4</th>\n",
              "      <td>trken  ein baby</td>\n",
              "      <td>sinan akku</td>\n",
              "    </tr>\n",
              "    <tr>\n",
              "      <th>5</th>\n",
              "      <td>ho mermaid adventures</td>\n",
              "      <td>not given</td>\n",
              "    </tr>\n",
              "  </tbody>\n",
              "</table>\n",
              "</div>\n",
              "    <div class=\"colab-df-buttons\">\n",
              "\n",
              "  <div class=\"colab-df-container\">\n",
              "    <button class=\"colab-df-convert\" onclick=\"convertToInteractive('df-9a42f731-278b-4c36-a3bf-e8a0d9598e13')\"\n",
              "            title=\"Convert this dataframe to an interactive table.\"\n",
              "            style=\"display:none;\">\n",
              "\n",
              "  <svg xmlns=\"http://www.w3.org/2000/svg\" height=\"24px\" viewBox=\"0 -960 960 960\">\n",
              "    <path d=\"M120-120v-720h720v720H120Zm60-500h600v-160H180v160Zm220 220h160v-160H400v160Zm0 220h160v-160H400v160ZM180-400h160v-160H180v160Zm440 0h160v-160H620v160ZM180-180h160v-160H180v160Zm440 0h160v-160H620v160Z\"/>\n",
              "  </svg>\n",
              "    </button>\n",
              "\n",
              "  <style>\n",
              "    .colab-df-container {\n",
              "      display:flex;\n",
              "      gap: 12px;\n",
              "    }\n",
              "\n",
              "    .colab-df-convert {\n",
              "      background-color: #E8F0FE;\n",
              "      border: none;\n",
              "      border-radius: 50%;\n",
              "      cursor: pointer;\n",
              "      display: none;\n",
              "      fill: #1967D2;\n",
              "      height: 32px;\n",
              "      padding: 0 0 0 0;\n",
              "      width: 32px;\n",
              "    }\n",
              "\n",
              "    .colab-df-convert:hover {\n",
              "      background-color: #E2EBFA;\n",
              "      box-shadow: 0px 1px 2px rgba(60, 64, 67, 0.3), 0px 1px 3px 1px rgba(60, 64, 67, 0.15);\n",
              "      fill: #174EA6;\n",
              "    }\n",
              "\n",
              "    .colab-df-buttons div {\n",
              "      margin-bottom: 4px;\n",
              "    }\n",
              "\n",
              "    [theme=dark] .colab-df-convert {\n",
              "      background-color: #3B4455;\n",
              "      fill: #D2E3FC;\n",
              "    }\n",
              "\n",
              "    [theme=dark] .colab-df-convert:hover {\n",
              "      background-color: #434B5C;\n",
              "      box-shadow: 0px 1px 3px 1px rgba(0, 0, 0, 0.15);\n",
              "      filter: drop-shadow(0px 1px 2px rgba(0, 0, 0, 0.3));\n",
              "      fill: #FFFFFF;\n",
              "    }\n",
              "  </style>\n",
              "\n",
              "    <script>\n",
              "      const buttonEl =\n",
              "        document.querySelector('#df-9a42f731-278b-4c36-a3bf-e8a0d9598e13 button.colab-df-convert');\n",
              "      buttonEl.style.display =\n",
              "        google.colab.kernel.accessAllowed ? 'block' : 'none';\n",
              "\n",
              "      async function convertToInteractive(key) {\n",
              "        const element = document.querySelector('#df-9a42f731-278b-4c36-a3bf-e8a0d9598e13');\n",
              "        const dataTable =\n",
              "          await google.colab.kernel.invokeFunction('convertToInteractive',\n",
              "                                                    [key], {});\n",
              "        if (!dataTable) return;\n",
              "\n",
              "        const docLinkHtml = 'Like what you see? Visit the ' +\n",
              "          '<a target=\"_blank\" href=https://colab.research.google.com/notebooks/data_table.ipynb>data table notebook</a>'\n",
              "          + ' to learn more about interactive tables.';\n",
              "        element.innerHTML = '';\n",
              "        dataTable['output_type'] = 'display_data';\n",
              "        await google.colab.output.renderOutput(dataTable, element);\n",
              "        const docLink = document.createElement('div');\n",
              "        docLink.innerHTML = docLinkHtml;\n",
              "        element.appendChild(docLink);\n",
              "      }\n",
              "    </script>\n",
              "  </div>\n",
              "\n",
              "\n",
              "<div id=\"df-25dbdc49-af88-4771-a32d-d72ac5ff5900\">\n",
              "  <button class=\"colab-df-quickchart\" onclick=\"quickchart('df-25dbdc49-af88-4771-a32d-d72ac5ff5900')\"\n",
              "            title=\"Suggest charts\"\n",
              "            style=\"display:none;\">\n",
              "\n",
              "<svg xmlns=\"http://www.w3.org/2000/svg\" height=\"24px\"viewBox=\"0 0 24 24\"\n",
              "     width=\"24px\">\n",
              "    <g>\n",
              "        <path d=\"M19 3H5c-1.1 0-2 .9-2 2v14c0 1.1.9 2 2 2h14c1.1 0 2-.9 2-2V5c0-1.1-.9-2-2-2zM9 17H7v-7h2v7zm4 0h-2V7h2v10zm4 0h-2v-4h2v4z\"/>\n",
              "    </g>\n",
              "</svg>\n",
              "  </button>\n",
              "\n",
              "<style>\n",
              "  .colab-df-quickchart {\n",
              "      --bg-color: #E8F0FE;\n",
              "      --fill-color: #1967D2;\n",
              "      --hover-bg-color: #E2EBFA;\n",
              "      --hover-fill-color: #174EA6;\n",
              "      --disabled-fill-color: #AAA;\n",
              "      --disabled-bg-color: #DDD;\n",
              "  }\n",
              "\n",
              "  [theme=dark] .colab-df-quickchart {\n",
              "      --bg-color: #3B4455;\n",
              "      --fill-color: #D2E3FC;\n",
              "      --hover-bg-color: #434B5C;\n",
              "      --hover-fill-color: #FFFFFF;\n",
              "      --disabled-bg-color: #3B4455;\n",
              "      --disabled-fill-color: #666;\n",
              "  }\n",
              "\n",
              "  .colab-df-quickchart {\n",
              "    background-color: var(--bg-color);\n",
              "    border: none;\n",
              "    border-radius: 50%;\n",
              "    cursor: pointer;\n",
              "    display: none;\n",
              "    fill: var(--fill-color);\n",
              "    height: 32px;\n",
              "    padding: 0;\n",
              "    width: 32px;\n",
              "  }\n",
              "\n",
              "  .colab-df-quickchart:hover {\n",
              "    background-color: var(--hover-bg-color);\n",
              "    box-shadow: 0 1px 2px rgba(60, 64, 67, 0.3), 0 1px 3px 1px rgba(60, 64, 67, 0.15);\n",
              "    fill: var(--button-hover-fill-color);\n",
              "  }\n",
              "\n",
              "  .colab-df-quickchart-complete:disabled,\n",
              "  .colab-df-quickchart-complete:disabled:hover {\n",
              "    background-color: var(--disabled-bg-color);\n",
              "    fill: var(--disabled-fill-color);\n",
              "    box-shadow: none;\n",
              "  }\n",
              "\n",
              "  .colab-df-spinner {\n",
              "    border: 2px solid var(--fill-color);\n",
              "    border-color: transparent;\n",
              "    border-bottom-color: var(--fill-color);\n",
              "    animation:\n",
              "      spin 1s steps(1) infinite;\n",
              "  }\n",
              "\n",
              "  @keyframes spin {\n",
              "    0% {\n",
              "      border-color: transparent;\n",
              "      border-bottom-color: var(--fill-color);\n",
              "      border-left-color: var(--fill-color);\n",
              "    }\n",
              "    20% {\n",
              "      border-color: transparent;\n",
              "      border-left-color: var(--fill-color);\n",
              "      border-top-color: var(--fill-color);\n",
              "    }\n",
              "    30% {\n",
              "      border-color: transparent;\n",
              "      border-left-color: var(--fill-color);\n",
              "      border-top-color: var(--fill-color);\n",
              "      border-right-color: var(--fill-color);\n",
              "    }\n",
              "    40% {\n",
              "      border-color: transparent;\n",
              "      border-right-color: var(--fill-color);\n",
              "      border-top-color: var(--fill-color);\n",
              "    }\n",
              "    60% {\n",
              "      border-color: transparent;\n",
              "      border-right-color: var(--fill-color);\n",
              "    }\n",
              "    80% {\n",
              "      border-color: transparent;\n",
              "      border-right-color: var(--fill-color);\n",
              "      border-bottom-color: var(--fill-color);\n",
              "    }\n",
              "    90% {\n",
              "      border-color: transparent;\n",
              "      border-bottom-color: var(--fill-color);\n",
              "    }\n",
              "  }\n",
              "</style>\n",
              "\n",
              "  <script>\n",
              "    async function quickchart(key) {\n",
              "      const quickchartButtonEl =\n",
              "        document.querySelector('#' + key + ' button');\n",
              "      quickchartButtonEl.disabled = true;  // To prevent multiple clicks.\n",
              "      quickchartButtonEl.classList.add('colab-df-spinner');\n",
              "      try {\n",
              "        const charts = await google.colab.kernel.invokeFunction(\n",
              "            'suggestCharts', [key], {});\n",
              "      } catch (error) {\n",
              "        console.error('Error during call to suggestCharts:', error);\n",
              "      }\n",
              "      quickchartButtonEl.classList.remove('colab-df-spinner');\n",
              "      quickchartButtonEl.classList.add('colab-df-quickchart-complete');\n",
              "    }\n",
              "    (() => {\n",
              "      let quickchartButtonEl =\n",
              "        document.querySelector('#df-25dbdc49-af88-4771-a32d-d72ac5ff5900 button');\n",
              "      quickchartButtonEl.style.display =\n",
              "        google.colab.kernel.accessAllowed ? 'block' : 'none';\n",
              "    })();\n",
              "  </script>\n",
              "</div>\n",
              "\n",
              "    </div>\n",
              "  </div>\n"
            ],
            "application/vnd.google.colaboratory.intrinsic+json": {
              "type": "dataframe",
              "summary": "{\n  \"name\": \"    print(e)\",\n  \"rows\": 6,\n  \"fields\": [\n    {\n      \"column\": \"title\",\n      \"properties\": {\n        \"dtype\": \"string\",\n        \"num_unique_values\": 6,\n        \"samples\": [\n          \"look whos back\",\n          \"colonia\",\n          \"ho mermaid adventures\"\n        ],\n        \"semantic_type\": \"\",\n        \"description\": \"\"\n      }\n    },\n    {\n      \"column\": \"director\",\n      \"properties\": {\n        \"dtype\": \"string\",\n        \"num_unique_values\": 6,\n        \"samples\": [\n          \"david wnendt\",\n          \"florian gallenberger\",\n          \"not given\"\n        ],\n        \"semantic_type\": \"\",\n        \"description\": \"\"\n      }\n    }\n  ]\n}"
            }
          },
          "metadata": {}
        }
      ],
      "source": [
        "try:\n",
        "    df = pd.DataFrame(session.execute(shows_year_country(2015, 'germany')).all())\n",
        "    display(df.head(10))\n",
        "except Exception as e:\n",
        "    print(e)"
      ]
    },
    {
      "cell_type": "markdown",
      "id": "62bb6989",
      "metadata": {
        "id": "62bb6989"
      },
      "source": [
        "**Salida esperada:**\n",
        "\n",
        "Para el caso `shows_year_country(2015, 'germany')` debe obtener:\n",
        "\n",
        "<table border=\"1\" class=\"dataframe\">\n",
        "  <thead>\n",
        "    <tr style=\"text-align: right;\">\n",
        "      <th></th>\n",
        "      <th>title</th>\n",
        "      <th>director</th>\n",
        "    </tr>\n",
        "  </thead>\n",
        "  <tbody>\n",
        "    <tr>\n",
        "      <th>0</th>\n",
        "      <td>look whos back</td>\n",
        "      <td>david wnendt</td>\n",
        "    </tr>\n",
        "    <tr>\n",
        "      <th>1</th>\n",
        "      <td>colonia</td>\n",
        "      <td>florian gallenberger</td>\n",
        "    </tr>\n",
        "    <tr>\n",
        "      <th>2</th>\n",
        "      <td>pedal the world</td>\n",
        "      <td>felix starck</td>\n",
        "    </tr>\n",
        "    <tr>\n",
        "      <th>3</th>\n",
        "      <td>a heavy heart</td>\n",
        "      <td>thomas stuber</td>\n",
        "    </tr>\n",
        "    <tr>\n",
        "      <th>4</th>\n",
        "      <td>trken  ein baby</td>\n",
        "      <td>sinan akku</td>\n",
        "    </tr>\n",
        "    <tr>\n",
        "      <th>5</th>\n",
        "      <td>ho mermaid adventures</td>\n",
        "      <td>not given</td>\n",
        "    </tr>\n",
        "  </tbody>\n",
        "</table>"
      ]
    },
    {
      "cell_type": "markdown",
      "id": "2273014d",
      "metadata": {
        "id": "2273014d"
      },
      "source": [
        "<details>    \n",
        "<summary>\n",
        "    <font size=\"3\" color=\"darkgreen\"><b>Pista 1</b></font>\n",
        "</summary>\n",
        "\n",
        "Para realizar correctamente la consulta, recuerde los tipos de datos de los argumentos (`year` es de tipo `INT` y `country` de tipo `TEXT`). Recuerde que en **CQL** los datos de tipo texto deben ser acotados por comillas simples `''`.\n",
        "</details>"
      ]
    },
    {
      "cell_type": "markdown",
      "id": "4a1ac98f",
      "metadata": {
        "id": "4a1ac98f"
      },
      "source": [
        "<details>    \n",
        "<summary>\n",
        "    <font size=\"3\" color=\"darkgreen\"><b>Pista 2</b></font>\n",
        "</summary>\n",
        "\n",
        "Puede usar el método `.format` para sustituir variables dentro del string de una consulta `query.format(arg1, arg2, ...)` siempre que tenga un par de llaves  `{}` dentro del string.\n",
        "</details>"
      ]
    },
    {
      "cell_type": "markdown",
      "id": "bbb7a44a",
      "metadata": {
        "id": "bbb7a44a"
      },
      "source": [
        "<details>    \n",
        "<summary>\n",
        "    <font size=\"3\" color=\"darkgreen\"><b>Pista 3</b></font>\n",
        "</summary>\n",
        "\n",
        "* Verifique que al momento de filtrar (momento de usar la sentencia `WHERE`) está usando una llave de partición o una llave de agrupamiento.\n",
        "* Si la tabla sobre la que está haciendo la consulta, no tiene como llave de partición o agrupamiento el campo con el que está filtrando, probablemente está seleccionando mal la tabla.\n",
        "</details>"
      ]
    },
    {
      "cell_type": "markdown",
      "id": "_Wyzo5HT8qk4",
      "metadata": {
        "id": "_Wyzo5HT8qk4"
      },
      "source": [
        "### **Evaluar código**"
      ]
    },
    {
      "cell_type": "code",
      "execution_count": 41,
      "id": "feLuv9Jxi81b",
      "metadata": {
        "id": "feLuv9Jxi81b",
        "outputId": "28e17142-7945-4b10-d145-5dccebf7983d",
        "colab": {
          "base_uri": "https://localhost:8080/",
          "height": 141
        }
      },
      "outputs": [
        {
          "output_type": "stream",
          "name": "stdout",
          "text": [
            "Test 4_1\n"
          ]
        },
        {
          "output_type": "display_data",
          "data": {
            "text/plain": [
              "<IPython.core.display.HTML object>"
            ],
            "text/html": [
              "<h4>Test Run correctly</h4>"
            ]
          },
          "metadata": {}
        },
        {
          "output_type": "display_data",
          "data": {
            "text/plain": [
              "<IPython.core.display.HTML object>"
            ],
            "text/html": [
              "<h6 style=\"color: green;\">Your test grade: 100</h6>\n",
              "<h6>Feedback: Probando código ejemplo</h6>"
            ]
          },
          "metadata": {}
        }
      ],
      "source": [
        "grader.run_test(\"Test 4_1\", globals())"
      ]
    },
    {
      "cell_type": "code",
      "execution_count": 42,
      "id": "ugdAPF5dp9tv",
      "metadata": {
        "id": "ugdAPF5dp9tv",
        "outputId": "ac82d41e-dc32-4cd3-8635-39eb2c22d0eb",
        "colab": {
          "base_uri": "https://localhost:8080/",
          "height": 141
        }
      },
      "outputs": [
        {
          "output_type": "stream",
          "name": "stdout",
          "text": [
            "Test 4_2\n"
          ]
        },
        {
          "output_type": "display_data",
          "data": {
            "text/plain": [
              "<IPython.core.display.HTML object>"
            ],
            "text/html": [
              "<h4>Test Run correctly</h4>"
            ]
          },
          "metadata": {}
        },
        {
          "output_type": "display_data",
          "data": {
            "text/plain": [
              "<IPython.core.display.HTML object>"
            ],
            "text/html": [
              "<h6 style=\"color: green;\">Your test grade: 100</h6>\n",
              "<h6>Feedback: Probando código</h6>"
            ]
          },
          "metadata": {}
        }
      ],
      "source": [
        "grader.run_test(\"Test 4_2\", globals())"
      ]
    },
    {
      "cell_type": "code",
      "execution_count": 43,
      "id": "c-bF6zhYrrBD",
      "metadata": {
        "id": "c-bF6zhYrrBD",
        "outputId": "f7df0f9b-8e66-4567-97ab-03d56a9d010e",
        "colab": {
          "base_uri": "https://localhost:8080/",
          "height": 141
        }
      },
      "outputs": [
        {
          "output_type": "stream",
          "name": "stdout",
          "text": [
            "Test 4_3\n"
          ]
        },
        {
          "output_type": "display_data",
          "data": {
            "text/plain": [
              "<IPython.core.display.HTML object>"
            ],
            "text/html": [
              "<h4>Test Run correctly</h4>"
            ]
          },
          "metadata": {}
        },
        {
          "output_type": "display_data",
          "data": {
            "text/plain": [
              "<IPython.core.display.HTML object>"
            ],
            "text/html": [
              "<h6 style=\"color: green;\">Your test grade: 100</h6>\n",
              "<h6>Feedback: Probando código</h6>"
            ]
          },
          "metadata": {}
        }
      ],
      "source": [
        "grader.run_test(\"Test 4_3\", globals())"
      ]
    },
    {
      "cell_type": "markdown",
      "id": "cc079bea",
      "metadata": {
        "id": "cc079bea"
      },
      "source": [
        "## **5. Conteo de Rating de Shows por País**\n",
        "---\n",
        "\n",
        "En este punto deberá implementar la función `number_shows_rating_country`, la cual debe retornar un string con una consulta **CQL** válida que retorne la cantidad de shows que hay por tipo rating en cada país. La consulta debe extraer los campos `country` (país), `rating` (puntuación) y un campo adicional `counts` que debe contener el recuento de shows. Adicionalmente, debe retornar solo los valores del país indicado.\n",
        "\n",
        "**Parámetros**\n",
        "\n",
        "* `country`: string que indica el país de consulta.\n",
        "\n",
        "**Retorna**\n",
        "\n",
        "* `query`: cadena de texto con una consulta válida de **CQL**."
      ]
    },
    {
      "cell_type": "code",
      "execution_count": 75,
      "id": "f0a4726w8dCK",
      "metadata": {
        "id": "f0a4726w8dCK"
      },
      "outputs": [],
      "source": [
        "def number_shows_rating_country(country):\n",
        "    query = f\"\"\"\n",
        "    SELECT\n",
        "        country,\n",
        "        rating,\n",
        "        COUNT(*) AS counts\n",
        "    FROM\n",
        "        test.query_by_country\n",
        "    WHERE\n",
        "        country = '{country}'\n",
        "    GROUP BY\n",
        "        country, rating\n",
        "    ALLOW FILTERING\n",
        "    ;\n",
        "    \"\"\"\n",
        "    return query"
      ]
    },
    {
      "cell_type": "markdown",
      "id": "5ba0696e",
      "metadata": {
        "id": "5ba0696e"
      },
      "source": [
        "Use la siguiente celda para probar su código:"
      ]
    },
    {
      "cell_type": "code",
      "execution_count": 76,
      "id": "7a3d07b0",
      "metadata": {
        "id": "7a3d07b0",
        "lines_to_next_cell": 1,
        "outputId": "0881885b-17ca-480c-ead5-5a0acac3f33b",
        "colab": {
          "base_uri": "https://localhost:8080/"
        }
      },
      "outputs": [
        {
          "output_type": "stream",
          "name": "stdout",
          "text": [
            "Error from server: code=2200 [Invalid query] message=\"Group by currently only support groups of columns following their declared order in the PRIMARY KEY\"\n"
          ]
        }
      ],
      "source": [
        "try:\n",
        "    df = pd.DataFrame(session.execute(number_shows_rating_country('germany')).all())\n",
        "    display(df.head(10))\n",
        "except Exception as e:\n",
        "    print(e)"
      ]
    },
    {
      "cell_type": "markdown",
      "id": "252701e8",
      "metadata": {
        "id": "252701e8"
      },
      "source": [
        "**Salida esperada:**\n",
        "\n",
        "|    | country   | rating   |   counts |\n",
        "|---:|:----------|:---------|---------:|\n",
        "|  0 | germany   | g        |        1 |\n",
        "|  1 | germany   | nr       |        1 |\n",
        "|  2 | germany   | pg       |       11 |\n",
        "|  3 | germany   | r        |       13 |\n",
        "|  4 | germany   | tv       |       12 |\n",
        "|  5 | germany   | tvg      |        4 |\n",
        "|  6 | germany   | tvma     |       30 |\n",
        "|  7 | germany   | tvpg     |        5 |\n",
        "|  8 | germany   | tvy      |        2 |\n",
        "|  9 | germany   | tv       |        3 |"
      ]
    },
    {
      "cell_type": "code",
      "execution_count": 77,
      "id": "H-WY9cwjzr-p",
      "metadata": {
        "id": "H-WY9cwjzr-p",
        "lines_to_next_cell": 1,
        "outputId": "e7e5067b-03f2-41a7-96f3-ed8929681203",
        "colab": {
          "base_uri": "https://localhost:8080/"
        }
      },
      "outputs": [
        {
          "output_type": "stream",
          "name": "stdout",
          "text": [
            "Error from server: code=2200 [Invalid query] message=\"Group by currently only support groups of columns following their declared order in the PRIMARY KEY\"\n"
          ]
        }
      ],
      "source": [
        "try:\n",
        "    df = pd.DataFrame(session.execute(number_shows_rating_country('poland')).all())\n",
        "    display(df.head(10))\n",
        "except Exception as e:\n",
        "    print(e)"
      ]
    },
    {
      "cell_type": "markdown",
      "id": "j_aOMEbqz8Cp",
      "metadata": {
        "id": "j_aOMEbqz8Cp"
      },
      "source": [
        "**Salida esperada:**\n",
        "\n",
        "|    | country   | rating   |   counts |\n",
        "|---:|:----------|:---------|---------:|\n",
        "|  0 | poland   | tv       |        2 |\n",
        "|  1 | poland   | tvma       |       19 |\n",
        "|  2 | poland   | tvpg       |        1 |\n",
        "|  3 | poland   | tvma        |       8 |\n"
      ]
    },
    {
      "cell_type": "markdown",
      "id": "fd6c8b1a",
      "metadata": {
        "id": "fd6c8b1a"
      },
      "source": [
        "<details>    \n",
        "<summary>\n",
        "    <font size=\"3\" color=\"darkgreen\"><b>Pista 1</b></font>\n",
        "</summary>\n",
        "\n",
        "Se recomienda revisar la función `COUNT()` tal y como se mostró en el taller guiado de _Cassandra_, recuerde que la sintaxis en el lenguaje *CQL* es muy similar al de `SQL`.\n",
        "</details>"
      ]
    },
    {
      "cell_type": "markdown",
      "id": "baa81747",
      "metadata": {
        "id": "baa81747"
      },
      "source": [
        "<details>    \n",
        "<summary>\n",
        "    <font size=\"3\" color=\"darkgreen\"><b>Pista 2</b></font>\n",
        "</summary>\n",
        "\n",
        "Verifique que los campos seleccionados en su consulta corresponden a los nombres de los campos en las tablas y se encuentran en minúscula:\n",
        "\n",
        "  * país: `country`\n",
        "  * rating: `rating`\n",
        "\n",
        "Igualmente recuerde renombrar los conteos obtenidos de la función `COUNT()`, algo de la forma:\n",
        "\n",
        "```sql\n",
        "COUNT(columna) AS counts\n",
        "</details>"
      ]
    },
    {
      "cell_type": "markdown",
      "id": "fe003405",
      "metadata": {
        "id": "fe003405"
      },
      "source": [
        "<details>    \n",
        "<summary>\n",
        "    <font size=\"3\" color=\"darkgreen\"><b>Pista 3</b></font>\n",
        "</summary>\n",
        "\n",
        "Verifique que esté usando un esquema válido, es decir:\n",
        "\n",
        "```sql\n",
        "SELECT\n",
        "    ...\n",
        "FROM\n",
        "    test.<nombre_tabla>\n",
        "...\n",
        "```\n",
        "</details>"
      ]
    },
    {
      "cell_type": "markdown",
      "id": "b94b78b3",
      "metadata": {
        "id": "b94b78b3"
      },
      "source": [
        "<details>    \n",
        "<summary>\n",
        "    <font size=\"3\" color=\"darkgreen\"><b>Pista 4</b></font>\n",
        "</summary>\n",
        "\n",
        "No olvide que para hacer una agrupación en **`CQL`** debe usar todas las claves de partición y las claves de agrupamiento posicionalmente anteriores (de acuerdo al orden en el que se creó la tabla).\n",
        "</details>"
      ]
    },
    {
      "cell_type": "markdown",
      "id": "olR0pU878rol",
      "metadata": {
        "id": "olR0pU878rol"
      },
      "source": [
        "### **Evaluar código**"
      ]
    },
    {
      "cell_type": "code",
      "execution_count": 78,
      "id": "GbOmofSjsOx3",
      "metadata": {
        "id": "GbOmofSjsOx3",
        "outputId": "fcee4f5f-488a-4f40-945f-ab1adf36e9ae",
        "colab": {
          "base_uri": "https://localhost:8080/",
          "height": 179
        }
      },
      "outputs": [
        {
          "output_type": "stream",
          "name": "stdout",
          "text": [
            "Test 5_1\n"
          ]
        },
        {
          "output_type": "display_data",
          "data": {
            "text/plain": [
              "<IPython.core.display.HTML object>"
            ],
            "text/html": [
              "<h4>Test Run correctly</h4>"
            ]
          },
          "metadata": {}
        },
        {
          "output_type": "display_data",
          "data": {
            "text/plain": [
              "<IPython.core.display.HTML object>"
            ],
            "text/html": [
              "<h6 style=\"color: red;\">Your test grade: 0</h6>\n",
              "<h6>Feedback: Probando código<p>Por favor, asegúrese de que \"number_shows_rating_country\", \"session\" están correctamente definidas.</p><p>Error: <span style=\"color: red;\">Error from server: code=2200 [Invalid query] message=\"Group by currently only support groups of columns following their declared order in the PRIMARY KEY\"</span></p></h6>"
            ]
          },
          "metadata": {}
        }
      ],
      "source": [
        "grader.run_test(\"Test 5_1\", globals())"
      ]
    },
    {
      "cell_type": "code",
      "execution_count": 79,
      "id": "zVx6Pg0E045C",
      "metadata": {
        "id": "zVx6Pg0E045C",
        "outputId": "f7b5d9ba-6eec-4934-d05d-409ee5301152",
        "colab": {
          "base_uri": "https://localhost:8080/",
          "height": 179
        }
      },
      "outputs": [
        {
          "output_type": "stream",
          "name": "stdout",
          "text": [
            "Test 5_2\n"
          ]
        },
        {
          "output_type": "display_data",
          "data": {
            "text/plain": [
              "<IPython.core.display.HTML object>"
            ],
            "text/html": [
              "<h4>Test Run correctly</h4>"
            ]
          },
          "metadata": {}
        },
        {
          "output_type": "display_data",
          "data": {
            "text/plain": [
              "<IPython.core.display.HTML object>"
            ],
            "text/html": [
              "<h6 style=\"color: red;\">Your test grade: 0</h6>\n",
              "<h6>Feedback: Probando código<p>Por favor, asegúrese de que \"number_shows_rating_country\", \"session\" están correctamente definidas.</p><p>Error: <span style=\"color: red;\">Error from server: code=2200 [Invalid query] message=\"Group by currently only support groups of columns following their declared order in the PRIMARY KEY\"</span></p></h6>"
            ]
          },
          "metadata": {}
        }
      ],
      "source": [
        "grader.run_test(\"Test 5_2\", globals())"
      ]
    },
    {
      "cell_type": "markdown",
      "id": "e9966f31",
      "metadata": {
        "id": "e9966f31"
      },
      "source": [
        "## **6. Conteo de Rating de Shows por Año**\n",
        "---\n",
        "\n",
        "En este ejercicio usted debe completar la función `number_shows_rating_year` la cual deberá retornar una cadena de texto con una consulta **CQL** válida que contenga los campos `release_year`, `type`, `rating` y `counts` (la cantidad total de películas o series por año que tienen una misma clasificación). Adicionalmente, debe retornar solo los valores con el año igual al indicado.\n",
        "\n",
        "**Parámetros**\n",
        "\n",
        " * `year`: número entero que sirve para señalar el año de publicación original de la película o serie.\n",
        "\n",
        "**Retorna**\n",
        "\n",
        "* `query`: cadena de texto con una consulta válida para _Cassandra_."
      ]
    },
    {
      "cell_type": "code",
      "execution_count": 60,
      "id": "sBypp68C8eb0",
      "metadata": {
        "id": "sBypp68C8eb0"
      },
      "outputs": [],
      "source": [
        "def number_shows_rating_year(year):\n",
        "    query = f\"\"\"\n",
        "    SELECT\n",
        "        release_year,\n",
        "        type,\n",
        "        rating,\n",
        "        COUNT(*) AS counts\n",
        "    FROM\n",
        "        test.query_by_year\n",
        "    WHERE\n",
        "        release_year = {year}\n",
        "    GROUP BY\n",
        "        release_year, type, rating\n",
        "    ALLOW FILTERING\n",
        "    ;\n",
        "    \"\"\"\n",
        "    return query"
      ]
    },
    {
      "cell_type": "markdown",
      "id": "4ab0cd24",
      "metadata": {
        "id": "4ab0cd24"
      },
      "source": [
        "Use la siguiente celda para probar su código:"
      ]
    },
    {
      "cell_type": "code",
      "execution_count": 61,
      "id": "71aa5ddd",
      "metadata": {
        "id": "71aa5ddd",
        "lines_to_next_cell": 1,
        "outputId": "409a2eee-ce8d-4c12-9843-28c0abdce160",
        "colab": {
          "base_uri": "https://localhost:8080/",
          "height": 300
        }
      },
      "outputs": [
        {
          "output_type": "display_data",
          "data": {
            "text/plain": [
              "   release_year     type rating  counts\n",
              "0          2000    movie      g       2\n",
              "1          2000    movie     pg      14\n",
              "2          2000    movie      r       8\n",
              "3          2000    movie     tv       5\n",
              "4          2000    movie   tvma       1\n",
              "5          2000    movie   tvpg       3\n",
              "6          2000  tv show   tvpg       2\n",
              "7          2000  tv show    tvy       2"
            ],
            "text/html": [
              "\n",
              "  <div id=\"df-d3ab9a19-5141-4023-a4f4-a95e1aa70301\" class=\"colab-df-container\">\n",
              "    <div>\n",
              "<style scoped>\n",
              "    .dataframe tbody tr th:only-of-type {\n",
              "        vertical-align: middle;\n",
              "    }\n",
              "\n",
              "    .dataframe tbody tr th {\n",
              "        vertical-align: top;\n",
              "    }\n",
              "\n",
              "    .dataframe thead th {\n",
              "        text-align: right;\n",
              "    }\n",
              "</style>\n",
              "<table border=\"1\" class=\"dataframe\">\n",
              "  <thead>\n",
              "    <tr style=\"text-align: right;\">\n",
              "      <th></th>\n",
              "      <th>release_year</th>\n",
              "      <th>type</th>\n",
              "      <th>rating</th>\n",
              "      <th>counts</th>\n",
              "    </tr>\n",
              "  </thead>\n",
              "  <tbody>\n",
              "    <tr>\n",
              "      <th>0</th>\n",
              "      <td>2000</td>\n",
              "      <td>movie</td>\n",
              "      <td>g</td>\n",
              "      <td>2</td>\n",
              "    </tr>\n",
              "    <tr>\n",
              "      <th>1</th>\n",
              "      <td>2000</td>\n",
              "      <td>movie</td>\n",
              "      <td>pg</td>\n",
              "      <td>14</td>\n",
              "    </tr>\n",
              "    <tr>\n",
              "      <th>2</th>\n",
              "      <td>2000</td>\n",
              "      <td>movie</td>\n",
              "      <td>r</td>\n",
              "      <td>8</td>\n",
              "    </tr>\n",
              "    <tr>\n",
              "      <th>3</th>\n",
              "      <td>2000</td>\n",
              "      <td>movie</td>\n",
              "      <td>tv</td>\n",
              "      <td>5</td>\n",
              "    </tr>\n",
              "    <tr>\n",
              "      <th>4</th>\n",
              "      <td>2000</td>\n",
              "      <td>movie</td>\n",
              "      <td>tvma</td>\n",
              "      <td>1</td>\n",
              "    </tr>\n",
              "    <tr>\n",
              "      <th>5</th>\n",
              "      <td>2000</td>\n",
              "      <td>movie</td>\n",
              "      <td>tvpg</td>\n",
              "      <td>3</td>\n",
              "    </tr>\n",
              "    <tr>\n",
              "      <th>6</th>\n",
              "      <td>2000</td>\n",
              "      <td>tv show</td>\n",
              "      <td>tvpg</td>\n",
              "      <td>2</td>\n",
              "    </tr>\n",
              "    <tr>\n",
              "      <th>7</th>\n",
              "      <td>2000</td>\n",
              "      <td>tv show</td>\n",
              "      <td>tvy</td>\n",
              "      <td>2</td>\n",
              "    </tr>\n",
              "  </tbody>\n",
              "</table>\n",
              "</div>\n",
              "    <div class=\"colab-df-buttons\">\n",
              "\n",
              "  <div class=\"colab-df-container\">\n",
              "    <button class=\"colab-df-convert\" onclick=\"convertToInteractive('df-d3ab9a19-5141-4023-a4f4-a95e1aa70301')\"\n",
              "            title=\"Convert this dataframe to an interactive table.\"\n",
              "            style=\"display:none;\">\n",
              "\n",
              "  <svg xmlns=\"http://www.w3.org/2000/svg\" height=\"24px\" viewBox=\"0 -960 960 960\">\n",
              "    <path d=\"M120-120v-720h720v720H120Zm60-500h600v-160H180v160Zm220 220h160v-160H400v160Zm0 220h160v-160H400v160ZM180-400h160v-160H180v160Zm440 0h160v-160H620v160ZM180-180h160v-160H180v160Zm440 0h160v-160H620v160Z\"/>\n",
              "  </svg>\n",
              "    </button>\n",
              "\n",
              "  <style>\n",
              "    .colab-df-container {\n",
              "      display:flex;\n",
              "      gap: 12px;\n",
              "    }\n",
              "\n",
              "    .colab-df-convert {\n",
              "      background-color: #E8F0FE;\n",
              "      border: none;\n",
              "      border-radius: 50%;\n",
              "      cursor: pointer;\n",
              "      display: none;\n",
              "      fill: #1967D2;\n",
              "      height: 32px;\n",
              "      padding: 0 0 0 0;\n",
              "      width: 32px;\n",
              "    }\n",
              "\n",
              "    .colab-df-convert:hover {\n",
              "      background-color: #E2EBFA;\n",
              "      box-shadow: 0px 1px 2px rgba(60, 64, 67, 0.3), 0px 1px 3px 1px rgba(60, 64, 67, 0.15);\n",
              "      fill: #174EA6;\n",
              "    }\n",
              "\n",
              "    .colab-df-buttons div {\n",
              "      margin-bottom: 4px;\n",
              "    }\n",
              "\n",
              "    [theme=dark] .colab-df-convert {\n",
              "      background-color: #3B4455;\n",
              "      fill: #D2E3FC;\n",
              "    }\n",
              "\n",
              "    [theme=dark] .colab-df-convert:hover {\n",
              "      background-color: #434B5C;\n",
              "      box-shadow: 0px 1px 3px 1px rgba(0, 0, 0, 0.15);\n",
              "      filter: drop-shadow(0px 1px 2px rgba(0, 0, 0, 0.3));\n",
              "      fill: #FFFFFF;\n",
              "    }\n",
              "  </style>\n",
              "\n",
              "    <script>\n",
              "      const buttonEl =\n",
              "        document.querySelector('#df-d3ab9a19-5141-4023-a4f4-a95e1aa70301 button.colab-df-convert');\n",
              "      buttonEl.style.display =\n",
              "        google.colab.kernel.accessAllowed ? 'block' : 'none';\n",
              "\n",
              "      async function convertToInteractive(key) {\n",
              "        const element = document.querySelector('#df-d3ab9a19-5141-4023-a4f4-a95e1aa70301');\n",
              "        const dataTable =\n",
              "          await google.colab.kernel.invokeFunction('convertToInteractive',\n",
              "                                                    [key], {});\n",
              "        if (!dataTable) return;\n",
              "\n",
              "        const docLinkHtml = 'Like what you see? Visit the ' +\n",
              "          '<a target=\"_blank\" href=https://colab.research.google.com/notebooks/data_table.ipynb>data table notebook</a>'\n",
              "          + ' to learn more about interactive tables.';\n",
              "        element.innerHTML = '';\n",
              "        dataTable['output_type'] = 'display_data';\n",
              "        await google.colab.output.renderOutput(dataTable, element);\n",
              "        const docLink = document.createElement('div');\n",
              "        docLink.innerHTML = docLinkHtml;\n",
              "        element.appendChild(docLink);\n",
              "      }\n",
              "    </script>\n",
              "  </div>\n",
              "\n",
              "\n",
              "<div id=\"df-c5311f1d-4695-4b7b-ae86-5a7e163e82ba\">\n",
              "  <button class=\"colab-df-quickchart\" onclick=\"quickchart('df-c5311f1d-4695-4b7b-ae86-5a7e163e82ba')\"\n",
              "            title=\"Suggest charts\"\n",
              "            style=\"display:none;\">\n",
              "\n",
              "<svg xmlns=\"http://www.w3.org/2000/svg\" height=\"24px\"viewBox=\"0 0 24 24\"\n",
              "     width=\"24px\">\n",
              "    <g>\n",
              "        <path d=\"M19 3H5c-1.1 0-2 .9-2 2v14c0 1.1.9 2 2 2h14c1.1 0 2-.9 2-2V5c0-1.1-.9-2-2-2zM9 17H7v-7h2v7zm4 0h-2V7h2v10zm4 0h-2v-4h2v4z\"/>\n",
              "    </g>\n",
              "</svg>\n",
              "  </button>\n",
              "\n",
              "<style>\n",
              "  .colab-df-quickchart {\n",
              "      --bg-color: #E8F0FE;\n",
              "      --fill-color: #1967D2;\n",
              "      --hover-bg-color: #E2EBFA;\n",
              "      --hover-fill-color: #174EA6;\n",
              "      --disabled-fill-color: #AAA;\n",
              "      --disabled-bg-color: #DDD;\n",
              "  }\n",
              "\n",
              "  [theme=dark] .colab-df-quickchart {\n",
              "      --bg-color: #3B4455;\n",
              "      --fill-color: #D2E3FC;\n",
              "      --hover-bg-color: #434B5C;\n",
              "      --hover-fill-color: #FFFFFF;\n",
              "      --disabled-bg-color: #3B4455;\n",
              "      --disabled-fill-color: #666;\n",
              "  }\n",
              "\n",
              "  .colab-df-quickchart {\n",
              "    background-color: var(--bg-color);\n",
              "    border: none;\n",
              "    border-radius: 50%;\n",
              "    cursor: pointer;\n",
              "    display: none;\n",
              "    fill: var(--fill-color);\n",
              "    height: 32px;\n",
              "    padding: 0;\n",
              "    width: 32px;\n",
              "  }\n",
              "\n",
              "  .colab-df-quickchart:hover {\n",
              "    background-color: var(--hover-bg-color);\n",
              "    box-shadow: 0 1px 2px rgba(60, 64, 67, 0.3), 0 1px 3px 1px rgba(60, 64, 67, 0.15);\n",
              "    fill: var(--button-hover-fill-color);\n",
              "  }\n",
              "\n",
              "  .colab-df-quickchart-complete:disabled,\n",
              "  .colab-df-quickchart-complete:disabled:hover {\n",
              "    background-color: var(--disabled-bg-color);\n",
              "    fill: var(--disabled-fill-color);\n",
              "    box-shadow: none;\n",
              "  }\n",
              "\n",
              "  .colab-df-spinner {\n",
              "    border: 2px solid var(--fill-color);\n",
              "    border-color: transparent;\n",
              "    border-bottom-color: var(--fill-color);\n",
              "    animation:\n",
              "      spin 1s steps(1) infinite;\n",
              "  }\n",
              "\n",
              "  @keyframes spin {\n",
              "    0% {\n",
              "      border-color: transparent;\n",
              "      border-bottom-color: var(--fill-color);\n",
              "      border-left-color: var(--fill-color);\n",
              "    }\n",
              "    20% {\n",
              "      border-color: transparent;\n",
              "      border-left-color: var(--fill-color);\n",
              "      border-top-color: var(--fill-color);\n",
              "    }\n",
              "    30% {\n",
              "      border-color: transparent;\n",
              "      border-left-color: var(--fill-color);\n",
              "      border-top-color: var(--fill-color);\n",
              "      border-right-color: var(--fill-color);\n",
              "    }\n",
              "    40% {\n",
              "      border-color: transparent;\n",
              "      border-right-color: var(--fill-color);\n",
              "      border-top-color: var(--fill-color);\n",
              "    }\n",
              "    60% {\n",
              "      border-color: transparent;\n",
              "      border-right-color: var(--fill-color);\n",
              "    }\n",
              "    80% {\n",
              "      border-color: transparent;\n",
              "      border-right-color: var(--fill-color);\n",
              "      border-bottom-color: var(--fill-color);\n",
              "    }\n",
              "    90% {\n",
              "      border-color: transparent;\n",
              "      border-bottom-color: var(--fill-color);\n",
              "    }\n",
              "  }\n",
              "</style>\n",
              "\n",
              "  <script>\n",
              "    async function quickchart(key) {\n",
              "      const quickchartButtonEl =\n",
              "        document.querySelector('#' + key + ' button');\n",
              "      quickchartButtonEl.disabled = true;  // To prevent multiple clicks.\n",
              "      quickchartButtonEl.classList.add('colab-df-spinner');\n",
              "      try {\n",
              "        const charts = await google.colab.kernel.invokeFunction(\n",
              "            'suggestCharts', [key], {});\n",
              "      } catch (error) {\n",
              "        console.error('Error during call to suggestCharts:', error);\n",
              "      }\n",
              "      quickchartButtonEl.classList.remove('colab-df-spinner');\n",
              "      quickchartButtonEl.classList.add('colab-df-quickchart-complete');\n",
              "    }\n",
              "    (() => {\n",
              "      let quickchartButtonEl =\n",
              "        document.querySelector('#df-c5311f1d-4695-4b7b-ae86-5a7e163e82ba button');\n",
              "      quickchartButtonEl.style.display =\n",
              "        google.colab.kernel.accessAllowed ? 'block' : 'none';\n",
              "    })();\n",
              "  </script>\n",
              "</div>\n",
              "\n",
              "    </div>\n",
              "  </div>\n"
            ],
            "application/vnd.google.colaboratory.intrinsic+json": {
              "type": "dataframe",
              "summary": "{\n  \"name\": \"    print(e)\",\n  \"rows\": 8,\n  \"fields\": [\n    {\n      \"column\": \"release_year\",\n      \"properties\": {\n        \"dtype\": \"number\",\n        \"std\": 0,\n        \"min\": 2000,\n        \"max\": 2000,\n        \"num_unique_values\": 1,\n        \"samples\": [\n          2000\n        ],\n        \"semantic_type\": \"\",\n        \"description\": \"\"\n      }\n    },\n    {\n      \"column\": \"type\",\n      \"properties\": {\n        \"dtype\": \"category\",\n        \"num_unique_values\": 2,\n        \"samples\": [\n          \"tv show\"\n        ],\n        \"semantic_type\": \"\",\n        \"description\": \"\"\n      }\n    },\n    {\n      \"column\": \"rating\",\n      \"properties\": {\n        \"dtype\": \"string\",\n        \"num_unique_values\": 7,\n        \"samples\": [\n          \"g\"\n        ],\n        \"semantic_type\": \"\",\n        \"description\": \"\"\n      }\n    },\n    {\n      \"column\": \"counts\",\n      \"properties\": {\n        \"dtype\": \"number\",\n        \"std\": 4,\n        \"min\": 1,\n        \"max\": 14,\n        \"num_unique_values\": 6,\n        \"samples\": [\n          2\n        ],\n        \"semantic_type\": \"\",\n        \"description\": \"\"\n      }\n    }\n  ]\n}"
            }
          },
          "metadata": {}
        }
      ],
      "source": [
        "try:\n",
        "    df = pd.DataFrame(session.execute(number_shows_rating_year(2000)).all())\n",
        "    display(df.head(10))\n",
        "except Exception as e:\n",
        "    print(e)"
      ]
    },
    {
      "cell_type": "markdown",
      "id": "bf33d011",
      "metadata": {
        "id": "bf33d011"
      },
      "source": [
        "**Salida esperada:**\n",
        "\n",
        "|    | release_year   | type   | rating   |   counts |\n",
        "|---:|:---------------|:-------|---------:|---------:|\n",
        "|  0 | 2000           |movie   | g        |        2 |\n",
        "|  1 | 2000           |movie   | pg       |        14 |\n",
        "|  2 | 2000           |movie   | r       |       8 |\n",
        "|  3 | 2000           |movie   | tv        |       5 |\n",
        "|  4 | 2000           |movie   | tvma       |       1 |\n",
        "|  5 | 2000           |movie   | tvpg      |        3 |\n",
        "|  6 | 2000           |tv show   | tvpg     |       2 |\n",
        "|  7 | 2000           |tv show   | tvy     |        2 |"
      ]
    },
    {
      "cell_type": "code",
      "execution_count": 62,
      "id": "0J7TYTq65lZM",
      "metadata": {
        "id": "0J7TYTq65lZM",
        "lines_to_next_cell": 1,
        "outputId": "226c3069-10e4-419f-df9a-f56c4c5b50b5",
        "colab": {
          "base_uri": "https://localhost:8080/",
          "height": 237
        }
      },
      "outputs": [
        {
          "output_type": "display_data",
          "data": {
            "text/plain": [
              "   release_year     type rating  counts\n",
              "0          1990    movie     pg       5\n",
              "1          1990    movie      r       4\n",
              "2          1990    movie     tv       7\n",
              "3          1990    movie   tvma       3\n",
              "4          1990  tv show     tv       2\n",
              "5          1990  tv show   tvpg       1"
            ],
            "text/html": [
              "\n",
              "  <div id=\"df-dd30d14c-e3d0-4de1-af72-b623a00e0ea4\" class=\"colab-df-container\">\n",
              "    <div>\n",
              "<style scoped>\n",
              "    .dataframe tbody tr th:only-of-type {\n",
              "        vertical-align: middle;\n",
              "    }\n",
              "\n",
              "    .dataframe tbody tr th {\n",
              "        vertical-align: top;\n",
              "    }\n",
              "\n",
              "    .dataframe thead th {\n",
              "        text-align: right;\n",
              "    }\n",
              "</style>\n",
              "<table border=\"1\" class=\"dataframe\">\n",
              "  <thead>\n",
              "    <tr style=\"text-align: right;\">\n",
              "      <th></th>\n",
              "      <th>release_year</th>\n",
              "      <th>type</th>\n",
              "      <th>rating</th>\n",
              "      <th>counts</th>\n",
              "    </tr>\n",
              "  </thead>\n",
              "  <tbody>\n",
              "    <tr>\n",
              "      <th>0</th>\n",
              "      <td>1990</td>\n",
              "      <td>movie</td>\n",
              "      <td>pg</td>\n",
              "      <td>5</td>\n",
              "    </tr>\n",
              "    <tr>\n",
              "      <th>1</th>\n",
              "      <td>1990</td>\n",
              "      <td>movie</td>\n",
              "      <td>r</td>\n",
              "      <td>4</td>\n",
              "    </tr>\n",
              "    <tr>\n",
              "      <th>2</th>\n",
              "      <td>1990</td>\n",
              "      <td>movie</td>\n",
              "      <td>tv</td>\n",
              "      <td>7</td>\n",
              "    </tr>\n",
              "    <tr>\n",
              "      <th>3</th>\n",
              "      <td>1990</td>\n",
              "      <td>movie</td>\n",
              "      <td>tvma</td>\n",
              "      <td>3</td>\n",
              "    </tr>\n",
              "    <tr>\n",
              "      <th>4</th>\n",
              "      <td>1990</td>\n",
              "      <td>tv show</td>\n",
              "      <td>tv</td>\n",
              "      <td>2</td>\n",
              "    </tr>\n",
              "    <tr>\n",
              "      <th>5</th>\n",
              "      <td>1990</td>\n",
              "      <td>tv show</td>\n",
              "      <td>tvpg</td>\n",
              "      <td>1</td>\n",
              "    </tr>\n",
              "  </tbody>\n",
              "</table>\n",
              "</div>\n",
              "    <div class=\"colab-df-buttons\">\n",
              "\n",
              "  <div class=\"colab-df-container\">\n",
              "    <button class=\"colab-df-convert\" onclick=\"convertToInteractive('df-dd30d14c-e3d0-4de1-af72-b623a00e0ea4')\"\n",
              "            title=\"Convert this dataframe to an interactive table.\"\n",
              "            style=\"display:none;\">\n",
              "\n",
              "  <svg xmlns=\"http://www.w3.org/2000/svg\" height=\"24px\" viewBox=\"0 -960 960 960\">\n",
              "    <path d=\"M120-120v-720h720v720H120Zm60-500h600v-160H180v160Zm220 220h160v-160H400v160Zm0 220h160v-160H400v160ZM180-400h160v-160H180v160Zm440 0h160v-160H620v160ZM180-180h160v-160H180v160Zm440 0h160v-160H620v160Z\"/>\n",
              "  </svg>\n",
              "    </button>\n",
              "\n",
              "  <style>\n",
              "    .colab-df-container {\n",
              "      display:flex;\n",
              "      gap: 12px;\n",
              "    }\n",
              "\n",
              "    .colab-df-convert {\n",
              "      background-color: #E8F0FE;\n",
              "      border: none;\n",
              "      border-radius: 50%;\n",
              "      cursor: pointer;\n",
              "      display: none;\n",
              "      fill: #1967D2;\n",
              "      height: 32px;\n",
              "      padding: 0 0 0 0;\n",
              "      width: 32px;\n",
              "    }\n",
              "\n",
              "    .colab-df-convert:hover {\n",
              "      background-color: #E2EBFA;\n",
              "      box-shadow: 0px 1px 2px rgba(60, 64, 67, 0.3), 0px 1px 3px 1px rgba(60, 64, 67, 0.15);\n",
              "      fill: #174EA6;\n",
              "    }\n",
              "\n",
              "    .colab-df-buttons div {\n",
              "      margin-bottom: 4px;\n",
              "    }\n",
              "\n",
              "    [theme=dark] .colab-df-convert {\n",
              "      background-color: #3B4455;\n",
              "      fill: #D2E3FC;\n",
              "    }\n",
              "\n",
              "    [theme=dark] .colab-df-convert:hover {\n",
              "      background-color: #434B5C;\n",
              "      box-shadow: 0px 1px 3px 1px rgba(0, 0, 0, 0.15);\n",
              "      filter: drop-shadow(0px 1px 2px rgba(0, 0, 0, 0.3));\n",
              "      fill: #FFFFFF;\n",
              "    }\n",
              "  </style>\n",
              "\n",
              "    <script>\n",
              "      const buttonEl =\n",
              "        document.querySelector('#df-dd30d14c-e3d0-4de1-af72-b623a00e0ea4 button.colab-df-convert');\n",
              "      buttonEl.style.display =\n",
              "        google.colab.kernel.accessAllowed ? 'block' : 'none';\n",
              "\n",
              "      async function convertToInteractive(key) {\n",
              "        const element = document.querySelector('#df-dd30d14c-e3d0-4de1-af72-b623a00e0ea4');\n",
              "        const dataTable =\n",
              "          await google.colab.kernel.invokeFunction('convertToInteractive',\n",
              "                                                    [key], {});\n",
              "        if (!dataTable) return;\n",
              "\n",
              "        const docLinkHtml = 'Like what you see? Visit the ' +\n",
              "          '<a target=\"_blank\" href=https://colab.research.google.com/notebooks/data_table.ipynb>data table notebook</a>'\n",
              "          + ' to learn more about interactive tables.';\n",
              "        element.innerHTML = '';\n",
              "        dataTable['output_type'] = 'display_data';\n",
              "        await google.colab.output.renderOutput(dataTable, element);\n",
              "        const docLink = document.createElement('div');\n",
              "        docLink.innerHTML = docLinkHtml;\n",
              "        element.appendChild(docLink);\n",
              "      }\n",
              "    </script>\n",
              "  </div>\n",
              "\n",
              "\n",
              "<div id=\"df-57cc821c-0181-426d-bd14-6ed988167883\">\n",
              "  <button class=\"colab-df-quickchart\" onclick=\"quickchart('df-57cc821c-0181-426d-bd14-6ed988167883')\"\n",
              "            title=\"Suggest charts\"\n",
              "            style=\"display:none;\">\n",
              "\n",
              "<svg xmlns=\"http://www.w3.org/2000/svg\" height=\"24px\"viewBox=\"0 0 24 24\"\n",
              "     width=\"24px\">\n",
              "    <g>\n",
              "        <path d=\"M19 3H5c-1.1 0-2 .9-2 2v14c0 1.1.9 2 2 2h14c1.1 0 2-.9 2-2V5c0-1.1-.9-2-2-2zM9 17H7v-7h2v7zm4 0h-2V7h2v10zm4 0h-2v-4h2v4z\"/>\n",
              "    </g>\n",
              "</svg>\n",
              "  </button>\n",
              "\n",
              "<style>\n",
              "  .colab-df-quickchart {\n",
              "      --bg-color: #E8F0FE;\n",
              "      --fill-color: #1967D2;\n",
              "      --hover-bg-color: #E2EBFA;\n",
              "      --hover-fill-color: #174EA6;\n",
              "      --disabled-fill-color: #AAA;\n",
              "      --disabled-bg-color: #DDD;\n",
              "  }\n",
              "\n",
              "  [theme=dark] .colab-df-quickchart {\n",
              "      --bg-color: #3B4455;\n",
              "      --fill-color: #D2E3FC;\n",
              "      --hover-bg-color: #434B5C;\n",
              "      --hover-fill-color: #FFFFFF;\n",
              "      --disabled-bg-color: #3B4455;\n",
              "      --disabled-fill-color: #666;\n",
              "  }\n",
              "\n",
              "  .colab-df-quickchart {\n",
              "    background-color: var(--bg-color);\n",
              "    border: none;\n",
              "    border-radius: 50%;\n",
              "    cursor: pointer;\n",
              "    display: none;\n",
              "    fill: var(--fill-color);\n",
              "    height: 32px;\n",
              "    padding: 0;\n",
              "    width: 32px;\n",
              "  }\n",
              "\n",
              "  .colab-df-quickchart:hover {\n",
              "    background-color: var(--hover-bg-color);\n",
              "    box-shadow: 0 1px 2px rgba(60, 64, 67, 0.3), 0 1px 3px 1px rgba(60, 64, 67, 0.15);\n",
              "    fill: var(--button-hover-fill-color);\n",
              "  }\n",
              "\n",
              "  .colab-df-quickchart-complete:disabled,\n",
              "  .colab-df-quickchart-complete:disabled:hover {\n",
              "    background-color: var(--disabled-bg-color);\n",
              "    fill: var(--disabled-fill-color);\n",
              "    box-shadow: none;\n",
              "  }\n",
              "\n",
              "  .colab-df-spinner {\n",
              "    border: 2px solid var(--fill-color);\n",
              "    border-color: transparent;\n",
              "    border-bottom-color: var(--fill-color);\n",
              "    animation:\n",
              "      spin 1s steps(1) infinite;\n",
              "  }\n",
              "\n",
              "  @keyframes spin {\n",
              "    0% {\n",
              "      border-color: transparent;\n",
              "      border-bottom-color: var(--fill-color);\n",
              "      border-left-color: var(--fill-color);\n",
              "    }\n",
              "    20% {\n",
              "      border-color: transparent;\n",
              "      border-left-color: var(--fill-color);\n",
              "      border-top-color: var(--fill-color);\n",
              "    }\n",
              "    30% {\n",
              "      border-color: transparent;\n",
              "      border-left-color: var(--fill-color);\n",
              "      border-top-color: var(--fill-color);\n",
              "      border-right-color: var(--fill-color);\n",
              "    }\n",
              "    40% {\n",
              "      border-color: transparent;\n",
              "      border-right-color: var(--fill-color);\n",
              "      border-top-color: var(--fill-color);\n",
              "    }\n",
              "    60% {\n",
              "      border-color: transparent;\n",
              "      border-right-color: var(--fill-color);\n",
              "    }\n",
              "    80% {\n",
              "      border-color: transparent;\n",
              "      border-right-color: var(--fill-color);\n",
              "      border-bottom-color: var(--fill-color);\n",
              "    }\n",
              "    90% {\n",
              "      border-color: transparent;\n",
              "      border-bottom-color: var(--fill-color);\n",
              "    }\n",
              "  }\n",
              "</style>\n",
              "\n",
              "  <script>\n",
              "    async function quickchart(key) {\n",
              "      const quickchartButtonEl =\n",
              "        document.querySelector('#' + key + ' button');\n",
              "      quickchartButtonEl.disabled = true;  // To prevent multiple clicks.\n",
              "      quickchartButtonEl.classList.add('colab-df-spinner');\n",
              "      try {\n",
              "        const charts = await google.colab.kernel.invokeFunction(\n",
              "            'suggestCharts', [key], {});\n",
              "      } catch (error) {\n",
              "        console.error('Error during call to suggestCharts:', error);\n",
              "      }\n",
              "      quickchartButtonEl.classList.remove('colab-df-spinner');\n",
              "      quickchartButtonEl.classList.add('colab-df-quickchart-complete');\n",
              "    }\n",
              "    (() => {\n",
              "      let quickchartButtonEl =\n",
              "        document.querySelector('#df-57cc821c-0181-426d-bd14-6ed988167883 button');\n",
              "      quickchartButtonEl.style.display =\n",
              "        google.colab.kernel.accessAllowed ? 'block' : 'none';\n",
              "    })();\n",
              "  </script>\n",
              "</div>\n",
              "\n",
              "    </div>\n",
              "  </div>\n"
            ],
            "application/vnd.google.colaboratory.intrinsic+json": {
              "type": "dataframe",
              "summary": "{\n  \"name\": \"    print(e)\",\n  \"rows\": 6,\n  \"fields\": [\n    {\n      \"column\": \"release_year\",\n      \"properties\": {\n        \"dtype\": \"number\",\n        \"std\": 0,\n        \"min\": 1990,\n        \"max\": 1990,\n        \"num_unique_values\": 1,\n        \"samples\": [\n          1990\n        ],\n        \"semantic_type\": \"\",\n        \"description\": \"\"\n      }\n    },\n    {\n      \"column\": \"type\",\n      \"properties\": {\n        \"dtype\": \"category\",\n        \"num_unique_values\": 2,\n        \"samples\": [\n          \"tv show\"\n        ],\n        \"semantic_type\": \"\",\n        \"description\": \"\"\n      }\n    },\n    {\n      \"column\": \"rating\",\n      \"properties\": {\n        \"dtype\": \"string\",\n        \"num_unique_values\": 5,\n        \"samples\": [\n          \"r\"\n        ],\n        \"semantic_type\": \"\",\n        \"description\": \"\"\n      }\n    },\n    {\n      \"column\": \"counts\",\n      \"properties\": {\n        \"dtype\": \"number\",\n        \"std\": 2,\n        \"min\": 1,\n        \"max\": 7,\n        \"num_unique_values\": 6,\n        \"samples\": [\n          5\n        ],\n        \"semantic_type\": \"\",\n        \"description\": \"\"\n      }\n    }\n  ]\n}"
            }
          },
          "metadata": {}
        }
      ],
      "source": [
        "try:\n",
        "    df = pd.DataFrame(session.execute(number_shows_rating_year(1990)).all())\n",
        "    display(df.head(10))\n",
        "except Exception as e:\n",
        "    print(e)"
      ]
    },
    {
      "cell_type": "markdown",
      "id": "X9WGZn535lZP",
      "metadata": {
        "id": "X9WGZn535lZP"
      },
      "source": [
        "**Salida esperada:**\n",
        "\n",
        "|    | release_year   | type   | rating   |   counts |\n",
        "|---:|:---------------|:-------|---------:|---------:|\n",
        "|  0 | 1990           |movie   | pg        |        5 |\n",
        "|  1 | 1990           |movie   | r       |        4 |\n",
        "|  2 | 1990           |movie   | tv       |       7 |\n",
        "|  3 | 1990           |movie   | tvma        |       3 |\n",
        "|  4 | 1990           |tv show   | tv       |       2 |\n",
        "|  5 | 1990           |tv show   | tvpg      |        1 |\n"
      ]
    },
    {
      "cell_type": "markdown",
      "id": "e363127a",
      "metadata": {
        "id": "e363127a"
      },
      "source": [
        "<details>    \n",
        "<summary>\n",
        "    <font size=\"3\" color=\"darkgreen\"><b>Pista 1</b></font>\n",
        "</summary>\n",
        "\n",
        "Los campos que se consideren en la función `GROUP BY` deben estar contenidos en la llave primaria y deben enunciarse en el mismo orden en el que se declararon al momento de crear la tabla, de lo contrario el resultado será una consulta inválida.\n",
        "</details>"
      ]
    },
    {
      "cell_type": "markdown",
      "id": "a412ed02",
      "metadata": {
        "id": "a412ed02"
      },
      "source": [
        "<details>    \n",
        "<summary>\n",
        "    <font size=\"3\" color=\"darkgreen\"><b>Pista 2</b></font>\n",
        "</summary>\n",
        "\n",
        "Al igual que en las bases de datos relacionales, existe la palabra reservada `AS` para crear un alias y así renombrar una columna o tabla al realizar una consulta.\n",
        "</details>"
      ]
    },
    {
      "cell_type": "markdown",
      "id": "7a91accf",
      "metadata": {
        "id": "7a91accf"
      },
      "source": [
        "<details>    \n",
        "<summary>\n",
        "    <font size=\"3\" color=\"darkgreen\"><b>Pista 3</b></font>\n",
        "</summary>\n",
        "\n",
        "La función `COUNT` añade una nueva columna al resultado del query. La misma debe ser renombrada a `counts` para que coincida con la salida esperada de ejemplo.\n",
        "</details>"
      ]
    },
    {
      "cell_type": "markdown",
      "id": "H3cy4Y5X8tMZ",
      "metadata": {
        "id": "H3cy4Y5X8tMZ"
      },
      "source": [
        "### **Evaluar código**"
      ]
    },
    {
      "cell_type": "code",
      "execution_count": 63,
      "id": "l_1ptp7mu9Ja",
      "metadata": {
        "id": "l_1ptp7mu9Ja",
        "outputId": "1bb9fd62-a6e1-468e-93b7-de62e4a10750",
        "colab": {
          "base_uri": "https://localhost:8080/",
          "height": 141
        }
      },
      "outputs": [
        {
          "output_type": "stream",
          "name": "stdout",
          "text": [
            "Test 6_1\n"
          ]
        },
        {
          "output_type": "display_data",
          "data": {
            "text/plain": [
              "<IPython.core.display.HTML object>"
            ],
            "text/html": [
              "<h4>Test Run correctly</h4>"
            ]
          },
          "metadata": {}
        },
        {
          "output_type": "display_data",
          "data": {
            "text/plain": [
              "<IPython.core.display.HTML object>"
            ],
            "text/html": [
              "<h6 style=\"color: green;\">Your test grade: 100</h6>\n",
              "<h6>Feedback: Probando código</h6>"
            ]
          },
          "metadata": {}
        }
      ],
      "source": [
        "grader.run_test(\"Test 6_1\", globals())"
      ]
    },
    {
      "cell_type": "code",
      "execution_count": 64,
      "id": "1il2RdBd69Ye",
      "metadata": {
        "id": "1il2RdBd69Ye",
        "outputId": "829dd6a2-1788-4e1e-b580-9fd395554832",
        "colab": {
          "base_uri": "https://localhost:8080/",
          "height": 141
        }
      },
      "outputs": [
        {
          "output_type": "stream",
          "name": "stdout",
          "text": [
            "Test 6_2\n"
          ]
        },
        {
          "output_type": "display_data",
          "data": {
            "text/plain": [
              "<IPython.core.display.HTML object>"
            ],
            "text/html": [
              "<h4>Test Run correctly</h4>"
            ]
          },
          "metadata": {}
        },
        {
          "output_type": "display_data",
          "data": {
            "text/plain": [
              "<IPython.core.display.HTML object>"
            ],
            "text/html": [
              "<h6 style=\"color: green;\">Your test grade: 100</h6>\n",
              "<h6>Feedback: Probando código</h6>"
            ]
          },
          "metadata": {}
        }
      ],
      "source": [
        "grader.run_test(\"Test 6_2\", globals())"
      ]
    },
    {
      "cell_type": "markdown",
      "id": "1dec4c98",
      "metadata": {
        "id": "1dec4c98"
      },
      "source": [
        "## **7. Conteo de Ratings de Shows por Año y País**\n",
        "---\n",
        "\n",
        "En este punto usted deberá completar la función `number_shows_rating_year_country`, la cual debe retornar una cadena de texto con una consulta **CQL** válida que permita obtener la cantidad de shows que hay por rating, en cada país y por año. La consulta debe extraer los campos: `release_year` (año de lanzamiento), `country` (país), `rating` (puntuación) y `counts` (recuento de valores). Adicionalmente, debe retornar solo los valores con el año y país igual al indicado.\n",
        "\n",
        "**Parámetros**\n",
        "\n",
        "* `year`: número entero que sirve para señalar el año de publicación original de la película o serie.\n",
        "\n",
        "* `country`: string que indica el país de consulta.\n",
        "\n",
        "**Retorna**\n",
        "\n",
        "* `query`: cadena de texto con una consulta válida de **CQL**."
      ]
    },
    {
      "cell_type": "code",
      "execution_count": 70,
      "id": "GgReNh548gAi",
      "metadata": {
        "id": "GgReNh548gAi"
      },
      "outputs": [],
      "source": [
        "def number_shows_rating_year_country(year, country):\n",
        "    query = f\"\"\"\n",
        "    SELECT\n",
        "        release_year,\n",
        "        country,\n",
        "        rating,\n",
        "        COUNT(*) AS counts\n",
        "    FROM\n",
        "        test.query_by_year_country\n",
        "    WHERE\n",
        "        release_year = {year}\n",
        "        AND country = '{country}'\n",
        "    GROUP BY\n",
        "        release_year, country, type, rating\n",
        "    ALLOW FILTERING\n",
        "    ;\n",
        "    \"\"\"\n",
        "    return query"
      ]
    },
    {
      "cell_type": "markdown",
      "id": "62c957cc",
      "metadata": {
        "id": "62c957cc"
      },
      "source": [
        "Use la siguiente celda para probar su código:"
      ]
    },
    {
      "cell_type": "code",
      "execution_count": 71,
      "id": "ff7f1eba",
      "metadata": {
        "id": "ff7f1eba",
        "outputId": "0c0f504c-dd1b-4777-9ddc-91ca60c32f2f",
        "colab": {
          "base_uri": "https://localhost:8080/",
          "height": 143
        }
      },
      "outputs": [
        {
          "output_type": "display_data",
          "data": {
            "text/plain": [
              "   release_year country rating  counts\n",
              "0          2018  russia     pg       1\n",
              "1          2018  russia   tvma       1\n",
              "2          2018  russia    tvy       1"
            ],
            "text/html": [
              "\n",
              "  <div id=\"df-d5c1180b-3b61-478c-a68b-7bf7f0e0fa80\" class=\"colab-df-container\">\n",
              "    <div>\n",
              "<style scoped>\n",
              "    .dataframe tbody tr th:only-of-type {\n",
              "        vertical-align: middle;\n",
              "    }\n",
              "\n",
              "    .dataframe tbody tr th {\n",
              "        vertical-align: top;\n",
              "    }\n",
              "\n",
              "    .dataframe thead th {\n",
              "        text-align: right;\n",
              "    }\n",
              "</style>\n",
              "<table border=\"1\" class=\"dataframe\">\n",
              "  <thead>\n",
              "    <tr style=\"text-align: right;\">\n",
              "      <th></th>\n",
              "      <th>release_year</th>\n",
              "      <th>country</th>\n",
              "      <th>rating</th>\n",
              "      <th>counts</th>\n",
              "    </tr>\n",
              "  </thead>\n",
              "  <tbody>\n",
              "    <tr>\n",
              "      <th>0</th>\n",
              "      <td>2018</td>\n",
              "      <td>russia</td>\n",
              "      <td>pg</td>\n",
              "      <td>1</td>\n",
              "    </tr>\n",
              "    <tr>\n",
              "      <th>1</th>\n",
              "      <td>2018</td>\n",
              "      <td>russia</td>\n",
              "      <td>tvma</td>\n",
              "      <td>1</td>\n",
              "    </tr>\n",
              "    <tr>\n",
              "      <th>2</th>\n",
              "      <td>2018</td>\n",
              "      <td>russia</td>\n",
              "      <td>tvy</td>\n",
              "      <td>1</td>\n",
              "    </tr>\n",
              "  </tbody>\n",
              "</table>\n",
              "</div>\n",
              "    <div class=\"colab-df-buttons\">\n",
              "\n",
              "  <div class=\"colab-df-container\">\n",
              "    <button class=\"colab-df-convert\" onclick=\"convertToInteractive('df-d5c1180b-3b61-478c-a68b-7bf7f0e0fa80')\"\n",
              "            title=\"Convert this dataframe to an interactive table.\"\n",
              "            style=\"display:none;\">\n",
              "\n",
              "  <svg xmlns=\"http://www.w3.org/2000/svg\" height=\"24px\" viewBox=\"0 -960 960 960\">\n",
              "    <path d=\"M120-120v-720h720v720H120Zm60-500h600v-160H180v160Zm220 220h160v-160H400v160Zm0 220h160v-160H400v160ZM180-400h160v-160H180v160Zm440 0h160v-160H620v160ZM180-180h160v-160H180v160Zm440 0h160v-160H620v160Z\"/>\n",
              "  </svg>\n",
              "    </button>\n",
              "\n",
              "  <style>\n",
              "    .colab-df-container {\n",
              "      display:flex;\n",
              "      gap: 12px;\n",
              "    }\n",
              "\n",
              "    .colab-df-convert {\n",
              "      background-color: #E8F0FE;\n",
              "      border: none;\n",
              "      border-radius: 50%;\n",
              "      cursor: pointer;\n",
              "      display: none;\n",
              "      fill: #1967D2;\n",
              "      height: 32px;\n",
              "      padding: 0 0 0 0;\n",
              "      width: 32px;\n",
              "    }\n",
              "\n",
              "    .colab-df-convert:hover {\n",
              "      background-color: #E2EBFA;\n",
              "      box-shadow: 0px 1px 2px rgba(60, 64, 67, 0.3), 0px 1px 3px 1px rgba(60, 64, 67, 0.15);\n",
              "      fill: #174EA6;\n",
              "    }\n",
              "\n",
              "    .colab-df-buttons div {\n",
              "      margin-bottom: 4px;\n",
              "    }\n",
              "\n",
              "    [theme=dark] .colab-df-convert {\n",
              "      background-color: #3B4455;\n",
              "      fill: #D2E3FC;\n",
              "    }\n",
              "\n",
              "    [theme=dark] .colab-df-convert:hover {\n",
              "      background-color: #434B5C;\n",
              "      box-shadow: 0px 1px 3px 1px rgba(0, 0, 0, 0.15);\n",
              "      filter: drop-shadow(0px 1px 2px rgba(0, 0, 0, 0.3));\n",
              "      fill: #FFFFFF;\n",
              "    }\n",
              "  </style>\n",
              "\n",
              "    <script>\n",
              "      const buttonEl =\n",
              "        document.querySelector('#df-d5c1180b-3b61-478c-a68b-7bf7f0e0fa80 button.colab-df-convert');\n",
              "      buttonEl.style.display =\n",
              "        google.colab.kernel.accessAllowed ? 'block' : 'none';\n",
              "\n",
              "      async function convertToInteractive(key) {\n",
              "        const element = document.querySelector('#df-d5c1180b-3b61-478c-a68b-7bf7f0e0fa80');\n",
              "        const dataTable =\n",
              "          await google.colab.kernel.invokeFunction('convertToInteractive',\n",
              "                                                    [key], {});\n",
              "        if (!dataTable) return;\n",
              "\n",
              "        const docLinkHtml = 'Like what you see? Visit the ' +\n",
              "          '<a target=\"_blank\" href=https://colab.research.google.com/notebooks/data_table.ipynb>data table notebook</a>'\n",
              "          + ' to learn more about interactive tables.';\n",
              "        element.innerHTML = '';\n",
              "        dataTable['output_type'] = 'display_data';\n",
              "        await google.colab.output.renderOutput(dataTable, element);\n",
              "        const docLink = document.createElement('div');\n",
              "        docLink.innerHTML = docLinkHtml;\n",
              "        element.appendChild(docLink);\n",
              "      }\n",
              "    </script>\n",
              "  </div>\n",
              "\n",
              "\n",
              "<div id=\"df-71ca545f-c41c-4ee6-8633-72c3a1fc66b1\">\n",
              "  <button class=\"colab-df-quickchart\" onclick=\"quickchart('df-71ca545f-c41c-4ee6-8633-72c3a1fc66b1')\"\n",
              "            title=\"Suggest charts\"\n",
              "            style=\"display:none;\">\n",
              "\n",
              "<svg xmlns=\"http://www.w3.org/2000/svg\" height=\"24px\"viewBox=\"0 0 24 24\"\n",
              "     width=\"24px\">\n",
              "    <g>\n",
              "        <path d=\"M19 3H5c-1.1 0-2 .9-2 2v14c0 1.1.9 2 2 2h14c1.1 0 2-.9 2-2V5c0-1.1-.9-2-2-2zM9 17H7v-7h2v7zm4 0h-2V7h2v10zm4 0h-2v-4h2v4z\"/>\n",
              "    </g>\n",
              "</svg>\n",
              "  </button>\n",
              "\n",
              "<style>\n",
              "  .colab-df-quickchart {\n",
              "      --bg-color: #E8F0FE;\n",
              "      --fill-color: #1967D2;\n",
              "      --hover-bg-color: #E2EBFA;\n",
              "      --hover-fill-color: #174EA6;\n",
              "      --disabled-fill-color: #AAA;\n",
              "      --disabled-bg-color: #DDD;\n",
              "  }\n",
              "\n",
              "  [theme=dark] .colab-df-quickchart {\n",
              "      --bg-color: #3B4455;\n",
              "      --fill-color: #D2E3FC;\n",
              "      --hover-bg-color: #434B5C;\n",
              "      --hover-fill-color: #FFFFFF;\n",
              "      --disabled-bg-color: #3B4455;\n",
              "      --disabled-fill-color: #666;\n",
              "  }\n",
              "\n",
              "  .colab-df-quickchart {\n",
              "    background-color: var(--bg-color);\n",
              "    border: none;\n",
              "    border-radius: 50%;\n",
              "    cursor: pointer;\n",
              "    display: none;\n",
              "    fill: var(--fill-color);\n",
              "    height: 32px;\n",
              "    padding: 0;\n",
              "    width: 32px;\n",
              "  }\n",
              "\n",
              "  .colab-df-quickchart:hover {\n",
              "    background-color: var(--hover-bg-color);\n",
              "    box-shadow: 0 1px 2px rgba(60, 64, 67, 0.3), 0 1px 3px 1px rgba(60, 64, 67, 0.15);\n",
              "    fill: var(--button-hover-fill-color);\n",
              "  }\n",
              "\n",
              "  .colab-df-quickchart-complete:disabled,\n",
              "  .colab-df-quickchart-complete:disabled:hover {\n",
              "    background-color: var(--disabled-bg-color);\n",
              "    fill: var(--disabled-fill-color);\n",
              "    box-shadow: none;\n",
              "  }\n",
              "\n",
              "  .colab-df-spinner {\n",
              "    border: 2px solid var(--fill-color);\n",
              "    border-color: transparent;\n",
              "    border-bottom-color: var(--fill-color);\n",
              "    animation:\n",
              "      spin 1s steps(1) infinite;\n",
              "  }\n",
              "\n",
              "  @keyframes spin {\n",
              "    0% {\n",
              "      border-color: transparent;\n",
              "      border-bottom-color: var(--fill-color);\n",
              "      border-left-color: var(--fill-color);\n",
              "    }\n",
              "    20% {\n",
              "      border-color: transparent;\n",
              "      border-left-color: var(--fill-color);\n",
              "      border-top-color: var(--fill-color);\n",
              "    }\n",
              "    30% {\n",
              "      border-color: transparent;\n",
              "      border-left-color: var(--fill-color);\n",
              "      border-top-color: var(--fill-color);\n",
              "      border-right-color: var(--fill-color);\n",
              "    }\n",
              "    40% {\n",
              "      border-color: transparent;\n",
              "      border-right-color: var(--fill-color);\n",
              "      border-top-color: var(--fill-color);\n",
              "    }\n",
              "    60% {\n",
              "      border-color: transparent;\n",
              "      border-right-color: var(--fill-color);\n",
              "    }\n",
              "    80% {\n",
              "      border-color: transparent;\n",
              "      border-right-color: var(--fill-color);\n",
              "      border-bottom-color: var(--fill-color);\n",
              "    }\n",
              "    90% {\n",
              "      border-color: transparent;\n",
              "      border-bottom-color: var(--fill-color);\n",
              "    }\n",
              "  }\n",
              "</style>\n",
              "\n",
              "  <script>\n",
              "    async function quickchart(key) {\n",
              "      const quickchartButtonEl =\n",
              "        document.querySelector('#' + key + ' button');\n",
              "      quickchartButtonEl.disabled = true;  // To prevent multiple clicks.\n",
              "      quickchartButtonEl.classList.add('colab-df-spinner');\n",
              "      try {\n",
              "        const charts = await google.colab.kernel.invokeFunction(\n",
              "            'suggestCharts', [key], {});\n",
              "      } catch (error) {\n",
              "        console.error('Error during call to suggestCharts:', error);\n",
              "      }\n",
              "      quickchartButtonEl.classList.remove('colab-df-spinner');\n",
              "      quickchartButtonEl.classList.add('colab-df-quickchart-complete');\n",
              "    }\n",
              "    (() => {\n",
              "      let quickchartButtonEl =\n",
              "        document.querySelector('#df-71ca545f-c41c-4ee6-8633-72c3a1fc66b1 button');\n",
              "      quickchartButtonEl.style.display =\n",
              "        google.colab.kernel.accessAllowed ? 'block' : 'none';\n",
              "    })();\n",
              "  </script>\n",
              "</div>\n",
              "\n",
              "    </div>\n",
              "  </div>\n"
            ],
            "application/vnd.google.colaboratory.intrinsic+json": {
              "type": "dataframe",
              "summary": "{\n  \"name\": \"    print(e)\",\n  \"rows\": 3,\n  \"fields\": [\n    {\n      \"column\": \"release_year\",\n      \"properties\": {\n        \"dtype\": \"number\",\n        \"std\": 0,\n        \"min\": 2018,\n        \"max\": 2018,\n        \"num_unique_values\": 1,\n        \"samples\": [\n          2018\n        ],\n        \"semantic_type\": \"\",\n        \"description\": \"\"\n      }\n    },\n    {\n      \"column\": \"country\",\n      \"properties\": {\n        \"dtype\": \"category\",\n        \"num_unique_values\": 1,\n        \"samples\": [\n          \"russia\"\n        ],\n        \"semantic_type\": \"\",\n        \"description\": \"\"\n      }\n    },\n    {\n      \"column\": \"rating\",\n      \"properties\": {\n        \"dtype\": \"string\",\n        \"num_unique_values\": 3,\n        \"samples\": [\n          \"pg\"\n        ],\n        \"semantic_type\": \"\",\n        \"description\": \"\"\n      }\n    },\n    {\n      \"column\": \"counts\",\n      \"properties\": {\n        \"dtype\": \"number\",\n        \"std\": 0,\n        \"min\": 1,\n        \"max\": 1,\n        \"num_unique_values\": 1,\n        \"samples\": [\n          1\n        ],\n        \"semantic_type\": \"\",\n        \"description\": \"\"\n      }\n    }\n  ]\n}"
            }
          },
          "metadata": {}
        }
      ],
      "source": [
        "try:\n",
        "    df = pd.DataFrame(session.execute((number_shows_rating_year_country(2018, 'russia'))).all())\n",
        "    display(df.head(10))\n",
        "except Exception as e:\n",
        "    print(e)"
      ]
    },
    {
      "cell_type": "markdown",
      "id": "3UIRI3eQ85hF",
      "metadata": {
        "id": "3UIRI3eQ85hF"
      },
      "source": [
        "**Salida esperada:**\n",
        "\n",
        "|    |   release_year | country        | rating   |   counts |\n",
        "|---:|---------------:|:---------------|:---------|---------:|\n",
        "|  0 |           2018 | russia         | pg       |        1 |\n",
        "|  1 |           2018 | russia         | tvma     |        1 |\n",
        "|  2 |           2018 | russia         | tvy      |        1 |\n"
      ]
    },
    {
      "cell_type": "code",
      "execution_count": 72,
      "id": "wwc0M3ya8ea6",
      "metadata": {
        "id": "wwc0M3ya8ea6",
        "outputId": "74f1aaad-980e-4029-ba55-f862a7075b08",
        "colab": {
          "base_uri": "https://localhost:8080/",
          "height": 269
        }
      },
      "outputs": [
        {
          "output_type": "display_data",
          "data": {
            "text/plain": [
              "   release_year  country rating  counts\n",
              "0          2020  germany     tv       1\n",
              "1          2020  germany    tvg       1\n",
              "2          2020  germany   tvma       9\n",
              "3          2020  germany    tvy       2\n",
              "4          2020  germany     tv       2\n",
              "5          2020  germany   tvma       8\n",
              "6          2020  germany   tvpg       1"
            ],
            "text/html": [
              "\n",
              "  <div id=\"df-8441858f-efdd-4121-a255-5c7fc049120b\" class=\"colab-df-container\">\n",
              "    <div>\n",
              "<style scoped>\n",
              "    .dataframe tbody tr th:only-of-type {\n",
              "        vertical-align: middle;\n",
              "    }\n",
              "\n",
              "    .dataframe tbody tr th {\n",
              "        vertical-align: top;\n",
              "    }\n",
              "\n",
              "    .dataframe thead th {\n",
              "        text-align: right;\n",
              "    }\n",
              "</style>\n",
              "<table border=\"1\" class=\"dataframe\">\n",
              "  <thead>\n",
              "    <tr style=\"text-align: right;\">\n",
              "      <th></th>\n",
              "      <th>release_year</th>\n",
              "      <th>country</th>\n",
              "      <th>rating</th>\n",
              "      <th>counts</th>\n",
              "    </tr>\n",
              "  </thead>\n",
              "  <tbody>\n",
              "    <tr>\n",
              "      <th>0</th>\n",
              "      <td>2020</td>\n",
              "      <td>germany</td>\n",
              "      <td>tv</td>\n",
              "      <td>1</td>\n",
              "    </tr>\n",
              "    <tr>\n",
              "      <th>1</th>\n",
              "      <td>2020</td>\n",
              "      <td>germany</td>\n",
              "      <td>tvg</td>\n",
              "      <td>1</td>\n",
              "    </tr>\n",
              "    <tr>\n",
              "      <th>2</th>\n",
              "      <td>2020</td>\n",
              "      <td>germany</td>\n",
              "      <td>tvma</td>\n",
              "      <td>9</td>\n",
              "    </tr>\n",
              "    <tr>\n",
              "      <th>3</th>\n",
              "      <td>2020</td>\n",
              "      <td>germany</td>\n",
              "      <td>tvy</td>\n",
              "      <td>2</td>\n",
              "    </tr>\n",
              "    <tr>\n",
              "      <th>4</th>\n",
              "      <td>2020</td>\n",
              "      <td>germany</td>\n",
              "      <td>tv</td>\n",
              "      <td>2</td>\n",
              "    </tr>\n",
              "    <tr>\n",
              "      <th>5</th>\n",
              "      <td>2020</td>\n",
              "      <td>germany</td>\n",
              "      <td>tvma</td>\n",
              "      <td>8</td>\n",
              "    </tr>\n",
              "    <tr>\n",
              "      <th>6</th>\n",
              "      <td>2020</td>\n",
              "      <td>germany</td>\n",
              "      <td>tvpg</td>\n",
              "      <td>1</td>\n",
              "    </tr>\n",
              "  </tbody>\n",
              "</table>\n",
              "</div>\n",
              "    <div class=\"colab-df-buttons\">\n",
              "\n",
              "  <div class=\"colab-df-container\">\n",
              "    <button class=\"colab-df-convert\" onclick=\"convertToInteractive('df-8441858f-efdd-4121-a255-5c7fc049120b')\"\n",
              "            title=\"Convert this dataframe to an interactive table.\"\n",
              "            style=\"display:none;\">\n",
              "\n",
              "  <svg xmlns=\"http://www.w3.org/2000/svg\" height=\"24px\" viewBox=\"0 -960 960 960\">\n",
              "    <path d=\"M120-120v-720h720v720H120Zm60-500h600v-160H180v160Zm220 220h160v-160H400v160Zm0 220h160v-160H400v160ZM180-400h160v-160H180v160Zm440 0h160v-160H620v160ZM180-180h160v-160H180v160Zm440 0h160v-160H620v160Z\"/>\n",
              "  </svg>\n",
              "    </button>\n",
              "\n",
              "  <style>\n",
              "    .colab-df-container {\n",
              "      display:flex;\n",
              "      gap: 12px;\n",
              "    }\n",
              "\n",
              "    .colab-df-convert {\n",
              "      background-color: #E8F0FE;\n",
              "      border: none;\n",
              "      border-radius: 50%;\n",
              "      cursor: pointer;\n",
              "      display: none;\n",
              "      fill: #1967D2;\n",
              "      height: 32px;\n",
              "      padding: 0 0 0 0;\n",
              "      width: 32px;\n",
              "    }\n",
              "\n",
              "    .colab-df-convert:hover {\n",
              "      background-color: #E2EBFA;\n",
              "      box-shadow: 0px 1px 2px rgba(60, 64, 67, 0.3), 0px 1px 3px 1px rgba(60, 64, 67, 0.15);\n",
              "      fill: #174EA6;\n",
              "    }\n",
              "\n",
              "    .colab-df-buttons div {\n",
              "      margin-bottom: 4px;\n",
              "    }\n",
              "\n",
              "    [theme=dark] .colab-df-convert {\n",
              "      background-color: #3B4455;\n",
              "      fill: #D2E3FC;\n",
              "    }\n",
              "\n",
              "    [theme=dark] .colab-df-convert:hover {\n",
              "      background-color: #434B5C;\n",
              "      box-shadow: 0px 1px 3px 1px rgba(0, 0, 0, 0.15);\n",
              "      filter: drop-shadow(0px 1px 2px rgba(0, 0, 0, 0.3));\n",
              "      fill: #FFFFFF;\n",
              "    }\n",
              "  </style>\n",
              "\n",
              "    <script>\n",
              "      const buttonEl =\n",
              "        document.querySelector('#df-8441858f-efdd-4121-a255-5c7fc049120b button.colab-df-convert');\n",
              "      buttonEl.style.display =\n",
              "        google.colab.kernel.accessAllowed ? 'block' : 'none';\n",
              "\n",
              "      async function convertToInteractive(key) {\n",
              "        const element = document.querySelector('#df-8441858f-efdd-4121-a255-5c7fc049120b');\n",
              "        const dataTable =\n",
              "          await google.colab.kernel.invokeFunction('convertToInteractive',\n",
              "                                                    [key], {});\n",
              "        if (!dataTable) return;\n",
              "\n",
              "        const docLinkHtml = 'Like what you see? Visit the ' +\n",
              "          '<a target=\"_blank\" href=https://colab.research.google.com/notebooks/data_table.ipynb>data table notebook</a>'\n",
              "          + ' to learn more about interactive tables.';\n",
              "        element.innerHTML = '';\n",
              "        dataTable['output_type'] = 'display_data';\n",
              "        await google.colab.output.renderOutput(dataTable, element);\n",
              "        const docLink = document.createElement('div');\n",
              "        docLink.innerHTML = docLinkHtml;\n",
              "        element.appendChild(docLink);\n",
              "      }\n",
              "    </script>\n",
              "  </div>\n",
              "\n",
              "\n",
              "<div id=\"df-775fdc60-33e3-4cda-a80f-92244db37ef3\">\n",
              "  <button class=\"colab-df-quickchart\" onclick=\"quickchart('df-775fdc60-33e3-4cda-a80f-92244db37ef3')\"\n",
              "            title=\"Suggest charts\"\n",
              "            style=\"display:none;\">\n",
              "\n",
              "<svg xmlns=\"http://www.w3.org/2000/svg\" height=\"24px\"viewBox=\"0 0 24 24\"\n",
              "     width=\"24px\">\n",
              "    <g>\n",
              "        <path d=\"M19 3H5c-1.1 0-2 .9-2 2v14c0 1.1.9 2 2 2h14c1.1 0 2-.9 2-2V5c0-1.1-.9-2-2-2zM9 17H7v-7h2v7zm4 0h-2V7h2v10zm4 0h-2v-4h2v4z\"/>\n",
              "    </g>\n",
              "</svg>\n",
              "  </button>\n",
              "\n",
              "<style>\n",
              "  .colab-df-quickchart {\n",
              "      --bg-color: #E8F0FE;\n",
              "      --fill-color: #1967D2;\n",
              "      --hover-bg-color: #E2EBFA;\n",
              "      --hover-fill-color: #174EA6;\n",
              "      --disabled-fill-color: #AAA;\n",
              "      --disabled-bg-color: #DDD;\n",
              "  }\n",
              "\n",
              "  [theme=dark] .colab-df-quickchart {\n",
              "      --bg-color: #3B4455;\n",
              "      --fill-color: #D2E3FC;\n",
              "      --hover-bg-color: #434B5C;\n",
              "      --hover-fill-color: #FFFFFF;\n",
              "      --disabled-bg-color: #3B4455;\n",
              "      --disabled-fill-color: #666;\n",
              "  }\n",
              "\n",
              "  .colab-df-quickchart {\n",
              "    background-color: var(--bg-color);\n",
              "    border: none;\n",
              "    border-radius: 50%;\n",
              "    cursor: pointer;\n",
              "    display: none;\n",
              "    fill: var(--fill-color);\n",
              "    height: 32px;\n",
              "    padding: 0;\n",
              "    width: 32px;\n",
              "  }\n",
              "\n",
              "  .colab-df-quickchart:hover {\n",
              "    background-color: var(--hover-bg-color);\n",
              "    box-shadow: 0 1px 2px rgba(60, 64, 67, 0.3), 0 1px 3px 1px rgba(60, 64, 67, 0.15);\n",
              "    fill: var(--button-hover-fill-color);\n",
              "  }\n",
              "\n",
              "  .colab-df-quickchart-complete:disabled,\n",
              "  .colab-df-quickchart-complete:disabled:hover {\n",
              "    background-color: var(--disabled-bg-color);\n",
              "    fill: var(--disabled-fill-color);\n",
              "    box-shadow: none;\n",
              "  }\n",
              "\n",
              "  .colab-df-spinner {\n",
              "    border: 2px solid var(--fill-color);\n",
              "    border-color: transparent;\n",
              "    border-bottom-color: var(--fill-color);\n",
              "    animation:\n",
              "      spin 1s steps(1) infinite;\n",
              "  }\n",
              "\n",
              "  @keyframes spin {\n",
              "    0% {\n",
              "      border-color: transparent;\n",
              "      border-bottom-color: var(--fill-color);\n",
              "      border-left-color: var(--fill-color);\n",
              "    }\n",
              "    20% {\n",
              "      border-color: transparent;\n",
              "      border-left-color: var(--fill-color);\n",
              "      border-top-color: var(--fill-color);\n",
              "    }\n",
              "    30% {\n",
              "      border-color: transparent;\n",
              "      border-left-color: var(--fill-color);\n",
              "      border-top-color: var(--fill-color);\n",
              "      border-right-color: var(--fill-color);\n",
              "    }\n",
              "    40% {\n",
              "      border-color: transparent;\n",
              "      border-right-color: var(--fill-color);\n",
              "      border-top-color: var(--fill-color);\n",
              "    }\n",
              "    60% {\n",
              "      border-color: transparent;\n",
              "      border-right-color: var(--fill-color);\n",
              "    }\n",
              "    80% {\n",
              "      border-color: transparent;\n",
              "      border-right-color: var(--fill-color);\n",
              "      border-bottom-color: var(--fill-color);\n",
              "    }\n",
              "    90% {\n",
              "      border-color: transparent;\n",
              "      border-bottom-color: var(--fill-color);\n",
              "    }\n",
              "  }\n",
              "</style>\n",
              "\n",
              "  <script>\n",
              "    async function quickchart(key) {\n",
              "      const quickchartButtonEl =\n",
              "        document.querySelector('#' + key + ' button');\n",
              "      quickchartButtonEl.disabled = true;  // To prevent multiple clicks.\n",
              "      quickchartButtonEl.classList.add('colab-df-spinner');\n",
              "      try {\n",
              "        const charts = await google.colab.kernel.invokeFunction(\n",
              "            'suggestCharts', [key], {});\n",
              "      } catch (error) {\n",
              "        console.error('Error during call to suggestCharts:', error);\n",
              "      }\n",
              "      quickchartButtonEl.classList.remove('colab-df-spinner');\n",
              "      quickchartButtonEl.classList.add('colab-df-quickchart-complete');\n",
              "    }\n",
              "    (() => {\n",
              "      let quickchartButtonEl =\n",
              "        document.querySelector('#df-775fdc60-33e3-4cda-a80f-92244db37ef3 button');\n",
              "      quickchartButtonEl.style.display =\n",
              "        google.colab.kernel.accessAllowed ? 'block' : 'none';\n",
              "    })();\n",
              "  </script>\n",
              "</div>\n",
              "\n",
              "    </div>\n",
              "  </div>\n"
            ],
            "application/vnd.google.colaboratory.intrinsic+json": {
              "type": "dataframe",
              "summary": "{\n  \"name\": \"    print(e)\",\n  \"rows\": 7,\n  \"fields\": [\n    {\n      \"column\": \"release_year\",\n      \"properties\": {\n        \"dtype\": \"number\",\n        \"std\": 0,\n        \"min\": 2020,\n        \"max\": 2020,\n        \"num_unique_values\": 1,\n        \"samples\": [\n          2020\n        ],\n        \"semantic_type\": \"\",\n        \"description\": \"\"\n      }\n    },\n    {\n      \"column\": \"country\",\n      \"properties\": {\n        \"dtype\": \"category\",\n        \"num_unique_values\": 1,\n        \"samples\": [\n          \"germany\"\n        ],\n        \"semantic_type\": \"\",\n        \"description\": \"\"\n      }\n    },\n    {\n      \"column\": \"rating\",\n      \"properties\": {\n        \"dtype\": \"string\",\n        \"num_unique_values\": 5,\n        \"samples\": [\n          \"tvg\"\n        ],\n        \"semantic_type\": \"\",\n        \"description\": \"\"\n      }\n    },\n    {\n      \"column\": \"counts\",\n      \"properties\": {\n        \"dtype\": \"number\",\n        \"std\": 3,\n        \"min\": 1,\n        \"max\": 9,\n        \"num_unique_values\": 4,\n        \"samples\": [\n          9\n        ],\n        \"semantic_type\": \"\",\n        \"description\": \"\"\n      }\n    }\n  ]\n}"
            }
          },
          "metadata": {}
        }
      ],
      "source": [
        "try:\n",
        "    df = pd.DataFrame(session.execute((number_shows_rating_year_country(2020, 'germany'))).all())\n",
        "    display(df.head(10))\n",
        "except Exception as e:\n",
        "    print(e)"
      ]
    },
    {
      "cell_type": "markdown",
      "id": "P8t_c44a8yF9",
      "metadata": {
        "id": "P8t_c44a8yF9"
      },
      "source": [
        "**Salida esperada:**\n",
        "\n",
        "|    |   release_year | country        | rating   |   counts |\n",
        "|---:|---------------:|:---------------|:---------|---------:|\n",
        "|  0 |           2020 | germany        | tv       |        1 |\n",
        "|  1 |           2020 | germany        | tvg      |        1 |\n",
        "|  2 |           2020 | germany        | tvma     |        9 |\n",
        "|  3 |           2020 | germany        | tvy      |        2 |\n",
        "|  4 |           2020 | germany        | tv       |        2 |\n",
        "|  5 |           2020 | germany        | tvma     |        8 |\n",
        "|  6 |           2020 | germany        | tvpg     |        1 |\n"
      ]
    },
    {
      "cell_type": "markdown",
      "id": "acd97c50",
      "metadata": {
        "id": "acd97c50"
      },
      "source": [
        "<details>    \n",
        "<summary>\n",
        "    <font size=\"3\" color=\"darkgreen\"><b>Pista 1</b></font>\n",
        "</summary>\n",
        "\n",
        "Se recomienda revisar la función `COUNT()` tal y como se mostró en el taller guiado de _Cassandra_, recuerde que la sintaxis en el lenguaje *CQL* es muy similar al de `SQL`.\n",
        "</details>"
      ]
    },
    {
      "cell_type": "markdown",
      "id": "1aeb027d",
      "metadata": {
        "id": "1aeb027d"
      },
      "source": [
        "<details>    \n",
        "<summary>\n",
        "    <font size=\"3\" color=\"darkgreen\"><b>Pista 2</b></font>\n",
        "</summary>\n",
        "\n",
        "Verifique que los campos seleccionados en su consulta están escritos correspondientemente a los nombres de los campos en las tablas y en minúscula:\n",
        "\n",
        "  - año de lanzamiento: `release_year`\n",
        "  - país: `country`\n",
        "  - rating: `rating`\n",
        "</details>"
      ]
    },
    {
      "cell_type": "markdown",
      "id": "0f903bd5",
      "metadata": {
        "id": "0f903bd5"
      },
      "source": [
        "<details>    \n",
        "<summary>\n",
        "    <font size=\"3\" color=\"darkgreen\"><b>Pista 3</b></font>\n",
        "</summary>\n",
        "\n",
        "Verifique que al momento de seleccionar la tabla la está escribiendo correctamente en su query, el nombre de la tabla debe cumplir la siguiente estructura:\n",
        "\n",
        "```sql\n",
        "<nombre_keyspace>.<nombre_tabla>\n",
        "```\n",
        "</details>"
      ]
    },
    {
      "cell_type": "markdown",
      "id": "MaiQelgS8u1Y",
      "metadata": {
        "id": "MaiQelgS8u1Y"
      },
      "source": [
        "### **Evaluar código**"
      ]
    },
    {
      "cell_type": "code",
      "execution_count": 73,
      "id": "JbSj5T1-BvCV",
      "metadata": {
        "id": "JbSj5T1-BvCV",
        "outputId": "cd521fd7-488d-4527-e008-3d81f3b30e6f",
        "colab": {
          "base_uri": "https://localhost:8080/",
          "height": 141
        }
      },
      "outputs": [
        {
          "output_type": "stream",
          "name": "stdout",
          "text": [
            "Test 7_1\n"
          ]
        },
        {
          "output_type": "display_data",
          "data": {
            "text/plain": [
              "<IPython.core.display.HTML object>"
            ],
            "text/html": [
              "<h4>Test Run correctly</h4>"
            ]
          },
          "metadata": {}
        },
        {
          "output_type": "display_data",
          "data": {
            "text/plain": [
              "<IPython.core.display.HTML object>"
            ],
            "text/html": [
              "<h6 style=\"color: green;\">Your test grade: 100</h6>\n",
              "<h6>Feedback: Probando código</h6>"
            ]
          },
          "metadata": {}
        }
      ],
      "source": [
        "grader.run_test(\"Test 7_1\", globals())"
      ]
    },
    {
      "cell_type": "code",
      "execution_count": 74,
      "id": "C583fv0R-Wzx",
      "metadata": {
        "id": "C583fv0R-Wzx",
        "outputId": "1e46fa9c-9e20-4e9d-8d84-0fb98abdb0dd",
        "colab": {
          "base_uri": "https://localhost:8080/",
          "height": 141
        }
      },
      "outputs": [
        {
          "output_type": "stream",
          "name": "stdout",
          "text": [
            "Test 7_2\n"
          ]
        },
        {
          "output_type": "display_data",
          "data": {
            "text/plain": [
              "<IPython.core.display.HTML object>"
            ],
            "text/html": [
              "<h4>Test Run correctly</h4>"
            ]
          },
          "metadata": {}
        },
        {
          "output_type": "display_data",
          "data": {
            "text/plain": [
              "<IPython.core.display.HTML object>"
            ],
            "text/html": [
              "<h6 style=\"color: green;\">Your test grade: 100</h6>\n",
              "<h6>Feedback: Probando código</h6>"
            ]
          },
          "metadata": {}
        }
      ],
      "source": [
        "grader.run_test(\"Test 7_2\", globals())"
      ]
    },
    {
      "cell_type": "markdown",
      "id": "Nys_U6Ta6UMN",
      "metadata": {
        "id": "Nys_U6Ta6UMN"
      },
      "source": [
        "# Evaluación\n",
        "---"
      ]
    },
    {
      "cell_type": "code",
      "execution_count": 80,
      "id": "Zb6a01OY6YdB",
      "metadata": {
        "id": "Zb6a01OY6YdB",
        "outputId": "ced87298-d919-4296-98fb-f425130bf57b",
        "colab": {
          "base_uri": "https://localhost:8080/",
          "height": 1000
        }
      },
      "outputs": [
        {
          "output_type": "stream",
          "name": "stdout",
          "text": [
            "Test 1_1\n",
            "Test 1_2\n",
            "Test 1_3\n",
            "Test 2_1\n",
            "Test 2_2\n",
            "Test 3_1\n",
            "Test 3_1\n",
            "Test 4_1\n",
            "Test 4_2\n",
            "Test 4_3\n",
            "Test 5_1\n",
            "Test 5_2\n",
            "Test 6_1\n",
            "Test 6_2\n",
            "Test 7_1\n",
            "Test 7_2\n"
          ]
        },
        {
          "output_type": "display_data",
          "data": {
            "text/plain": [
              "<IPython.core.display.HTML object>"
            ],
            "text/html": [
              "<h3>Grading succeeded</h3>"
            ]
          },
          "metadata": {}
        },
        {
          "output_type": "display_data",
          "data": {
            "text/plain": [
              "<IPython.core.display.HTML object>"
            ],
            "text/html": [
              "<h6 style=\"color: green;\">TEST Test 1_1 , Your test grade: 100</h6>\n",
              "<h6>Feedback: Probando código ejemplo.</h6>"
            ]
          },
          "metadata": {}
        },
        {
          "output_type": "display_data",
          "data": {
            "text/plain": [
              "<IPython.core.display.HTML object>"
            ],
            "text/html": [
              "<h6 style=\"color: green;\">TEST Test 1_2 , Your test grade: 100</h6>\n",
              "<h6>Feedback: Probando código.</h6>"
            ]
          },
          "metadata": {}
        },
        {
          "output_type": "display_data",
          "data": {
            "text/plain": [
              "<IPython.core.display.HTML object>"
            ],
            "text/html": [
              "<h6 style=\"color: green;\">TEST Test 1_3 , Your test grade: 100</h6>\n",
              "<h6>Feedback: Probando código</h6>"
            ]
          },
          "metadata": {}
        },
        {
          "output_type": "display_data",
          "data": {
            "text/plain": [
              "<IPython.core.display.HTML object>"
            ],
            "text/html": [
              "<h6 style=\"color: green;\">TEST Test 2_1 , Your test grade: 100</h6>\n",
              "<h6>Feedback: Probando código ejemplo</h6>"
            ]
          },
          "metadata": {}
        },
        {
          "output_type": "display_data",
          "data": {
            "text/plain": [
              "<IPython.core.display.HTML object>"
            ],
            "text/html": [
              "<h6 style=\"color: green;\">TEST Test 2_2 , Your test grade: 100</h6>\n",
              "<h6>Feedback: Probando código ejemplo</h6>"
            ]
          },
          "metadata": {}
        },
        {
          "output_type": "display_data",
          "data": {
            "text/plain": [
              "<IPython.core.display.HTML object>"
            ],
            "text/html": [
              "<h6 style=\"color: green;\">TEST Test 3_1 , Your test grade: 100</h6>\n",
              "<h6>Feedback: Probando código</h6>"
            ]
          },
          "metadata": {}
        },
        {
          "output_type": "display_data",
          "data": {
            "text/plain": [
              "<IPython.core.display.HTML object>"
            ],
            "text/html": [
              "<h6 style=\"color: green;\">TEST Test 3_2 , Your test grade: 100</h6>\n",
              "<h6>Feedback: Probando código</h6>"
            ]
          },
          "metadata": {}
        },
        {
          "output_type": "display_data",
          "data": {
            "text/plain": [
              "<IPython.core.display.HTML object>"
            ],
            "text/html": [
              "<h6 style=\"color: green;\">TEST Test 4_1 , Your test grade: 100</h6>\n",
              "<h6>Feedback: Probando código ejemplo</h6>"
            ]
          },
          "metadata": {}
        },
        {
          "output_type": "display_data",
          "data": {
            "text/plain": [
              "<IPython.core.display.HTML object>"
            ],
            "text/html": [
              "<h6 style=\"color: green;\">TEST Test 4_2 , Your test grade: 100</h6>\n",
              "<h6>Feedback: Probando código</h6>"
            ]
          },
          "metadata": {}
        },
        {
          "output_type": "display_data",
          "data": {
            "text/plain": [
              "<IPython.core.display.HTML object>"
            ],
            "text/html": [
              "<h6 style=\"color: green;\">TEST Test 4_3 , Your test grade: 100</h6>\n",
              "<h6>Feedback: Probando código</h6>"
            ]
          },
          "metadata": {}
        },
        {
          "output_type": "display_data",
          "data": {
            "text/plain": [
              "<IPython.core.display.HTML object>"
            ],
            "text/html": [
              "<h6 style=\"color: red;\">TEST Test 5_1 , Your test grade: 0</h6>\n",
              "<h6>Feedback: Probando código<p>Por favor, asegúrese de que \"number_shows_rating_country\", \"session\" están correctamente definidas.</p><p>Error: <span style=\"color: red;\">Error from server: code=2200 [Invalid query] message=\"Group by currently only support groups of columns following their declared order in the PRIMARY KEY\"</span></p></h6>"
            ]
          },
          "metadata": {}
        },
        {
          "output_type": "display_data",
          "data": {
            "text/plain": [
              "<IPython.core.display.HTML object>"
            ],
            "text/html": [
              "<h6 style=\"color: red;\">TEST Test 5_2 , Your test grade: 0</h6>\n",
              "<h6>Feedback: Probando código<p>Por favor, asegúrese de que \"number_shows_rating_country\", \"session\" están correctamente definidas.</p><p>Error: <span style=\"color: red;\">Error from server: code=2200 [Invalid query] message=\"Group by currently only support groups of columns following their declared order in the PRIMARY KEY\"</span></p></h6>"
            ]
          },
          "metadata": {}
        },
        {
          "output_type": "display_data",
          "data": {
            "text/plain": [
              "<IPython.core.display.HTML object>"
            ],
            "text/html": [
              "<h6 style=\"color: green;\">TEST Test 6_1 , Your test grade: 100</h6>\n",
              "<h6>Feedback: Probando código</h6>"
            ]
          },
          "metadata": {}
        },
        {
          "output_type": "display_data",
          "data": {
            "text/plain": [
              "<IPython.core.display.HTML object>"
            ],
            "text/html": [
              "<h6 style=\"color: green;\">TEST Test 6_2 , Your test grade: 100</h6>\n",
              "<h6>Feedback: Probando código</h6>"
            ]
          },
          "metadata": {}
        },
        {
          "output_type": "display_data",
          "data": {
            "text/plain": [
              "<IPython.core.display.HTML object>"
            ],
            "text/html": [
              "<h6 style=\"color: green;\">TEST Test 7_1 , Your test grade: 100</h6>\n",
              "<h6>Feedback: Probando código</h6>"
            ]
          },
          "metadata": {}
        },
        {
          "output_type": "display_data",
          "data": {
            "text/plain": [
              "<IPython.core.display.HTML object>"
            ],
            "text/html": [
              "<h6 style=\"color: green;\">TEST Test 7_2 , Your test grade: 100</h6>\n",
              "<h6>Feedback: Probando código</h6>"
            ]
          },
          "metadata": {}
        },
        {
          "output_type": "display_data",
          "data": {
            "text/plain": [
              "<IPython.core.display.HTML object>"
            ],
            "text/html": [
              "<h3 style=\"color: purple;\">Your submission grade: \"90.74%\"</h3>"
            ]
          },
          "metadata": {}
        }
      ],
      "source": [
        "grader.submit_task(globals())"
      ]
    },
    {
      "cell_type": "markdown",
      "id": "8fff43c7",
      "metadata": {
        "id": "8fff43c7"
      },
      "source": [
        "# Créditos\n",
        "---\n",
        "\n",
        "**Profesor**\n",
        "\n",
        "- [Jorge E. Camargo, PhD](https://dis.unal.edu.co/~jecamargom/)\n",
        "\n",
        "**Diseño, desarrollo del notebook y material audiovisual**\n",
        "\n",
        "- [Juan S. Lara MSc](https://www.linkedin.com/in/juan-sebastian-lara-ramirez-43570a214/)\n",
        "\n",
        "**Universidad Nacional de Colombia** - *Facultad de Ingeniería*"
      ]
    }
  ],
  "metadata": {
    "colab": {
      "provenance": [],
      "include_colab_link": true
    },
    "gpuClass": "standard",
    "jupytext": {
      "cell_metadata_filter": "-all",
      "main_language": "python",
      "notebook_metadata_filter": "-all"
    },
    "kernelspec": {
      "display_name": "Python 3",
      "name": "python3"
    },
    "language_info": {
      "name": "python"
    }
  },
  "nbformat": 4,
  "nbformat_minor": 5
}