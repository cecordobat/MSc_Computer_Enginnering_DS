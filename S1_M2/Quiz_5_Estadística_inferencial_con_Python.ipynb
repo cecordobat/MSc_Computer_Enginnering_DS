{
  "cells": [
    {
      "cell_type": "markdown",
      "metadata": {
        "id": "view-in-github",
        "colab_type": "text"
      },
      "source": [
        "<a href=\"https://colab.research.google.com/github/cecordobat/MSc_Computer_Enginnering_DS/blob/main/S1_M2/Quiz_5_Estad%C3%ADstica_inferencial_con_Python.ipynb\" target=\"_parent\"><img src=\"https://colab.research.google.com/assets/colab-badge.svg\" alt=\"Open In Colab\"/></a>"
      ]
    },
    {
      "cell_type": "markdown",
      "metadata": {
        "id": "fb9pUStUq6xf"
      },
      "source": [
        "<img src = \"https://drive.google.com/uc?export=view&id=1vU_Lg5LD6Dn521znF_9E6OsJgwptOT9E\" alt = \"Encabezado MLDS\" width = \"100%\">  </img>"
      ]
    },
    {
      "cell_type": "markdown",
      "metadata": {
        "id": "iOBugjpzfKzI"
      },
      "source": [
        "#**Quiz 5 : Estadística inferencial con *Python***\n",
        "---\n",
        "\n",
        "Este es un quiz para practicar las habilidades adquiridas usando *Python* en estadística inferencial. Utilizaremos el [dataset 80 Cereals](https://www.kaggle.com/crawford/80-cereals) de *Kaggle*. Para esto, previamente hemos realizado un proceso de limpieza y traducción adecuado para el ejercicio.\n",
        "\n",
        "Este conjunto de datos cuenta con información nutricional de una muestra de 80 cereales:\n",
        "\n",
        "| Variable | Definición\t| Valores |\n",
        "| --- | --- | --- |\n",
        "| nombre | \tNombre del producto  | \tCadenas de texto |\n",
        "| fabricante \t| Nombre del fabricante | 'Kelloggs', 'Quaker Oats', 'General Mills', 'Nabisco', etc  |\n",
        "| calorias \t| Calorías por porción. \t| Numéricos |\n",
        "| proteina |\tGramos de proteína. \t|Numéricos |\n",
        "| grasa |\tGramos de grasas saturadas. \t| Numéricos|\n",
        "| sodio |\tMiligramos de sodio. \t|Numéricos |\n",
        "| fibra dietaria |\tGramos de fibra dietaria. \t| Numéricos|\n",
        "| carbohidratos |\tGramos de carbohidratos complejos. \t|Numéricos |\n",
        "| potasio |\tMiligramos de potasio. \t|Numéricos |\n",
        "| vitaminas y minerales |\tPorcentaje de vitaminas y minerales. \t|Numéricos |\n",
        "\n",
        "\n",
        "\n",
        "En este quiz usted debe realizar un proceso de análisis de datos con *Python* con el objetivo de practicar los conceptos y habilidades aprendidas de estadística inferencial.\n",
        "\n",
        "> **Nota:** Esta tarea va a ser calificada estableciendo una conexión con **[UNCode](https://juezun.github.io/)**. La conexión se realizará al ejecutar la celda indicada e ingresando los datos de usuariio.En cada ejercicio se indicará si es calificable o no, también los lugares donde debe escribir su código sin modificar lo demás con un aproximado de cantidad de líneas a escribir. No se preocupe si su código toma más líneas, esto es simplemente un aproximado destinado a que pueda replantear su estrategia si el código está tomando más de las esperadas. No es un requisito estricto y soluciones más largas también son válidas.\n",
        "\n",
        "> **La tarea es incremental, es recomendable resolver los puntos en orden.**\n",
        "\n",
        "> En caso de tener dudas de cómo solucionar este tipo de ejercicios, por favor consultar el demo en la unidad 0"
      ]
    },
    {
      "cell_type": "markdown",
      "metadata": {
        "id": "DRzX-aD3pG6T"
      },
      "source": [
        "Ejecute la siguiente celda para importar las librerías."
      ]
    },
    {
      "cell_type": "code",
      "execution_count": 1,
      "metadata": {
        "id": "PWxZydM4Lzk3"
      },
      "outputs": [],
      "source": [
        "# Importar librerías\n",
        "import pandas as pd\n",
        "import numpy as np\n",
        "import scipy\n",
        "from scipy import stats\n",
        "import statsmodels.api as sm"
      ]
    },
    {
      "cell_type": "code",
      "execution_count": 2,
      "metadata": {
        "colab": {
          "base_uri": "https://localhost:8080/"
        },
        "id": "GEfXnD9mjd2V",
        "outputId": "921eaa78-f518-4469-bef9-053c0554d853"
      },
      "outputs": [
        {
          "output_type": "stream",
          "name": "stdout",
          "text": [
            "Python 3.10.12\n",
            "Pandas 2.1.4\n",
            "NumPy 1.26.4\n",
            "SciPy 1.13.1\n",
            "statsmodels 0.14.3\n"
          ]
        }
      ],
      "source": [
        "#TEST_CELL\n",
        "!python --version\n",
        "print('Pandas', pd.__version__)\n",
        "print('NumPy', np.__version__)\n",
        "print('SciPy', scipy.__version__)\n",
        "print('statsmodels', sm.__version__)"
      ]
    },
    {
      "cell_type": "markdown",
      "metadata": {
        "id": "ROZNbg6fpLpu"
      },
      "source": [
        "Este material fue realizado con las siguientes versiones:\n",
        "\n",
        "- Python 3.10.12\n",
        "- Pandas 2.1.4\n",
        "- NumPy 1.26.4\n",
        "- SciPy 1.13.1\n",
        "- statsmodels 0.14.2\n",
        "\n"
      ]
    },
    {
      "cell_type": "code",
      "execution_count": 3,
      "metadata": {
        "colab": {
          "base_uri": "https://localhost:8080/"
        },
        "id": "UTr5ECHw7Dyq",
        "outputId": "f2fe930e-ee64-4d32-bd77-218f28d0bc54"
      },
      "outputs": [
        {
          "output_type": "stream",
          "name": "stdout",
          "text": [
            "Collecting rlxcrypt\n",
            "  Downloading rlxcrypt-0.0.4-cp310-cp310-manylinux_2_17_x86_64.manylinux2014_x86_64.whl.metadata (1.9 kB)\n",
            "Collecting imphook (from rlxcrypt)\n",
            "  Downloading imphook-1.0.tar.gz (12 kB)\n",
            "  Preparing metadata (setup.py) ... \u001b[?25l\u001b[?25hdone\n",
            "Requirement already satisfied: cython in /usr/local/lib/python3.10/dist-packages (from rlxcrypt) (3.0.11)\n",
            "Collecting pycryptodome (from rlxcrypt)\n",
            "  Downloading pycryptodome-3.20.0-cp35-abi3-manylinux_2_17_x86_64.manylinux2014_x86_64.whl.metadata (3.4 kB)\n",
            "Requirement already satisfied: cryptography in /usr/local/lib/python3.10/dist-packages (from rlxcrypt) (43.0.1)\n",
            "Requirement already satisfied: cffi>=1.12 in /usr/local/lib/python3.10/dist-packages (from cryptography->rlxcrypt) (1.17.1)\n",
            "Requirement already satisfied: pycparser in /usr/local/lib/python3.10/dist-packages (from cffi>=1.12->cryptography->rlxcrypt) (2.22)\n",
            "Downloading rlxcrypt-0.0.4-cp310-cp310-manylinux_2_17_x86_64.manylinux2014_x86_64.whl (297 kB)\n",
            "\u001b[2K   \u001b[90m━━━━━━━━━━━━━━━━━━━━━━━━━━━━━━━━━━━━━━━━\u001b[0m \u001b[32m297.9/297.9 kB\u001b[0m \u001b[31m5.2 MB/s\u001b[0m eta \u001b[36m0:00:00\u001b[0m\n",
            "\u001b[?25hDownloading pycryptodome-3.20.0-cp35-abi3-manylinux_2_17_x86_64.manylinux2014_x86_64.whl (2.1 MB)\n",
            "\u001b[2K   \u001b[90m━━━━━━━━━━━━━━━━━━━━━━━━━━━━━━━━━━━━━━━━\u001b[0m \u001b[32m2.1/2.1 MB\u001b[0m \u001b[31m31.7 MB/s\u001b[0m eta \u001b[36m0:00:00\u001b[0m\n",
            "\u001b[?25hBuilding wheels for collected packages: imphook\n",
            "  Building wheel for imphook (setup.py) ... \u001b[?25l\u001b[?25hdone\n",
            "  Created wheel for imphook: filename=imphook-1.0-py3-none-any.whl size=9421 sha256=384ab1474a1d449399ff0f635a9697d29c0d817e7f122104ea3606e9f99e3f15\n",
            "  Stored in directory: /root/.cache/pip/wheels/dc/e2/a4/fcb3817d09a2eb047b2b08eb58e7d9140041b0f3f415eb1256\n",
            "Successfully built imphook\n",
            "Installing collected packages: imphook, pycryptodome, rlxcrypt\n",
            "Successfully installed imphook-1.0 pycryptodome-3.20.0 rlxcrypt-0.0.4\n"
          ]
        }
      ],
      "source": [
        "!pip install rlxcrypt\n",
        "!wget --no-cache -O session.pye -q https://raw.githubusercontent.com/JuezUN/INGInious/master/external%20libs/session.pye"
      ]
    },
    {
      "cell_type": "code",
      "execution_count": 4,
      "metadata": {
        "colab": {
          "base_uri": "https://localhost:8080/",
          "height": 310
        },
        "id": "HcBFJnXh7EX1",
        "outputId": "b4edb1d9-6bc6-4974-8af2-67b41512de48"
      },
      "outputs": [
        {
          "output_type": "display_data",
          "data": {
            "text/plain": [
              "<IPython.core.display.HTML object>"
            ],
            "text/html": [
              "\n",
              "    <div>\n",
              "    <div style=\"display: flex\">\n",
              "        <div style=\"padding: 10px\">\n",
              "          <img\n",
              "            src=\"https://uncode.unal.edu.co/static/images/logo_unc.svg\"\n",
              "            width=\"50px\"\n",
              "            height=\"50px\"\n",
              "          />\n",
              "        </div>\n",
              "      \n",
              "        <div>\n",
              "          <h2>UNCode Notebooks grader API</h2>\n",
              "          <hr />\n",
              "        </div>\n",
              "      </div>\n",
              "      \n",
              "      <div style=\"display: flex\">\n",
              "        <span>Please enter authentication data</span>\n",
              "      </div>\n",
              "    </div>\n",
              "    "
            ]
          },
          "metadata": {}
        },
        {
          "name": "stdout",
          "output_type": "stream",
          "text": [
            "Please enter your UNCode username: cecordobat\n",
            "Please enter your password: ··········\n"
          ]
        },
        {
          "output_type": "display_data",
          "data": {
            "text/plain": [
              "<IPython.core.display.HTML object>"
            ],
            "text/html": [
              "<h5 style=\"color: green\"><Response [200]></h5>"
            ]
          },
          "metadata": {}
        },
        {
          "output_type": "display_data",
          "data": {
            "text/plain": [
              "<IPython.core.display.HTML object>"
            ],
            "text/html": [
              "<h5 style=\"color: green\">Auth process succeeded</h5>"
            ]
          },
          "metadata": {}
        },
        {
          "output_type": "display_data",
          "data": {
            "text/plain": [
              "<IPython.core.display.HTML object>"
            ],
            "text/html": [
              "<h5>View your courses <a href=\"https://uncode.unal.edu.co/courselist\">at UNCode platform</a></h5>"
            ]
          },
          "metadata": {}
        },
        {
          "output_type": "display_data",
          "data": {
            "text/plain": [
              "<IPython.core.display.HTML object>"
            ],
            "text/html": [
              "<h3>You will sumbit code to course: <span style=\"color: green\">Análisis y visualización de datos con Python | Grupo MLDS-1 | 2024 - 2<span></h3>"
            ]
          },
          "metadata": {}
        },
        {
          "output_type": "display_data",
          "data": {
            "text/plain": [
              "<IPython.core.display.HTML object>"
            ],
            "text/html": [
              "<h3>You will sumbit code to task: <span style=\"color: blue\">Unidad 3 - Quiz 5 - Estadística inferencial<span></h3>"
            ]
          },
          "metadata": {}
        }
      ],
      "source": [
        "import rlxcrypt\n",
        "import session\n",
        "\n",
        "grader = session.LoginSequence(\"AYVDDCP-GroupMLDS-1-2024-2@quiz_5\")"
      ]
    },
    {
      "cell_type": "markdown",
      "metadata": {
        "id": "kYfn30XJ_aff"
      },
      "source": [
        "## **0.  Leer el archivo de datos**\n",
        "---\n",
        "> **IMPORTANTE:**\n",
        "\n",
        "  1. Por favor descargue el archivo con el conjunto de datos desde el siguiente enlace: **[cerealsquiz.csv](https://raw.githubusercontent.com/JuezUN/datasets/master/cerealsquiz.csv)**.\n",
        "  \n",
        "  2. En el enlace, haga clic derecho y seleccione la opción **\"Guardar como...\"**.\n",
        "\n",
        "  3. Cargue este archivo en su sistema de archivos de **Google Colaboratory**. Para hacer esto:\n",
        "    \n",
        "    * Haga clic donde aparece el icono del directorio en la parte izquierda de la ventana en *Google Colaboratory* (resaltado en azul en la siguiente imagen con el número 1).\n",
        "    * Después, haga clic en el icono **\"Subir\"** (resaltado en azul en la siguiente imagen con el número 2).\n",
        "    * Seleccione el archivo **`cerealsquiz.csv`** que previamente descargó y haga clic en **\"Aceptar\"**.\n",
        "\n",
        "<img src = \"https://drive.google.com/uc?export=view&id=13W59jfdOpAn_DYIjpXt4WPBZiU7BlRGY\" alt = \"Sistema archivos colab\" width = \"70%\">  </img>\n",
        "\n",
        "4. Ejecute la siguiente celda para cargar el conjunto de datos dentro del DataFrame de *pandas* llamado **`cereal_df`**:"
      ]
    },
    {
      "cell_type": "code",
      "execution_count": 5,
      "metadata": {
        "colab": {
          "base_uri": "https://localhost:8080/"
        },
        "id": "TEci3iHx7OU7",
        "outputId": "540d88a9-cf84-4abe-b8cd-14c83ac21046"
      },
      "outputs": [
        {
          "output_type": "stream",
          "name": "stdout",
          "text": [
            "--2024-09-18 22:46:51--  https://raw.githubusercontent.com/JuezUN/datasets/master/cerealsquiz.csv\n",
            "Resolving raw.githubusercontent.com (raw.githubusercontent.com)... 185.199.111.133, 185.199.109.133, 185.199.110.133, ...\n",
            "Connecting to raw.githubusercontent.com (raw.githubusercontent.com)|185.199.111.133|:443... connected.\n",
            "HTTP request sent, awaiting response... 200 OK\n",
            "Length: 4201 (4.1K) [text/plain]\n",
            "Saving to: ‘cerealsquiz.csv’\n",
            "\n",
            "cerealsquiz.csv     100%[===================>]   4.10K  --.-KB/s    in 0s      \n",
            "\n",
            "2024-09-18 22:46:52 (39.1 MB/s) - ‘cerealsquiz.csv’ saved [4201/4201]\n",
            "\n"
          ]
        }
      ],
      "source": [
        "!wget https://raw.githubusercontent.com/JuezUN/datasets/master/cerealsquiz.csv"
      ]
    },
    {
      "cell_type": "code",
      "execution_count": 8,
      "metadata": {
        "colab": {
          "base_uri": "https://localhost:8080/",
          "height": 313
        },
        "id": "Y9F6G_l5pKOZ",
        "outputId": "ed887535-5d1a-450c-92c7-c41bf7f8516e"
      },
      "outputs": [
        {
          "output_type": "execute_result",
          "data": {
            "text/plain": [
              "                      nombre      fabricante  calorias  proteina  grasa  \\\n",
              "0                  100%_Bran         Nabisco        70         4      1   \n",
              "1          100%_Natural_Bran     Quaker Oats       120         3      5   \n",
              "2                   All-Bran        Kelloggs        70         4      1   \n",
              "3  All-Bran_with_Extra_Fiber        Kelloggs        50         4      0   \n",
              "4             Almond_Delight  Ralston Purina       110         2      2   \n",
              "\n",
              "   sodio  fibra dietaria  carbohidratos  azúcar  potasio  \\\n",
              "0    130            10.0            5.0       6      280   \n",
              "1     15             2.0            8.0       8      135   \n",
              "2    260             9.0            7.0       5      320   \n",
              "3    140            14.0            8.0       0      330   \n",
              "4    200             1.0           14.0       8       -1   \n",
              "\n",
              "   vitaminas y minerales  \n",
              "0                     25  \n",
              "1                      0  \n",
              "2                     25  \n",
              "3                     25  \n",
              "4                     25  "
            ],
            "text/html": [
              "\n",
              "  <div id=\"df-2c955407-4bb0-4d37-a089-b5bf5a570a3a\" class=\"colab-df-container\">\n",
              "    <div>\n",
              "<style scoped>\n",
              "    .dataframe tbody tr th:only-of-type {\n",
              "        vertical-align: middle;\n",
              "    }\n",
              "\n",
              "    .dataframe tbody tr th {\n",
              "        vertical-align: top;\n",
              "    }\n",
              "\n",
              "    .dataframe thead th {\n",
              "        text-align: right;\n",
              "    }\n",
              "</style>\n",
              "<table border=\"1\" class=\"dataframe\">\n",
              "  <thead>\n",
              "    <tr style=\"text-align: right;\">\n",
              "      <th></th>\n",
              "      <th>nombre</th>\n",
              "      <th>fabricante</th>\n",
              "      <th>calorias</th>\n",
              "      <th>proteina</th>\n",
              "      <th>grasa</th>\n",
              "      <th>sodio</th>\n",
              "      <th>fibra dietaria</th>\n",
              "      <th>carbohidratos</th>\n",
              "      <th>azúcar</th>\n",
              "      <th>potasio</th>\n",
              "      <th>vitaminas y minerales</th>\n",
              "    </tr>\n",
              "  </thead>\n",
              "  <tbody>\n",
              "    <tr>\n",
              "      <th>0</th>\n",
              "      <td>100%_Bran</td>\n",
              "      <td>Nabisco</td>\n",
              "      <td>70</td>\n",
              "      <td>4</td>\n",
              "      <td>1</td>\n",
              "      <td>130</td>\n",
              "      <td>10.0</td>\n",
              "      <td>5.0</td>\n",
              "      <td>6</td>\n",
              "      <td>280</td>\n",
              "      <td>25</td>\n",
              "    </tr>\n",
              "    <tr>\n",
              "      <th>1</th>\n",
              "      <td>100%_Natural_Bran</td>\n",
              "      <td>Quaker Oats</td>\n",
              "      <td>120</td>\n",
              "      <td>3</td>\n",
              "      <td>5</td>\n",
              "      <td>15</td>\n",
              "      <td>2.0</td>\n",
              "      <td>8.0</td>\n",
              "      <td>8</td>\n",
              "      <td>135</td>\n",
              "      <td>0</td>\n",
              "    </tr>\n",
              "    <tr>\n",
              "      <th>2</th>\n",
              "      <td>All-Bran</td>\n",
              "      <td>Kelloggs</td>\n",
              "      <td>70</td>\n",
              "      <td>4</td>\n",
              "      <td>1</td>\n",
              "      <td>260</td>\n",
              "      <td>9.0</td>\n",
              "      <td>7.0</td>\n",
              "      <td>5</td>\n",
              "      <td>320</td>\n",
              "      <td>25</td>\n",
              "    </tr>\n",
              "    <tr>\n",
              "      <th>3</th>\n",
              "      <td>All-Bran_with_Extra_Fiber</td>\n",
              "      <td>Kelloggs</td>\n",
              "      <td>50</td>\n",
              "      <td>4</td>\n",
              "      <td>0</td>\n",
              "      <td>140</td>\n",
              "      <td>14.0</td>\n",
              "      <td>8.0</td>\n",
              "      <td>0</td>\n",
              "      <td>330</td>\n",
              "      <td>25</td>\n",
              "    </tr>\n",
              "    <tr>\n",
              "      <th>4</th>\n",
              "      <td>Almond_Delight</td>\n",
              "      <td>Ralston Purina</td>\n",
              "      <td>110</td>\n",
              "      <td>2</td>\n",
              "      <td>2</td>\n",
              "      <td>200</td>\n",
              "      <td>1.0</td>\n",
              "      <td>14.0</td>\n",
              "      <td>8</td>\n",
              "      <td>-1</td>\n",
              "      <td>25</td>\n",
              "    </tr>\n",
              "  </tbody>\n",
              "</table>\n",
              "</div>\n",
              "    <div class=\"colab-df-buttons\">\n",
              "\n",
              "  <div class=\"colab-df-container\">\n",
              "    <button class=\"colab-df-convert\" onclick=\"convertToInteractive('df-2c955407-4bb0-4d37-a089-b5bf5a570a3a')\"\n",
              "            title=\"Convert this dataframe to an interactive table.\"\n",
              "            style=\"display:none;\">\n",
              "\n",
              "  <svg xmlns=\"http://www.w3.org/2000/svg\" height=\"24px\" viewBox=\"0 -960 960 960\">\n",
              "    <path d=\"M120-120v-720h720v720H120Zm60-500h600v-160H180v160Zm220 220h160v-160H400v160Zm0 220h160v-160H400v160ZM180-400h160v-160H180v160Zm440 0h160v-160H620v160ZM180-180h160v-160H180v160Zm440 0h160v-160H620v160Z\"/>\n",
              "  </svg>\n",
              "    </button>\n",
              "\n",
              "  <style>\n",
              "    .colab-df-container {\n",
              "      display:flex;\n",
              "      gap: 12px;\n",
              "    }\n",
              "\n",
              "    .colab-df-convert {\n",
              "      background-color: #E8F0FE;\n",
              "      border: none;\n",
              "      border-radius: 50%;\n",
              "      cursor: pointer;\n",
              "      display: none;\n",
              "      fill: #1967D2;\n",
              "      height: 32px;\n",
              "      padding: 0 0 0 0;\n",
              "      width: 32px;\n",
              "    }\n",
              "\n",
              "    .colab-df-convert:hover {\n",
              "      background-color: #E2EBFA;\n",
              "      box-shadow: 0px 1px 2px rgba(60, 64, 67, 0.3), 0px 1px 3px 1px rgba(60, 64, 67, 0.15);\n",
              "      fill: #174EA6;\n",
              "    }\n",
              "\n",
              "    .colab-df-buttons div {\n",
              "      margin-bottom: 4px;\n",
              "    }\n",
              "\n",
              "    [theme=dark] .colab-df-convert {\n",
              "      background-color: #3B4455;\n",
              "      fill: #D2E3FC;\n",
              "    }\n",
              "\n",
              "    [theme=dark] .colab-df-convert:hover {\n",
              "      background-color: #434B5C;\n",
              "      box-shadow: 0px 1px 3px 1px rgba(0, 0, 0, 0.15);\n",
              "      filter: drop-shadow(0px 1px 2px rgba(0, 0, 0, 0.3));\n",
              "      fill: #FFFFFF;\n",
              "    }\n",
              "  </style>\n",
              "\n",
              "    <script>\n",
              "      const buttonEl =\n",
              "        document.querySelector('#df-2c955407-4bb0-4d37-a089-b5bf5a570a3a button.colab-df-convert');\n",
              "      buttonEl.style.display =\n",
              "        google.colab.kernel.accessAllowed ? 'block' : 'none';\n",
              "\n",
              "      async function convertToInteractive(key) {\n",
              "        const element = document.querySelector('#df-2c955407-4bb0-4d37-a089-b5bf5a570a3a');\n",
              "        const dataTable =\n",
              "          await google.colab.kernel.invokeFunction('convertToInteractive',\n",
              "                                                    [key], {});\n",
              "        if (!dataTable) return;\n",
              "\n",
              "        const docLinkHtml = 'Like what you see? Visit the ' +\n",
              "          '<a target=\"_blank\" href=https://colab.research.google.com/notebooks/data_table.ipynb>data table notebook</a>'\n",
              "          + ' to learn more about interactive tables.';\n",
              "        element.innerHTML = '';\n",
              "        dataTable['output_type'] = 'display_data';\n",
              "        await google.colab.output.renderOutput(dataTable, element);\n",
              "        const docLink = document.createElement('div');\n",
              "        docLink.innerHTML = docLinkHtml;\n",
              "        element.appendChild(docLink);\n",
              "      }\n",
              "    </script>\n",
              "  </div>\n",
              "\n",
              "\n",
              "<div id=\"df-92414ccd-38c1-4565-bd9c-daa4be0e98cd\">\n",
              "  <button class=\"colab-df-quickchart\" onclick=\"quickchart('df-92414ccd-38c1-4565-bd9c-daa4be0e98cd')\"\n",
              "            title=\"Suggest charts\"\n",
              "            style=\"display:none;\">\n",
              "\n",
              "<svg xmlns=\"http://www.w3.org/2000/svg\" height=\"24px\"viewBox=\"0 0 24 24\"\n",
              "     width=\"24px\">\n",
              "    <g>\n",
              "        <path d=\"M19 3H5c-1.1 0-2 .9-2 2v14c0 1.1.9 2 2 2h14c1.1 0 2-.9 2-2V5c0-1.1-.9-2-2-2zM9 17H7v-7h2v7zm4 0h-2V7h2v10zm4 0h-2v-4h2v4z\"/>\n",
              "    </g>\n",
              "</svg>\n",
              "  </button>\n",
              "\n",
              "<style>\n",
              "  .colab-df-quickchart {\n",
              "      --bg-color: #E8F0FE;\n",
              "      --fill-color: #1967D2;\n",
              "      --hover-bg-color: #E2EBFA;\n",
              "      --hover-fill-color: #174EA6;\n",
              "      --disabled-fill-color: #AAA;\n",
              "      --disabled-bg-color: #DDD;\n",
              "  }\n",
              "\n",
              "  [theme=dark] .colab-df-quickchart {\n",
              "      --bg-color: #3B4455;\n",
              "      --fill-color: #D2E3FC;\n",
              "      --hover-bg-color: #434B5C;\n",
              "      --hover-fill-color: #FFFFFF;\n",
              "      --disabled-bg-color: #3B4455;\n",
              "      --disabled-fill-color: #666;\n",
              "  }\n",
              "\n",
              "  .colab-df-quickchart {\n",
              "    background-color: var(--bg-color);\n",
              "    border: none;\n",
              "    border-radius: 50%;\n",
              "    cursor: pointer;\n",
              "    display: none;\n",
              "    fill: var(--fill-color);\n",
              "    height: 32px;\n",
              "    padding: 0;\n",
              "    width: 32px;\n",
              "  }\n",
              "\n",
              "  .colab-df-quickchart:hover {\n",
              "    background-color: var(--hover-bg-color);\n",
              "    box-shadow: 0 1px 2px rgba(60, 64, 67, 0.3), 0 1px 3px 1px rgba(60, 64, 67, 0.15);\n",
              "    fill: var(--button-hover-fill-color);\n",
              "  }\n",
              "\n",
              "  .colab-df-quickchart-complete:disabled,\n",
              "  .colab-df-quickchart-complete:disabled:hover {\n",
              "    background-color: var(--disabled-bg-color);\n",
              "    fill: var(--disabled-fill-color);\n",
              "    box-shadow: none;\n",
              "  }\n",
              "\n",
              "  .colab-df-spinner {\n",
              "    border: 2px solid var(--fill-color);\n",
              "    border-color: transparent;\n",
              "    border-bottom-color: var(--fill-color);\n",
              "    animation:\n",
              "      spin 1s steps(1) infinite;\n",
              "  }\n",
              "\n",
              "  @keyframes spin {\n",
              "    0% {\n",
              "      border-color: transparent;\n",
              "      border-bottom-color: var(--fill-color);\n",
              "      border-left-color: var(--fill-color);\n",
              "    }\n",
              "    20% {\n",
              "      border-color: transparent;\n",
              "      border-left-color: var(--fill-color);\n",
              "      border-top-color: var(--fill-color);\n",
              "    }\n",
              "    30% {\n",
              "      border-color: transparent;\n",
              "      border-left-color: var(--fill-color);\n",
              "      border-top-color: var(--fill-color);\n",
              "      border-right-color: var(--fill-color);\n",
              "    }\n",
              "    40% {\n",
              "      border-color: transparent;\n",
              "      border-right-color: var(--fill-color);\n",
              "      border-top-color: var(--fill-color);\n",
              "    }\n",
              "    60% {\n",
              "      border-color: transparent;\n",
              "      border-right-color: var(--fill-color);\n",
              "    }\n",
              "    80% {\n",
              "      border-color: transparent;\n",
              "      border-right-color: var(--fill-color);\n",
              "      border-bottom-color: var(--fill-color);\n",
              "    }\n",
              "    90% {\n",
              "      border-color: transparent;\n",
              "      border-bottom-color: var(--fill-color);\n",
              "    }\n",
              "  }\n",
              "</style>\n",
              "\n",
              "  <script>\n",
              "    async function quickchart(key) {\n",
              "      const quickchartButtonEl =\n",
              "        document.querySelector('#' + key + ' button');\n",
              "      quickchartButtonEl.disabled = true;  // To prevent multiple clicks.\n",
              "      quickchartButtonEl.classList.add('colab-df-spinner');\n",
              "      try {\n",
              "        const charts = await google.colab.kernel.invokeFunction(\n",
              "            'suggestCharts', [key], {});\n",
              "      } catch (error) {\n",
              "        console.error('Error during call to suggestCharts:', error);\n",
              "      }\n",
              "      quickchartButtonEl.classList.remove('colab-df-spinner');\n",
              "      quickchartButtonEl.classList.add('colab-df-quickchart-complete');\n",
              "    }\n",
              "    (() => {\n",
              "      let quickchartButtonEl =\n",
              "        document.querySelector('#df-92414ccd-38c1-4565-bd9c-daa4be0e98cd button');\n",
              "      quickchartButtonEl.style.display =\n",
              "        google.colab.kernel.accessAllowed ? 'block' : 'none';\n",
              "    })();\n",
              "  </script>\n",
              "</div>\n",
              "\n",
              "    </div>\n",
              "  </div>\n"
            ],
            "application/vnd.google.colaboratory.intrinsic+json": {
              "type": "dataframe",
              "variable_name": "cereal_df",
              "summary": "{\n  \"name\": \"cereal_df\",\n  \"rows\": 74,\n  \"fields\": [\n    {\n      \"column\": \"nombre\",\n      \"properties\": {\n        \"dtype\": \"string\",\n        \"num_unique_values\": 74,\n        \"samples\": [\n          \"Almond_Delight\",\n          \"Smacks\",\n          \"Count_Chocula\"\n        ],\n        \"semantic_type\": \"\",\n        \"description\": \"\"\n      }\n    },\n    {\n      \"column\": \"fabricante\",\n      \"properties\": {\n        \"dtype\": \"category\",\n        \"num_unique_values\": 7,\n        \"samples\": [\n          \"Nabisco\",\n          \"Quaker Oats\",\n          \"Post\"\n        ],\n        \"semantic_type\": \"\",\n        \"description\": \"\"\n      }\n    },\n    {\n      \"column\": \"calorias\",\n      \"properties\": {\n        \"dtype\": \"number\",\n        \"std\": 18,\n        \"min\": 50,\n        \"max\": 160,\n        \"num_unique_values\": 10,\n        \"samples\": [\n          160,\n          120,\n          90\n        ],\n        \"semantic_type\": \"\",\n        \"description\": \"\"\n      }\n    },\n    {\n      \"column\": \"proteina\",\n      \"properties\": {\n        \"dtype\": \"number\",\n        \"std\": 1,\n        \"min\": 1,\n        \"max\": 6,\n        \"num_unique_values\": 6,\n        \"samples\": [\n          4,\n          3,\n          5\n        ],\n        \"semantic_type\": \"\",\n        \"description\": \"\"\n      }\n    },\n    {\n      \"column\": \"grasa\",\n      \"properties\": {\n        \"dtype\": \"number\",\n        \"std\": 0,\n        \"min\": 0,\n        \"max\": 5,\n        \"num_unique_values\": 5,\n        \"samples\": [\n          5,\n          3,\n          0\n        ],\n        \"semantic_type\": \"\",\n        \"description\": \"\"\n      }\n    },\n    {\n      \"column\": \"sodio\",\n      \"properties\": {\n        \"dtype\": \"number\",\n        \"std\": 85,\n        \"min\": 0,\n        \"max\": 320,\n        \"num_unique_values\": 25,\n        \"samples\": [\n          220,\n          135,\n          130\n        ],\n        \"semantic_type\": \"\",\n        \"description\": \"\"\n      }\n    },\n    {\n      \"column\": \"fibra dietaria\",\n      \"properties\": {\n        \"dtype\": \"number\",\n        \"std\": 2.4040017390483825,\n        \"min\": 0.0,\n        \"max\": 14.0,\n        \"num_unique_values\": 13,\n        \"samples\": [\n          2.7,\n          3.0,\n          10.0\n        ],\n        \"semantic_type\": \"\",\n        \"description\": \"\"\n      }\n    },\n    {\n      \"column\": \"carbohidratos\",\n      \"properties\": {\n        \"dtype\": \"number\",\n        \"std\": 4.349205308984207,\n        \"min\": -1.0,\n        \"max\": 23.0,\n        \"num_unique_values\": 22,\n        \"samples\": [\n          5.0,\n          10.0,\n          13.0\n        ],\n        \"semantic_type\": \"\",\n        \"description\": \"\"\n      }\n    },\n    {\n      \"column\": \"az\\u00facar\",\n      \"properties\": {\n        \"dtype\": \"number\",\n        \"std\": 4,\n        \"min\": -1,\n        \"max\": 15,\n        \"num_unique_values\": 17,\n        \"samples\": [\n          6,\n          8,\n          14\n        ],\n        \"semantic_type\": \"\",\n        \"description\": \"\"\n      }\n    },\n    {\n      \"column\": \"potasio\",\n      \"properties\": {\n        \"dtype\": \"number\",\n        \"std\": 70,\n        \"min\": -1,\n        \"max\": 330,\n        \"num_unique_values\": 34,\n        \"samples\": [\n          20,\n          80,\n          15\n        ],\n        \"semantic_type\": \"\",\n        \"description\": \"\"\n      }\n    },\n    {\n      \"column\": \"vitaminas y minerales\",\n      \"properties\": {\n        \"dtype\": \"number\",\n        \"std\": 22,\n        \"min\": 0,\n        \"max\": 100,\n        \"num_unique_values\": 3,\n        \"samples\": [\n          25,\n          0,\n          100\n        ],\n        \"semantic_type\": \"\",\n        \"description\": \"\"\n      }\n    }\n  ]\n}"
            }
          },
          "metadata": {},
          "execution_count": 8
        }
      ],
      "source": [
        "### EJECUTAR ESTA CELDA SIN MODIFICARLA. SI FALLA, DEBE SEGUIR EL PROCEDIMIENTO DESCRITO ANTES.\n",
        "cereal_df = pd.read_csv('cerealsquiz.csv')\n",
        "cereal_df.head()"
      ]
    },
    {
      "cell_type": "code",
      "execution_count": 7,
      "metadata": {
        "colab": {
          "base_uri": "https://localhost:8080/"
        },
        "id": "i0Wctx6KkWRu",
        "outputId": "00e4421e-9b8a-40e0-c77a-114d50d22cab"
      },
      "outputs": [
        {
          "output_type": "stream",
          "name": "stdout",
          "text": [
            "<class 'pandas.core.frame.DataFrame'>\n",
            "RangeIndex: 74 entries, 0 to 73\n",
            "Data columns (total 11 columns):\n",
            " #   Column                 Non-Null Count  Dtype  \n",
            "---  ------                 --------------  -----  \n",
            " 0   nombre                 74 non-null     object \n",
            " 1   fabricante             74 non-null     object \n",
            " 2   calorias               74 non-null     int64  \n",
            " 3   proteina               74 non-null     int64  \n",
            " 4   grasa                  74 non-null     int64  \n",
            " 5   sodio                  74 non-null     int64  \n",
            " 6   fibra dietaria         74 non-null     float64\n",
            " 7   carbohidratos          74 non-null     float64\n",
            " 8   azúcar                 74 non-null     int64  \n",
            " 9   potasio                74 non-null     int64  \n",
            " 10  vitaminas y minerales  74 non-null     int64  \n",
            "dtypes: float64(2), int64(7), object(2)\n",
            "memory usage: 6.5+ KB\n"
          ]
        }
      ],
      "source": [
        "#TEST_CELL\n",
        "cereal_df.info()"
      ]
    },
    {
      "cell_type": "markdown",
      "metadata": {
        "id": "aou37DeR_xd9"
      },
      "source": [
        "No se preocupe por el archivo del dataset en ***UNCode***, el ambiente de calificación ya cuenta con este archivo para calificar sus ejercicios."
      ]
    },
    {
      "cell_type": "markdown",
      "metadata": {
        "id": "zUcb7X0eGCAi"
      },
      "source": [
        "## **1. Valores nutricionales medios con confianza**\n",
        "---\n",
        "Usted es parte de un equipo que está trabajando en un análisis nutricional de la muestra de productos recolectada en el *dataset* de cereales. En un primer acercamiento se le encomienda la tarea de encontrar el valor promedio, en forma de intervalo de confianza, de la información nutricional de una variable dada (por ejemplo, el total de azúcar o calorias) de los productos de un fabricante específico de cereales.\n",
        "\n",
        "Para esto, deberá definir la función **`valor_medio_intervalo`**, que tomará como entrada el nombre del **`fabricante`**, la columna o **`variable`** sobre la que debe realizar el cálculo y el nivel de **`confianza`** deseado para el cálculo del intervalo.\n",
        "\n",
        "**Entradas:**\n",
        "  * **`cereal_df`**: Cereal Dataframe.\n",
        "  * **`fabricante`**: Nombre del fabricante (**_Kelloggs_, _Quaker Oats_, _General Mills_, etc**).\n",
        "  * **`variable`**: Nombre de la variable numérica sobre la que se realiza el cálculo (**azúcares, grasa, proteina, etc**).\n",
        "  * **`confianza`**: Nivel **$\\beta$** de confianza del intervalo.\n",
        "\n",
        "**Salidas:**\n",
        "  * **`inicio`**: Límite inferior del intervalo de confianza.\n",
        "  * **`final`**:  Límite superior del intervalo de confianza.\n",
        "\n",
        "\n",
        "Por ejemplo, si un miembro del equipo desea conocer el valor medio de **azúcar** del fabricante ***Kelloggs*** con un $95\\%$ de confianza, el resultado de la ejecución debería ser el siguiente intervalo:\n",
        "\n",
        "```python\n",
        ">>> valor_medio_intervalo(cereal_df,'Kelloggs', 'azúcar', 0.95)\n",
        "(5.618939147403277, 9.511495635205419)\n",
        "```"
      ]
    },
    {
      "cell_type": "markdown",
      "metadata": {
        "id": "MLGwxvJnmbV3"
      },
      "source": [
        "<details>    \n",
        "<summary>\n",
        "    <font size=\"3\" color=\"darkgreen\"><b>Pistas</b></font>\n",
        "</summary>\n",
        "<p>\n",
        "\n",
        "* Recuerde la distinción entre nivel de **confianza** ($\\beta$) y nivel de  **significancia** ($\\alpha$).\n",
        "* Puede realizar selección condicional en un eje y selección por etiquetas en otro con el atributo **`.loc`** para obtener el *dataset* seleccionando únicamente con los datos de interés.\n",
        "* Consulte el material de estadística inferencial para saber cómo realizar un intervalo de confianza con **`statsmodels`**. No es necesario que utilice el método analítico.\n",
        "</p>"
      ]
    },
    {
      "cell_type": "code",
      "execution_count": 24,
      "metadata": {
        "id": "5nAcKJwlirwx"
      },
      "outputs": [],
      "source": [
        "# FUNCIÓN CALIFICADA valor_medio_intervalo:\n",
        "\n",
        "def valor_medio_intervalo(cereal_df, fabricante, variable, confianza):\n",
        "    ### ESCRIBA SU CÓDIGO AQUÍ ### (~ 3 líneas de código)\n",
        "\n",
        "    fabricante_data = cereal_df[cereal_df['fabricante'] == fabricante]\n",
        "\n",
        "    # Obtener los datos de la variable numérica\n",
        "    variable_data = fabricante_data[variable].dropna()  # Eliminar posibles valores NaN\n",
        "\n",
        "    # Calcular el valor medio (media muestral)\n",
        "    media = np.mean(variable_data)\n",
        "\n",
        "    # Calcular la desviación estándar muestral\n",
        "    desviacion_estandar = np.std(variable_data, ddof=1)  # ddof=1 para muestra\n",
        "\n",
        "    # Tamaño de la muestra\n",
        "    n = len(variable_data)\n",
        "\n",
        "    # Calcular el valor crítico t para el nivel de confianza deseado\n",
        "    alfa = 1 - confianza\n",
        "    t = stats.t.ppf(1 - alfa / 2, df=n-1)\n",
        "\n",
        "    # Calcular el error estándar\n",
        "    error_estandar = desviacion_estandar / np.sqrt(n)\n",
        "\n",
        "    # Calcular los límites del intervalo de confianza\n",
        "    inicio = media - t * error_estandar\n",
        "    final = media + t * error_estandar\n",
        "\n",
        "    return inicio, final\n",
        "    ### FIN DEL CÓDIGO ###"
      ]
    },
    {
      "cell_type": "code",
      "execution_count": 25,
      "metadata": {
        "colab": {
          "base_uri": "https://localhost:8080/"
        },
        "id": "9K3e6F9_GF2J",
        "outputId": "c13d4d84-c2ad-408e-a9cf-27a7418d201d"
      },
      "outputs": [
        {
          "output_type": "execute_result",
          "data": {
            "text/plain": [
              "(99.08751461234769, 118.3037897354784)"
            ]
          },
          "metadata": {},
          "execution_count": 25
        }
      ],
      "source": [
        "#TEST_CELL\n",
        "valor_medio_intervalo(cereal_df,'Kelloggs', 'calorias', 0.95)"
      ]
    },
    {
      "cell_type": "markdown",
      "metadata": {
        "id": "rQ85Iv3JzJGx"
      },
      "source": [
        "**Salida esperada:**\n",
        "```python\n",
        "(99.08751461234769, 118.3037897354784)\n",
        "```"
      ]
    },
    {
      "cell_type": "markdown",
      "metadata": {
        "id": "0E3fZtjv7Wv4"
      },
      "source": [
        "### **Evaluar código**"
      ]
    },
    {
      "cell_type": "code",
      "execution_count": 26,
      "metadata": {
        "colab": {
          "base_uri": "https://localhost:8080/",
          "height": 142
        },
        "id": "OuitWhqhxPN1",
        "outputId": "b548ab64-f098-46ed-d295-d4154f966ca1"
      },
      "outputs": [
        {
          "output_type": "stream",
          "name": "stdout",
          "text": [
            "Test 1_1\n"
          ]
        },
        {
          "output_type": "display_data",
          "data": {
            "text/plain": [
              "<IPython.core.display.HTML object>"
            ],
            "text/html": [
              "<h4>Test Run correctly</h4>"
            ]
          },
          "metadata": {}
        },
        {
          "output_type": "display_data",
          "data": {
            "text/plain": [
              "<IPython.core.display.HTML object>"
            ],
            "text/html": [
              "<h6 style=\"color: green;\">Your test grade: 100</h6>\n",
              "<h6>Feedback: Probando código</h6>"
            ]
          },
          "metadata": {}
        }
      ],
      "source": [
        "grader.run_test(\"Test 1_1\", globals())"
      ]
    },
    {
      "cell_type": "code",
      "execution_count": 27,
      "metadata": {
        "colab": {
          "base_uri": "https://localhost:8080/",
          "height": 142
        },
        "id": "D1Bej6FZSfA7",
        "outputId": "d2fb10a3-01fd-4e01-fb8e-b64c4baeb279"
      },
      "outputs": [
        {
          "output_type": "stream",
          "name": "stdout",
          "text": [
            "Test 1_2\n"
          ]
        },
        {
          "output_type": "display_data",
          "data": {
            "text/plain": [
              "<IPython.core.display.HTML object>"
            ],
            "text/html": [
              "<h4>Test Run correctly</h4>"
            ]
          },
          "metadata": {}
        },
        {
          "output_type": "display_data",
          "data": {
            "text/plain": [
              "<IPython.core.display.HTML object>"
            ],
            "text/html": [
              "<h6 style=\"color: green;\">Your test grade: 100</h6>\n",
              "<h6>Feedback: Probando código</h6>"
            ]
          },
          "metadata": {}
        }
      ],
      "source": [
        "grader.run_test(\"Test 1_2\", globals())"
      ]
    },
    {
      "cell_type": "code",
      "execution_count": 28,
      "metadata": {
        "colab": {
          "base_uri": "https://localhost:8080/",
          "height": 142
        },
        "id": "ELA4YLPzY_4W",
        "outputId": "b3d7e0a5-1920-47e3-b247-06ba327a7f03"
      },
      "outputs": [
        {
          "output_type": "stream",
          "name": "stdout",
          "text": [
            "Test 1_3\n"
          ]
        },
        {
          "output_type": "display_data",
          "data": {
            "text/plain": [
              "<IPython.core.display.HTML object>"
            ],
            "text/html": [
              "<h4>Test Run correctly</h4>"
            ]
          },
          "metadata": {}
        },
        {
          "output_type": "display_data",
          "data": {
            "text/plain": [
              "<IPython.core.display.HTML object>"
            ],
            "text/html": [
              "<h6 style=\"color: green;\">Your test grade: 100</h6>\n",
              "<h6>Feedback: Probando código</h6>"
            ]
          },
          "metadata": {}
        }
      ],
      "source": [
        "grader.run_test(\"Test 1_3\", globals())"
      ]
    },
    {
      "cell_type": "code",
      "execution_count": 29,
      "metadata": {
        "colab": {
          "base_uri": "https://localhost:8080/",
          "height": 142
        },
        "id": "K2iqAuNLZgCb",
        "outputId": "2f3bffca-4ff3-46e8-ed76-94946ca0d4ba"
      },
      "outputs": [
        {
          "output_type": "stream",
          "name": "stdout",
          "text": [
            "Test 1_4\n"
          ]
        },
        {
          "output_type": "display_data",
          "data": {
            "text/plain": [
              "<IPython.core.display.HTML object>"
            ],
            "text/html": [
              "<h4>Test Run correctly</h4>"
            ]
          },
          "metadata": {}
        },
        {
          "output_type": "display_data",
          "data": {
            "text/plain": [
              "<IPython.core.display.HTML object>"
            ],
            "text/html": [
              "<h6 style=\"color: green;\">Your test grade: 100</h6>\n",
              "<h6>Feedback: Probando código</h6>"
            ]
          },
          "metadata": {}
        }
      ],
      "source": [
        "grader.run_test(\"Test 1_4\", globals())"
      ]
    },
    {
      "cell_type": "markdown",
      "metadata": {
        "id": "G-hKW1xVvLa0"
      },
      "source": [
        "## **2. ¿Existe alguna diferencia nutricional significativa entre los productos de *Kelloggs* y *General Mills*?**\n",
        "---\n",
        "Como parte del proceso de análisis se decide identificar si un fabricante ofrece productos cuyos valores nutricionales medios presenten diferencias significativas con respecto a los ingredientes y valores nutricionales de otro fabricante. En particular, tras un análisis exploratorio previo, se decidió explorar estas diferencias específicamente entre los fabricantes *Kelloggs* y *General Mills*. Esto obedece a que al explorar el conteo de valores por fabricante, se tiene que estos ofrecen un número similar de productos y son los más representativos en el mercado de cereales identificado."
      ]
    },
    {
      "cell_type": "code",
      "execution_count": 30,
      "metadata": {
        "colab": {
          "base_uri": "https://localhost:8080/",
          "height": 335
        },
        "id": "KsUDMZOKlwFx",
        "outputId": "19d09105-fb21-490d-9fff-c9cbadabec28"
      },
      "outputs": [
        {
          "output_type": "execute_result",
          "data": {
            "text/plain": [
              "fabricante\n",
              "Kelloggs                       23\n",
              "General Mills                  22\n",
              "Quaker Oats                     8\n",
              "Post                            8\n",
              "Nabisco                         6\n",
              "Ralston Purina                  6\n",
              "American Home Food Products     1\n",
              "Name: count, dtype: int64"
            ],
            "text/html": [
              "<div>\n",
              "<style scoped>\n",
              "    .dataframe tbody tr th:only-of-type {\n",
              "        vertical-align: middle;\n",
              "    }\n",
              "\n",
              "    .dataframe tbody tr th {\n",
              "        vertical-align: top;\n",
              "    }\n",
              "\n",
              "    .dataframe thead th {\n",
              "        text-align: right;\n",
              "    }\n",
              "</style>\n",
              "<table border=\"1\" class=\"dataframe\">\n",
              "  <thead>\n",
              "    <tr style=\"text-align: right;\">\n",
              "      <th></th>\n",
              "      <th>count</th>\n",
              "    </tr>\n",
              "    <tr>\n",
              "      <th>fabricante</th>\n",
              "      <th></th>\n",
              "    </tr>\n",
              "  </thead>\n",
              "  <tbody>\n",
              "    <tr>\n",
              "      <th>Kelloggs</th>\n",
              "      <td>23</td>\n",
              "    </tr>\n",
              "    <tr>\n",
              "      <th>General Mills</th>\n",
              "      <td>22</td>\n",
              "    </tr>\n",
              "    <tr>\n",
              "      <th>Quaker Oats</th>\n",
              "      <td>8</td>\n",
              "    </tr>\n",
              "    <tr>\n",
              "      <th>Post</th>\n",
              "      <td>8</td>\n",
              "    </tr>\n",
              "    <tr>\n",
              "      <th>Nabisco</th>\n",
              "      <td>6</td>\n",
              "    </tr>\n",
              "    <tr>\n",
              "      <th>Ralston Purina</th>\n",
              "      <td>6</td>\n",
              "    </tr>\n",
              "    <tr>\n",
              "      <th>American Home Food Products</th>\n",
              "      <td>1</td>\n",
              "    </tr>\n",
              "  </tbody>\n",
              "</table>\n",
              "</div><br><label><b>dtype:</b> int64</label>"
            ]
          },
          "metadata": {},
          "execution_count": 30
        }
      ],
      "source": [
        "#TEST_CELL\n",
        "cereal_df['fabricante'].value_counts()"
      ]
    },
    {
      "cell_type": "markdown",
      "metadata": {
        "id": "LdGLhZrLmk9y"
      },
      "source": [
        "Por otro lado, si calculamos los valores medios de las variables numéricas agrupando por fabricante podemos notar algunas diferencias notables en varias de las variables medidas.\n",
        "\n",
        "**¿Alguna de estas diferencias es estadísticamente significativa?**"
      ]
    },
    {
      "cell_type": "code",
      "execution_count": 31,
      "metadata": {
        "colab": {
          "base_uri": "https://localhost:8080/",
          "height": 215
        },
        "id": "Y0FCvLYzm1t4",
        "outputId": "42f65d26-8a58-41e0-dc77-741eb7598bcb"
      },
      "outputs": [
        {
          "output_type": "execute_result",
          "data": {
            "text/plain": [
              "                 calorias  proteina     grasa       sodio  fibra dietaria  \\\n",
              "fabricante                                                                  \n",
              "Kelloggs       108.695652  2.652174  0.608696  174.782609        2.739130   \n",
              "General Mills  111.363636  2.318182  1.363636  200.454545        1.272727   \n",
              "\n",
              "               carbohidratos    azúcar     potasio  vitaminas y minerales  \n",
              "fabricante                                                                 \n",
              "Kelloggs           15.130435  7.565217  103.043478              34.782609  \n",
              "General Mills      14.727273  7.954545   85.227273              35.227273  "
            ],
            "text/html": [
              "\n",
              "  <div id=\"df-19b731b3-74c4-4cfa-a0a2-15c803205489\" class=\"colab-df-container\">\n",
              "    <div>\n",
              "<style scoped>\n",
              "    .dataframe tbody tr th:only-of-type {\n",
              "        vertical-align: middle;\n",
              "    }\n",
              "\n",
              "    .dataframe tbody tr th {\n",
              "        vertical-align: top;\n",
              "    }\n",
              "\n",
              "    .dataframe thead th {\n",
              "        text-align: right;\n",
              "    }\n",
              "</style>\n",
              "<table border=\"1\" class=\"dataframe\">\n",
              "  <thead>\n",
              "    <tr style=\"text-align: right;\">\n",
              "      <th></th>\n",
              "      <th>calorias</th>\n",
              "      <th>proteina</th>\n",
              "      <th>grasa</th>\n",
              "      <th>sodio</th>\n",
              "      <th>fibra dietaria</th>\n",
              "      <th>carbohidratos</th>\n",
              "      <th>azúcar</th>\n",
              "      <th>potasio</th>\n",
              "      <th>vitaminas y minerales</th>\n",
              "    </tr>\n",
              "    <tr>\n",
              "      <th>fabricante</th>\n",
              "      <th></th>\n",
              "      <th></th>\n",
              "      <th></th>\n",
              "      <th></th>\n",
              "      <th></th>\n",
              "      <th></th>\n",
              "      <th></th>\n",
              "      <th></th>\n",
              "      <th></th>\n",
              "    </tr>\n",
              "  </thead>\n",
              "  <tbody>\n",
              "    <tr>\n",
              "      <th>Kelloggs</th>\n",
              "      <td>108.695652</td>\n",
              "      <td>2.652174</td>\n",
              "      <td>0.608696</td>\n",
              "      <td>174.782609</td>\n",
              "      <td>2.739130</td>\n",
              "      <td>15.130435</td>\n",
              "      <td>7.565217</td>\n",
              "      <td>103.043478</td>\n",
              "      <td>34.782609</td>\n",
              "    </tr>\n",
              "    <tr>\n",
              "      <th>General Mills</th>\n",
              "      <td>111.363636</td>\n",
              "      <td>2.318182</td>\n",
              "      <td>1.363636</td>\n",
              "      <td>200.454545</td>\n",
              "      <td>1.272727</td>\n",
              "      <td>14.727273</td>\n",
              "      <td>7.954545</td>\n",
              "      <td>85.227273</td>\n",
              "      <td>35.227273</td>\n",
              "    </tr>\n",
              "  </tbody>\n",
              "</table>\n",
              "</div>\n",
              "    <div class=\"colab-df-buttons\">\n",
              "\n",
              "  <div class=\"colab-df-container\">\n",
              "    <button class=\"colab-df-convert\" onclick=\"convertToInteractive('df-19b731b3-74c4-4cfa-a0a2-15c803205489')\"\n",
              "            title=\"Convert this dataframe to an interactive table.\"\n",
              "            style=\"display:none;\">\n",
              "\n",
              "  <svg xmlns=\"http://www.w3.org/2000/svg\" height=\"24px\" viewBox=\"0 -960 960 960\">\n",
              "    <path d=\"M120-120v-720h720v720H120Zm60-500h600v-160H180v160Zm220 220h160v-160H400v160Zm0 220h160v-160H400v160ZM180-400h160v-160H180v160Zm440 0h160v-160H620v160ZM180-180h160v-160H180v160Zm440 0h160v-160H620v160Z\"/>\n",
              "  </svg>\n",
              "    </button>\n",
              "\n",
              "  <style>\n",
              "    .colab-df-container {\n",
              "      display:flex;\n",
              "      gap: 12px;\n",
              "    }\n",
              "\n",
              "    .colab-df-convert {\n",
              "      background-color: #E8F0FE;\n",
              "      border: none;\n",
              "      border-radius: 50%;\n",
              "      cursor: pointer;\n",
              "      display: none;\n",
              "      fill: #1967D2;\n",
              "      height: 32px;\n",
              "      padding: 0 0 0 0;\n",
              "      width: 32px;\n",
              "    }\n",
              "\n",
              "    .colab-df-convert:hover {\n",
              "      background-color: #E2EBFA;\n",
              "      box-shadow: 0px 1px 2px rgba(60, 64, 67, 0.3), 0px 1px 3px 1px rgba(60, 64, 67, 0.15);\n",
              "      fill: #174EA6;\n",
              "    }\n",
              "\n",
              "    .colab-df-buttons div {\n",
              "      margin-bottom: 4px;\n",
              "    }\n",
              "\n",
              "    [theme=dark] .colab-df-convert {\n",
              "      background-color: #3B4455;\n",
              "      fill: #D2E3FC;\n",
              "    }\n",
              "\n",
              "    [theme=dark] .colab-df-convert:hover {\n",
              "      background-color: #434B5C;\n",
              "      box-shadow: 0px 1px 3px 1px rgba(0, 0, 0, 0.15);\n",
              "      filter: drop-shadow(0px 1px 2px rgba(0, 0, 0, 0.3));\n",
              "      fill: #FFFFFF;\n",
              "    }\n",
              "  </style>\n",
              "\n",
              "    <script>\n",
              "      const buttonEl =\n",
              "        document.querySelector('#df-19b731b3-74c4-4cfa-a0a2-15c803205489 button.colab-df-convert');\n",
              "      buttonEl.style.display =\n",
              "        google.colab.kernel.accessAllowed ? 'block' : 'none';\n",
              "\n",
              "      async function convertToInteractive(key) {\n",
              "        const element = document.querySelector('#df-19b731b3-74c4-4cfa-a0a2-15c803205489');\n",
              "        const dataTable =\n",
              "          await google.colab.kernel.invokeFunction('convertToInteractive',\n",
              "                                                    [key], {});\n",
              "        if (!dataTable) return;\n",
              "\n",
              "        const docLinkHtml = 'Like what you see? Visit the ' +\n",
              "          '<a target=\"_blank\" href=https://colab.research.google.com/notebooks/data_table.ipynb>data table notebook</a>'\n",
              "          + ' to learn more about interactive tables.';\n",
              "        element.innerHTML = '';\n",
              "        dataTable['output_type'] = 'display_data';\n",
              "        await google.colab.output.renderOutput(dataTable, element);\n",
              "        const docLink = document.createElement('div');\n",
              "        docLink.innerHTML = docLinkHtml;\n",
              "        element.appendChild(docLink);\n",
              "      }\n",
              "    </script>\n",
              "  </div>\n",
              "\n",
              "\n",
              "<div id=\"df-3d203e26-96d8-4ac7-ac3f-051edaef88c6\">\n",
              "  <button class=\"colab-df-quickchart\" onclick=\"quickchart('df-3d203e26-96d8-4ac7-ac3f-051edaef88c6')\"\n",
              "            title=\"Suggest charts\"\n",
              "            style=\"display:none;\">\n",
              "\n",
              "<svg xmlns=\"http://www.w3.org/2000/svg\" height=\"24px\"viewBox=\"0 0 24 24\"\n",
              "     width=\"24px\">\n",
              "    <g>\n",
              "        <path d=\"M19 3H5c-1.1 0-2 .9-2 2v14c0 1.1.9 2 2 2h14c1.1 0 2-.9 2-2V5c0-1.1-.9-2-2-2zM9 17H7v-7h2v7zm4 0h-2V7h2v10zm4 0h-2v-4h2v4z\"/>\n",
              "    </g>\n",
              "</svg>\n",
              "  </button>\n",
              "\n",
              "<style>\n",
              "  .colab-df-quickchart {\n",
              "      --bg-color: #E8F0FE;\n",
              "      --fill-color: #1967D2;\n",
              "      --hover-bg-color: #E2EBFA;\n",
              "      --hover-fill-color: #174EA6;\n",
              "      --disabled-fill-color: #AAA;\n",
              "      --disabled-bg-color: #DDD;\n",
              "  }\n",
              "\n",
              "  [theme=dark] .colab-df-quickchart {\n",
              "      --bg-color: #3B4455;\n",
              "      --fill-color: #D2E3FC;\n",
              "      --hover-bg-color: #434B5C;\n",
              "      --hover-fill-color: #FFFFFF;\n",
              "      --disabled-bg-color: #3B4455;\n",
              "      --disabled-fill-color: #666;\n",
              "  }\n",
              "\n",
              "  .colab-df-quickchart {\n",
              "    background-color: var(--bg-color);\n",
              "    border: none;\n",
              "    border-radius: 50%;\n",
              "    cursor: pointer;\n",
              "    display: none;\n",
              "    fill: var(--fill-color);\n",
              "    height: 32px;\n",
              "    padding: 0;\n",
              "    width: 32px;\n",
              "  }\n",
              "\n",
              "  .colab-df-quickchart:hover {\n",
              "    background-color: var(--hover-bg-color);\n",
              "    box-shadow: 0 1px 2px rgba(60, 64, 67, 0.3), 0 1px 3px 1px rgba(60, 64, 67, 0.15);\n",
              "    fill: var(--button-hover-fill-color);\n",
              "  }\n",
              "\n",
              "  .colab-df-quickchart-complete:disabled,\n",
              "  .colab-df-quickchart-complete:disabled:hover {\n",
              "    background-color: var(--disabled-bg-color);\n",
              "    fill: var(--disabled-fill-color);\n",
              "    box-shadow: none;\n",
              "  }\n",
              "\n",
              "  .colab-df-spinner {\n",
              "    border: 2px solid var(--fill-color);\n",
              "    border-color: transparent;\n",
              "    border-bottom-color: var(--fill-color);\n",
              "    animation:\n",
              "      spin 1s steps(1) infinite;\n",
              "  }\n",
              "\n",
              "  @keyframes spin {\n",
              "    0% {\n",
              "      border-color: transparent;\n",
              "      border-bottom-color: var(--fill-color);\n",
              "      border-left-color: var(--fill-color);\n",
              "    }\n",
              "    20% {\n",
              "      border-color: transparent;\n",
              "      border-left-color: var(--fill-color);\n",
              "      border-top-color: var(--fill-color);\n",
              "    }\n",
              "    30% {\n",
              "      border-color: transparent;\n",
              "      border-left-color: var(--fill-color);\n",
              "      border-top-color: var(--fill-color);\n",
              "      border-right-color: var(--fill-color);\n",
              "    }\n",
              "    40% {\n",
              "      border-color: transparent;\n",
              "      border-right-color: var(--fill-color);\n",
              "      border-top-color: var(--fill-color);\n",
              "    }\n",
              "    60% {\n",
              "      border-color: transparent;\n",
              "      border-right-color: var(--fill-color);\n",
              "    }\n",
              "    80% {\n",
              "      border-color: transparent;\n",
              "      border-right-color: var(--fill-color);\n",
              "      border-bottom-color: var(--fill-color);\n",
              "    }\n",
              "    90% {\n",
              "      border-color: transparent;\n",
              "      border-bottom-color: var(--fill-color);\n",
              "    }\n",
              "  }\n",
              "</style>\n",
              "\n",
              "  <script>\n",
              "    async function quickchart(key) {\n",
              "      const quickchartButtonEl =\n",
              "        document.querySelector('#' + key + ' button');\n",
              "      quickchartButtonEl.disabled = true;  // To prevent multiple clicks.\n",
              "      quickchartButtonEl.classList.add('colab-df-spinner');\n",
              "      try {\n",
              "        const charts = await google.colab.kernel.invokeFunction(\n",
              "            'suggestCharts', [key], {});\n",
              "      } catch (error) {\n",
              "        console.error('Error during call to suggestCharts:', error);\n",
              "      }\n",
              "      quickchartButtonEl.classList.remove('colab-df-spinner');\n",
              "      quickchartButtonEl.classList.add('colab-df-quickchart-complete');\n",
              "    }\n",
              "    (() => {\n",
              "      let quickchartButtonEl =\n",
              "        document.querySelector('#df-3d203e26-96d8-4ac7-ac3f-051edaef88c6 button');\n",
              "      quickchartButtonEl.style.display =\n",
              "        google.colab.kernel.accessAllowed ? 'block' : 'none';\n",
              "    })();\n",
              "  </script>\n",
              "</div>\n",
              "\n",
              "    </div>\n",
              "  </div>\n"
            ],
            "application/vnd.google.colaboratory.intrinsic+json": {
              "type": "dataframe",
              "summary": "{\n  \"name\": \"cereal_df\",\n  \"rows\": 2,\n  \"fields\": [\n    {\n      \"column\": \"fabricante\",\n      \"properties\": {\n        \"dtype\": \"string\",\n        \"num_unique_values\": 2,\n        \"samples\": [\n          \"General Mills\",\n          \"Kelloggs\"\n        ],\n        \"semantic_type\": \"\",\n        \"description\": \"\"\n      }\n    },\n    {\n      \"column\": \"calorias\",\n      \"properties\": {\n        \"dtype\": \"number\",\n        \"std\": 1.8865497126518511,\n        \"min\": 108.69565217391305,\n        \"max\": 111.36363636363636,\n        \"num_unique_values\": 2,\n        \"samples\": [\n          111.36363636363636,\n          108.69565217391305\n        ],\n        \"semantic_type\": \"\",\n        \"description\": \"\"\n      }\n    },\n    {\n      \"column\": \"proteina\",\n      \"properties\": {\n        \"dtype\": \"number\",\n        \"std\": 0.23616807513938023,\n        \"min\": 2.3181818181818183,\n        \"max\": 2.652173913043478,\n        \"num_unique_values\": 2,\n        \"samples\": [\n          2.3181818181818183,\n          2.652173913043478\n        ],\n        \"semantic_type\": \"\",\n        \"description\": \"\"\n      }\n    },\n    {\n      \"column\": \"grasa\",\n      \"properties\": {\n        \"dtype\": \"number\",\n        \"std\": 0.5338236964688955,\n        \"min\": 0.6086956521739131,\n        \"max\": 1.3636363636363635,\n        \"num_unique_values\": 2,\n        \"samples\": [\n          1.3636363636363635,\n          0.6086956521739131\n        ],\n        \"semantic_type\": \"\",\n        \"description\": \"\"\n      }\n    },\n    {\n      \"column\": \"sodio\",\n      \"properties\": {\n        \"dtype\": \"number\",\n        \"std\": 18.152800568405638,\n        \"min\": 174.7826086956522,\n        \"max\": 200.45454545454547,\n        \"num_unique_values\": 2,\n        \"samples\": [\n          200.45454545454547,\n          174.7826086956522\n        ],\n        \"semantic_type\": \"\",\n        \"description\": \"\"\n      }\n    },\n    {\n      \"column\": \"fibra dietaria\",\n      \"properties\": {\n        \"dtype\": \"number\",\n        \"std\": 1.036903619842724,\n        \"min\": 1.2727272727272727,\n        \"max\": 2.739130434782609,\n        \"num_unique_values\": 2,\n        \"samples\": [\n          1.2727272727272727,\n          2.739130434782609\n        ],\n        \"semantic_type\": \"\",\n        \"description\": \"\"\n      }\n    },\n    {\n      \"column\": \"carbohidratos\",\n      \"properties\": {\n        \"dtype\": \"number\",\n        \"std\": 0.2850786232451696,\n        \"min\": 14.727272727272727,\n        \"max\": 15.130434782608695,\n        \"num_unique_values\": 2,\n        \"samples\": [\n          14.727272727272727,\n          15.130434782608695\n        ],\n        \"semantic_type\": \"\",\n        \"description\": \"\"\n      }\n    },\n    {\n      \"column\": \"az\\u00facar\",\n      \"properties\": {\n        \"dtype\": \"number\",\n        \"std\": 0.2752965136240114,\n        \"min\": 7.565217391304348,\n        \"max\": 7.954545454545454,\n        \"num_unique_values\": 2,\n        \"samples\": [\n          7.954545454545454,\n          7.565217391304348\n        ],\n        \"semantic_type\": \"\",\n        \"description\": \"\"\n      }\n    },\n    {\n      \"column\": \"potasio\",\n      \"properties\": {\n        \"dtype\": \"number\",\n        \"std\": 12.59795974781961,\n        \"min\": 85.22727272727273,\n        \"max\": 103.04347826086956,\n        \"num_unique_values\": 2,\n        \"samples\": [\n          85.22727272727273,\n          103.04347826086956\n        ],\n        \"semantic_type\": \"\",\n        \"description\": \"\"\n      }\n    },\n    {\n      \"column\": \"vitaminas y minerales\",\n      \"properties\": {\n        \"dtype\": \"number\",\n        \"std\": 0.3144249521086435,\n        \"min\": 34.78260869565217,\n        \"max\": 35.22727272727273,\n        \"num_unique_values\": 2,\n        \"samples\": [\n          35.22727272727273,\n          34.78260869565217\n        ],\n        \"semantic_type\": \"\",\n        \"description\": \"\"\n      }\n    }\n  ]\n}"
            }
          },
          "metadata": {},
          "execution_count": 31
        }
      ],
      "source": [
        "#TEST_CELL\n",
        "cereal_df.groupby('fabricante').mean(numeric_only=True).loc[['Kelloggs', 'General Mills']]"
      ]
    },
    {
      "cell_type": "markdown",
      "metadata": {
        "id": "YtXEI62LnFQV"
      },
      "source": [
        "En este ejercicio deberá escribir la función **`cereales_hipotesis_media`**. Esta función realiza un test de hipótesis sobre la diferencia de medias de una **`variable`** dada, con un nivel de **`confianza`** deseado, para los fabricantes ***Kelloggs*** y ***General Mills***. A partir de los resultados del test de hipótesis debe determinar:\n",
        "\n",
        "*  Si se puede llegar o no a una **`conclusión`** significativa con el valor de confianza deseado.\n",
        "*  El **`p-valor`** de la prueba.\n",
        "*  El nombre del fabricante con **`mayor`** y **`menor`** valor según la media muestral, en ese orden.\n",
        "\n",
        "\n",
        "**Entradas:**\n",
        "  * **`cereal_df`**: Cereal Dataframe.\n",
        "  * **`variable`**: Nombre de la variable numérica sobre la que se realiza el cálculo (**azúcares, grasa, proteína, etc.**).\n",
        "  * **`confianza`**: Nivel **$\\beta$** de confianza del intervalo.\n",
        "\n",
        "**Salidas:**\n",
        "  * **`conclusión`**: Valor Booleano (`True` o `False`) indicando si hay una diferencia significativa.\n",
        "  * **`p_valor`**:  El **`p-valor`** de la prueba.\n",
        "  * **`mayor`**:  El nombre del fabricante con el valor mayor según la media muestral.\n",
        "  * **`menor`**:  El nombre del fabricante con el valor menor según la media muestral.\n",
        "\n",
        "Por ejemplo, si se deseara comparar la cantidad de **azúcar** con un valor de confianza del $95\\%$, el resultado de la ejecución debería ser el siguiente:\n",
        "\n",
        "\n",
        "```python\n",
        ">>> cereales_hipotesis_media(cereal_df, 'azúcar', 0.95)\n",
        "(False, 0.7577470989748843, 'General Mills', 'Kelloggs')\n",
        "```\n",
        "\n",
        "\n"
      ]
    },
    {
      "cell_type": "markdown",
      "metadata": {
        "id": "Ibzh7vwJqkps"
      },
      "source": [
        "<details>    \n",
        "<summary>\n",
        "    <font size=\"3\" color=\"darkgreen\"><b>Pistas</b></font>\n",
        "</summary>\n",
        "<p>\n",
        "\n",
        "* Recuerde la distinción entre **confianza** ($\\beta$) y **significancia** ($\\alpha$).\n",
        "* Consulte el material de estadística inferencial para saber cómo realizar un test de hipótesis con **`scipy`**. No es necesario que utilice el método analítico.\n",
        "* Tenga en cuenta que el test está diseñado para identificar si **existe una diferencia significativa**, y no se conoce ni hipotetiza cuál de las dos debería ser mayor. ¿Qué tipo de *hipótesis* es esta y qué relación tiene con la significancia utilizada?\n",
        "* Considere el tamaño de las muestras y demás factores. ¿Qué prueba de hipótesis discutida y ejemplificada en el material guía es la más apropiada?\n",
        "</p>"
      ]
    },
    {
      "cell_type": "code",
      "execution_count": 56,
      "metadata": {
        "id": "1es5UfValMuC"
      },
      "outputs": [],
      "source": [
        "# FUNCIÓN CALIFICADA cereales_hipotesis_media:\n",
        "\n",
        "def cereales_hipotesis_media(cereal_df, variable, confianza):\n",
        "    kelloggs_data = cereal_df[cereal_df['fabricante'] == 'Kelloggs'][variable].dropna()\n",
        "    general_mills_data = cereal_df[cereal_df['fabricante'] == 'General Mills'][variable].dropna()\n",
        "\n",
        "    # Calcular la media de cada fabricante\n",
        "    media_kelloggs = np.mean(kelloggs_data)\n",
        "    media_general_mills = np.mean(general_mills_data)\n",
        "\n",
        "    # Realizar la prueba t para muestras independientes con 'equal_var=False'\n",
        "    t_stat, p_valor = stats.ttest_ind(kelloggs_data, general_mills_data, equal_var=False)\n",
        "\n",
        "    # No redondeamos el p-valor, usamos más precisión en este caso\n",
        "    p_valor_preciso = p_valor\n",
        "\n",
        "    # Determinar si hay diferencia significativa\n",
        "    alfa = 1 - confianza\n",
        "    conclusion = p_valor_preciso < alfa\n",
        "\n",
        "    # Determinar cuál fabricante tiene mayor y menor media\n",
        "    if media_kelloggs > media_general_mills:\n",
        "        mayor = 'Kelloggs'\n",
        "        menor = 'General Mills'\n",
        "    else:\n",
        "        mayor = 'General Mills'\n",
        "        menor = 'Kelloggs'\n",
        "\n",
        "    return conclusion, p_valor_preciso, mayor, menor\n"
      ]
    },
    {
      "cell_type": "code",
      "execution_count": 57,
      "metadata": {
        "colab": {
          "base_uri": "https://localhost:8080/"
        },
        "id": "9JbR2n7p1eh4",
        "outputId": "8f84e290-6a84-4961-ffc4-6d1a0c332893"
      },
      "outputs": [
        {
          "output_type": "execute_result",
          "data": {
            "text/plain": [
              "(False, 0.7569670923522965, 'General Mills', 'Kelloggs')"
            ]
          },
          "metadata": {},
          "execution_count": 57
        }
      ],
      "source": [
        "#TEST_CELL\n",
        "\n",
        "cereales_hipotesis_media(cereal_df,'azúcar', 0.95)"
      ]
    },
    {
      "cell_type": "markdown",
      "metadata": {
        "id": "iwhnqtZqRikN"
      },
      "source": [
        "**Salida esperada:**\n",
        "```python\n",
        "(False, 0.7577470989748843, 'General Mills', 'Kelloggs')\n",
        "```"
      ]
    },
    {
      "cell_type": "markdown",
      "metadata": {
        "id": "RWrer4cUzcQU"
      },
      "source": [
        "Puede usar la siguiente celda de pruebas para probar su función. En esta se lleva a cabo la prueba en todas las variables con un nivel de confianza del $90\\%$."
      ]
    },
    {
      "cell_type": "code",
      "execution_count": 58,
      "metadata": {
        "colab": {
          "base_uri": "https://localhost:8080/"
        },
        "id": "umM8jT3Azlvf",
        "outputId": "a941657a-8165-4500-b22a-de11f41f96ee"
      },
      "outputs": [
        {
          "output_type": "stream",
          "name": "stdout",
          "text": [
            "Con un valor de confianza de 0.9\n",
            "-------------------------------------------\n",
            "No se puede afirmar que existe una diferencia en la cantidad de calorias. (p-valor: 0.6069)\n",
            "\n",
            "No se puede afirmar que existe una diferencia en la cantidad de proteina. (p-valor: 0.3147)\n",
            "\n",
            "Los productos de General Mills tienen mayor cantidad de grasa que los de Kelloggs con un p-valor de 0.0011.\n",
            "\n",
            "No se puede afirmar que existe una diferencia en la cantidad de sodio. (p-valor: 0.2058)\n",
            "\n",
            "Los productos de Kelloggs tienen mayor cantidad de fibra dietaria que los de General Mills con un p-valor de 0.0500.\n",
            "\n",
            "No se puede afirmar que existe una diferencia en la cantidad de carbohidratos. (p-valor: 0.7329)\n",
            "\n",
            "No se puede afirmar que existe una diferencia en la cantidad de azúcar. (p-valor: 0.7570)\n",
            "\n",
            "No se puede afirmar que existe una diferencia en la cantidad de potasio. (p-valor: 0.4136)\n",
            "\n",
            "No se puede afirmar que existe una diferencia en la cantidad de vitaminas y minerales. (p-valor: 0.9547)\n",
            "\n"
          ]
        }
      ],
      "source": [
        "#TEST_CELL\n",
        "\n",
        "confianza = 0.9\n",
        "print(f'Con un valor de confianza de {confianza}')\n",
        "print('-------------------------------------------')\n",
        "for variable in cereal_df.select_dtypes(np.number).columns: # select_dtypes para tener en cuenta solo variables numéricas.\n",
        "  conclusion, pvalor, mayor, menor = cereales_hipotesis_media(cereal_df, variable, confianza)\n",
        "  if (conclusion):\n",
        "    print(f'Los productos de {mayor} tienen mayor cantidad de {variable} que los de {menor} con un p-valor de {pvalor:.4f}.\\n') #  :.4f para aproximar a 4 decimales.\n",
        "  else:\n",
        "    print(f'No se puede afirmar que existe una diferencia en la cantidad de {variable}. (p-valor: {pvalor:.4f})\\n')"
      ]
    },
    {
      "cell_type": "markdown",
      "metadata": {
        "id": "8gJsxr25r0PZ"
      },
      "source": [
        "**Salida esperada:**\n",
        "```python\n",
        "Con un valor de confianza de 0.9\n",
        "-------------------------------------------\n",
        "No se puede afirmar que existe una diferencia en la cantidad de calorias. (p-valor: 0.6111)\n",
        "\n",
        "No se puede afirmar que existe una diferencia en la cantidad de proteina. (p-valor: 0.3141)\n",
        "\n",
        "Los productos de General Mills tienen mayor cantidad de grasa que los de Kelloggs con un p-valor de 0.0011.\n",
        "\n",
        "No se puede afirmar que existe una diferencia en la cantidad de sodio. (p-valor: 0.2096)\n",
        "\n",
        "No se puede afirmar que existe una diferencia en la cantidad de fibra dietaria. (p-valor: 0.0505)\n",
        "\n",
        "No se puede afirmar que existe una diferencia en la cantidad de carbohidratos. (p-valor: 0.7344)\n",
        "\n",
        "No se puede afirmar que existe una diferencia en la cantidad de azúcar. (p-valor: 0.7577)\n",
        "\n",
        "No se puede afirmar que existe una diferencia en la cantidad de potasio. (p-valor: 0.4185)\n",
        "\n",
        "No se puede afirmar que existe una diferencia en la cantidad de vitaminas y minerales. (p-valor: 0.9547)\n",
        "```"
      ]
    },
    {
      "cell_type": "markdown",
      "metadata": {
        "id": "lkxuBtI355OP"
      },
      "source": [
        "¿Cómo se puede interpretar este resultado? Por favor, siempre analice e interprete sus hallazgos."
      ]
    },
    {
      "cell_type": "markdown",
      "metadata": {
        "id": "aQ8Gua707aDT"
      },
      "source": [
        "### **Evaluar código**"
      ]
    },
    {
      "cell_type": "code",
      "execution_count": 59,
      "metadata": {
        "colab": {
          "base_uri": "https://localhost:8080/",
          "height": 215
        },
        "id": "7IwS0Aam-car",
        "outputId": "382ab990-f76e-4087-a7aa-ddfca6e5877b"
      },
      "outputs": [
        {
          "output_type": "stream",
          "name": "stdout",
          "text": [
            "Test 2_1\n"
          ]
        },
        {
          "output_type": "display_data",
          "data": {
            "text/plain": [
              "<IPython.core.display.HTML object>"
            ],
            "text/html": [
              "<h4>Test Run correctly</h4>"
            ]
          },
          "metadata": {}
        },
        {
          "output_type": "display_data",
          "data": {
            "text/plain": [
              "<IPython.core.display.HTML object>"
            ],
            "text/html": [
              "<h6 style=\"color: red;\">Your test grade: 78</h6>\n",
              "<h6>Feedback: Probando código<p>* El valor retornado en index 1 no es el esperado. Se esperaba <span style=\"color: green;\">0.7577470989748843</span></p><p>Pero se obtuvo <span style=\"color: red;\">0.7569670923522965</span></p><p>* Explore la documentación de las funciones estadísticas utilizadas para conocer el orden de desempaquetado de sus valores de retorno.</p><p>No es suficiente con utilizar los mismos nombres de variables si el orden no es el correcto.</p></h6>"
            ]
          },
          "metadata": {}
        }
      ],
      "source": [
        "grader.run_test(\"Test 2_1\", globals())"
      ]
    },
    {
      "cell_type": "code",
      "execution_count": 37,
      "metadata": {
        "colab": {
          "base_uri": "https://localhost:8080/",
          "height": 142
        },
        "id": "cpCJhVbL7Wyw",
        "outputId": "74e46237-d908-4b7f-b5ee-1fd9d6a95d53"
      },
      "outputs": [
        {
          "output_type": "stream",
          "name": "stdout",
          "text": [
            "Test 2_2\n"
          ]
        },
        {
          "output_type": "display_data",
          "data": {
            "text/plain": [
              "<IPython.core.display.HTML object>"
            ],
            "text/html": [
              "<h4>Test Run correctly</h4>"
            ]
          },
          "metadata": {}
        },
        {
          "output_type": "display_data",
          "data": {
            "text/plain": [
              "<IPython.core.display.HTML object>"
            ],
            "text/html": [
              "<h6 style=\"color: green;\">Your test grade: 100</h6>\n",
              "<h6>Feedback: Probando código</h6>"
            ]
          },
          "metadata": {}
        }
      ],
      "source": [
        "grader.run_test(\"Test 2_2\", globals())"
      ]
    },
    {
      "cell_type": "code",
      "execution_count": 49,
      "metadata": {
        "colab": {
          "base_uri": "https://localhost:8080/",
          "height": 226
        },
        "id": "fMPLvtfrbfyo",
        "outputId": "e8ae9b65-6351-4882-bd0e-0d87702ee831"
      },
      "outputs": [
        {
          "output_type": "stream",
          "name": "stdout",
          "text": [
            "Test 2_3\n"
          ]
        },
        {
          "output_type": "display_data",
          "data": {
            "text/plain": [
              "<IPython.core.display.HTML object>"
            ],
            "text/html": [
              "<h4>Test Run correctly</h4>"
            ]
          },
          "metadata": {}
        },
        {
          "output_type": "display_data",
          "data": {
            "text/plain": [
              "<IPython.core.display.HTML object>"
            ],
            "text/html": [
              "<h6 style=\"color: red;\">Your test grade: 10</h6>\n",
              "<h6>Feedback: Probando código<p>* El valor retornado en p-valor no es el esperado. Se esperaba <span style=\"color: green;\">0.7577470989748843</span></p><p>Pero se obtuvo <span style=\"color: red;\">0.757</span></p><p>* el p-valor y el valor de confianza tienen una relación distinta cuando se trata de una prueba de hipótesis de 1 o 2 colas.</p><p>Cuando se tienen dos colas el p-valor corresponde al área de los dos extremos, reduciendo a la mitad el área de cada uno con respecto a la que tendría en una prueba de una cola.</p></h6>"
            ]
          },
          "metadata": {}
        }
      ],
      "source": [
        "grader.run_test(\"Test 2_3\", globals())"
      ]
    },
    {
      "cell_type": "code",
      "execution_count": 50,
      "metadata": {
        "colab": {
          "base_uri": "https://localhost:8080/",
          "height": 215
        },
        "id": "6It4JnadjuZy",
        "outputId": "4050e6e6-04ca-464f-c32f-1625738d6084"
      },
      "outputs": [
        {
          "output_type": "stream",
          "name": "stdout",
          "text": [
            "Test 2_4\n"
          ]
        },
        {
          "output_type": "display_data",
          "data": {
            "text/plain": [
              "<IPython.core.display.HTML object>"
            ],
            "text/html": [
              "<h4>Test Run correctly</h4>"
            ]
          },
          "metadata": {}
        },
        {
          "output_type": "display_data",
          "data": {
            "text/plain": [
              "<IPython.core.display.HTML object>"
            ],
            "text/html": [
              "<h6 style=\"color: red;\">Your test grade: 78</h6>\n",
              "<h6>Feedback: Probando código<p>* El valor retornado en index 1 no es el esperado. Se esperaba <span style=\"color: green;\">0.0011151023849933703</span></p><p>Pero se obtuvo <span style=\"color: red;\">0.0011</span></p><p>* Explore la documentación de las funciones estadísticas utilizadas para conocer el orden de desempaquetado de sus valores de retorno.</p><p>No es suficiente con utilizar los mismos nombres de variables si el orden no es el correcto.</p></h6>"
            ]
          },
          "metadata": {}
        }
      ],
      "source": [
        "grader.run_test(\"Test 2_4\", globals())"
      ]
    },
    {
      "cell_type": "code",
      "execution_count": 51,
      "metadata": {
        "colab": {
          "base_uri": "https://localhost:8080/",
          "height": 215
        },
        "id": "lqVkk1yDleMz",
        "outputId": "eb34d9c3-9041-4962-9390-afbd563b148e"
      },
      "outputs": [
        {
          "output_type": "stream",
          "name": "stdout",
          "text": [
            "Test 2_5\n"
          ]
        },
        {
          "output_type": "display_data",
          "data": {
            "text/plain": [
              "<IPython.core.display.HTML object>"
            ],
            "text/html": [
              "<h4>Test Run correctly</h4>"
            ]
          },
          "metadata": {}
        },
        {
          "output_type": "display_data",
          "data": {
            "text/plain": [
              "<IPython.core.display.HTML object>"
            ],
            "text/html": [
              "<h6 style=\"color: red;\">Your test grade: 78</h6>\n",
              "<h6>Feedback: Probando código<p>* El valor retornado en index 1 no es el esperado. Se esperaba <span style=\"color: green;\">0.41846459175774264</span></p><p>Pero se obtuvo <span style=\"color: red;\">0.4136</span></p><p>* Explore la documentación de las funciones estadísticas utilizadas para conocer el orden de desempaquetado de sus valores de retorno.</p><p>No es suficiente con utilizar los mismos nombres de variables si el orden no es el correcto.</p></h6>"
            ]
          },
          "metadata": {}
        }
      ],
      "source": [
        "grader.run_test(\"Test 2_5\", globals())"
      ]
    },
    {
      "cell_type": "code",
      "execution_count": 60,
      "metadata": {
        "colab": {
          "base_uri": "https://localhost:8080/",
          "height": 268
        },
        "id": "kQMXtUS5l4RY",
        "outputId": "42da12dd-b651-48ba-db80-73614ba509a6"
      },
      "outputs": [
        {
          "output_type": "stream",
          "name": "stdout",
          "text": [
            "Test 2_6\n"
          ]
        },
        {
          "output_type": "display_data",
          "data": {
            "text/plain": [
              "<IPython.core.display.HTML object>"
            ],
            "text/html": [
              "<h4>Test Run correctly</h4>"
            ]
          },
          "metadata": {}
        },
        {
          "output_type": "display_data",
          "data": {
            "text/plain": [
              "<IPython.core.display.HTML object>"
            ],
            "text/html": [
              "<h6 style=\"color: red;\">Your test grade: 58</h6>\n",
              "<h6>Feedback: Probando código<p>* El valor retornado en index 0 no es el esperado. Se esperaba <span style=\"color: green;\">False</span></p><p>Pero se obtuvo <span style=\"color: red;\">True</span></p><p>* El valor retornado en index 1 no es el esperado. Se esperaba <span style=\"color: green;\">0.05049548813014828</span></p><p>Pero se obtuvo <span style=\"color: red;\">0.04998356983547761</span></p><p>* Explore la documentación de las funciones estadísticas utilizadas para conocer el orden de desempaquetado de sus valores de retorno.</p><p>No es suficiente con utilizar los mismos nombres de variables si el orden no es el correcto.</p><p>* Comprueba cómo estás validando la conclusión</p></h6>"
            ]
          },
          "metadata": {}
        }
      ],
      "source": [
        "grader.run_test(\"Test 2_6\", globals())"
      ]
    },
    {
      "cell_type": "markdown",
      "metadata": {
        "id": "YjD3kZ5ePL71"
      },
      "source": [
        "## **Evaluación**\n",
        "**¡Felicitaciones!** Ha terminado el quiz. ¡Buen trabajo!\n"
      ]
    },
    {
      "cell_type": "code",
      "execution_count": 61,
      "metadata": {
        "colab": {
          "base_uri": "https://localhost:8080/",
          "height": 1000
        },
        "id": "DF91uRWs7e-B",
        "outputId": "c672c4a2-3c90-4c4a-d6a1-41334375a887"
      },
      "outputs": [
        {
          "output_type": "stream",
          "name": "stdout",
          "text": [
            "Test 1_1\n",
            "Test 1_2\n",
            "Test 1_3\n",
            "Test 1_4\n",
            "Test 2_1\n",
            "Test 2_2\n",
            "Test 2_4\n",
            "Test 2_5\n",
            "Test 2_6\n",
            "Test 2_3\n"
          ]
        },
        {
          "output_type": "display_data",
          "data": {
            "text/plain": [
              "<IPython.core.display.HTML object>"
            ],
            "text/html": [
              "<h3>Grading succeeded</h3>"
            ]
          },
          "metadata": {}
        },
        {
          "output_type": "display_data",
          "data": {
            "text/plain": [
              "<IPython.core.display.HTML object>"
            ],
            "text/html": [
              "<h6 style=\"color: green;\">TEST Test 1_1 , Your test grade: 100</h6>\n",
              "<h6>Feedback: Probando código</h6>"
            ]
          },
          "metadata": {}
        },
        {
          "output_type": "display_data",
          "data": {
            "text/plain": [
              "<IPython.core.display.HTML object>"
            ],
            "text/html": [
              "<h6 style=\"color: green;\">TEST Test 1_2 , Your test grade: 100</h6>\n",
              "<h6>Feedback: Probando código</h6>"
            ]
          },
          "metadata": {}
        },
        {
          "output_type": "display_data",
          "data": {
            "text/plain": [
              "<IPython.core.display.HTML object>"
            ],
            "text/html": [
              "<h6 style=\"color: green;\">TEST Test 1_3 , Your test grade: 100</h6>\n",
              "<h6>Feedback: Probando código</h6>"
            ]
          },
          "metadata": {}
        },
        {
          "output_type": "display_data",
          "data": {
            "text/plain": [
              "<IPython.core.display.HTML object>"
            ],
            "text/html": [
              "<h6 style=\"color: green;\">TEST Test 1_4 , Your test grade: 100</h6>\n",
              "<h6>Feedback: Probando código</h6>"
            ]
          },
          "metadata": {}
        },
        {
          "output_type": "display_data",
          "data": {
            "text/plain": [
              "<IPython.core.display.HTML object>"
            ],
            "text/html": [
              "<h6 style=\"color: red;\">TEST Test 2_1 , Your test grade: 78</h6>\n",
              "<h6>Feedback: Probando código<p>* El valor retornado en index 1 no es el esperado. Se esperaba <span style=\"color: green;\">0.7577470989748843</span></p><p>Pero se obtuvo <span style=\"color: red;\">0.7569670923522965</span></p><p>* Explore la documentación de las funciones estadísticas utilizadas para conocer el orden de desempaquetado de sus valores de retorno.</p><p>No es suficiente con utilizar los mismos nombres de variables si el orden no es el correcto.</p></h6>"
            ]
          },
          "metadata": {}
        },
        {
          "output_type": "display_data",
          "data": {
            "text/plain": [
              "<IPython.core.display.HTML object>"
            ],
            "text/html": [
              "<h6 style=\"color: green;\">TEST Test 2_2 , Your test grade: 100</h6>\n",
              "<h6>Feedback: Probando código</h6>"
            ]
          },
          "metadata": {}
        },
        {
          "output_type": "display_data",
          "data": {
            "text/plain": [
              "<IPython.core.display.HTML object>"
            ],
            "text/html": [
              "<h6 style=\"color: red;\">TEST Test 2_4 , Your test grade: 78</h6>\n",
              "<h6>Feedback: Probando código<p>* El valor retornado en index 1 no es el esperado. Se esperaba <span style=\"color: green;\">0.0011151023849933703</span></p><p>Pero se obtuvo <span style=\"color: red;\">0.0011020010170154225</span></p><p>* Explore la documentación de las funciones estadísticas utilizadas para conocer el orden de desempaquetado de sus valores de retorno.</p><p>No es suficiente con utilizar los mismos nombres de variables si el orden no es el correcto.</p></h6>"
            ]
          },
          "metadata": {}
        },
        {
          "output_type": "display_data",
          "data": {
            "text/plain": [
              "<IPython.core.display.HTML object>"
            ],
            "text/html": [
              "<h6 style=\"color: red;\">TEST Test 2_5 , Your test grade: 78</h6>\n",
              "<h6>Feedback: Probando código<p>* El valor retornado en index 1 no es el esperado. Se esperaba <span style=\"color: green;\">0.41846459175774264</span></p><p>Pero se obtuvo <span style=\"color: red;\">0.41356631244249054</span></p><p>* Explore la documentación de las funciones estadísticas utilizadas para conocer el orden de desempaquetado de sus valores de retorno.</p><p>No es suficiente con utilizar los mismos nombres de variables si el orden no es el correcto.</p></h6>"
            ]
          },
          "metadata": {}
        },
        {
          "output_type": "display_data",
          "data": {
            "text/plain": [
              "<IPython.core.display.HTML object>"
            ],
            "text/html": [
              "<h6 style=\"color: red;\">TEST Test 2_6 , Your test grade: 58</h6>\n",
              "<h6>Feedback: Probando código<p>* El valor retornado en index 0 no es el esperado. Se esperaba <span style=\"color: green;\">False</span></p><p>Pero se obtuvo <span style=\"color: red;\">True</span></p><p>* El valor retornado en index 1 no es el esperado. Se esperaba <span style=\"color: green;\">0.05049548813014828</span></p><p>Pero se obtuvo <span style=\"color: red;\">0.04998356983547761</span></p><p>* Explore la documentación de las funciones estadísticas utilizadas para conocer el orden de desempaquetado de sus valores de retorno.</p><p>No es suficiente con utilizar los mismos nombres de variables si el orden no es el correcto.</p><p>* Comprueba cómo estás validando la conclusión</p></h6>"
            ]
          },
          "metadata": {}
        },
        {
          "output_type": "display_data",
          "data": {
            "text/plain": [
              "<IPython.core.display.HTML object>"
            ],
            "text/html": [
              "<h6 style=\"color: red;\">TEST Test 2_3 , Your test grade: 10</h6>\n",
              "<h6>Feedback: Probando código<p>* El valor retornado en p-valor no es el esperado. Se esperaba <span style=\"color: green;\">0.7577470989748843</span></p><p>Pero se obtuvo <span style=\"color: red;\">0.7569670923522965</span></p><p>* el p-valor y el valor de confianza tienen una relación distinta cuando se trata de una prueba de hipótesis de 1 o 2 colas.</p><p>Cuando se tienen dos colas el p-valor corresponde al área de los dos extremos, reduciendo a la mitad el área de cada uno con respecto a la que tendría en una prueba de una cola.</p></h6>"
            ]
          },
          "metadata": {}
        },
        {
          "output_type": "display_data",
          "data": {
            "text/plain": [
              "<IPython.core.display.HTML object>"
            ],
            "text/html": [
              "<h3 style=\"color: purple;\">Your submission grade: \"80.74%\"</h3>"
            ]
          },
          "metadata": {}
        }
      ],
      "source": [
        "grader.submit_task(globals())"
      ]
    },
    {
      "cell_type": "markdown",
      "metadata": {
        "id": "JJbV7A38uZhC"
      },
      "source": [
        "## **Créditos**\n",
        "---\n",
        "\n",
        "* **Profesor:** [Felipe Restrepo Calle](https://dis.unal.edu.co/~ferestrepoca/)\n",
        "* **Asistentes docentes:**\n",
        "  - Alberto Nicolai Romero Martínez\n",
        "  - Miguel Angel Ortiz Marín\n",
        "\n",
        "**Universidad Nacional de Colombia** - *Facultad de Ingeniería*\n"
      ]
    }
  ],
  "metadata": {
    "colab": {
      "provenance": [],
      "include_colab_link": true
    },
    "kernelspec": {
      "display_name": "Python 3",
      "name": "python3"
    }
  },
  "nbformat": 4,
  "nbformat_minor": 0
}