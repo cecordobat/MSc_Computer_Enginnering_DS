{
  "cells": [
    {
      "cell_type": "markdown",
      "metadata": {
        "id": "view-in-github",
        "colab_type": "text"
      },
      "source": [
        "<a href=\"https://colab.research.google.com/github/cecordobat/MSc_Computer_Enginnering_DS/blob/main/S1_MLpython/M2U5_Tarea_5_Reducci%C3%B3n_de_la_dimensionalidad%2C_preprocesamiento_y_pipelines_de_ejecuci%C3%B3n.ipynb\" target=\"_parent\"><img src=\"https://colab.research.google.com/assets/colab-badge.svg\" alt=\"Open In Colab\"/></a>"
      ]
    },
    {
      "cell_type": "markdown",
      "metadata": {
        "id": "fb9pUStUq6xf"
      },
      "source": [
        "<img src = \"https://drive.google.com/uc?export=view&id=1A9dhO0gYByNJf9ya0SZmeCzZIeepRhsO\" alt = \"Encabezado MLDS\" width = \"100%\">  </img>"
      ]
    },
    {
      "cell_type": "markdown",
      "metadata": {
        "id": "agPU4zWADxqI"
      },
      "source": [
        "# **Tarea 5: Reducción de dimensionalidad y *pipelines* de ejecución**\n",
        "---\n",
        "En esta tarea podrá practicar las habilidades y conceptos adquiridos aplicando la técnica de reducción de dimensionalidad _PCA_ y el uso de *pipelines* de ejecución. Utilizaremos el conjunto de datos [**Olivetti Faces**](https://scikit-learn.org/0.19/datasets/olivetti_faces.html), atribuido a AT&T Laboratories Cambridge. El conjunto de datos contiene varias imágenes de los rostros de $40$ personas distintas, usado comúnmente con técnicas de procesamiento de imágenes.\n",
        "\n",
        "> **Nota:** Esta tarea va a ser calificada en estableciendo una conexión con **[UNCode](https://juezun.github.io/)**. Para esto, en cada ejercicio se indicará si es calificable o no, también los lugares donde debe escribir su código sin modificar lo demás con un aproximado de cantidad de líneas a escribir. No se preocupe si su código toma más líneas, esto es simplemente un aproximado destinado a que pueda replantear su estrategia si el código está tomando más de las esperadas. No es un requisito estricto y soluciones más largas también son válidas.\n",
        "> **La tarea es incremental, es recomendable resolver los puntos en orden.**\n",
        "\n",
        "> En caso de tener dudas de cómo solucionar este tipo de ejercicios, por favor consultar el demo en la unidad 0\n"
      ]
    },
    {
      "cell_type": "markdown",
      "metadata": {
        "id": "UygV6iCUN1w4"
      },
      "source": [
        "## **0. Dependencias.**\n",
        "---\n",
        "Ejecute la siguiente celda para importar las librerías necesarias."
      ]
    },
    {
      "cell_type": "code",
      "execution_count": 1,
      "metadata": {
        "id": "S9QBM-ROUjaj"
      },
      "outputs": [],
      "source": [
        "# Importamos Scikit-Learn.\n",
        "import sklearn\n",
        "\n",
        "# Librerías de utilidad para manipulación de datos.\n",
        "import pandas as pd\n",
        "import numpy as np\n",
        "import matplotlib as mpl\n",
        "import matplotlib.pyplot as plt\n",
        "\n",
        "# Ignorar advertencias del código.\n",
        "import warnings\n",
        "warnings.filterwarnings('ignore')\n",
        "\n",
        "# Las figuras en formato retina se ven más limpias\n",
        "%config InlineBackend.figure_format = 'retina'"
      ]
    },
    {
      "cell_type": "code",
      "execution_count": 2,
      "metadata": {
        "colab": {
          "base_uri": "https://localhost:8080/"
        },
        "id": "jUMP_2CPqwRY",
        "outputId": "e70d644a-9881-407b-bcb0-0338793ba53f"
      },
      "outputs": [
        {
          "output_type": "stream",
          "name": "stdout",
          "text": [
            "Python 3.10.12\n",
            "Pandas 2.2.2\n",
            "NumPy 1.26.4\n",
            "Matplotlib 3.8.0\n",
            "Scikit-learn 1.5.2\n"
          ]
        }
      ],
      "source": [
        "#TEST_CELL\n",
        "# Versiones de las librerías usadas.\n",
        "\n",
        "!python --version\n",
        "print('Pandas', pd.__version__)\n",
        "print('NumPy', np.__version__)\n",
        "print('Matplotlib', mpl.__version__)\n",
        "print('Scikit-learn', sklearn.__version__)"
      ]
    },
    {
      "cell_type": "markdown",
      "metadata": {
        "id": "dxNzX3sfq3gZ"
      },
      "source": [
        "Esta actividad se realizó con las siguientes versiones:\n",
        "*  *Python*: 3.10.12\n",
        "*  *Pandas*: 2.0.3\n",
        "*  *NumPy*:  1.25.2\n",
        "*  *Matplotlib*:  3.7.1\n",
        "*  *Scikit-learn*: 1.2.2"
      ]
    },
    {
      "cell_type": "code",
      "execution_count": 3,
      "metadata": {
        "colab": {
          "base_uri": "https://localhost:8080/"
        },
        "id": "MTeWgglyEL9m",
        "outputId": "66016c1f-9439-4261-c881-2740539515cf"
      },
      "outputs": [
        {
          "output_type": "stream",
          "name": "stdout",
          "text": [
            "Collecting rlxcrypt\n",
            "  Downloading rlxcrypt-0.0.4-cp310-cp310-manylinux_2_17_x86_64.manylinux2014_x86_64.whl.metadata (1.9 kB)\n",
            "Collecting imphook (from rlxcrypt)\n",
            "  Downloading imphook-1.0.tar.gz (12 kB)\n",
            "  Preparing metadata (setup.py) ... \u001b[?25l\u001b[?25hdone\n",
            "Requirement already satisfied: cython in /usr/local/lib/python3.10/dist-packages (from rlxcrypt) (3.0.11)\n",
            "Collecting pycryptodome (from rlxcrypt)\n",
            "  Downloading pycryptodome-3.21.0-cp36-abi3-manylinux_2_17_x86_64.manylinux2014_x86_64.whl.metadata (3.4 kB)\n",
            "Requirement already satisfied: cryptography in /usr/local/lib/python3.10/dist-packages (from rlxcrypt) (43.0.3)\n",
            "Requirement already satisfied: cffi>=1.12 in /usr/local/lib/python3.10/dist-packages (from cryptography->rlxcrypt) (1.17.1)\n",
            "Requirement already satisfied: pycparser in /usr/local/lib/python3.10/dist-packages (from cffi>=1.12->cryptography->rlxcrypt) (2.22)\n",
            "Downloading rlxcrypt-0.0.4-cp310-cp310-manylinux_2_17_x86_64.manylinux2014_x86_64.whl (297 kB)\n",
            "\u001b[2K   \u001b[90m━━━━━━━━━━━━━━━━━━━━━━━━━━━━━━━━━━━━━━━━\u001b[0m \u001b[32m297.9/297.9 kB\u001b[0m \u001b[31m4.1 MB/s\u001b[0m eta \u001b[36m0:00:00\u001b[0m\n",
            "\u001b[?25hDownloading pycryptodome-3.21.0-cp36-abi3-manylinux_2_17_x86_64.manylinux2014_x86_64.whl (2.3 MB)\n",
            "\u001b[2K   \u001b[90m━━━━━━━━━━━━━━━━━━━━━━━━━━━━━━━━━━━━━━━━\u001b[0m \u001b[32m2.3/2.3 MB\u001b[0m \u001b[31m24.7 MB/s\u001b[0m eta \u001b[36m0:00:00\u001b[0m\n",
            "\u001b[?25hBuilding wheels for collected packages: imphook\n",
            "  Building wheel for imphook (setup.py) ... \u001b[?25l\u001b[?25hdone\n",
            "  Created wheel for imphook: filename=imphook-1.0-py3-none-any.whl size=9423 sha256=0fd1b60b87af7c0279a45851ab9528f67b2126cf05d327ba139ce505dff3ded5\n",
            "  Stored in directory: /root/.cache/pip/wheels/dc/e2/a4/fcb3817d09a2eb047b2b08eb58e7d9140041b0f3f415eb1256\n",
            "Successfully built imphook\n",
            "Installing collected packages: imphook, pycryptodome, rlxcrypt\n",
            "Successfully installed imphook-1.0 pycryptodome-3.21.0 rlxcrypt-0.0.4\n"
          ]
        }
      ],
      "source": [
        "!pip install rlxcrypt\n",
        "!wget --no-cache -O session.pye -q https://raw.githubusercontent.com/JuezUN/INGInious/master/external%20libs/session.pye"
      ]
    },
    {
      "cell_type": "code",
      "execution_count": 4,
      "metadata": {
        "colab": {
          "base_uri": "https://localhost:8080/",
          "height": 309
        },
        "id": "Pt3MUIXQEJSP",
        "outputId": "be9b7294-046a-4fd2-f7db-428fd1511326"
      },
      "outputs": [
        {
          "output_type": "display_data",
          "data": {
            "text/plain": [
              "<IPython.core.display.HTML object>"
            ],
            "text/html": [
              "\n",
              "    <div>\n",
              "    <div style=\"display: flex\">\n",
              "        <div style=\"padding: 10px\">\n",
              "          <img\n",
              "            src=\"https://uncode.unal.edu.co/static/images/logo_unc.svg\"\n",
              "            width=\"50px\"\n",
              "            height=\"50px\"\n",
              "          />\n",
              "        </div>\n",
              "      \n",
              "        <div>\n",
              "          <h2>UNCode Notebooks grader API</h2>\n",
              "          <hr />\n",
              "        </div>\n",
              "      </div>\n",
              "      \n",
              "      <div style=\"display: flex\">\n",
              "        <span>Please enter authentication data</span>\n",
              "      </div>\n",
              "    </div>\n",
              "    "
            ]
          },
          "metadata": {}
        },
        {
          "name": "stdout",
          "output_type": "stream",
          "text": [
            "Please enter your UNCode username: cecordobat\n",
            "Please enter your password: ··········\n"
          ]
        },
        {
          "output_type": "display_data",
          "data": {
            "text/plain": [
              "<IPython.core.display.HTML object>"
            ],
            "text/html": [
              "<h5 style=\"color: green\"><Response [200]></h5>"
            ]
          },
          "metadata": {}
        },
        {
          "output_type": "display_data",
          "data": {
            "text/plain": [
              "<IPython.core.display.HTML object>"
            ],
            "text/html": [
              "<h5 style=\"color: green\">Auth process succeeded</h5>"
            ]
          },
          "metadata": {}
        },
        {
          "output_type": "display_data",
          "data": {
            "text/plain": [
              "<IPython.core.display.HTML object>"
            ],
            "text/html": [
              "<h5>View your courses <a href=\"https://uncode.unal.edu.co/courselist\">at UNCode platform</a></h5>"
            ]
          },
          "metadata": {}
        },
        {
          "output_type": "display_data",
          "data": {
            "text/plain": [
              "<IPython.core.display.HTML object>"
            ],
            "text/html": [
              "<h3>You will sumbit code to course: <span style=\"color: green\">Introducción a Machine Learning y Scikit-learn | Grupo MLDS-2 | 2024 - 2<span></h3>"
            ]
          },
          "metadata": {}
        },
        {
          "output_type": "display_data",
          "data": {
            "text/plain": [
              "<IPython.core.display.HTML object>"
            ],
            "text/html": [
              "<h3>You will sumbit code to task: <span style=\"color: blue\">Tarea 5 - Aprendizaje no supervisado: reducción de la dimensionalidad, preprocesamiento y pipelines de ejecución<span></h3>"
            ]
          },
          "metadata": {}
        }
      ],
      "source": [
        "import rlxcrypt\n",
        "import session\n",
        "\n",
        "grader = session.LoginSequence(\"IAMLYS-GroupMLDS-2-2024-2@6c4cf0ca-82f4-497e-a357-5554f707046e\")"
      ]
    },
    {
      "cell_type": "markdown",
      "metadata": {
        "id": "XEvKnEZCKn3a"
      },
      "source": [
        "Descargamos el conjunto de datos usando **`fetch_olivetti_faces`** de *Scikit-Learn*:"
      ]
    },
    {
      "cell_type": "code",
      "execution_count": 5,
      "metadata": {
        "colab": {
          "base_uri": "https://localhost:8080/"
        },
        "id": "baSjvIekoDu-",
        "outputId": "2410de76-b609-4778-c27b-b873d37d3659"
      },
      "outputs": [
        {
          "output_type": "stream",
          "name": "stdout",
          "text": [
            "downloading Olivetti faces from https://ndownloader.figshare.com/files/5976027 to /root/scikit_learn_data\n",
            ".. _olivetti_faces_dataset:\n",
            "\n",
            "The Olivetti faces dataset\n",
            "--------------------------\n",
            "\n",
            "`This dataset contains a set of face images`_ taken between April 1992 and\n",
            "April 1994 at AT&T Laboratories Cambridge. The\n",
            ":func:`sklearn.datasets.fetch_olivetti_faces` function is the data\n",
            "fetching / caching function that downloads the data\n",
            "archive from AT&T.\n",
            "\n",
            ".. _This dataset contains a set of face images: https://cam-orl.co.uk/facedatabase.html\n",
            "\n",
            "As described on the original website:\n",
            "\n",
            "    There are ten different images of each of 40 distinct subjects. For some\n",
            "    subjects, the images were taken at different times, varying the lighting,\n",
            "    facial expressions (open / closed eyes, smiling / not smiling) and facial\n",
            "    details (glasses / no glasses). All the images were taken against a dark\n",
            "    homogeneous background with the subjects in an upright, frontal position\n",
            "    (with tolerance for some side movement).\n",
            "\n",
            "**Data Set Characteristics:**\n",
            "\n",
            "=================   =====================\n",
            "Classes                                40\n",
            "Samples total                         400\n",
            "Dimensionality                       4096\n",
            "Features            real, between 0 and 1\n",
            "=================   =====================\n",
            "\n",
            "The image is quantized to 256 grey levels and stored as unsigned 8-bit\n",
            "integers; the loader will convert these to floating point values on the\n",
            "interval [0, 1], which are easier to work with for many algorithms.\n",
            "\n",
            "The \"target\" for this database is an integer from 0 to 39 indicating the\n",
            "identity of the person pictured; however, with only 10 examples per class, this\n",
            "relatively small dataset is more interesting from an unsupervised or\n",
            "semi-supervised perspective.\n",
            "\n",
            "The original dataset consisted of 92 x 112, while the version available here\n",
            "consists of 64x64 images.\n",
            "\n",
            "When using these images, please give credit to AT&T Laboratories Cambridge.\n",
            "\n"
          ]
        }
      ],
      "source": [
        "#TEST_CELL\n",
        "# Módulo de carga de conjuntos de datos.\n",
        "from sklearn.datasets import fetch_olivetti_faces\n",
        "\n",
        "faces = fetch_olivetti_faces(shuffle = True, random_state= 55)\n",
        "print(faces.DESCR)"
      ]
    },
    {
      "cell_type": "markdown",
      "metadata": {
        "id": "G5H1ypvs_8bW"
      },
      "source": [
        "Cada observación tiene $4096$ características, que representan cada pixel de la imagen original. Para visualizar este tipo de datos, lo cual se recomienda en el desarrollo de la tarea, puede usar el método **`reshape`** para convertirla en una matriz de $64 \\times 64$ pixeles. Cada uno de los datos contenidos en esta matriz y en el arreglo original son números reales entre $0$ y $1$ en escala de grises, donde $0$ es un pixel totalmente negro y $1$ es un pixel totalmente blanco."
      ]
    },
    {
      "cell_type": "code",
      "execution_count": 6,
      "metadata": {
        "id": "p9jXbZk4WNNP"
      },
      "outputs": [],
      "source": [
        "#TEST_CELL\n",
        "# Cargamos los datos en formato X, y\n",
        "X, y = faces.data, faces.target"
      ]
    },
    {
      "cell_type": "markdown",
      "metadata": {
        "id": "3G9Bg-TCfsbR"
      },
      "source": [
        "Utilizaremos una función auxiliar para la visualización de rostros con _Matplotlib_."
      ]
    },
    {
      "cell_type": "code",
      "execution_count": 7,
      "metadata": {
        "id": "6nNzCAyqfr3P"
      },
      "outputs": [],
      "source": [
        "#TEST_CELL\n",
        "def show_face(image, title='', ax = None):\n",
        "  if ax is None:\n",
        "    plt.figure(dpi = 105)\n",
        "    ax = plt.gca()\n",
        "  fig = ax.get_figure()\n",
        "  ax.imshow(image, cmap = 'gray')\n",
        "  ax.axis('off')\n",
        "  ax.set_title(title)\n",
        "  fig.show()"
      ]
    },
    {
      "cell_type": "markdown",
      "metadata": {
        "id": "ntPd6VdIWrBJ"
      },
      "source": [
        "Visualizamos una de las instancias del conjunto de datos, que representa la imagen de un rostro:"
      ]
    },
    {
      "cell_type": "code",
      "execution_count": 8,
      "metadata": {
        "colab": {
          "base_uri": "https://localhost:8080/",
          "height": 448
        },
        "id": "KpNL4QArAXvi",
        "outputId": "6739859b-f297-4ca6-84f1-85ece912b164"
      },
      "outputs": [
        {
          "output_type": "display_data",
          "data": {
            "text/plain": [
              "<Figure size 672x504 with 1 Axes>"
            ],
            "image/png": "[encoded data removed]"
          },
          "metadata": {
            "image/png": {
              "width": 409,
              "height": 431
            }
          }
        }
      ],
      "source": [
        "#TEST_CELL\n",
        "show_face(X[50].reshape(64, 64),\n",
        "          title = f'Clase: {y[50]}')"
      ]
    },
    {
      "cell_type": "code",
      "execution_count": 9,
      "metadata": {
        "cellView": "form",
        "colab": {
          "base_uri": "https://localhost:8080/",
          "height": 448
        },
        "id": "PGmyhB8x8IT7",
        "outputId": "0560d674-83e9-410d-a1ed-d35afd4f77e4"
      },
      "outputs": [
        {
          "output_type": "display_data",
          "data": {
            "text/plain": [
              "<Figure size 672x504 with 1 Axes>"
            ],
            "image/png": "[encoded data removed]"
          },
          "metadata": {
            "image/png": {
              "width": 409,
              "height": 431
            }
          }
        }
      ],
      "source": [
        "#TEST_CELL\n",
        "#@title  { run: \"auto\" }\n",
        "#@markdown Con el siguiente *slider* puede variar entre las observaciones una a visualizar. Puede cambiar este valor por un número entre 0 y 399. Elija el índice del arreglo que desea revisar:\n",
        "\n",
        "# Mostrar la observación n-ésima del dataset con su etiqueta correspondiente.\n",
        "index = 33 #@param {type:\"slider\", min:0, max:399, step:1}\n",
        "\n",
        "show_face(X[index].reshape(64, 64),\n",
        "          title = f'Clase (sujeto): {y[index]}')"
      ]
    },
    {
      "cell_type": "markdown",
      "metadata": {
        "id": "yMvzcHBw_pqt"
      },
      "source": [
        "Ahora, realizaremos la división en conjuntos de entrenamiento y evaluación. Utilizaremos $70\\%$ para entrenamiento y $30\\%$ para prueba. Se realizará de manera estratificada para no cambiar la distribución de cada clase."
      ]
    },
    {
      "cell_type": "code",
      "execution_count": 10,
      "metadata": {
        "id": "k1anDeBr_nDg"
      },
      "outputs": [],
      "source": [
        "#TEST_CELL\n",
        "from sklearn.model_selection import train_test_split\n",
        "\n",
        "X_train, X_test, y_train, y_test = train_test_split(X,\n",
        "                                                    y,\n",
        "                                                    test_size = 0.3,\n",
        "                                                    random_state=14,\n",
        "                                                    stratify=y)"
      ]
    },
    {
      "cell_type": "code",
      "execution_count": 11,
      "metadata": {
        "colab": {
          "base_uri": "https://localhost:8080/"
        },
        "id": "jAqSNtWg6B-v",
        "outputId": "88e37a9e-7085-4fec-b0bd-68fdb4a720d6"
      },
      "outputs": [
        {
          "output_type": "stream",
          "name": "stdout",
          "text": [
            "El shape de X_train es: : (280, 4096)\n"
          ]
        }
      ],
      "source": [
        "#TEST_CELL\n",
        "print(f'El shape de X_train es: : {X_train.shape}')"
      ]
    },
    {
      "cell_type": "markdown",
      "metadata": {
        "id": "OE-Sv_1LvKBt"
      },
      "source": [
        "## **1. Componentes principales mínimos.**\n",
        "---\n",
        "\n",
        "Cuando se trabaja con datos de alta dimensionalidad, como en imágenes o texto, es muy util y apropiado reducir las características necesarias para representar un mínimo de información, en este caso debido a la varianza explicada de una representación.\n",
        "\n",
        "Nos interesa encontrar la cantidad mínima de componentes principales de tal manera que se pueda realizar una representación que tenga por lo menos una varianza determinada.\n",
        "\n",
        "Complete la función **`componentes_minimos`** de tal manera que retorne un entero **`min_comp`** con el número mínimo de componentes principales necesarios para obtener una varianza mayor a la entregada en el argumento **`min_var`** al aplicar el algoritmo *PCA*.\n",
        "\n",
        "\n",
        "**Entrada:**\n",
        "\n",
        "* **`X`**: arreglo de _NumPy_ de tamaño $(n, m)$ con el conjunto de datos de entrada para el análisis de componentes principales _PCA_.\n",
        "* **`min_var`**: número real con el mínimo de varianza explicada acumulada necesario para obtener el número de componentes.\n",
        "\n",
        "**Salida:**\n",
        "\n",
        "* **`min_comp`**: número entero con el mínimo de componentes de _PCA_ necesarios para explicar por lo menos **`min_var`** varianza."
      ]
    },
    {
      "cell_type": "code",
      "execution_count": 46,
      "metadata": {
        "id": "d3Q1qimZB18m"
      },
      "outputs": [],
      "source": [
        "# FUNCIÓN CALIFICADA componentes_minimos:\n",
        "\n",
        "# Funciones utilizadas en el ejercicio.\n",
        "from sklearn.decomposition import PCA\n",
        "from sklearn.decomposition import PCA\n",
        "\n",
        "def componentes_minimos(X, min_var=0.5):\n",
        "    pca = PCA()\n",
        "    pca.fit(X)\n",
        "    varianza_acumulada = pca.explained_variance_ratio_.cumsum()\n",
        "    min_comp = next(i for i, var in enumerate(varianza_acumulada) if var >= min_var) + 1\n",
        "    return min_comp\n"
      ]
    },
    {
      "cell_type": "markdown",
      "metadata": {
        "id": "33OEAH7MAm5Z"
      },
      "source": [
        "Utilice las siguientes celdas para probar su código:"
      ]
    },
    {
      "cell_type": "code",
      "execution_count": 47,
      "metadata": {
        "colab": {
          "base_uri": "https://localhost:8080/"
        },
        "id": "q-2H-_n_l8KI",
        "outputId": "d1c7b2f1-8000-42a0-bc80-43ff28b06520"
      },
      "outputs": [
        {
          "output_type": "stream",
          "name": "stdout",
          "text": [
            "Se necesita por lo menos 4 componentes para una varianza explicada de 0.5.\n"
          ]
        }
      ],
      "source": [
        "#TEST_CELL\n",
        "min_comp = componentes_minimos(X_train, 0.5)\n",
        "\n",
        "print(f'Se necesita por lo menos {min_comp} componentes para una varianza explicada de {0.5}.')"
      ]
    },
    {
      "cell_type": "markdown",
      "metadata": {
        "id": "IXj1cTd89tXf"
      },
      "source": [
        "**Salida esperada:**\n",
        "\n",
        "```\n",
        "Se necesita por lo menos 4 componentes para una varianza explicada de 0.5.\n",
        "```"
      ]
    },
    {
      "cell_type": "code",
      "execution_count": 48,
      "metadata": {
        "colab": {
          "base_uri": "https://localhost:8080/"
        },
        "id": "geqv8seWASGv",
        "outputId": "c7f43434-2eb5-44e7-df35-f7fca56c4637"
      },
      "outputs": [
        {
          "output_type": "stream",
          "name": "stdout",
          "text": [
            "Se necesita por lo menos 25 componentes para una varianza explicada de 0.8.\n"
          ]
        }
      ],
      "source": [
        "#TEST_CELL\n",
        "min_comp = componentes_minimos(X_train, 0.8)\n",
        "\n",
        "print(f'Se necesita por lo menos {min_comp} componentes para una varianza explicada de {0.8}.')"
      ]
    },
    {
      "cell_type": "markdown",
      "metadata": {
        "id": "bIDXsQHHAZfZ"
      },
      "source": [
        "**Salida esperada:**\n",
        "\n",
        "```\n",
        "Se necesita por lo menos 25 componentes para una varianza explicada de 0.8.\n",
        "```"
      ]
    },
    {
      "cell_type": "code",
      "execution_count": 15,
      "metadata": {
        "colab": {
          "base_uri": "https://localhost:8080/"
        },
        "id": "xgNbxmOwAcEK",
        "outputId": "c8976217-5700-4b52-9ee7-1398708c7dc0"
      },
      "outputs": [
        {
          "output_type": "stream",
          "name": "stdout",
          "text": [
            "Se necesita por lo menos None componentes para una varianza explicada de 0.35.\n"
          ]
        }
      ],
      "source": [
        "#TEST_CELL\n",
        "min_comp = componentes_minimos(X_train, 0.35)\n",
        "\n",
        "print(f'Se necesita por lo menos {min_comp} componentes para una varianza explicada de {0.35}.')"
      ]
    },
    {
      "cell_type": "markdown",
      "metadata": {
        "id": "UYAFourYAbWX"
      },
      "source": [
        "**Salida esperada:**\n",
        "\n",
        "```\n",
        "Se necesita por lo menos 2 componentes para una varianza explicada de 0.35.\n",
        "```"
      ]
    },
    {
      "cell_type": "markdown",
      "metadata": {
        "id": "rg23cR2CYFS_"
      },
      "source": [
        "<details>    \n",
        "<summary>\n",
        "    <font size=\"3\" color=\"darkgreen\"><b>Pista 1</b></font>\n",
        "</summary>\n",
        "\n",
        "* Construya un objeto **`PCA`** que utilice como datos de entrada el conjunto de datos **`X`** y explore el atributo **`explained_variance_ratio_`**.\n",
        "\n"
      ]
    },
    {
      "cell_type": "markdown",
      "metadata": {
        "id": "MWY97E-VItfl"
      },
      "source": [
        "<details>    \n",
        "<summary>\n",
        "    <font size=\"3\" color=\"darkgreen\"><b>Pista 2</b></font>\n",
        "</summary>\n",
        "\n",
        "* Recuerde que se busca que la varianza **acumulada** sea mayor a un valor determinado. Puede usar la función **`np.cumsum`** para obtener el arreglo de valores acumulados.\n"
      ]
    },
    {
      "cell_type": "markdown",
      "metadata": {
        "id": "m4IoHzOEECLy"
      },
      "source": [
        "### **Evaluar código**"
      ]
    },
    {
      "cell_type": "code",
      "execution_count": 49,
      "metadata": {
        "colab": {
          "base_uri": "https://localhost:8080/",
          "height": 141
        },
        "id": "Q_PMj9RYAadM",
        "outputId": "c405f9e0-3366-478f-c7dc-2c3a9d59cae3"
      },
      "outputs": [
        {
          "output_type": "stream",
          "name": "stdout",
          "text": [
            "Test 1_1\n"
          ]
        },
        {
          "output_type": "display_data",
          "data": {
            "text/plain": [
              "<IPython.core.display.HTML object>"
            ],
            "text/html": [
              "<h4>Test Run correctly</h4>"
            ]
          },
          "metadata": {}
        },
        {
          "output_type": "display_data",
          "data": {
            "text/plain": [
              "<IPython.core.display.HTML object>"
            ],
            "text/html": [
              "<h6 style=\"color: green;\">Your test grade: 100</h6>\n",
              "<h6>Feedback: Probando código con valores de load_digits</h6>"
            ]
          },
          "metadata": {}
        }
      ],
      "source": [
        "grader.run_test(\"Test 1_1\", globals())"
      ]
    },
    {
      "cell_type": "code",
      "execution_count": 50,
      "metadata": {
        "colab": {
          "base_uri": "https://localhost:8080/",
          "height": 141
        },
        "id": "IaCbETUVlY2C",
        "outputId": "7fe6915b-4cf0-461a-aa94-452e2b48eaa3"
      },
      "outputs": [
        {
          "output_type": "stream",
          "name": "stdout",
          "text": [
            "Test 1_2\n"
          ]
        },
        {
          "output_type": "display_data",
          "data": {
            "text/plain": [
              "<IPython.core.display.HTML object>"
            ],
            "text/html": [
              "<h4>Test Run correctly</h4>"
            ]
          },
          "metadata": {}
        },
        {
          "output_type": "display_data",
          "data": {
            "text/plain": [
              "<IPython.core.display.HTML object>"
            ],
            "text/html": [
              "<h6 style=\"color: green;\">Your test grade: 100</h6>\n",
              "<h6>Feedback: Probando código</h6>"
            ]
          },
          "metadata": {}
        }
      ],
      "source": [
        "grader.run_test(\"Test 1_2\", globals())"
      ]
    },
    {
      "cell_type": "markdown",
      "metadata": {
        "id": "5OWe3PP7oCCD"
      },
      "source": [
        "## **2. Representación de *eigenfaces*.**\n",
        "---\n",
        "Un resultado interesante del uso de técnicas de reducción de la dimensionalidad como *PCA* en imágenes es el obtenido al utilizar todos sus componentes. Cuando se realiza de esta manera, los componentes principales (también conocidos como *eigenvectores*) tienen el mismo tamaño que el vector original, abriendo la puerta a visualizar estos vectores de la misma manera que se haría al interpretarlos como imágenes. En el campo del reconocimiento facial ocurre un fenómeno conocido como *eigenface*, tras el cual la representación de los componentes principales de un conjunto de rostros da como resultado unos peculiares rostros que de alguna forma son una representación estadística de aquellos usados en el entrenamiento.\n",
        "\n",
        "Su tarea consiste en completar la función **`eigenfaces`**, que toma como argumento un valor entero **`comp`**, siendo el índice o posición del componente principal que se desea representar. Esta función debe retornar dicho componente como una matriz **`eigenface`** de $64 \\times 64$ que pueda ser representada como una imagen.\n",
        "\n",
        "\n",
        "\n",
        "**Entrada:**\n",
        "\n",
        "* **`X`**: arreglo de _NumPy_ de tamaño $(n, 4096)$ con el conjunto de datos de entrada para el análisis de componentes principales _PCA_.\n",
        "* **`comp`**: número entero, posición del componente principal a retornar en un formato válido.\n",
        "\n",
        "**Salida**:\n",
        "\n",
        "* **`eigenface`**: arreglo de _NumPy_ con el **`comp`**-ésimo componente principal del conjunto de datos **`X`** con tamaño $(64, 64)$.\n"
      ]
    },
    {
      "cell_type": "code",
      "execution_count": 51,
      "metadata": {
        "id": "LGh8qjShIhn4"
      },
      "outputs": [],
      "source": [
        "# FUNCIÓN CALIFICADA eigenfaces:\n",
        "\n",
        "# Funciones utilizadas en el ejercicio.\n",
        "from sklearn.decomposition import PCA\n",
        "\n",
        "def eigenfaces(X, comp):\n",
        "    pca = PCA()\n",
        "    pca.fit(X)\n",
        "    eigenvector = pca.components_[comp]\n",
        "    eigenface = eigenvector.reshape(64, 64)\n",
        "    return eigenface\n"
      ]
    },
    {
      "cell_type": "code",
      "execution_count": 53,
      "metadata": {
        "colab": {
          "base_uri": "https://localhost:8080/"
        },
        "id": "1X78AxsSI0es",
        "outputId": "5e6a3959-0596-41e0-880f-883d2e927d4d"
      },
      "outputs": [
        {
          "output_type": "stream",
          "name": "stdout",
          "text": [
            "[-0.00659 -0.00077  0.00815  0.01573  0.02034]\n"
          ]
        }
      ],
      "source": [
        "#TEST_CELL\n",
        "eigenface = eigenfaces(X_train, 10)\n",
        "\n",
        "if isinstance(eigenface, np.ndarray):\n",
        "  print(np.round(eigenface[0, :5], 5))\n",
        "else: print(\"El arreglo retornado no es válido.\")"
      ]
    },
    {
      "cell_type": "markdown",
      "metadata": {
        "id": "dYrL1LkG_22S"
      },
      "source": [
        "**Salida esperada:**\n",
        "```\n",
        "[-0.00659 -0.00077  0.00815  0.01573  0.02034]\n",
        "```"
      ]
    },
    {
      "cell_type": "code",
      "execution_count": 54,
      "metadata": {
        "colab": {
          "base_uri": "https://localhost:8080/",
          "height": 448
        },
        "id": "aVR-n9eY_vjF",
        "outputId": "14af3d8b-3eeb-4ae7-a4ce-fb95ffb400aa"
      },
      "outputs": [
        {
          "output_type": "display_data",
          "data": {
            "text/plain": [
              "<Figure size 672x504 with 1 Axes>"
            ],
            "image/png": "[encoded data removed]"
          },
          "metadata": {
            "image/png": {
              "width": 409,
              "height": 431
            }
          }
        }
      ],
      "source": [
        "#TEST_CELL\n",
        "eigenface = eigenfaces(X_train, 5)\n",
        "\n",
        "if isinstance(eigenface, np.ndarray):\n",
        "  show_face(eigenface, 'Eigenface del componente 5')\n",
        "else: print(\"El arreglo retornado no es válido.\")"
      ]
    },
    {
      "cell_type": "markdown",
      "metadata": {
        "id": "Sf9gX1YTL7wa"
      },
      "source": [
        "**Salida esperada:**\n",
        "\n",
        "![t5p2.png](data:image/png;base64,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)"
      ]
    },
    {
      "cell_type": "markdown",
      "metadata": {
        "id": "BVbezx1IB3ul"
      },
      "source": [
        "<details>    \n",
        "<summary>\n",
        "    <font size=\"3\" color=\"darkgreen\"><b>Pista 1</b></font>\n",
        "</summary>\n",
        "\n",
        "* Construya un objeto **`PCA`** que utilice como datos de entrada el conjunto de datos **`X`** y explore el atributo **`components_`**.\n"
      ]
    },
    {
      "cell_type": "markdown",
      "metadata": {
        "id": "wuAiHzIbYn6a"
      },
      "source": [
        "<details>    \n",
        "<summary>\n",
        "    <font size=\"3\" color=\"darkgreen\"><b>Pista 2</b></font>\n",
        "</summary>\n",
        "\n",
        "* Utilice la función **`reshape`** para cambiar las dimensiones del arreglo de *NumPy*.\n"
      ]
    },
    {
      "cell_type": "markdown",
      "metadata": {
        "id": "47-jRmStEQDS"
      },
      "source": [
        "### **Evaluar código**"
      ]
    },
    {
      "cell_type": "code",
      "execution_count": 55,
      "metadata": {
        "colab": {
          "base_uri": "https://localhost:8080/",
          "height": 141
        },
        "id": "ZzHMii7zoZIY",
        "outputId": "5e4d43aa-5af5-460d-8d92-437f9f5f3272"
      },
      "outputs": [
        {
          "output_type": "stream",
          "name": "stdout",
          "text": [
            "Test 2_1\n"
          ]
        },
        {
          "output_type": "display_data",
          "data": {
            "text/plain": [
              "<IPython.core.display.HTML object>"
            ],
            "text/html": [
              "<h4>Test Run correctly</h4>"
            ]
          },
          "metadata": {}
        },
        {
          "output_type": "display_data",
          "data": {
            "text/plain": [
              "<IPython.core.display.HTML object>"
            ],
            "text/html": [
              "<h6 style=\"color: green;\">Your test grade: 100</h6>\n",
              "<h6>Feedback: Probando código</h6>"
            ]
          },
          "metadata": {}
        }
      ],
      "source": [
        "grader.run_test(\"Test 2_1\", globals())"
      ]
    },
    {
      "cell_type": "code",
      "execution_count": 56,
      "metadata": {
        "colab": {
          "base_uri": "https://localhost:8080/",
          "height": 141
        },
        "id": "YNW99bgWsYwr",
        "outputId": "4c9fcf9b-b6e4-45b1-f22e-f4269f20880a"
      },
      "outputs": [
        {
          "output_type": "stream",
          "name": "stdout",
          "text": [
            "Test 2_2\n"
          ]
        },
        {
          "output_type": "display_data",
          "data": {
            "text/plain": [
              "<IPython.core.display.HTML object>"
            ],
            "text/html": [
              "<h4>Test Run correctly</h4>"
            ]
          },
          "metadata": {}
        },
        {
          "output_type": "display_data",
          "data": {
            "text/plain": [
              "<IPython.core.display.HTML object>"
            ],
            "text/html": [
              "<h6 style=\"color: green;\">Your test grade: 100</h6>\n",
              "<h6>Feedback: Probando código</h6>"
            ]
          },
          "metadata": {}
        }
      ],
      "source": [
        "grader.run_test(\"Test 2_2\", globals())"
      ]
    },
    {
      "cell_type": "code",
      "execution_count": 57,
      "metadata": {
        "colab": {
          "base_uri": "https://localhost:8080/",
          "height": 141
        },
        "id": "mLFn_THjuksc",
        "outputId": "d5d817e1-b812-436d-9dc2-d9d1a4e8a3ba"
      },
      "outputs": [
        {
          "output_type": "stream",
          "name": "stdout",
          "text": [
            "Test 2_3\n"
          ]
        },
        {
          "output_type": "display_data",
          "data": {
            "text/plain": [
              "<IPython.core.display.HTML object>"
            ],
            "text/html": [
              "<h4>Test Run correctly</h4>"
            ]
          },
          "metadata": {}
        },
        {
          "output_type": "display_data",
          "data": {
            "text/plain": [
              "<IPython.core.display.HTML object>"
            ],
            "text/html": [
              "<h6 style=\"color: green;\">Your test grade: 100</h6>\n",
              "<h6>Feedback: Probando código</h6>"
            ]
          },
          "metadata": {}
        }
      ],
      "source": [
        "grader.run_test(\"Test 2_3\", globals())"
      ]
    },
    {
      "cell_type": "markdown",
      "metadata": {
        "id": "-M7OVlyXoCRs"
      },
      "source": [
        "## **3. Compresión y reconstrucción de imágenes.**\n",
        "---\n",
        "La técnica *PCA* permite reducir la cantidad de características de un dato y por ende, el espacio necesario para almacenarlo. Si bien la aproximación de *PCA* es estadística y sus resultados no necesariamente son generalizables a imágenes sueltas, este es el principio de otros algoritmos de compresión de imágenes con perdida de información como *JPEG*.\n",
        "\n",
        "Su tarea es implementar la función **`pca_representacion`** que tomará como argumento el número de componentes utilizados **`n_comp`** en la imagen comprimida. Además, recibirá como entrada un vector **`img`** de tamaño $4096$, que deberá pasar por un proceso de transformación/transformación inversa usando *PCA* con la cantidad de componentes especificado realizado sobre al arreglo **`X`**. El resultado deberá ser retornado como resultado de la función como una matriz de tamaño $64 \\times 64$.\n",
        "\n",
        "**Entrada:**\n",
        "\n",
        "* **`X`**: arreglo de _NumPy_ de tamaño $(n, 4096)$ con el conjunto de datos de entrada para el análisis de componentes principales _PCA_.\n",
        "* **`n_comp`**: número entero con el total de componentes a usar en la transformación realizada con _PCA_.\n",
        "* **`img`**: arreglo de _NumPy_ de tamaño $(4096, )$ con la imagen que se desea transformar.\n",
        "* **`seed`**: número entero con la semilla aleatoria para el algoritmo _PCA_.\n",
        "\n",
        "  > **Nota:** la ejecución del algoritmo _PCA_ de _Scikit-Learn_ depende de un proceso aleatorio cuando la cantidad de componentes es menor que el total de características usadas en su ajuste. Utilice el valor dado en **`seed`** para definir el **`random_state`** en el constructor de **`PCA`**.\n",
        "\n",
        "**Salida:**\n",
        "* **`reconstructed_img`**: arreglo de _NumPy_ de tamaño $(64, 64)$ con el resultado de aplicar la transformación de _PCA_ con un total de **`n_comp`** componentes y posteriormente la transformación inversa de la imagen de entrada **`img`**."
      ]
    },
    {
      "cell_type": "code",
      "execution_count": 58,
      "metadata": {
        "id": "P6Rnonpglooa"
      },
      "outputs": [],
      "source": [
        "from sklearn.decomposition import PCA\n",
        "\n",
        "def pca_representacion(X, n_comp, img, seed=215):\n",
        "    pca = PCA(n_components=n_comp, random_state=seed)\n",
        "    pca.fit(X)\n",
        "    img_transformed = pca.transform([img])\n",
        "    img_reconstructed = pca.inverse_transform(img_transformed)\n",
        "    reconstructed_img = img_reconstructed.reshape(64, 64)\n",
        "    return reconstructed_img\n"
      ]
    },
    {
      "cell_type": "markdown",
      "metadata": {
        "id": "mIw3UnZKEt05"
      },
      "source": [
        "Use las siguientes celdas para probar su código:"
      ]
    },
    {
      "cell_type": "code",
      "execution_count": 59,
      "metadata": {
        "colab": {
          "base_uri": "https://localhost:8080/"
        },
        "id": "luePS9B1gcES",
        "outputId": "ae4373c4-3b22-4a74-cbf6-438a3eb861c7"
      },
      "outputs": [
        {
          "output_type": "stream",
          "name": "stdout",
          "text": [
            "[0.5678 0.6046 0.5943 0.5918 0.6036]\n"
          ]
        }
      ],
      "source": [
        "#TEST_CELL\n",
        "test_id = 50\n",
        "test_result = pca_representacion(X_train, 100, X_test[test_id])\n",
        "\n",
        "if isinstance(test_result, np.ndarray):\n",
        "  print(np.round(test_result[0][:5], 4))\n",
        "else: print(\"El arreglo retornado no es válido.\")"
      ]
    },
    {
      "cell_type": "markdown",
      "metadata": {
        "id": "pJb3CIQH_j2X"
      },
      "source": [
        "**Salida esperada**:\n",
        "```\n",
        "[0.5678 0.6046 0.5943 0.5918 0.6036]\n",
        "```"
      ]
    },
    {
      "cell_type": "code",
      "execution_count": 60,
      "metadata": {
        "colab": {
          "base_uri": "https://localhost:8080/",
          "height": 879
        },
        "id": "Ttp0MMDL_fke",
        "outputId": "ff69f17b-1466-43e9-c2d0-3e2d5fbf10ef"
      },
      "outputs": [
        {
          "output_type": "display_data",
          "data": {
            "text/plain": [
              "<Figure size 1344x1008 with 2 Axes>"
            ],
            "image/png": "[encoded data removed]"
          },
          "metadata": {
            "image/png": {
              "width": 394,
              "height": 862
            }
          }
        }
      ],
      "source": [
        "#TEST_CELL\n",
        "test_id = 25\n",
        "test_result = pca_representacion(X_train, 100, X_test[test_id])\n",
        "test_original = X_test[test_id].reshape(64, 64)\n",
        "\n",
        "if isinstance(test_result, np.ndarray):\n",
        "  fig, axes = plt.subplots(dpi = 210, nrows = 2)\n",
        "  show_face(test_original, 'Original', ax = axes[0])\n",
        "  show_face(test_result, 'Reconstrucción', ax = axes[1])\n",
        "else: print(\"El arreglo retornado no es válido.\")"
      ]
    },
    {
      "cell_type": "markdown",
      "metadata": {
        "id": "xwcsbT66aeE4"
      },
      "source": [
        "**Salida esperada:**\n",
        "\n",
        "![t5p3.png](data:image/png;base64,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)"
      ]
    },
    {
      "cell_type": "markdown",
      "metadata": {
        "id": "k5H4dYbgCHY6"
      },
      "source": [
        "<details>    \n",
        "<summary>\n",
        "    <font size=\"3\" color=\"darkgreen\"><b>Pista 1</b></font>\n",
        "</summary>\n",
        "\n",
        "* Construya un objeto **`PCA`** que utilice como datos de entrada el conjunto de datos **`X`**, con **`n_comp`** componentes y semilla aleatoria **`seed`**.\n"
      ]
    },
    {
      "cell_type": "markdown",
      "metadata": {
        "id": "CbZcnTBQDAz2"
      },
      "source": [
        "<details>    \n",
        "<summary>\n",
        "    <font size=\"3\" color=\"darkgreen\"><b>Pista 2</b></font>\n",
        "</summary>\n",
        "\n",
        "* Aplique tanto **`transform`** como **`inverse_transform`** al objeto **`img`** y retorne el resultado transformado a las dimensiones correspondientes."
      ]
    },
    {
      "cell_type": "markdown",
      "metadata": {
        "id": "Z7TsVRPYDPDF"
      },
      "source": [
        "<details>    \n",
        "<summary>\n",
        "    <font size=\"3\" color=\"darkgreen\"><b>Pista 3</b></font>\n",
        "</summary>\n",
        "\n",
        "* Use **`reshape(64, 64)`** con la imagen reconstruida para cambiar sus dimensiones."
      ]
    },
    {
      "cell_type": "markdown",
      "metadata": {
        "id": "4L8oPBmXEREH"
      },
      "source": [
        "### **Evaluar código**"
      ]
    },
    {
      "cell_type": "code",
      "execution_count": 61,
      "metadata": {
        "colab": {
          "base_uri": "https://localhost:8080/",
          "height": 141
        },
        "id": "Mu-7VIn6x5MQ",
        "outputId": "eecbb959-67b9-4b39-d666-175d866e6eb0"
      },
      "outputs": [
        {
          "output_type": "stream",
          "name": "stdout",
          "text": [
            "Test 3_1\n"
          ]
        },
        {
          "output_type": "display_data",
          "data": {
            "text/plain": [
              "<IPython.core.display.HTML object>"
            ],
            "text/html": [
              "<h4>Test Run correctly</h4>"
            ]
          },
          "metadata": {}
        },
        {
          "output_type": "display_data",
          "data": {
            "text/plain": [
              "<IPython.core.display.HTML object>"
            ],
            "text/html": [
              "<h6 style=\"color: green;\">Your test grade: 100</h6>\n",
              "<h6>Feedback: Probando código</h6>"
            ]
          },
          "metadata": {}
        }
      ],
      "source": [
        "grader.run_test(\"Test 3_1\", globals())"
      ]
    },
    {
      "cell_type": "code",
      "execution_count": 62,
      "metadata": {
        "colab": {
          "base_uri": "https://localhost:8080/",
          "height": 141
        },
        "id": "73mRDodje6eA",
        "outputId": "df4ea674-dbc0-4c08-df80-b3382afd5e02"
      },
      "outputs": [
        {
          "output_type": "stream",
          "name": "stdout",
          "text": [
            "Test 3_2\n"
          ]
        },
        {
          "output_type": "display_data",
          "data": {
            "text/plain": [
              "<IPython.core.display.HTML object>"
            ],
            "text/html": [
              "<h4>Test Run correctly</h4>"
            ]
          },
          "metadata": {}
        },
        {
          "output_type": "display_data",
          "data": {
            "text/plain": [
              "<IPython.core.display.HTML object>"
            ],
            "text/html": [
              "<h6 style=\"color: green;\">Your test grade: 100</h6>\n",
              "<h6>Feedback: Probando código</h6>"
            ]
          },
          "metadata": {}
        }
      ],
      "source": [
        "grader.run_test(\"Test 3_2\", globals())"
      ]
    },
    {
      "cell_type": "code",
      "execution_count": 63,
      "metadata": {
        "colab": {
          "base_uri": "https://localhost:8080/",
          "height": 141
        },
        "id": "py7QTAW0ff7c",
        "outputId": "c54d21a9-66fd-4318-a866-91209078a518"
      },
      "outputs": [
        {
          "output_type": "stream",
          "name": "stdout",
          "text": [
            "Test 3_3\n"
          ]
        },
        {
          "output_type": "display_data",
          "data": {
            "text/plain": [
              "<IPython.core.display.HTML object>"
            ],
            "text/html": [
              "<h4>Test Run correctly</h4>"
            ]
          },
          "metadata": {}
        },
        {
          "output_type": "display_data",
          "data": {
            "text/plain": [
              "<IPython.core.display.HTML object>"
            ],
            "text/html": [
              "<h6 style=\"color: green;\">Your test grade: 100</h6>\n",
              "<h6>Feedback: Probando código</h6>"
            ]
          },
          "metadata": {}
        }
      ],
      "source": [
        "grader.run_test(\"Test 3_3\", globals())"
      ]
    },
    {
      "cell_type": "code",
      "execution_count": 64,
      "metadata": {
        "colab": {
          "base_uri": "https://localhost:8080/",
          "height": 141
        },
        "id": "5tKAothAf8gs",
        "outputId": "e463206c-e8f4-47d7-b671-da8b235a1392"
      },
      "outputs": [
        {
          "output_type": "stream",
          "name": "stdout",
          "text": [
            "Test 3_4\n"
          ]
        },
        {
          "output_type": "display_data",
          "data": {
            "text/plain": [
              "<IPython.core.display.HTML object>"
            ],
            "text/html": [
              "<h4>Test Run correctly</h4>"
            ]
          },
          "metadata": {}
        },
        {
          "output_type": "display_data",
          "data": {
            "text/plain": [
              "<IPython.core.display.HTML object>"
            ],
            "text/html": [
              "<h6 style=\"color: green;\">Your test grade: 100</h6>\n",
              "<h6>Feedback: Probando código</h6>"
            ]
          },
          "metadata": {}
        }
      ],
      "source": [
        "grader.run_test(\"Test 3_4\", globals())"
      ]
    },
    {
      "cell_type": "code",
      "execution_count": 65,
      "metadata": {
        "colab": {
          "base_uri": "https://localhost:8080/",
          "height": 141
        },
        "id": "wOCA1ha5gS9A",
        "outputId": "ca9f39b0-c99f-48ab-cb2c-2c236115ee4b"
      },
      "outputs": [
        {
          "output_type": "stream",
          "name": "stdout",
          "text": [
            "Test 3_5\n"
          ]
        },
        {
          "output_type": "display_data",
          "data": {
            "text/plain": [
              "<IPython.core.display.HTML object>"
            ],
            "text/html": [
              "<h4>Test Run correctly</h4>"
            ]
          },
          "metadata": {}
        },
        {
          "output_type": "display_data",
          "data": {
            "text/plain": [
              "<IPython.core.display.HTML object>"
            ],
            "text/html": [
              "<h6 style=\"color: green;\">Your test grade: 100</h6>\n",
              "<h6>Feedback: Probando código</h6>"
            ]
          },
          "metadata": {}
        }
      ],
      "source": [
        "grader.run_test(\"Test 3_5\", globals())"
      ]
    },
    {
      "cell_type": "markdown",
      "metadata": {
        "id": "CiqHVf8koCjJ"
      },
      "source": [
        "## **4. Fusión de rostros.**\n",
        "---\n",
        "La representación de rostros por medio de *eigenfaces* o componentes principales de menor dimensión permiten realizar operaciones entre ellos como la fusión. Para ello, se representan las dos imágenes a combinar con la misma dimensión y se realiza un promedio de sus valores. Las características estadísticas de ambos rostros se promedian dando paso a una nueva representación que puede pasar por un proceso de transformación inversa. Este proceso está descrito por:\n",
        "\n",
        "$$ \\text{fusion}(a,b) = f^\\prime \\left( \\frac{f(a) + f(b)}{2}\\right) $$\n",
        "\n",
        "donde $f(x)$ es la función de transformación de los datos originales a la representación con menor dimensionalidad y $f^\\prime(x)$ la función inversa de transformación obtenida del método _PCA_. Tanto $a$ como $b$ son observaciones del conjunto de datos.\n",
        "\n",
        "Su tarea es realizar el proceso descrito anteriormente para la fusión de dos rostros, representados por los vectores **`a`** y **`b`**. Deberá implementar la función **`fusion_rostros`**, a la que se pasarán como argumentos los dos vectores y el entero **`n_comp`** con el número de componentes utilizados por _PCA_ para la nueva representación. Se deberá realizar la transformación, combinación y recuperación de una imagen nueva, que será retornada como una matriz de $64 \\times 64$ valores numéricos.\n",
        "\n",
        "\n",
        "**Entrada:**\n",
        "\n",
        "* **`X`**: arreglo de _NumPy_ de tamaño $(n, 4096)$ con el conjunto de datos de entrada para el análisis de componentes principales _PCA_.\n",
        "* **`n_comp`**: número entero con el total de componentes a usar en la transformación realizada con _PCA_.\n",
        "* **`a`**: arreglo de _NumPy_ de tamaño $(4096, )$ con la imagen del primer rostro.\n",
        "* **`b`**: arreglo de _NumPy_ de tamaño $(4096, )$ con la imagen del segundo rostro.\n",
        "* **`seed`**: número entero con la semilla aleatoria para el algoritmo _PCA_.\n",
        "\n",
        "**Salida:**\n",
        "* **`reconstructed_img`**: arreglo de _NumPy_ de tamaño $(64, 64)$ con el resultado de aplicar la transformación de _PCA_ con un total de **`n_comp`** componentes y posteriormente la transformación inversa de la imagen de entrada **`img`**."
      ]
    },
    {
      "cell_type": "code",
      "execution_count": 66,
      "metadata": {
        "id": "cn4nUpOGsSHM"
      },
      "outputs": [],
      "source": [
        "from sklearn.decomposition import PCA\n",
        "\n",
        "def fusion_rostros(X, n_comp, a, b, seed=125):\n",
        "    pca = PCA(n_components=n_comp, random_state=seed)\n",
        "    pca.fit(X)\n",
        "    a_transformed = pca.transform([a])\n",
        "    b_transformed = pca.transform([b])\n",
        "    fusion_transformed = (a_transformed + b_transformed) / 2\n",
        "    fusion_inverse = pca.inverse_transform(fusion_transformed)\n",
        "    fusioned_face = fusion_inverse.reshape(64, 64)\n",
        "    return fusioned_face\n"
      ]
    },
    {
      "cell_type": "code",
      "execution_count": 67,
      "metadata": {
        "colab": {
          "base_uri": "https://localhost:8080/"
        },
        "id": "3PGDBK9LpHV0",
        "outputId": "c76b5ecf-e299-40f0-ad5f-758adfc86699"
      },
      "outputs": [
        {
          "output_type": "stream",
          "name": "stdout",
          "text": [
            "[0.3803 0.4216 0.473  0.5298 0.5681]\n"
          ]
        }
      ],
      "source": [
        "#TEST_CELL\n",
        "x_a =  X_train[25]\n",
        "x_b =  X_train[50]\n",
        "\n",
        "fusión = fusion_rostros(X_train, 100, x_a, x_b)\n",
        "if isinstance(fusión, np.ndarray):\n",
        "  print(np.round(fusión[0][:5], 4))\n",
        "else: print(\"El arreglo retornado no es válido.\")"
      ]
    },
    {
      "cell_type": "markdown",
      "metadata": {
        "id": "UPHOfa6x_UUz"
      },
      "source": [
        "**Salida esperada:**\n",
        "\n",
        "```\n",
        "[0.3803 0.4216 0.473  0.5298 0.5681]\n",
        "```"
      ]
    },
    {
      "cell_type": "code",
      "execution_count": 68,
      "metadata": {
        "colab": {
          "base_uri": "https://localhost:8080/",
          "height": 824
        },
        "id": "UZ8lC-5N_HCv",
        "outputId": "70eae7bf-f570-428f-a0c6-7f4ee1d69f58"
      },
      "outputs": [
        {
          "output_type": "display_data",
          "data": {
            "text/plain": [
              "<Figure size 440x990 with 3 Axes>"
            ],
            "image/png": "[encoded data removed]"
          },
          "metadata": {
            "image/png": {
              "width": 246,
              "height": 807
            }
          }
        }
      ],
      "source": [
        "#TEST_CELL\n",
        "x_a =  X_train[25]\n",
        "x_b =  X_train[50]\n",
        "fusión = fusion_rostros(X_train, 100, x_a, x_b)\n",
        "\n",
        "if isinstance(fusión, np.ndarray):\n",
        "  fig, axes = plt.subplots(dpi = 110, nrows = 3, figsize = (4, 9))\n",
        "  show_face(x_a.reshape(64,64), 'Rostro A', ax = axes[0])\n",
        "  show_face(x_b.reshape(64,64), 'Rostro B', ax = axes[1])\n",
        "  show_face(fusión, 'Fusión de A y B', ax = axes[2])\n",
        "else: print(\"El arreglo retornado no es válido.\")"
      ]
    },
    {
      "cell_type": "markdown",
      "metadata": {
        "id": "WgRgN3-ukp1H"
      },
      "source": [
        "**Salida esperada:**\n",
        "\n",
        "![t5p4.png](data:image/png;base64,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)"
      ]
    },
    {
      "cell_type": "markdown",
      "metadata": {
        "id": "ckioLQH8Dh7h"
      },
      "source": [
        "<details>    \n",
        "<summary>\n",
        "    <font size=\"3\" color=\"darkgreen\"><b>Pista 1</b></font>\n",
        "</summary>\n",
        "\n",
        "* Construya un objeto **`PCA`** que utilice como datos de entrada el conjunto de datos **`X`**.\n"
      ]
    },
    {
      "cell_type": "markdown",
      "metadata": {
        "id": "gpwx8bmPDiiE"
      },
      "source": [
        "<details>    \n",
        "<summary>\n",
        "    <font size=\"3\" color=\"darkgreen\"><b>Pista 2</b></font>\n",
        "</summary>\n",
        "\n",
        "* Calcule la representación de _PCA_ de los rostros **`a`** y **`b`**. **`rep_a`** y **`rep_b`** correspondientemente. Luego, calcule el promedio de las representaciones como la suma de la mitad de **`rep_a`** y la mitad de **`rep_b`** con operaciones matemáticas entre arreglos de _NumPy_.\n"
      ]
    },
    {
      "cell_type": "markdown",
      "metadata": {
        "id": "qif1hTFWEHPb"
      },
      "source": [
        "<details>    \n",
        "<summary>\n",
        "    <font size=\"3\" color=\"darkgreen\"><b>Pista 3</b></font>\n",
        "</summary>\n",
        "\n",
        "* Aplique la transformación inversa a el promedio de las representaciones y use **`reshape(64, 64)`** con la imagen reconstruida."
      ]
    },
    {
      "cell_type": "markdown",
      "metadata": {
        "id": "kUXqyJPRtR42"
      },
      "source": [
        "<details>    \n",
        "<summary>\n",
        "    <font size=\"3\" color=\"darkgreen\"><b>Pista 4</b></font>\n",
        "</summary>\n",
        "\n",
        "* Recuerde que las funciones de *Scikit-Learn* reciben como entrada un conjunto de observaciones. Como se requiere usar únicamente una observación, es necesario envolverla en un arreglo o lista conteniendo únicamente dicha observación."
      ]
    },
    {
      "cell_type": "markdown",
      "metadata": {
        "id": "w-tHXjRnESG-"
      },
      "source": [
        "### **Evaluar código**"
      ]
    },
    {
      "cell_type": "code",
      "execution_count": 69,
      "metadata": {
        "colab": {
          "base_uri": "https://localhost:8080/",
          "height": 141
        },
        "id": "ud2k18Pfv1oy",
        "outputId": "031a9eb6-8d72-451e-dfc2-a7cfbd106070"
      },
      "outputs": [
        {
          "output_type": "stream",
          "name": "stdout",
          "text": [
            "Test 4_1\n"
          ]
        },
        {
          "output_type": "display_data",
          "data": {
            "text/plain": [
              "<IPython.core.display.HTML object>"
            ],
            "text/html": [
              "<h4>Test Run correctly</h4>"
            ]
          },
          "metadata": {}
        },
        {
          "output_type": "display_data",
          "data": {
            "text/plain": [
              "<IPython.core.display.HTML object>"
            ],
            "text/html": [
              "<h6 style=\"color: green;\">Your test grade: 100</h6>\n",
              "<h6>Feedback: Probando código</h6>"
            ]
          },
          "metadata": {}
        }
      ],
      "source": [
        "grader.run_test(\"Test 4_1\", globals())"
      ]
    },
    {
      "cell_type": "code",
      "execution_count": 70,
      "metadata": {
        "colab": {
          "base_uri": "https://localhost:8080/",
          "height": 141
        },
        "id": "xdqjGW1B3edr",
        "outputId": "bc74fb7f-3470-4283-c546-b7b0219230da"
      },
      "outputs": [
        {
          "output_type": "stream",
          "name": "stdout",
          "text": [
            "Test 4_2\n"
          ]
        },
        {
          "output_type": "display_data",
          "data": {
            "text/plain": [
              "<IPython.core.display.HTML object>"
            ],
            "text/html": [
              "<h4>Test Run correctly</h4>"
            ]
          },
          "metadata": {}
        },
        {
          "output_type": "display_data",
          "data": {
            "text/plain": [
              "<IPython.core.display.HTML object>"
            ],
            "text/html": [
              "<h6 style=\"color: green;\">Your test grade: 100</h6>\n",
              "<h6>Feedback: Probando código</h6>"
            ]
          },
          "metadata": {}
        }
      ],
      "source": [
        "grader.run_test(\"Test 4_2\", globals())"
      ]
    },
    {
      "cell_type": "code",
      "execution_count": 71,
      "metadata": {
        "colab": {
          "base_uri": "https://localhost:8080/",
          "height": 141
        },
        "id": "tASEr6RL4WHG",
        "outputId": "de2571a7-07ea-4e24-d597-fa3fc74b8dbb"
      },
      "outputs": [
        {
          "output_type": "stream",
          "name": "stdout",
          "text": [
            "Test 4_3\n"
          ]
        },
        {
          "output_type": "display_data",
          "data": {
            "text/plain": [
              "<IPython.core.display.HTML object>"
            ],
            "text/html": [
              "<h4>Test Run correctly</h4>"
            ]
          },
          "metadata": {}
        },
        {
          "output_type": "display_data",
          "data": {
            "text/plain": [
              "<IPython.core.display.HTML object>"
            ],
            "text/html": [
              "<h6 style=\"color: green;\">Your test grade: 100</h6>\n",
              "<h6>Feedback: Probando código</h6>"
            ]
          },
          "metadata": {}
        }
      ],
      "source": [
        "grader.run_test(\"Test 4_3\", globals())"
      ]
    },
    {
      "cell_type": "code",
      "execution_count": 72,
      "metadata": {
        "colab": {
          "base_uri": "https://localhost:8080/",
          "height": 141
        },
        "id": "0d4VHGFl4nyM",
        "outputId": "6c434e21-1ecb-4ac4-cf20-253045b22762"
      },
      "outputs": [
        {
          "output_type": "stream",
          "name": "stdout",
          "text": [
            "Test 4_4\n"
          ]
        },
        {
          "output_type": "display_data",
          "data": {
            "text/plain": [
              "<IPython.core.display.HTML object>"
            ],
            "text/html": [
              "<h4>Test Run correctly</h4>"
            ]
          },
          "metadata": {}
        },
        {
          "output_type": "display_data",
          "data": {
            "text/plain": [
              "<IPython.core.display.HTML object>"
            ],
            "text/html": [
              "<h6 style=\"color: green;\">Your test grade: 100</h6>\n",
              "<h6>Feedback: Probando código</h6>"
            ]
          },
          "metadata": {}
        }
      ],
      "source": [
        "grader.run_test(\"Test 4_4\", globals())"
      ]
    },
    {
      "cell_type": "code",
      "execution_count": 73,
      "metadata": {
        "colab": {
          "base_uri": "https://localhost:8080/",
          "height": 141
        },
        "id": "MiqSvlYT43R3",
        "outputId": "18bb4eb0-7ef4-4c86-a965-af4d23c2b003"
      },
      "outputs": [
        {
          "output_type": "stream",
          "name": "stdout",
          "text": [
            "Test 4_5\n"
          ]
        },
        {
          "output_type": "display_data",
          "data": {
            "text/plain": [
              "<IPython.core.display.HTML object>"
            ],
            "text/html": [
              "<h4>Test Run correctly</h4>"
            ]
          },
          "metadata": {}
        },
        {
          "output_type": "display_data",
          "data": {
            "text/plain": [
              "<IPython.core.display.HTML object>"
            ],
            "text/html": [
              "<h6 style=\"color: green;\">Your test grade: 100</h6>\n",
              "<h6>Feedback: Probando código</h6>"
            ]
          },
          "metadata": {}
        }
      ],
      "source": [
        "grader.run_test(\"Test 4_5\", globals())"
      ]
    },
    {
      "cell_type": "markdown",
      "metadata": {
        "id": "dmjLHfHjFmaI"
      },
      "source": [
        "## **5. Modelado con *pipeline*.**\n",
        "---\n",
        "\n",
        "Este *dataset* está diseñado para realizar tareas de clasificación, en donde los datos de entrada son el tono de cada píxel de la imagen y la variable objetivo un valor representando una persona específica. En total se consideran $40$ personas, cada una con $10$ imágenes con gestos y posiciones distintas.\n",
        "\n",
        "En este punto debe implementar la función **`entrenar_pipeline`** de tal manera que reciba la partición de datos de entrenamiento **`X_train`**, **`y_train`**, un entero **`k`** con el número de pliegues de validación cruzada y un diccionario de parámetros y retorne un **`Pipeline`** entrenado con **`GridSearchCV`**.\n",
        "\n",
        "El objeto **`Pipeline`** estará compuesto por dos etapas. En el primero, se realizará una reducción de la dimensionalidad con **`PCA`** y en la segunda se entrenará un modelo de clasificación con vectores de soporte con la función **`SVC`**. Los nombres de las etapas deberán ser **`'pca'`** y **`'svc'`**, respectivamente.\n",
        "\n",
        "**Entrada:**\n",
        "\n",
        "* **`X_train`**: arreglo de _NumPy_ de tamaño $(n, 4096)$ con el conjunto de datos de entrada.\n",
        "* **`y_train`**: arreglo de _NumPy_ de tamaño $(n, )$ con el vector de etiquetas reales.\n",
        "* **`params`**: diccionario con las listas de valores posibles de cada hiperparámetro de los estimadores **`PCA`** y **`SVC`** de *Scikit-Learn* en formato de prefijo apto para validación cruzada de _pipelines_.\n",
        "* **`k`**: número entero del total de pliegues de validación cruzada que se deben explorar en la búsqueda de hiperparámetros.\n",
        "* **`seed`**: número entero con la semilla aleatoria para los estimadores **`PCA`** y **`SVC`**.\n",
        "\n",
        "  > **Nota:** la ejecución de los estimadores **`PCA`** y **`SVC`** de _Scikit-Learn_ depende de procesos aleatorios independientes. En este caso, deberá utilizar el mismo valor dado en **`seed`** para definir el **`random_state`** en el constructor de ambos estimadores.\n",
        "\n",
        "**Salida:**\n",
        "* **`gsearch`**: objeto **`GridSearchCV`** entrenado sobre un objeto **`Pipeline`** compuesto por los estimadores **`PCA`** y **`SVC`** y con los datos de entrenamiento **`X_train`** y **`y_train`**.\n",
        "\n",
        "\n",
        "\n",
        "\n"
      ]
    },
    {
      "cell_type": "code",
      "execution_count": 74,
      "metadata": {
        "id": "R4_WzsLUFoZY"
      },
      "outputs": [],
      "source": [
        "from sklearn.decomposition import PCA\n",
        "from sklearn.svm import SVC\n",
        "from sklearn.pipeline import Pipeline\n",
        "from sklearn.model_selection import GridSearchCV\n",
        "\n",
        "def entrenar_pipeline(X_train, y_train, params, k, seed=125):\n",
        "    pipeline = Pipeline([\n",
        "        ('pca', PCA(random_state=seed)),\n",
        "        ('svc', SVC(random_state=seed))\n",
        "    ])\n",
        "\n",
        "    gsearch = GridSearchCV(pipeline, param_grid=params, cv=k)\n",
        "    gsearch.fit(X_train, y_train)\n",
        "\n",
        "    return gsearch\n"
      ]
    },
    {
      "cell_type": "code",
      "execution_count": 75,
      "metadata": {
        "colab": {
          "base_uri": "https://localhost:8080/"
        },
        "id": "wn3Bd2cJDeZL",
        "outputId": "07ede702-92d1-4354-a2b0-d39f26810d4f"
      },
      "outputs": [
        {
          "output_type": "stream",
          "name": "stdout",
          "text": [
            "Mejor configuración de parámetros:\n",
            "\tpca__n_components: 25\n",
            "\tsvc__kernel: rbf\n",
            "Exactitud (val): 0.8536\n",
            "Exactitud (test): 0.9000\n"
          ]
        }
      ],
      "source": [
        "#TEST_CELL\n",
        "parameters = {\n",
        "    'pca__n_components': [2, 5, 10, 25],\n",
        "    'svc__kernel': ['rbf', 'sigmoid']\n",
        "}\n",
        "gsearch = entrenar_pipeline(X_train, y_train, parameters, k=4)\n",
        "\n",
        "try:\n",
        "  print(\"Mejor configuración de parámetros:\")\n",
        "\n",
        "  best_parameters = gsearch.best_params_\n",
        "  for param in sorted(parameters.keys()):\n",
        "      print(f\"\\t{param}: {best_parameters[param]}\")\n",
        "\n",
        "  print(f\"Exactitud (val): {gsearch.best_score_:.4f}\")\n",
        "  print(f'Exactitud (test): {gsearch.score(X_test, y_test):.4f}')\n",
        "except Exception as e:\n",
        "  print(\"El objeto GridSearchCV no es válido:\")\n",
        "  print(e)"
      ]
    },
    {
      "cell_type": "markdown",
      "metadata": {
        "id": "RTe6b1kI-iLs"
      },
      "source": [
        "**Salida esperada:**\n",
        "```\n",
        "Mejor configuración de parámetros:\n",
        "\tpca__n_components: 25\n",
        "\tsvc__kernel: rbf\n",
        "Exactitud (val): 0.8536\n",
        "Exactitud (test): 0.9000\n",
        "```"
      ]
    },
    {
      "cell_type": "markdown",
      "metadata": {
        "id": "VqZEcDtNNRMM"
      },
      "source": [
        "<details>    \n",
        "<summary>\n",
        "    <font size=\"3\" color=\"darkgreen\"><b>Pista 1</b></font>\n",
        "</summary>\n",
        "\n",
        "* En esta tarea usted deberá importar los módulos necesarios, que incluyen estimadores y demás objetos necesarios.\n"
      ]
    },
    {
      "cell_type": "markdown",
      "metadata": {
        "id": "r5PqdKl_NRMR"
      },
      "source": [
        "<details>    \n",
        "<summary>\n",
        "    <font size=\"3\" color=\"darkgreen\"><b>Pista 2</b></font>\n",
        "</summary>\n",
        "\n",
        "* Los estimadores usados en el *pipeline* solo deberían recibir como parámetro la semilla aleatoria **`seed`** dada. Todos los hiperparámetros a considerar se pasarán por medio del objeto **`params`**.\n",
        "* Verifique que usó los nombres correctos en la tupla id-estimador. Si no están escritos de igual manera el programa fallará. Esto incluye caracteres en mayúscula/minúscula, entre otros.\n"
      ]
    },
    {
      "cell_type": "markdown",
      "metadata": {
        "id": "o8wEhwQzOblg"
      },
      "source": [
        "<details>    \n",
        "<summary>\n",
        "    <font size=\"3\" color=\"darkgreen\"><b>Pista 3</b></font>\n",
        "</summary>\n",
        "\n",
        "* El parámetro **`verbose`** de **`GridSearchCV`** puede generar problemas en la calificación. Se le recomienda usarlo para evaluar e inspeccionar los resultados y dejarlo con valor $0$ o no definirlo cuando vaya a realizar la entrega.\n"
      ]
    },
    {
      "cell_type": "markdown",
      "metadata": {
        "id": "W9LjuvmoETRP"
      },
      "source": [
        "### **Evaluar código**"
      ]
    },
    {
      "cell_type": "code",
      "execution_count": 76,
      "metadata": {
        "colab": {
          "base_uri": "https://localhost:8080/",
          "height": 141
        },
        "id": "uhv6DRPhbpHX",
        "outputId": "a36656f2-c59a-4100-845d-cb46b8c33cf2"
      },
      "outputs": [
        {
          "output_type": "stream",
          "name": "stdout",
          "text": [
            "Test 5_1\n"
          ]
        },
        {
          "output_type": "display_data",
          "data": {
            "text/plain": [
              "<IPython.core.display.HTML object>"
            ],
            "text/html": [
              "<h4>Test Run correctly</h4>"
            ]
          },
          "metadata": {}
        },
        {
          "output_type": "display_data",
          "data": {
            "text/plain": [
              "<IPython.core.display.HTML object>"
            ],
            "text/html": [
              "<h6 style=\"color: green;\">Your test grade: 100</h6>\n",
              "<h6>Feedback: Probando código</h6>"
            ]
          },
          "metadata": {}
        }
      ],
      "source": [
        "grader.run_test(\"Test 5_1\", globals())"
      ]
    },
    {
      "cell_type": "code",
      "execution_count": 77,
      "metadata": {
        "colab": {
          "base_uri": "https://localhost:8080/",
          "height": 141
        },
        "id": "GCfQWiQNh50x",
        "outputId": "e9a073ef-da1e-4d3b-d8f6-ea996411c8cb"
      },
      "outputs": [
        {
          "output_type": "stream",
          "name": "stdout",
          "text": [
            "Test 5_2\n"
          ]
        },
        {
          "output_type": "display_data",
          "data": {
            "text/plain": [
              "<IPython.core.display.HTML object>"
            ],
            "text/html": [
              "<h4>Test Run correctly</h4>"
            ]
          },
          "metadata": {}
        },
        {
          "output_type": "display_data",
          "data": {
            "text/plain": [
              "<IPython.core.display.HTML object>"
            ],
            "text/html": [
              "<h6 style=\"color: green;\">Your test grade: 100</h6>\n",
              "<h6>Feedback: Probando código</h6>"
            ]
          },
          "metadata": {}
        }
      ],
      "source": [
        "grader.run_test(\"Test 5_2\", globals())"
      ]
    },
    {
      "cell_type": "markdown",
      "metadata": {
        "id": "Mr7B1tZ7FvLx"
      },
      "source": [
        "## **6. Reporte del desempeño del *pipeline***\n",
        "---\n",
        "Finalmente, evaluaremos el *pipeline* construido en el punto anterior con la ayuda de métricas de rendimiento como la exactitud, _recall_, precisión y $f_1$. En esta ocasión, deberá utilizar una función de _Scikit-Learn_ vista en el curso para obtener un **reporte de clasificación**.\n",
        "\n",
        "Para esto, recibirá como argumentos de entrada el objeto **`model`** con un modelo de clasificación entrenado y los conjuntos $X$ y $y$ para evaluación. Deberá retornar la cadena de texto generada en el reporte de clasificación con $4$ dígitos de precisión en los valores numéricos.\n",
        "\n",
        "> **Nota:** Identifique la función apropiada y consulte su documentación para encontrar la manera de alterar la precisión y compare su resultado con las celdas de prueba.\n",
        "\n",
        "\n",
        "**Entrada:**\n",
        "\n",
        "* **`model`**: modelo de clasificación de _Scikit-Learn_.\n",
        "> **Nota:** este objeto corresponde a cualquier modelo que corresponda al _API_ básica de los clasificadores de _Scikit-Learn_, incluyendo objetos de tipo **`GridSearchCV`** y **`PipeLine`** para clasificación.\n",
        "* **`X_test`**: arreglo de *NumPy* de tamaño $(n, m)$ para evaluación.\n",
        "* **`y_test`**: arreglo de *NumPy* de tamaño $(n, )$ para evaluación.\n",
        "\n",
        "**Salida**:\n",
        "\n",
        "* **`report`**: cadena de texto con el reporte por clase de la clasificación realizada.\n",
        "\n"
      ]
    },
    {
      "cell_type": "code",
      "execution_count": 78,
      "metadata": {
        "id": "9ZHVjZtD6htb"
      },
      "outputs": [],
      "source": [
        "from sklearn.metrics import classification_report\n",
        "\n",
        "def reporte_desempeño(model, X_test, y_test):\n",
        "    y_pred = model.predict(X_test)\n",
        "    report = classification_report(y_test, y_pred, digits=4)\n",
        "    return report\n"
      ]
    },
    {
      "cell_type": "code",
      "execution_count": 79,
      "metadata": {
        "colab": {
          "base_uri": "https://localhost:8080/"
        },
        "id": "jrHagCej7UKV",
        "outputId": "50a18b2d-f2d7-453a-b74d-8f01b81c7c43"
      },
      "outputs": [
        {
          "output_type": "stream",
          "name": "stdout",
          "text": [
            "              precision    recall  f1-score   support\n",
            "\n",
            "           0     0.3333    0.3333    0.3333         3\n",
            "           1     1.0000    1.0000    1.0000         3\n",
            "           2     1.0000    1.0000    1.0000         3\n",
            "           3     0.6667    0.6667    0.6667         3\n",
            "           4     1.0000    1.0000    1.0000         3\n",
            "           5     1.0000    1.0000    1.0000         3\n",
            "           6     1.0000    1.0000    1.0000         3\n",
            "           7     1.0000    0.6667    0.8000         3\n",
            "           8     1.0000    0.6667    0.8000         3\n",
            "           9     0.7500    1.0000    0.8571         3\n",
            "          10     1.0000    1.0000    1.0000         3\n",
            "          11     1.0000    1.0000    1.0000         3\n",
            "          12     1.0000    0.3333    0.5000         3\n",
            "          13     1.0000    1.0000    1.0000         3\n",
            "          14     1.0000    1.0000    1.0000         3\n",
            "          15     1.0000    0.6667    0.8000         3\n",
            "          16     0.7500    1.0000    0.8571         3\n",
            "          17     1.0000    1.0000    1.0000         3\n",
            "          18     1.0000    1.0000    1.0000         3\n",
            "          19     1.0000    1.0000    1.0000         3\n",
            "          20     0.7500    1.0000    0.8571         3\n",
            "          21     1.0000    1.0000    1.0000         3\n",
            "          22     0.7500    1.0000    0.8571         3\n",
            "          23     1.0000    0.6667    0.8000         3\n",
            "          24     0.6667    0.6667    0.6667         3\n",
            "          25     1.0000    0.6667    0.8000         3\n",
            "          26     1.0000    1.0000    1.0000         3\n",
            "          27     1.0000    1.0000    1.0000         3\n",
            "          28     1.0000    1.0000    1.0000         3\n",
            "          29     1.0000    1.0000    1.0000         3\n",
            "          30     1.0000    1.0000    1.0000         3\n",
            "          31     1.0000    1.0000    1.0000         3\n",
            "          32     1.0000    1.0000    1.0000         3\n",
            "          33     1.0000    1.0000    1.0000         3\n",
            "          34     1.0000    0.6667    0.8000         3\n",
            "          35     1.0000    1.0000    1.0000         3\n",
            "          36     1.0000    1.0000    1.0000         3\n",
            "          37     1.0000    1.0000    1.0000         3\n",
            "          38     1.0000    1.0000    1.0000         3\n",
            "          39     0.4286    1.0000    0.6000         3\n",
            "\n",
            "    accuracy                         0.9000       120\n",
            "   macro avg     0.9274    0.9000    0.8999       120\n",
            "weighted avg     0.9274    0.9000    0.8999       120\n",
            "\n"
          ]
        }
      ],
      "source": [
        "#TEST_CELL\n",
        "parameters = {\n",
        "    'pca__n_components': [2, 5, 10, 25],\n",
        "    'svc__kernel': ['rbf', 'sigmoid']\n",
        "}\n",
        "# Ejercicio 5. Entrenamiento de modelo de clasificación GridSearchCV con Pipeline.\n",
        "gsearch = entrenar_pipeline(X_train, y_train, parameters, k=4)\n",
        "assert isinstance(gsearch,\n",
        "                  sklearn.model_selection._search.GridSearchCV), \"Ej 5. Revise el ejercicio 5.\"\n",
        "\n",
        "print(reporte_desempeño(gsearch, X_test, y_test))"
      ]
    },
    {
      "cell_type": "markdown",
      "metadata": {
        "id": "dhAKWQwO-sYD"
      },
      "source": [
        "**Salida esperada**:\n",
        "\n",
        "```\n",
        "   precision    recall  f1-score   support\n",
        "\n",
        "           0     0.3333    0.3333    0.3333         3\n",
        "           1     1.0000    1.0000    1.0000         3\n",
        "           2     1.0000    1.0000    1.0000         3\n",
        "           3     0.6667    0.6667    0.6667         3\n",
        "           4     1.0000    1.0000    1.0000         3\n",
        "           5     1.0000    1.0000    1.0000         3\n",
        "           6     1.0000    1.0000    1.0000         3\n",
        "           7     1.0000    0.6667    0.8000         3\n",
        "           8     1.0000    0.6667    0.8000         3\n",
        "           9     0.7500    1.0000    0.8571         3\n",
        "          10     1.0000    1.0000    1.0000         3\n",
        "          11     1.0000    1.0000    1.0000         3\n",
        "          12     1.0000    0.3333    0.5000         3\n",
        "          13     1.0000    1.0000    1.0000         3\n",
        "          14     1.0000    1.0000    1.0000         3\n",
        "          15     1.0000    0.6667    0.8000         3\n",
        "          16     0.7500    1.0000    0.8571         3\n",
        "          17     1.0000    1.0000    1.0000         3\n",
        "          18     1.0000    1.0000    1.0000         3\n",
        "          19     1.0000    1.0000    1.0000         3\n",
        "          20     0.7500    1.0000    0.8571         3\n",
        "          21     1.0000    1.0000    1.0000         3\n",
        "          22     0.7500    1.0000    0.8571         3\n",
        "          23     1.0000    0.6667    0.8000         3\n",
        "          24     0.6667    0.6667    0.6667         3\n",
        "          25     1.0000    0.6667    0.8000         3\n",
        "          26     1.0000    1.0000    1.0000         3\n",
        "          27     1.0000    1.0000    1.0000         3\n",
        "          28     1.0000    1.0000    1.0000         3\n",
        "          29     1.0000    1.0000    1.0000         3\n",
        "          30     1.0000    1.0000    1.0000         3\n",
        "          31     1.0000    1.0000    1.0000         3\n",
        "          32     1.0000    1.0000    1.0000         3\n",
        "          33     1.0000    1.0000    1.0000         3\n",
        "          34     1.0000    0.6667    0.8000         3\n",
        "          35     1.0000    1.0000    1.0000         3\n",
        "          36     1.0000    1.0000    1.0000         3\n",
        "          37     1.0000    1.0000    1.0000         3\n",
        "          38     1.0000    1.0000    1.0000         3\n",
        "          39     0.4286    1.0000    0.6000         3\n",
        "\n",
        "    accuracy                         0.9000       120\n",
        "   macro avg     0.9274    0.9000    0.8999       120\n",
        "weighted avg     0.9274    0.9000    0.8999       120\n",
        "```"
      ]
    },
    {
      "cell_type": "code",
      "execution_count": null,
      "metadata": {
        "cellView": "form",
        "id": "dn0e_wcxhUi2"
      },
      "outputs": [],
      "source": [
        "#TEST_CELL\n",
        "#@title  { run: \"auto\", vertical-output: true }\n",
        "#@markdown En la evaluación anterior podemos apreciar que la clase con el f1-score binario más bajo es el que tiene el índice 0. Ejecute esta celda para graficar las imágenes del sujeto del índice seleccionado con el _slider_.\n",
        "#@markdown > Al explorar las imágenes del sujeto podemos ver que algunas tienen características distintas, como la inclinación y la posición del rostro, que pueden haber derivado en una clasificación erronea por parte del modelo. Lo invitamos a que explore otros registros y características del conjunto de datos.\n",
        "from google.colab import widgets\n",
        "\n",
        "\n",
        "subject_id = 16 #@param {type:\"slider\", min:0, max:39, step:1}\n",
        "\n",
        "\n",
        "subject_imgs = X[y == subject_id]\n",
        "\n",
        "tb = widgets.TabBar([f'{k + 1}' for k in range(10)])\n",
        "for i in range(10):\n",
        "  with tb.output_to(i, select= (i < 1)):\n",
        "    show_face(subject_imgs[i].reshape(64, 64),\n",
        "          title = f'Foto {i + 1} del sujeto {subject_id}')\n",
        "    plt.show()\n"
      ]
    },
    {
      "cell_type": "markdown",
      "metadata": {
        "id": "xudPoOP7Ox9M"
      },
      "source": [
        "<details>    \n",
        "<summary>\n",
        "    <font size=\"3\" color=\"darkgreen\"><b>Pista 1</b></font>\n",
        "</summary>\n",
        "\n",
        "* En esta tarea usted deberá importar los módulos necesarios de métricas de rendimiento discutidas en el curso. Consulte el material previo o la [documentación](https://scikit-learn.org/stable/modules/model_evaluation.html#classification-metrics) de métricas de *Scikit-Learn*.\n"
      ]
    },
    {
      "cell_type": "markdown",
      "metadata": {
        "id": "oYDBA1pJPO9J"
      },
      "source": [
        "<details>    \n",
        "<summary>\n",
        "    <font size=\"3\" color=\"darkgreen\"><b>Pista 2</b></font>\n",
        "</summary>\n",
        "\n",
        "* El objeto **`gsearch`** no debería ser modificado, ni se tiene que entrenar nuevamente. Utilice únicamente funciones que no alteren su entrenamiento como **`predict`**, **`score`** o alguno de sus múltiples atributos.\n"
      ]
    },
    {
      "cell_type": "markdown",
      "metadata": {
        "id": "BdRGxm9UF84n"
      },
      "source": [
        "<details>    \n",
        "<summary>\n",
        "    <font size=\"3\" color=\"darkgreen\"><b>Pista 3</b></font>\n",
        "</summary>\n",
        "\n",
        "* Utilice la función **`classification_report`** y defina el número de dígitos según se indica en su [documentación](https://scikit-learn.org/stable/modules/generated/sklearn.metrics.classification_report.html#sklearn.metrics.classification_report).\n"
      ]
    },
    {
      "cell_type": "markdown",
      "metadata": {
        "id": "BerwAsy7GT-U"
      },
      "source": [
        "<details>    \n",
        "<summary>\n",
        "    <font size=\"3\" color=\"darkgreen\"><b>Pista 4</b></font>\n",
        "</summary>\n",
        "\n",
        "* Utilice el argumento **`digits`** de **`classification_report`** para definir el número de dígitos.\n"
      ]
    },
    {
      "cell_type": "markdown",
      "metadata": {
        "id": "-9e3CeL8EU4K"
      },
      "source": [
        "### **Evaluar código**"
      ]
    },
    {
      "cell_type": "code",
      "execution_count": 81,
      "metadata": {
        "colab": {
          "base_uri": "https://localhost:8080/",
          "height": 141
        },
        "id": "cO-pEfmZ2HrG",
        "outputId": "9dec4e0c-dfc6-4cba-9d60-8548845f8e71"
      },
      "outputs": [
        {
          "output_type": "stream",
          "name": "stdout",
          "text": [
            "Test 6_1\n"
          ]
        },
        {
          "output_type": "display_data",
          "data": {
            "text/plain": [
              "<IPython.core.display.HTML object>"
            ],
            "text/html": [
              "<h4>Test Run correctly</h4>"
            ]
          },
          "metadata": {}
        },
        {
          "output_type": "display_data",
          "data": {
            "text/plain": [
              "<IPython.core.display.HTML object>"
            ],
            "text/html": [
              "<h6 style=\"color: green;\">Your test grade: 100</h6>\n",
              "<h6>Feedback: Probando código con datos de iris</h6>"
            ]
          },
          "metadata": {}
        }
      ],
      "source": [
        "grader.run_test(\"Test 6_1\", globals())"
      ]
    },
    {
      "cell_type": "code",
      "execution_count": 82,
      "metadata": {
        "colab": {
          "base_uri": "https://localhost:8080/",
          "height": 141
        },
        "id": "OKQSxHwdFo53",
        "outputId": "5e5c35ef-4aca-4f95-b229-75d1fe1cfa27"
      },
      "outputs": [
        {
          "output_type": "stream",
          "name": "stdout",
          "text": [
            "Test 6_2\n"
          ]
        },
        {
          "output_type": "display_data",
          "data": {
            "text/plain": [
              "<IPython.core.display.HTML object>"
            ],
            "text/html": [
              "<h4>Test Run correctly</h4>"
            ]
          },
          "metadata": {}
        },
        {
          "output_type": "display_data",
          "data": {
            "text/plain": [
              "<IPython.core.display.HTML object>"
            ],
            "text/html": [
              "<h6 style=\"color: green;\">Your test grade: 100</h6>\n",
              "<h6>Feedback: Probando código</h6>"
            ]
          },
          "metadata": {}
        }
      ],
      "source": [
        "grader.run_test(\"Test 6_2\", globals())"
      ]
    },
    {
      "cell_type": "markdown",
      "metadata": {
        "id": "QrU5ELZuMyF6"
      },
      "source": [
        "**¡Felicitaciones!** Ha terminado la tarea de la Unidad 5. ¡Buen trabajo!\n",
        "\n",
        "## **Evaluación**"
      ]
    },
    {
      "cell_type": "code",
      "execution_count": 83,
      "metadata": {
        "colab": {
          "base_uri": "https://localhost:8080/",
          "height": 1000
        },
        "id": "bavDgQM9QjPe",
        "outputId": "69f8968d-8a0b-42df-b5ab-561d85556b35"
      },
      "outputs": [
        {
          "output_type": "stream",
          "name": "stdout",
          "text": [
            "Test 1_1\n",
            "Test 1_2\n",
            "Test 2_1\n",
            "Test 2_2\n",
            "Test 2_3\n",
            "Test 3_1\n",
            "Test 3_2\n",
            "Test 3_3\n",
            "Test 3_4\n",
            "Test 3_5\n",
            "Test 4_1\n",
            "Test 4_2\n",
            "Test 4_3\n",
            "Test 4_4\n",
            "Test 4_5\n",
            "Test 5_1\n",
            "Test 5_2\n",
            "Test 6_1\n",
            "Test 6_2\n"
          ]
        },
        {
          "output_type": "display_data",
          "data": {
            "text/plain": [
              "<IPython.core.display.HTML object>"
            ],
            "text/html": [
              "<h3>Grading succeeded</h3>"
            ]
          },
          "metadata": {}
        },
        {
          "output_type": "display_data",
          "data": {
            "text/plain": [
              "<IPython.core.display.HTML object>"
            ],
            "text/html": [
              "<h6 style=\"color: green;\">TEST Test 1_1 , Your test grade: 100</h6>\n",
              "<h6>Feedback: Probando código con valores de load_digits</h6>"
            ]
          },
          "metadata": {}
        },
        {
          "output_type": "display_data",
          "data": {
            "text/plain": [
              "<IPython.core.display.HTML object>"
            ],
            "text/html": [
              "<h6 style=\"color: green;\">TEST Test 1_2 , Your test grade: 100</h6>\n",
              "<h6>Feedback: Probando código</h6>"
            ]
          },
          "metadata": {}
        },
        {
          "output_type": "display_data",
          "data": {
            "text/plain": [
              "<IPython.core.display.HTML object>"
            ],
            "text/html": [
              "<h6 style=\"color: green;\">TEST Test 2_1 , Your test grade: 100</h6>\n",
              "<h6>Feedback: Probando código</h6>"
            ]
          },
          "metadata": {}
        },
        {
          "output_type": "display_data",
          "data": {
            "text/plain": [
              "<IPython.core.display.HTML object>"
            ],
            "text/html": [
              "<h6 style=\"color: green;\">TEST Test 2_2 , Your test grade: 100</h6>\n",
              "<h6>Feedback: Probando código</h6>"
            ]
          },
          "metadata": {}
        },
        {
          "output_type": "display_data",
          "data": {
            "text/plain": [
              "<IPython.core.display.HTML object>"
            ],
            "text/html": [
              "<h6 style=\"color: green;\">TEST Test 2_3 , Your test grade: 100</h6>\n",
              "<h6>Feedback: Probando código</h6>"
            ]
          },
          "metadata": {}
        },
        {
          "output_type": "display_data",
          "data": {
            "text/plain": [
              "<IPython.core.display.HTML object>"
            ],
            "text/html": [
              "<h6 style=\"color: green;\">TEST Test 3_1 , Your test grade: 100</h6>\n",
              "<h6>Feedback: Probando código</h6>"
            ]
          },
          "metadata": {}
        },
        {
          "output_type": "display_data",
          "data": {
            "text/plain": [
              "<IPython.core.display.HTML object>"
            ],
            "text/html": [
              "<h6 style=\"color: green;\">TEST Test 3_2 , Your test grade: 100</h6>\n",
              "<h6>Feedback: Probando código</h6>"
            ]
          },
          "metadata": {}
        },
        {
          "output_type": "display_data",
          "data": {
            "text/plain": [
              "<IPython.core.display.HTML object>"
            ],
            "text/html": [
              "<h6 style=\"color: green;\">TEST Test 3_3 , Your test grade: 100</h6>\n",
              "<h6>Feedback: Probando código</h6>"
            ]
          },
          "metadata": {}
        },
        {
          "output_type": "display_data",
          "data": {
            "text/plain": [
              "<IPython.core.display.HTML object>"
            ],
            "text/html": [
              "<h6 style=\"color: green;\">TEST Test 3_4 , Your test grade: 100</h6>\n",
              "<h6>Feedback: Probando código</h6>"
            ]
          },
          "metadata": {}
        },
        {
          "output_type": "display_data",
          "data": {
            "text/plain": [
              "<IPython.core.display.HTML object>"
            ],
            "text/html": [
              "<h6 style=\"color: green;\">TEST Test 3_5 , Your test grade: 100</h6>\n",
              "<h6>Feedback: Probando código</h6>"
            ]
          },
          "metadata": {}
        },
        {
          "output_type": "display_data",
          "data": {
            "text/plain": [
              "<IPython.core.display.HTML object>"
            ],
            "text/html": [
              "<h6 style=\"color: green;\">TEST Test 4_1 , Your test grade: 100</h6>\n",
              "<h6>Feedback: Probando código</h6>"
            ]
          },
          "metadata": {}
        },
        {
          "output_type": "display_data",
          "data": {
            "text/plain": [
              "<IPython.core.display.HTML object>"
            ],
            "text/html": [
              "<h6 style=\"color: green;\">TEST Test 4_2 , Your test grade: 100</h6>\n",
              "<h6>Feedback: Probando código</h6>"
            ]
          },
          "metadata": {}
        },
        {
          "output_type": "display_data",
          "data": {
            "text/plain": [
              "<IPython.core.display.HTML object>"
            ],
            "text/html": [
              "<h6 style=\"color: green;\">TEST Test 4_3 , Your test grade: 100</h6>\n",
              "<h6>Feedback: Probando código</h6>"
            ]
          },
          "metadata": {}
        },
        {
          "output_type": "display_data",
          "data": {
            "text/plain": [
              "<IPython.core.display.HTML object>"
            ],
            "text/html": [
              "<h6 style=\"color: green;\">TEST Test 4_4 , Your test grade: 100</h6>\n",
              "<h6>Feedback: Probando código</h6>"
            ]
          },
          "metadata": {}
        },
        {
          "output_type": "display_data",
          "data": {
            "text/plain": [
              "<IPython.core.display.HTML object>"
            ],
            "text/html": [
              "<h6 style=\"color: green;\">TEST Test 4_5 , Your test grade: 100</h6>\n",
              "<h6>Feedback: Probando código</h6>"
            ]
          },
          "metadata": {}
        },
        {
          "output_type": "display_data",
          "data": {
            "text/plain": [
              "<IPython.core.display.HTML object>"
            ],
            "text/html": [
              "<h6 style=\"color: green;\">TEST Test 5_1 , Your test grade: 100</h6>\n",
              "<h6>Feedback: Probando código</h6>"
            ]
          },
          "metadata": {}
        },
        {
          "output_type": "display_data",
          "data": {
            "text/plain": [
              "<IPython.core.display.HTML object>"
            ],
            "text/html": [
              "<h6 style=\"color: green;\">TEST Test 5_2 , Your test grade: 100</h6>\n",
              "<h6>Feedback: Probando código</h6>"
            ]
          },
          "metadata": {}
        },
        {
          "output_type": "display_data",
          "data": {
            "text/plain": [
              "<IPython.core.display.HTML object>"
            ],
            "text/html": [
              "<h6 style=\"color: green;\">TEST Test 6_1 , Your test grade: 100</h6>\n",
              "<h6>Feedback: Probando código con datos de iris</h6>"
            ]
          },
          "metadata": {}
        },
        {
          "output_type": "display_data",
          "data": {
            "text/plain": [
              "<IPython.core.display.HTML object>"
            ],
            "text/html": [
              "<h6 style=\"color: green;\">TEST Test 6_2 , Your test grade: 100</h6>\n",
              "<h6>Feedback: Probando código</h6>"
            ]
          },
          "metadata": {}
        },
        {
          "output_type": "display_data",
          "data": {
            "text/plain": [
              "<IPython.core.display.HTML object>"
            ],
            "text/html": [
              "<h3 style=\"color: purple;\">Your submission grade: \"100.0%\"</h3>"
            ]
          },
          "metadata": {}
        }
      ],
      "source": [
        "grader.submit_task(globals())"
      ]
    },
    {
      "cell_type": "markdown",
      "metadata": {
        "id": "O6dwABE_Zg44"
      },
      "source": [
        "## **Créditos**\n",
        "---\n",
        "* **Profesor:** [Fabio Augusto González](https://dis.unal.edu.co/~fgonza/)\n",
        "* **Asistentes docentes:**\n",
        "  * Miguel Angel Ortiz Marín\n",
        "  * Alberto Nicolai Romero Martínez\n",
        "\n",
        "**Universidad Nacional de Colombia** - *Facultad de Ingeniería*"
      ]
    }
  ],
  "metadata": {
    "colab": {
      "provenance": [],
      "toc_visible": true,
      "include_colab_link": true
    },
    "kernelspec": {
      "display_name": "Python 3",
      "name": "python3"
    },
    "language_info": {
      "name": "python"
    }
  },
  "nbformat": 4,
  "nbformat_minor": 0
}