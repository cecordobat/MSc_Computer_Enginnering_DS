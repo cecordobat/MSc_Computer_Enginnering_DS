{
  "cells": [
    {
      "cell_type": "markdown",
      "metadata": {
        "id": "view-in-github",
        "colab_type": "text"
      },
      "source": [
        "<a href=\"https://colab.research.google.com/github/cecordobat/MSc_Computer_Enginnering_DS/blob/main/S1_M4/Tarea_4_Visualizaci%C3%B3n_de_datos_con_Python_.ipynb\" target=\"_parent\"><img src=\"https://colab.research.google.com/assets/colab-badge.svg\" alt=\"Open In Colab\"/></a>"
      ]
    },
    {
      "cell_type": "markdown",
      "metadata": {
        "id": "fb9pUStUq6xf"
      },
      "source": [
        "<img src = \"https://drive.google.com/uc?export=view&id=1rSrsZ04aJ_D3BC67Cy2dBUZ6tmguydNf\" alt = \"Encabezado MLDS\" width = \"100%\">  </img>"
      ]
    },
    {
      "cell_type": "markdown",
      "metadata": {
        "id": "4P-aXUSffVPX"
      },
      "source": [
        "#**Tarea 4 : Visualización de datos con *Python***\n",
        "---\n",
        "\n",
        "Esta es una tarea para practicar las habilidades adquiridas usando *Matplotlib* y *Seaborn* en la construcción de visualizaciones de información. Utilizaremos el *dataset* de pasajeros del ***Titanic***, uno de los *dataset* más populares en el área de la ciencia de datos, disponible en plataformas como [Kaggle](https://www.kaggle.com/c/titanic/data?select=train.csv). Este conjunto de datos está disponible en la librería *Seaborn*.\n",
        "\n",
        "El conjunto de datos cuenta con información personal de los pasajeros del *Titanic* y datos acerca de su supervivencia en el trágico evento:\n",
        "\n",
        "| Variable | Definición\t| Valores |\n",
        "| --- | --- | --- |\n",
        "| survived \\| alive | \tSobreviviente  | \t[0\\|no] = No, [1\\|yes] = Sí |\n",
        "| pclass \\| class\t| Clase del tiquete | \t1 = [1\\|First], 2 = [2\\|Second], 3 = [3\\|Third]\n",
        "| sex \t| Sexo \t| 'male', 'female' |\n",
        "| Age |\tEdad en años \t| |\n",
        "| sibsp |\t# de hermanos / cónyuge abordo del Titanic \t| |\n",
        "| parch |\t# de padres / hijos abordo del Titanic \t| |\n",
        "| fare \t| Costo del ticket | |\n",
        "| embarked |\tPuerto de embarque |\tC = Cherbourg, Q = Queenstown, S = Southampton |\n",
        "| who |\tSi es hombre, mujer o niño. | 'man', 'woman', 'child'  |\n",
        "| adult_male \t| Si es un hombre mayor de edad. | True, False\t|\n",
        "| deck |\tIdentificación de la cubierta/cabina.| 'A', 'B', 'C', 'D', 'E', 'F', 'G' |\n",
        "| alone |\tSi había embarcado solo.| True, False |\n",
        "\n",
        "\n",
        "\n",
        "En esta tarea usted deberá recrear algunas visualizaciones de ejemplo usando *Python* y sus librerías de visualización presentadas esta semana. Recuerde almacenar en una variable el objeto retornado por la función para la correcta calificación.\n",
        "\n",
        "> **Nota:** Esta tarea va a ser calificada estableciendo una conexión con **[UNCode](https://juezun.github.io/)**. La conexión se realizará al ejecutar la celda indicada e ingresando los datos de usuariio.En cada ejercicio se indicará si es calificable o no, también los lugares donde debe escribir su código sin modificar lo demás con un aproximado de cantidad de líneas a escribir. No se preocupe si su código toma más líneas, esto es simplemente un aproximado destinado a que pueda replantear su estrategia si el código está tomando más de las esperadas. No es un requisito estricto y soluciones más largas también son válidas.\n",
        "\n",
        "> **La tarea es incremental, es recomendable resolver los puntos en orden.**\n",
        "\n",
        "> En caso de tener dudas de cómo solucionar este tipo de ejercicios, por favor consultar el demo en la unidad 0"
      ]
    },
    {
      "cell_type": "markdown",
      "metadata": {
        "id": "Ggs5x9YqdQKB"
      },
      "source": [
        "Ejecute la siguiente celda para importar las librerías."
      ]
    },
    {
      "cell_type": "code",
      "execution_count": 1,
      "metadata": {
        "id": "weiA_rsqvelx"
      },
      "outputs": [],
      "source": [
        "#Importar librerías\n",
        "import numpy as np\n",
        "import pandas as pd\n",
        "import matplotlib.pyplot as plt\n",
        "import matplotlib as mpl\n",
        "import seaborn as sns\n",
        "%matplotlib inline\n",
        "plt.rcParams['figure.dpi'] = 110"
      ]
    },
    {
      "cell_type": "code",
      "execution_count": 2,
      "metadata": {
        "colab": {
          "base_uri": "https://localhost:8080/"
        },
        "id": "YIRLOqN-hwtg",
        "outputId": "77410f21-0457-4335-e754-c130601e71f8"
      },
      "outputs": [
        {
          "output_type": "stream",
          "name": "stdout",
          "text": [
            "Python 3.10.12\n",
            "NumPy 1.26.4\n",
            "Pandas 2.1.4\n",
            "Matplotlib 3.7.1\n",
            "Seaborn 0.13.1\n"
          ]
        }
      ],
      "source": [
        "#TEST_CELL\n",
        "!python --version\n",
        "print('NumPy', np.__version__)\n",
        "print('Pandas', pd.__version__)\n",
        "print('Matplotlib', mpl.__version__)\n",
        "print('Seaborn', sns.__version__)"
      ]
    },
    {
      "cell_type": "markdown",
      "metadata": {
        "id": "ElYRIkj3hwtj"
      },
      "source": [
        "Este material fue realizado con las siguientes versiones:\n",
        "\n",
        "- Python 3.10.12\n",
        "- NumPy 1.26.4\n",
        "- Pandas 2.1.4\n",
        "- Matplotlib 3.7.1\n",
        "- Seaborn 0.13.1\n",
        "\n",
        "\n"
      ]
    },
    {
      "cell_type": "code",
      "execution_count": 3,
      "metadata": {
        "colab": {
          "base_uri": "https://localhost:8080/"
        },
        "id": "qj8-6tJrHF1K",
        "outputId": "0353cc89-3c5a-435e-cd16-7c751f8ec138"
      },
      "outputs": [
        {
          "output_type": "stream",
          "name": "stdout",
          "text": [
            "Collecting rlxcrypt\n",
            "  Downloading rlxcrypt-0.0.4-cp310-cp310-manylinux_2_17_x86_64.manylinux2014_x86_64.whl.metadata (1.9 kB)\n",
            "Collecting imphook (from rlxcrypt)\n",
            "  Downloading imphook-1.0.tar.gz (12 kB)\n",
            "  Preparing metadata (setup.py) ... \u001b[?25l\u001b[?25hdone\n",
            "Requirement already satisfied: cython in /usr/local/lib/python3.10/dist-packages (from rlxcrypt) (3.0.11)\n",
            "Collecting pycryptodome (from rlxcrypt)\n",
            "  Downloading pycryptodome-3.20.0-cp35-abi3-manylinux_2_17_x86_64.manylinux2014_x86_64.whl.metadata (3.4 kB)\n",
            "Requirement already satisfied: cryptography in /usr/local/lib/python3.10/dist-packages (from rlxcrypt) (43.0.1)\n",
            "Requirement already satisfied: cffi>=1.12 in /usr/local/lib/python3.10/dist-packages (from cryptography->rlxcrypt) (1.17.1)\n",
            "Requirement already satisfied: pycparser in /usr/local/lib/python3.10/dist-packages (from cffi>=1.12->cryptography->rlxcrypt) (2.22)\n",
            "Downloading rlxcrypt-0.0.4-cp310-cp310-manylinux_2_17_x86_64.manylinux2014_x86_64.whl (297 kB)\n",
            "\u001b[2K   \u001b[90m━━━━━━━━━━━━━━━━━━━━━━━━━━━━━━━━━━━━━━━━\u001b[0m \u001b[32m297.9/297.9 kB\u001b[0m \u001b[31m5.8 MB/s\u001b[0m eta \u001b[36m0:00:00\u001b[0m\n",
            "\u001b[?25hDownloading pycryptodome-3.20.0-cp35-abi3-manylinux_2_17_x86_64.manylinux2014_x86_64.whl (2.1 MB)\n",
            "\u001b[2K   \u001b[90m━━━━━━━━━━━━━━━━━━━━━━━━━━━━━━━━━━━━━━━━\u001b[0m \u001b[32m2.1/2.1 MB\u001b[0m \u001b[31m14.7 MB/s\u001b[0m eta \u001b[36m0:00:00\u001b[0m\n",
            "\u001b[?25hBuilding wheels for collected packages: imphook\n",
            "  Building wheel for imphook (setup.py) ... \u001b[?25l\u001b[?25hdone\n",
            "  Created wheel for imphook: filename=imphook-1.0-py3-none-any.whl size=9421 sha256=2aea7a700ff540d9bc00b506df40dab14805304f955fef1b433581c8e7c903c8\n",
            "  Stored in directory: /root/.cache/pip/wheels/dc/e2/a4/fcb3817d09a2eb047b2b08eb58e7d9140041b0f3f415eb1256\n",
            "Successfully built imphook\n",
            "Installing collected packages: imphook, pycryptodome, rlxcrypt\n",
            "Successfully installed imphook-1.0 pycryptodome-3.20.0 rlxcrypt-0.0.4\n"
          ]
        }
      ],
      "source": [
        "!pip install rlxcrypt\n",
        "!wget --no-cache -O session.pye -q https://raw.githubusercontent.com/JuezUN/INGInious/master/external%20libs/session.pye"
      ]
    },
    {
      "cell_type": "code",
      "execution_count": 4,
      "metadata": {
        "colab": {
          "base_uri": "https://localhost:8080/",
          "height": 288
        },
        "id": "5fL1QiHmHGR6",
        "outputId": "a291d1b9-8835-44f8-cecc-e54f98a728cc"
      },
      "outputs": [
        {
          "output_type": "display_data",
          "data": {
            "text/plain": [
              "<IPython.core.display.HTML object>"
            ],
            "text/html": [
              "\n",
              "    <div>\n",
              "    <div style=\"display: flex\">\n",
              "        <div style=\"padding: 10px\">\n",
              "          <img\n",
              "            src=\"https://uncode.unal.edu.co/static/images/logo_unc.svg\"\n",
              "            width=\"50px\"\n",
              "            height=\"50px\"\n",
              "          />\n",
              "        </div>\n",
              "      \n",
              "        <div>\n",
              "          <h2>UNCode Notebooks grader API</h2>\n",
              "          <hr />\n",
              "        </div>\n",
              "      </div>\n",
              "      \n",
              "      <div style=\"display: flex\">\n",
              "        <span>Please enter authentication data</span>\n",
              "      </div>\n",
              "    </div>\n",
              "    "
            ]
          },
          "metadata": {}
        },
        {
          "name": "stdout",
          "output_type": "stream",
          "text": [
            "Please enter your UNCode username: cecordobat\n",
            "Please enter your password: ··········\n"
          ]
        },
        {
          "output_type": "display_data",
          "data": {
            "text/plain": [
              "<IPython.core.display.HTML object>"
            ],
            "text/html": [
              "<h5 style=\"color: green\"><Response [200]></h5>"
            ]
          },
          "metadata": {}
        },
        {
          "output_type": "display_data",
          "data": {
            "text/plain": [
              "<IPython.core.display.HTML object>"
            ],
            "text/html": [
              "<h5 style=\"color: green\">Auth process succeeded</h5>"
            ]
          },
          "metadata": {}
        },
        {
          "output_type": "display_data",
          "data": {
            "text/plain": [
              "<IPython.core.display.HTML object>"
            ],
            "text/html": [
              "<h5>View your courses <a href=\"https://uncode.unal.edu.co/courselist\">at UNCode platform</a></h5>"
            ]
          },
          "metadata": {}
        },
        {
          "output_type": "display_data",
          "data": {
            "text/plain": [
              "<IPython.core.display.HTML object>"
            ],
            "text/html": [
              "<h3>You will sumbit code to course: <span style=\"color: green\">Análisis y visualización de datos con Python | Grupo MLDS-1 | 2024 - 2<span></h3>"
            ]
          },
          "metadata": {}
        },
        {
          "output_type": "display_data",
          "data": {
            "text/plain": [
              "<IPython.core.display.HTML object>"
            ],
            "text/html": [
              "<h3>You will sumbit code to task: <span style=\"color: blue\">Unidad 4 - Tarea 4 - Visualización de datos con Python<span></h3>"
            ]
          },
          "metadata": {}
        }
      ],
      "source": [
        "import rlxcrypt\n",
        "import session\n",
        "\n",
        "grader = session.LoginSequence(\"AYVDDCP-GroupMLDS-1-2024-2@tarea_4\")"
      ]
    },
    {
      "cell_type": "markdown",
      "metadata": {
        "id": "adqf_QGVpsMi"
      },
      "source": [
        "## **0.  Leer el archivo de datos**\n",
        "---\n",
        "En esta ocasión importaremos el archivo de datos aprovechando la utilidad de carga de conjuntos de datos comunes de *Seaborn*."
      ]
    },
    {
      "cell_type": "code",
      "execution_count": 5,
      "metadata": {
        "colab": {
          "base_uri": "https://localhost:8080/",
          "height": 226
        },
        "id": "fKqVYXazMuqa",
        "outputId": "40086c43-d4c2-44df-b19c-3006764e8ea4"
      },
      "outputs": [
        {
          "output_type": "execute_result",
          "data": {
            "text/plain": [
              "   survived  pclass     sex   age  sibsp  parch     fare embarked  class  \\\n",
              "0         0       3    male  22.0      1      0   7.2500        S  Third   \n",
              "1         1       1  female  38.0      1      0  71.2833        C  First   \n",
              "2         1       3  female  26.0      0      0   7.9250        S  Third   \n",
              "3         1       1  female  35.0      1      0  53.1000        S  First   \n",
              "4         0       3    male  35.0      0      0   8.0500        S  Third   \n",
              "\n",
              "     who  adult_male deck  embark_town alive  alone  \n",
              "0    man        True  NaN  Southampton    no  False  \n",
              "1  woman       False    C    Cherbourg   yes  False  \n",
              "2  woman       False  NaN  Southampton   yes   True  \n",
              "3  woman       False    C  Southampton   yes  False  \n",
              "4    man        True  NaN  Southampton    no   True  "
            ],
            "text/html": [
              "\n",
              "  <div id=\"df-a77466ab-4099-4fda-a873-837b7304b560\" class=\"colab-df-container\">\n",
              "    <div>\n",
              "<style scoped>\n",
              "    .dataframe tbody tr th:only-of-type {\n",
              "        vertical-align: middle;\n",
              "    }\n",
              "\n",
              "    .dataframe tbody tr th {\n",
              "        vertical-align: top;\n",
              "    }\n",
              "\n",
              "    .dataframe thead th {\n",
              "        text-align: right;\n",
              "    }\n",
              "</style>\n",
              "<table border=\"1\" class=\"dataframe\">\n",
              "  <thead>\n",
              "    <tr style=\"text-align: right;\">\n",
              "      <th></th>\n",
              "      <th>survived</th>\n",
              "      <th>pclass</th>\n",
              "      <th>sex</th>\n",
              "      <th>age</th>\n",
              "      <th>sibsp</th>\n",
              "      <th>parch</th>\n",
              "      <th>fare</th>\n",
              "      <th>embarked</th>\n",
              "      <th>class</th>\n",
              "      <th>who</th>\n",
              "      <th>adult_male</th>\n",
              "      <th>deck</th>\n",
              "      <th>embark_town</th>\n",
              "      <th>alive</th>\n",
              "      <th>alone</th>\n",
              "    </tr>\n",
              "  </thead>\n",
              "  <tbody>\n",
              "    <tr>\n",
              "      <th>0</th>\n",
              "      <td>0</td>\n",
              "      <td>3</td>\n",
              "      <td>male</td>\n",
              "      <td>22.0</td>\n",
              "      <td>1</td>\n",
              "      <td>0</td>\n",
              "      <td>7.2500</td>\n",
              "      <td>S</td>\n",
              "      <td>Third</td>\n",
              "      <td>man</td>\n",
              "      <td>True</td>\n",
              "      <td>NaN</td>\n",
              "      <td>Southampton</td>\n",
              "      <td>no</td>\n",
              "      <td>False</td>\n",
              "    </tr>\n",
              "    <tr>\n",
              "      <th>1</th>\n",
              "      <td>1</td>\n",
              "      <td>1</td>\n",
              "      <td>female</td>\n",
              "      <td>38.0</td>\n",
              "      <td>1</td>\n",
              "      <td>0</td>\n",
              "      <td>71.2833</td>\n",
              "      <td>C</td>\n",
              "      <td>First</td>\n",
              "      <td>woman</td>\n",
              "      <td>False</td>\n",
              "      <td>C</td>\n",
              "      <td>Cherbourg</td>\n",
              "      <td>yes</td>\n",
              "      <td>False</td>\n",
              "    </tr>\n",
              "    <tr>\n",
              "      <th>2</th>\n",
              "      <td>1</td>\n",
              "      <td>3</td>\n",
              "      <td>female</td>\n",
              "      <td>26.0</td>\n",
              "      <td>0</td>\n",
              "      <td>0</td>\n",
              "      <td>7.9250</td>\n",
              "      <td>S</td>\n",
              "      <td>Third</td>\n",
              "      <td>woman</td>\n",
              "      <td>False</td>\n",
              "      <td>NaN</td>\n",
              "      <td>Southampton</td>\n",
              "      <td>yes</td>\n",
              "      <td>True</td>\n",
              "    </tr>\n",
              "    <tr>\n",
              "      <th>3</th>\n",
              "      <td>1</td>\n",
              "      <td>1</td>\n",
              "      <td>female</td>\n",
              "      <td>35.0</td>\n",
              "      <td>1</td>\n",
              "      <td>0</td>\n",
              "      <td>53.1000</td>\n",
              "      <td>S</td>\n",
              "      <td>First</td>\n",
              "      <td>woman</td>\n",
              "      <td>False</td>\n",
              "      <td>C</td>\n",
              "      <td>Southampton</td>\n",
              "      <td>yes</td>\n",
              "      <td>False</td>\n",
              "    </tr>\n",
              "    <tr>\n",
              "      <th>4</th>\n",
              "      <td>0</td>\n",
              "      <td>3</td>\n",
              "      <td>male</td>\n",
              "      <td>35.0</td>\n",
              "      <td>0</td>\n",
              "      <td>0</td>\n",
              "      <td>8.0500</td>\n",
              "      <td>S</td>\n",
              "      <td>Third</td>\n",
              "      <td>man</td>\n",
              "      <td>True</td>\n",
              "      <td>NaN</td>\n",
              "      <td>Southampton</td>\n",
              "      <td>no</td>\n",
              "      <td>True</td>\n",
              "    </tr>\n",
              "  </tbody>\n",
              "</table>\n",
              "</div>\n",
              "    <div class=\"colab-df-buttons\">\n",
              "\n",
              "  <div class=\"colab-df-container\">\n",
              "    <button class=\"colab-df-convert\" onclick=\"convertToInteractive('df-a77466ab-4099-4fda-a873-837b7304b560')\"\n",
              "            title=\"Convert this dataframe to an interactive table.\"\n",
              "            style=\"display:none;\">\n",
              "\n",
              "  <svg xmlns=\"http://www.w3.org/2000/svg\" height=\"24px\" viewBox=\"0 -960 960 960\">\n",
              "    <path d=\"M120-120v-720h720v720H120Zm60-500h600v-160H180v160Zm220 220h160v-160H400v160Zm0 220h160v-160H400v160ZM180-400h160v-160H180v160Zm440 0h160v-160H620v160ZM180-180h160v-160H180v160Zm440 0h160v-160H620v160Z\"/>\n",
              "  </svg>\n",
              "    </button>\n",
              "\n",
              "  <style>\n",
              "    .colab-df-container {\n",
              "      display:flex;\n",
              "      gap: 12px;\n",
              "    }\n",
              "\n",
              "    .colab-df-convert {\n",
              "      background-color: #E8F0FE;\n",
              "      border: none;\n",
              "      border-radius: 50%;\n",
              "      cursor: pointer;\n",
              "      display: none;\n",
              "      fill: #1967D2;\n",
              "      height: 32px;\n",
              "      padding: 0 0 0 0;\n",
              "      width: 32px;\n",
              "    }\n",
              "\n",
              "    .colab-df-convert:hover {\n",
              "      background-color: #E2EBFA;\n",
              "      box-shadow: 0px 1px 2px rgba(60, 64, 67, 0.3), 0px 1px 3px 1px rgba(60, 64, 67, 0.15);\n",
              "      fill: #174EA6;\n",
              "    }\n",
              "\n",
              "    .colab-df-buttons div {\n",
              "      margin-bottom: 4px;\n",
              "    }\n",
              "\n",
              "    [theme=dark] .colab-df-convert {\n",
              "      background-color: #3B4455;\n",
              "      fill: #D2E3FC;\n",
              "    }\n",
              "\n",
              "    [theme=dark] .colab-df-convert:hover {\n",
              "      background-color: #434B5C;\n",
              "      box-shadow: 0px 1px 3px 1px rgba(0, 0, 0, 0.15);\n",
              "      filter: drop-shadow(0px 1px 2px rgba(0, 0, 0, 0.3));\n",
              "      fill: #FFFFFF;\n",
              "    }\n",
              "  </style>\n",
              "\n",
              "    <script>\n",
              "      const buttonEl =\n",
              "        document.querySelector('#df-a77466ab-4099-4fda-a873-837b7304b560 button.colab-df-convert');\n",
              "      buttonEl.style.display =\n",
              "        google.colab.kernel.accessAllowed ? 'block' : 'none';\n",
              "\n",
              "      async function convertToInteractive(key) {\n",
              "        const element = document.querySelector('#df-a77466ab-4099-4fda-a873-837b7304b560');\n",
              "        const dataTable =\n",
              "          await google.colab.kernel.invokeFunction('convertToInteractive',\n",
              "                                                    [key], {});\n",
              "        if (!dataTable) return;\n",
              "\n",
              "        const docLinkHtml = 'Like what you see? Visit the ' +\n",
              "          '<a target=\"_blank\" href=https://colab.research.google.com/notebooks/data_table.ipynb>data table notebook</a>'\n",
              "          + ' to learn more about interactive tables.';\n",
              "        element.innerHTML = '';\n",
              "        dataTable['output_type'] = 'display_data';\n",
              "        await google.colab.output.renderOutput(dataTable, element);\n",
              "        const docLink = document.createElement('div');\n",
              "        docLink.innerHTML = docLinkHtml;\n",
              "        element.appendChild(docLink);\n",
              "      }\n",
              "    </script>\n",
              "  </div>\n",
              "\n",
              "\n",
              "<div id=\"df-ea4fd6fb-74d6-49ad-8bc6-5ef9a3ba8994\">\n",
              "  <button class=\"colab-df-quickchart\" onclick=\"quickchart('df-ea4fd6fb-74d6-49ad-8bc6-5ef9a3ba8994')\"\n",
              "            title=\"Suggest charts\"\n",
              "            style=\"display:none;\">\n",
              "\n",
              "<svg xmlns=\"http://www.w3.org/2000/svg\" height=\"24px\"viewBox=\"0 0 24 24\"\n",
              "     width=\"24px\">\n",
              "    <g>\n",
              "        <path d=\"M19 3H5c-1.1 0-2 .9-2 2v14c0 1.1.9 2 2 2h14c1.1 0 2-.9 2-2V5c0-1.1-.9-2-2-2zM9 17H7v-7h2v7zm4 0h-2V7h2v10zm4 0h-2v-4h2v4z\"/>\n",
              "    </g>\n",
              "</svg>\n",
              "  </button>\n",
              "\n",
              "<style>\n",
              "  .colab-df-quickchart {\n",
              "      --bg-color: #E8F0FE;\n",
              "      --fill-color: #1967D2;\n",
              "      --hover-bg-color: #E2EBFA;\n",
              "      --hover-fill-color: #174EA6;\n",
              "      --disabled-fill-color: #AAA;\n",
              "      --disabled-bg-color: #DDD;\n",
              "  }\n",
              "\n",
              "  [theme=dark] .colab-df-quickchart {\n",
              "      --bg-color: #3B4455;\n",
              "      --fill-color: #D2E3FC;\n",
              "      --hover-bg-color: #434B5C;\n",
              "      --hover-fill-color: #FFFFFF;\n",
              "      --disabled-bg-color: #3B4455;\n",
              "      --disabled-fill-color: #666;\n",
              "  }\n",
              "\n",
              "  .colab-df-quickchart {\n",
              "    background-color: var(--bg-color);\n",
              "    border: none;\n",
              "    border-radius: 50%;\n",
              "    cursor: pointer;\n",
              "    display: none;\n",
              "    fill: var(--fill-color);\n",
              "    height: 32px;\n",
              "    padding: 0;\n",
              "    width: 32px;\n",
              "  }\n",
              "\n",
              "  .colab-df-quickchart:hover {\n",
              "    background-color: var(--hover-bg-color);\n",
              "    box-shadow: 0 1px 2px rgba(60, 64, 67, 0.3), 0 1px 3px 1px rgba(60, 64, 67, 0.15);\n",
              "    fill: var(--button-hover-fill-color);\n",
              "  }\n",
              "\n",
              "  .colab-df-quickchart-complete:disabled,\n",
              "  .colab-df-quickchart-complete:disabled:hover {\n",
              "    background-color: var(--disabled-bg-color);\n",
              "    fill: var(--disabled-fill-color);\n",
              "    box-shadow: none;\n",
              "  }\n",
              "\n",
              "  .colab-df-spinner {\n",
              "    border: 2px solid var(--fill-color);\n",
              "    border-color: transparent;\n",
              "    border-bottom-color: var(--fill-color);\n",
              "    animation:\n",
              "      spin 1s steps(1) infinite;\n",
              "  }\n",
              "\n",
              "  @keyframes spin {\n",
              "    0% {\n",
              "      border-color: transparent;\n",
              "      border-bottom-color: var(--fill-color);\n",
              "      border-left-color: var(--fill-color);\n",
              "    }\n",
              "    20% {\n",
              "      border-color: transparent;\n",
              "      border-left-color: var(--fill-color);\n",
              "      border-top-color: var(--fill-color);\n",
              "    }\n",
              "    30% {\n",
              "      border-color: transparent;\n",
              "      border-left-color: var(--fill-color);\n",
              "      border-top-color: var(--fill-color);\n",
              "      border-right-color: var(--fill-color);\n",
              "    }\n",
              "    40% {\n",
              "      border-color: transparent;\n",
              "      border-right-color: var(--fill-color);\n",
              "      border-top-color: var(--fill-color);\n",
              "    }\n",
              "    60% {\n",
              "      border-color: transparent;\n",
              "      border-right-color: var(--fill-color);\n",
              "    }\n",
              "    80% {\n",
              "      border-color: transparent;\n",
              "      border-right-color: var(--fill-color);\n",
              "      border-bottom-color: var(--fill-color);\n",
              "    }\n",
              "    90% {\n",
              "      border-color: transparent;\n",
              "      border-bottom-color: var(--fill-color);\n",
              "    }\n",
              "  }\n",
              "</style>\n",
              "\n",
              "  <script>\n",
              "    async function quickchart(key) {\n",
              "      const quickchartButtonEl =\n",
              "        document.querySelector('#' + key + ' button');\n",
              "      quickchartButtonEl.disabled = true;  // To prevent multiple clicks.\n",
              "      quickchartButtonEl.classList.add('colab-df-spinner');\n",
              "      try {\n",
              "        const charts = await google.colab.kernel.invokeFunction(\n",
              "            'suggestCharts', [key], {});\n",
              "      } catch (error) {\n",
              "        console.error('Error during call to suggestCharts:', error);\n",
              "      }\n",
              "      quickchartButtonEl.classList.remove('colab-df-spinner');\n",
              "      quickchartButtonEl.classList.add('colab-df-quickchart-complete');\n",
              "    }\n",
              "    (() => {\n",
              "      let quickchartButtonEl =\n",
              "        document.querySelector('#df-ea4fd6fb-74d6-49ad-8bc6-5ef9a3ba8994 button');\n",
              "      quickchartButtonEl.style.display =\n",
              "        google.colab.kernel.accessAllowed ? 'block' : 'none';\n",
              "    })();\n",
              "  </script>\n",
              "</div>\n",
              "\n",
              "    </div>\n",
              "  </div>\n"
            ],
            "application/vnd.google.colaboratory.intrinsic+json": {
              "type": "dataframe",
              "variable_name": "titanic",
              "summary": "{\n  \"name\": \"titanic\",\n  \"rows\": 891,\n  \"fields\": [\n    {\n      \"column\": \"survived\",\n      \"properties\": {\n        \"dtype\": \"number\",\n        \"std\": 0,\n        \"min\": 0,\n        \"max\": 1,\n        \"num_unique_values\": 2,\n        \"samples\": [\n          1,\n          0\n        ],\n        \"semantic_type\": \"\",\n        \"description\": \"\"\n      }\n    },\n    {\n      \"column\": \"pclass\",\n      \"properties\": {\n        \"dtype\": \"number\",\n        \"std\": 0,\n        \"min\": 1,\n        \"max\": 3,\n        \"num_unique_values\": 3,\n        \"samples\": [\n          3,\n          1\n        ],\n        \"semantic_type\": \"\",\n        \"description\": \"\"\n      }\n    },\n    {\n      \"column\": \"sex\",\n      \"properties\": {\n        \"dtype\": \"category\",\n        \"num_unique_values\": 2,\n        \"samples\": [\n          \"female\",\n          \"male\"\n        ],\n        \"semantic_type\": \"\",\n        \"description\": \"\"\n      }\n    },\n    {\n      \"column\": \"age\",\n      \"properties\": {\n        \"dtype\": \"number\",\n        \"std\": 14.526497332334042,\n        \"min\": 0.42,\n        \"max\": 80.0,\n        \"num_unique_values\": 88,\n        \"samples\": [\n          0.75,\n          22.0\n        ],\n        \"semantic_type\": \"\",\n        \"description\": \"\"\n      }\n    },\n    {\n      \"column\": \"sibsp\",\n      \"properties\": {\n        \"dtype\": \"number\",\n        \"std\": 1,\n        \"min\": 0,\n        \"max\": 8,\n        \"num_unique_values\": 7,\n        \"samples\": [\n          1,\n          0\n        ],\n        \"semantic_type\": \"\",\n        \"description\": \"\"\n      }\n    },\n    {\n      \"column\": \"parch\",\n      \"properties\": {\n        \"dtype\": \"number\",\n        \"std\": 0,\n        \"min\": 0,\n        \"max\": 6,\n        \"num_unique_values\": 7,\n        \"samples\": [\n          0,\n          1\n        ],\n        \"semantic_type\": \"\",\n        \"description\": \"\"\n      }\n    },\n    {\n      \"column\": \"fare\",\n      \"properties\": {\n        \"dtype\": \"number\",\n        \"std\": 49.6934285971809,\n        \"min\": 0.0,\n        \"max\": 512.3292,\n        \"num_unique_values\": 248,\n        \"samples\": [\n          11.2417,\n          51.8625\n        ],\n        \"semantic_type\": \"\",\n        \"description\": \"\"\n      }\n    },\n    {\n      \"column\": \"embarked\",\n      \"properties\": {\n        \"dtype\": \"category\",\n        \"num_unique_values\": 3,\n        \"samples\": [\n          \"S\",\n          \"C\"\n        ],\n        \"semantic_type\": \"\",\n        \"description\": \"\"\n      }\n    },\n    {\n      \"column\": \"class\",\n      \"properties\": {\n        \"dtype\": \"category\",\n        \"num_unique_values\": 3,\n        \"samples\": [\n          \"Third\",\n          \"First\"\n        ],\n        \"semantic_type\": \"\",\n        \"description\": \"\"\n      }\n    },\n    {\n      \"column\": \"who\",\n      \"properties\": {\n        \"dtype\": \"category\",\n        \"num_unique_values\": 3,\n        \"samples\": [\n          \"man\",\n          \"woman\"\n        ],\n        \"semantic_type\": \"\",\n        \"description\": \"\"\n      }\n    },\n    {\n      \"column\": \"adult_male\",\n      \"properties\": {\n        \"dtype\": \"boolean\",\n        \"num_unique_values\": 2,\n        \"samples\": [\n          false,\n          true\n        ],\n        \"semantic_type\": \"\",\n        \"description\": \"\"\n      }\n    },\n    {\n      \"column\": \"deck\",\n      \"properties\": {\n        \"dtype\": \"category\",\n        \"num_unique_values\": 7,\n        \"samples\": [\n          \"C\",\n          \"E\"\n        ],\n        \"semantic_type\": \"\",\n        \"description\": \"\"\n      }\n    },\n    {\n      \"column\": \"embark_town\",\n      \"properties\": {\n        \"dtype\": \"category\",\n        \"num_unique_values\": 3,\n        \"samples\": [\n          \"Southampton\",\n          \"Cherbourg\"\n        ],\n        \"semantic_type\": \"\",\n        \"description\": \"\"\n      }\n    },\n    {\n      \"column\": \"alive\",\n      \"properties\": {\n        \"dtype\": \"category\",\n        \"num_unique_values\": 2,\n        \"samples\": [\n          \"yes\",\n          \"no\"\n        ],\n        \"semantic_type\": \"\",\n        \"description\": \"\"\n      }\n    },\n    {\n      \"column\": \"alone\",\n      \"properties\": {\n        \"dtype\": \"boolean\",\n        \"num_unique_values\": 2,\n        \"samples\": [\n          true,\n          false\n        ],\n        \"semantic_type\": \"\",\n        \"description\": \"\"\n      }\n    }\n  ]\n}"
            }
          },
          "metadata": {},
          "execution_count": 5
        }
      ],
      "source": [
        "# Creando los datos  (EJECUTE ESTA CELDA SIN MODIFICARLA)\n",
        "titanic = sns.load_dataset('titanic', data_home='./')\n",
        "titanic.head()"
      ]
    },
    {
      "cell_type": "code",
      "execution_count": 6,
      "metadata": {
        "colab": {
          "base_uri": "https://localhost:8080/"
        },
        "id": "ouw2lvjPNL_S",
        "outputId": "e24d1755-d7eb-4512-97b1-13208ec3980d"
      },
      "outputs": [
        {
          "output_type": "stream",
          "name": "stdout",
          "text": [
            "<class 'pandas.core.frame.DataFrame'>\n",
            "RangeIndex: 891 entries, 0 to 890\n",
            "Data columns (total 15 columns):\n",
            " #   Column       Non-Null Count  Dtype   \n",
            "---  ------       --------------  -----   \n",
            " 0   survived     891 non-null    int64   \n",
            " 1   pclass       891 non-null    int64   \n",
            " 2   sex          891 non-null    object  \n",
            " 3   age          714 non-null    float64 \n",
            " 4   sibsp        891 non-null    int64   \n",
            " 5   parch        891 non-null    int64   \n",
            " 6   fare         891 non-null    float64 \n",
            " 7   embarked     889 non-null    object  \n",
            " 8   class        891 non-null    category\n",
            " 9   who          891 non-null    object  \n",
            " 10  adult_male   891 non-null    bool    \n",
            " 11  deck         203 non-null    category\n",
            " 12  embark_town  889 non-null    object  \n",
            " 13  alive        891 non-null    object  \n",
            " 14  alone        891 non-null    bool    \n",
            "dtypes: bool(2), category(2), float64(2), int64(4), object(5)\n",
            "memory usage: 80.7+ KB\n"
          ]
        }
      ],
      "source": [
        "#TEST_CELL\n",
        "titanic.info()"
      ]
    },
    {
      "cell_type": "markdown",
      "metadata": {
        "id": "LjpNvenZ9HNA"
      },
      "source": [
        "En los siguientes ejercicios deberá replicar las figuras que se presentan a continuación usando las librerías mencionadas. No se preocupe por replicar exactamente los mismos colores, sino las figuras como tal. La mayoría de figuras se puede recrear usando solamente una o dos líneas de código. Preste especial atención a las etiquetas $x$ y $y$ de los ejes pues no se le brindará mucha más información."
      ]
    },
    {
      "cell_type": "code",
      "execution_count": 7,
      "metadata": {
        "id": "q3tuzz-d-y6h"
      },
      "outputs": [],
      "source": [
        "sns.set_style('whitegrid') #Se usará este estilo en los casos de ejemplo que utilicen Seaborn."
      ]
    },
    {
      "cell_type": "markdown",
      "metadata": {
        "id": "LJCLzGMFBmPf"
      },
      "source": [
        "## **1. Correlación entre variables numéricas**\n",
        "---\n",
        "\n",
        "Inicialmente queremos conocer la correlación entre las variables numéricas del *dataset*. Para esto, no solamente calcularemos la matriz de correlación lineal entre cada una, sino que **graficaremos un mapa de calor** con el resultado.\n",
        "\n",
        "En este ejercicio deberá recrear el mapa de calor presentado a continuación utilizando la librería *Seaborn*.\n",
        "> Para la imagen de referencia utilizamos el *colormap* **`coolwarm`**\n",
        "\n",
        "Almacene el resultado de la función de visualización en la variable **`titanic_corr_matrix`**."
      ]
    },
    {
      "cell_type": "markdown",
      "metadata": {
        "id": "MLGwxvJnmbV3"
      },
      "source": [
        "<details>    \n",
        "<summary>\n",
        "    <font size=\"3\" color=\"darkgreen\"><b>Pistas</b></font>\n",
        "</summary>\n",
        "\n",
        "* Para este ejercicio deberá utilizar conceptos usados en las unidades anteriores. Primero es necesario calcular la matriz de correlación y después graficar el mapa de calor.\n",
        "* Ponga especial atención a los detalles. Teniendo en cuenta que los valores de los coeficientes de correlación están en el rango $-1.0$ a $1.0$, fijaremos estos valores como el mínimo (`vmin`) y máximo (`vmax`) en el mapa de calor, respectivamente.\n",
        "* Tenga presente la documentación de las funciones de visualización. Según la función que utilice, los argumentos a utilizar para definir los parámetros podrían variar.\n",
        "* Deberá agregar el título de la gráfica por su cuenta. Para esto, utilice métodos de objetos **`Axes`** de *Matplotlib* como **`set_title`** sobre el objeto **`titanic_corr_matrix`**.\n",
        "\n",
        "* La cadena de texto exacta usada en este ejercicio es:\n",
        "  * **Título**: `'Correlation heatmap'`"
      ]
    },
    {
      "cell_type": "code",
      "execution_count": 8,
      "metadata": {
        "id": "dGYkoN86_pUM",
        "outputId": "2a5d7017-eb5b-46ef-e4e3-22f7d1fd7167",
        "colab": {
          "base_uri": "https://localhost:8080/",
          "height": 581
        }
      },
      "outputs": [
        {
          "output_type": "execute_result",
          "data": {
            "text/plain": [
              "<Axes: title={'center': 'Correlation heatmap'}>"
            ]
          },
          "metadata": {},
          "execution_count": 8
        },
        {
          "output_type": "display_data",
          "data": {
            "text/plain": [
              "<Figure size 704x528 with 2 Axes>"
            ],
            "image/png": "[encoded data removed]"
          },
          "metadata": {}
        }
      ],
      "source": [
        "## VARIABLE CALIFICADA: titanic_corr_matrix\n",
        "### ESCRIBA SU CÓDIGO AQUÍ ### (~ 1-2 líneas de código)\n",
        "\n",
        "numeric_columns = titanic[['survived', 'pclass', 'age', 'sibsp', 'parch', 'fare','adult_male','alone']]\n",
        "corr_matrix = numeric_columns.corr()\n",
        "titanic_corr_matrix = sns.heatmap(corr_matrix, cmap='coolwarm', annot=False, fmt=\".2f\", square=True, vmin=-1)\n",
        "plt.title('Correlation heatmap')\n",
        "### FIN DEL CÓDIGO ###\n",
        "\n",
        "titanic_corr_matrix"
      ]
    },
    {
      "cell_type": "markdown",
      "metadata": {
        "id": "SWjnAGXrsi22"
      },
      "source": [
        "**Salida esperada:**\n",
        "\n",
        "![corr matrix](https://drive.google.com/uc?export=view&id=1ojqTfDpoBLnhartkbz58vkVd4GSOYH_0)"
      ]
    },
    {
      "cell_type": "markdown",
      "metadata": {
        "id": "Tf3e35_aI11u"
      },
      "source": [
        "### **Evaluar código**"
      ]
    },
    {
      "cell_type": "code",
      "execution_count": 9,
      "metadata": {
        "colab": {
          "base_uri": "https://localhost:8080/",
          "height": 141
        },
        "id": "reYdbAz3Pq-o",
        "outputId": "9c3113af-84a7-4a78-e2b0-806fc0a79d9b"
      },
      "outputs": [
        {
          "output_type": "stream",
          "name": "stdout",
          "text": [
            "Test 1_1\n"
          ]
        },
        {
          "output_type": "display_data",
          "data": {
            "text/plain": [
              "<IPython.core.display.HTML object>"
            ],
            "text/html": [
              "<h4>Test Run correctly</h4>"
            ]
          },
          "metadata": {}
        },
        {
          "output_type": "display_data",
          "data": {
            "text/plain": [
              "<IPython.core.display.HTML object>"
            ],
            "text/html": [
              "<h6 style=\"color: green;\">Your test grade: 100</h6>\n",
              "<h6>Feedback: Probando código</h6>"
            ]
          },
          "metadata": {}
        }
      ],
      "source": [
        "grader.run_test(\"Test 1_1\", globals())"
      ]
    },
    {
      "cell_type": "code",
      "execution_count": 10,
      "metadata": {
        "colab": {
          "base_uri": "https://localhost:8080/",
          "height": 141
        },
        "id": "DHjoZdGohfxW",
        "outputId": "e82bd471-303c-462a-b1cb-84b1415ce792"
      },
      "outputs": [
        {
          "output_type": "stream",
          "name": "stdout",
          "text": [
            "Test 1_2\n"
          ]
        },
        {
          "output_type": "display_data",
          "data": {
            "text/plain": [
              "<IPython.core.display.HTML object>"
            ],
            "text/html": [
              "<h4>Test Run correctly</h4>"
            ]
          },
          "metadata": {}
        },
        {
          "output_type": "display_data",
          "data": {
            "text/plain": [
              "<IPython.core.display.HTML object>"
            ],
            "text/html": [
              "<h6 style=\"color: green;\">Your test grade: 100</h6>\n",
              "<h6>Feedback: Probando código</h6>"
            ]
          },
          "metadata": {}
        }
      ],
      "source": [
        "grader.run_test(\"Test 1_2\", globals())"
      ]
    },
    {
      "cell_type": "markdown",
      "metadata": {
        "id": "wQcjinKL_pUM"
      },
      "source": [
        "## **2. Tarifa del tiquete**\n",
        "---\n",
        "\n",
        "Vamos a explorar las tarifas pagadas por los pasajeros en el embarque del *Titanic*.  Algunas de las personas embarcadas hacían parte de la tripulación.\n",
        "¿Cuál fue el valor de su tarifa? ¿Los precios estaban claramente distribuidos por clases?\n"
      ]
    },
    {
      "cell_type": "markdown",
      "metadata": {
        "id": "aq9gYb6XIZzm"
      },
      "source": [
        "### **2.1. Distribución de la tarifa**\n",
        "---\n",
        "\n",
        "Primero deberá representar gráficamente la distribución de la tarifa del tiquete de ingreso de los pasajeros a bordo del *Titanic* por medio de un **histograma**.\n",
        "\n",
        "> * Para la imagen de referencia utilizamos el color naranja (**`orange`**).\n",
        "* Para este ejercicio deberá utilizar $10$ intervalos de clase (**`bins`**).\n",
        "\n",
        "Almacene el resultado de la función de visualización en la variable **`titanic_dist_tarifa`**."
      ]
    },
    {
      "cell_type": "markdown",
      "metadata": {
        "id": "7Y-HIBZ8zfBw"
      },
      "source": [
        "<details>    \n",
        "<summary>\n",
        "    <font size=\"3\" color=\"darkgreen\"><b>Pistas</b></font>\n",
        "</summary>\n",
        "\n",
        "* Deberá seleccionar los datos de la tarifa (**`fare`**) y después representar su distribución por medio de un histograma usando *Seaborn* o *Matplotlib*.\n",
        "* Tenga presente la documentación de las funciones de visualización.\n",
        "* En este ejercicio **SÍ** se evaluará el color de la figura. Utilice el nombre del color **`orange`**.\n",
        "* Deberá agregar el título y etiquetas de los ejes por su cuenta. Para esto, utilice métodos de objetos **`Axes`** de *Matplotlib* como **`set_title`** y **`set_xlabel`** sobre el objeto **`titanic_dist_tarifa`**.\n",
        "* Las cadenas de texto exactas usadas en este ejercicio son:\n",
        "  * **Título**: `'Fare distribution'`\n",
        "  * **Etiqueta del eje X**: `'Fare'`\n",
        "  * **Etiqueta del eje Y**: `'Passenger count'`\n"
      ]
    },
    {
      "cell_type": "code",
      "execution_count": 11,
      "metadata": {
        "id": "N-_pbkzP97lB",
        "outputId": "8fba11fb-28c0-4125-adfe-dbff4bafed61",
        "colab": {
          "base_uri": "https://localhost:8080/",
          "height": 532
        }
      },
      "outputs": [
        {
          "output_type": "execute_result",
          "data": {
            "text/plain": [
              "<Axes: title={'center': 'Fare distribution'}, xlabel='Fare', ylabel='Passenger count'>"
            ]
          },
          "metadata": {},
          "execution_count": 11
        },
        {
          "output_type": "display_data",
          "data": {
            "text/plain": [
              "<Figure size 704x528 with 1 Axes>"
            ],
            "image/png": "[encoded data removed]"
          },
          "metadata": {}
        }
      ],
      "source": [
        "## VARIABLE CALIFICADA: titanic_dist_tarifa\n",
        "### ESCRIBA SU CÓDIGO AQUÍ ### (~ 4 línea de código)\n",
        "titanic_dist_tarifa = sns.histplot(data=titanic, x='fare', bins=10, color='orange')\n",
        "plt.title('Fare distribution')\n",
        "plt.xlabel('Fare')\n",
        "plt.ylabel('Passenger count')\n",
        "### FIN DEL CÓDIGO ###\n",
        "\n",
        "titanic_dist_tarifa"
      ]
    },
    {
      "cell_type": "markdown",
      "metadata": {
        "id": "RCdHt5xtqe4S"
      },
      "source": [
        "**Salida esperada:**\n",
        "\n",
        "\n",
        "\n",
        "![fare_hist](https://drive.google.com/uc?export=view&id=1KpexrBPhk1T9A5O3WEtiO7EYU1OfKEse)"
      ]
    },
    {
      "cell_type": "markdown",
      "metadata": {
        "id": "MmAQ-skrHiyr"
      },
      "source": [
        "#### **Evaluar código**"
      ]
    },
    {
      "cell_type": "code",
      "execution_count": 12,
      "metadata": {
        "colab": {
          "base_uri": "https://localhost:8080/",
          "height": 141
        },
        "id": "PWmRq-xNkcsL",
        "outputId": "4918b316-663c-4653-e8e8-bd20ec47615f"
      },
      "outputs": [
        {
          "output_type": "stream",
          "name": "stdout",
          "text": [
            "Test 2_1_1\n"
          ]
        },
        {
          "output_type": "display_data",
          "data": {
            "text/plain": [
              "<IPython.core.display.HTML object>"
            ],
            "text/html": [
              "<h4>Test Run correctly</h4>"
            ]
          },
          "metadata": {}
        },
        {
          "output_type": "display_data",
          "data": {
            "text/plain": [
              "<IPython.core.display.HTML object>"
            ],
            "text/html": [
              "<h6 style=\"color: green;\">Your test grade: 100</h6>\n",
              "<h6>Feedback: Probando código</h6>"
            ]
          },
          "metadata": {}
        }
      ],
      "source": [
        "grader.run_test(\"Test 2_1_1\", globals())"
      ]
    },
    {
      "cell_type": "code",
      "execution_count": 13,
      "metadata": {
        "colab": {
          "base_uri": "https://localhost:8080/",
          "height": 141
        },
        "id": "E6KvqTkq07ul",
        "outputId": "c7c7526d-58eb-476c-db11-1a9ebb072044"
      },
      "outputs": [
        {
          "output_type": "stream",
          "name": "stdout",
          "text": [
            "Test 2_1_2\n"
          ]
        },
        {
          "output_type": "display_data",
          "data": {
            "text/plain": [
              "<IPython.core.display.HTML object>"
            ],
            "text/html": [
              "<h4>Test Run correctly</h4>"
            ]
          },
          "metadata": {}
        },
        {
          "output_type": "display_data",
          "data": {
            "text/plain": [
              "<IPython.core.display.HTML object>"
            ],
            "text/html": [
              "<h6 style=\"color: green;\">Your test grade: 100</h6>\n",
              "<h6>Feedback: Probando código</h6>"
            ]
          },
          "metadata": {}
        }
      ],
      "source": [
        "grader.run_test(\"Test 2_1_2\", globals())"
      ]
    },
    {
      "cell_type": "markdown",
      "metadata": {
        "id": "ErzxvhhKIXId"
      },
      "source": [
        "### **2.2. Tarifa del tiquete y edad**\n",
        "---\n",
        "\n",
        "En muchas ocasiones las tarifas están claramente diferenciadas entre niños, adultos, y adultos mayores. ¿Era éste el caso del transatlántico?\n",
        "\n",
        "En esta tarea deberá representar gráficamente la relación entre la tarifa del tiquete de ingreso y la edad de los pasajeros a bordo del *Titanic* como se presenta a continuación.\n",
        "\n",
        "> Esta vez no se personalizaron los estilos de la gráfica con la ayuda de sus argumentos.\n",
        "\n",
        "Almacene el resultado de la función de visualización en la variable **`titanic_edad_tarifa`**."
      ]
    },
    {
      "cell_type": "markdown",
      "metadata": {
        "id": "lwAxhSZM0kby"
      },
      "source": [
        "<details>    \n",
        "<summary>\n",
        "    <font size=\"3\" color=\"darkgreen\"><b>Pistas</b></font>\n",
        "</summary>\n",
        "<p>\n",
        "\n",
        "* Construya el gráfico de distribuciones conjuntas de *Seaborn* para explorar la relación entre las edades (**`age`**) de los pasajeros y sus tarifas (**`fare`**).\n",
        "* Para este ejercicio no debe hacer ninguna modificación especial. Es suficiente con identificar la función de visualización apropiada y usar los argumentos de datos correctos.\n",
        "\n",
        "\n",
        "</p>"
      ]
    },
    {
      "cell_type": "code",
      "execution_count": 14,
      "metadata": {
        "id": "d87tz-ag_lsF",
        "outputId": "79e4265a-cf19-4f4f-c8cd-d8e2df70b062",
        "colab": {
          "base_uri": "https://localhost:8080/",
          "height": 682
        }
      },
      "outputs": [
        {
          "output_type": "execute_result",
          "data": {
            "text/plain": [
              "<seaborn.axisgrid.JointGrid at 0x7f1d9c767a00>"
            ]
          },
          "metadata": {},
          "execution_count": 14
        },
        {
          "output_type": "display_data",
          "data": {
            "text/plain": [
              "<Figure size 660x660 with 3 Axes>"
            ],
            "image/png": "[encoded data removed]"
          },
          "metadata": {}
        }
      ],
      "source": [
        "## VARIABLE CALIFICADA: titanic_edad_tarifa\n",
        "### ESCRIBA SU CÓDIGO AQUÍ ### (~ 1 línea de código)\n",
        "titanic_edad_tarifa = titanic_edad_tarifa = sns.jointplot(data=titanic, x='age', y='fare')\n",
        "### FIN DEL CÓDIGO ###\n",
        "\n",
        "titanic_edad_tarifa"
      ]
    },
    {
      "cell_type": "markdown",
      "metadata": {
        "id": "1d1Y6oaLzIGa"
      },
      "source": [
        "**Salida esperada:**\n",
        "\n",
        "![corr matrix](https://drive.google.com/uc?export=view&id=1VmL1HoZjz71GYGA7VnRNJIMuUgMXF5Ea)"
      ]
    },
    {
      "cell_type": "markdown",
      "metadata": {
        "id": "1lpFt5TvHoWC"
      },
      "source": [
        "#### **Evaluar código**"
      ]
    },
    {
      "cell_type": "code",
      "execution_count": 15,
      "metadata": {
        "colab": {
          "base_uri": "https://localhost:8080/",
          "height": 141
        },
        "id": "kENagsgz2g82",
        "outputId": "18634735-0252-4e84-b70c-3dfef3900b81"
      },
      "outputs": [
        {
          "output_type": "stream",
          "name": "stdout",
          "text": [
            "Test 2_2_1\n"
          ]
        },
        {
          "output_type": "display_data",
          "data": {
            "text/plain": [
              "<IPython.core.display.HTML object>"
            ],
            "text/html": [
              "<h4>Test Run correctly</h4>"
            ]
          },
          "metadata": {}
        },
        {
          "output_type": "display_data",
          "data": {
            "text/plain": [
              "<IPython.core.display.HTML object>"
            ],
            "text/html": [
              "<h6 style=\"color: green;\">Your test grade: 100</h6>\n",
              "<h6>Feedback: Probando código</h6>"
            ]
          },
          "metadata": {}
        }
      ],
      "source": [
        "grader.run_test(\"Test 2_2_1\", globals())"
      ]
    },
    {
      "cell_type": "code",
      "execution_count": 16,
      "metadata": {
        "colab": {
          "base_uri": "https://localhost:8080/",
          "height": 141
        },
        "id": "dllI3IHZ5AuA",
        "outputId": "7236ff69-2833-4d0d-e0c5-b59a17a19f0c"
      },
      "outputs": [
        {
          "output_type": "stream",
          "name": "stdout",
          "text": [
            "Test 2_2_2\n"
          ]
        },
        {
          "output_type": "display_data",
          "data": {
            "text/plain": [
              "<IPython.core.display.HTML object>"
            ],
            "text/html": [
              "<h4>Test Run correctly</h4>"
            ]
          },
          "metadata": {}
        },
        {
          "output_type": "display_data",
          "data": {
            "text/plain": [
              "<IPython.core.display.HTML object>"
            ],
            "text/html": [
              "<h6 style=\"color: green;\">Your test grade: 100</h6>\n",
              "<h6>Feedback: Probando código</h6>"
            ]
          },
          "metadata": {}
        }
      ],
      "source": [
        "grader.run_test(\"Test 2_2_2\", globals())"
      ]
    },
    {
      "cell_type": "markdown",
      "metadata": {
        "id": "XtVwKdar_p8k"
      },
      "source": [
        "## **3. Hombres, mujeres y niños**\n",
        "---\n",
        "\n",
        "Ahora, exploraremos la distribución de los pasajeros y tripulación, distinguiendo por género y edad, y analizando la relación que estas variables tuvieron con su supervivencia."
      ]
    },
    {
      "cell_type": "markdown",
      "metadata": {
        "id": "pgUHewjzH2i2"
      },
      "source": [
        "### **3.1. Distribución de edad de mujeres y hombres**\n",
        "---\n",
        "\n",
        "Primero, exploraremos la distribución de edades para mujeres y hombres en dos gráficas.\n",
        "\n",
        "En esta tarea deberá representar mediante dos **histogramas** la edad de los pasajeros en dos gráficas en la misma figura, usando para discriminar las distribuciones la variable categórica sexo (**`sex`**) como se muestra a continuación:\n",
        "\n",
        "> * Los diagramas son construidos como un **`FacetGrid`** de *Seaborn*.\n",
        "* La paleta de color usada en el ejemplo es el *colormap* **`cool`**.\n",
        "\n",
        "Almacene el resultado de la función de visualización en la variable **`titanic_sex_dist`**."
      ]
    },
    {
      "cell_type": "markdown",
      "metadata": {
        "id": "Ern2UX5q02vA"
      },
      "source": [
        "<details>    \n",
        "<summary>\n",
        "    <font size=\"3\" color=\"darkgreen\"><b>Pistas</b></font>\n",
        "</summary>\n",
        "<p>\n",
        "\n",
        "* La solución tiene que realizarse con **`FacetGrid`** de *Seaborn* junto con la función de visualización de *Matplotlib* para graficar histogramas. No utilice el método **`displot`** ni **`histplot`** en el proceso y utilice los *bins* por defecto.\n",
        "* Para la imagen de referencia utilizamos el *colormap* **`cool`** como paleta de color. Este *colormap* se define al generar el **`FacetGrid`** vacío.\n",
        "* Para este ejercicio, tanto el color como la columna son usados para diferenciar entre las dos categorías.\n",
        "</p>"
      ]
    },
    {
      "cell_type": "code",
      "execution_count": 17,
      "metadata": {
        "id": "xIn67wLh_p8k",
        "outputId": "9991aeec-dcf2-4978-bd2a-8142f24c2dfd",
        "colab": {
          "base_uri": "https://localhost:8080/",
          "height": 353
        }
      },
      "outputs": [
        {
          "output_type": "execute_result",
          "data": {
            "text/plain": [
              "<seaborn.axisgrid.FacetGrid at 0x7f1d49c6db40>"
            ]
          },
          "metadata": {},
          "execution_count": 17
        },
        {
          "output_type": "display_data",
          "data": {
            "text/plain": [
              "<Figure size 660x330 with 2 Axes>"
            ],
            "image/png": "[encoded data removed]"
          },
          "metadata": {}
        }
      ],
      "source": [
        "## VARIABLE CALIFICADA: titanic_sex_dist\n",
        "### ESCRIBA SU CÓDIGO AQUÍ ### (~ 2 líneas de código){\n",
        "\n",
        "titanic_sex_dist = sns.FacetGrid(data=titanic, hue='sex', col='sex', palette='cool')\n",
        "titanic_sex_dist.map(plt.hist, 'age')\n",
        "\n",
        "### FIN DEL CÓDIGO ###"
      ]
    },
    {
      "cell_type": "markdown",
      "metadata": {
        "id": "xErSmz2dzMdY"
      },
      "source": [
        "**Salida esperada:**\n",
        "\n",
        "\n",
        "![gender hist](https://drive.google.com/uc?export=view&id=1AhceytTeRyZFa9GhT5h2qm6qfn-EOPen)"
      ]
    },
    {
      "cell_type": "markdown",
      "metadata": {
        "id": "gN5Nv1oKHqFy"
      },
      "source": [
        "#### **Evaluar código**"
      ]
    },
    {
      "cell_type": "code",
      "execution_count": 18,
      "metadata": {
        "colab": {
          "base_uri": "https://localhost:8080/",
          "height": 141
        },
        "id": "7SG6gxRSrIQX",
        "outputId": "8e2f928d-175c-476a-9733-95e3014f6137"
      },
      "outputs": [
        {
          "output_type": "stream",
          "name": "stdout",
          "text": [
            "Test 3_1_1\n"
          ]
        },
        {
          "output_type": "display_data",
          "data": {
            "text/plain": [
              "<IPython.core.display.HTML object>"
            ],
            "text/html": [
              "<h4>Test Run correctly</h4>"
            ]
          },
          "metadata": {}
        },
        {
          "output_type": "display_data",
          "data": {
            "text/plain": [
              "<IPython.core.display.HTML object>"
            ],
            "text/html": [
              "<h6 style=\"color: green;\">Your test grade: 100</h6>\n",
              "<h6>Feedback: Probando código</h6>"
            ]
          },
          "metadata": {}
        }
      ],
      "source": [
        "grader.run_test(\"Test 3_1_1\", globals())"
      ]
    },
    {
      "cell_type": "code",
      "execution_count": 19,
      "metadata": {
        "colab": {
          "base_uri": "https://localhost:8080/",
          "height": 141
        },
        "id": "zbXsKsJ5CNbF",
        "outputId": "b1c492b0-6c99-4b49-d229-4b93fc9c83f2"
      },
      "outputs": [
        {
          "output_type": "stream",
          "name": "stdout",
          "text": [
            "Test 3_1_2\n"
          ]
        },
        {
          "output_type": "display_data",
          "data": {
            "text/plain": [
              "<IPython.core.display.HTML object>"
            ],
            "text/html": [
              "<h4>Test Run correctly</h4>"
            ]
          },
          "metadata": {}
        },
        {
          "output_type": "display_data",
          "data": {
            "text/plain": [
              "<IPython.core.display.HTML object>"
            ],
            "text/html": [
              "<h6 style=\"color: green;\">Your test grade: 100</h6>\n",
              "<h6>Feedback: Probando código</h6>"
            ]
          },
          "metadata": {}
        }
      ],
      "source": [
        "grader.run_test(\"Test 3_1_2\", globals())"
      ]
    },
    {
      "cell_type": "markdown",
      "metadata": {
        "id": "MtngHtd6H2i1"
      },
      "source": [
        "### **3.2. Mujeres y niños primero**\n",
        "---\n",
        "Durante la emergencia, se siguió un protocolo de *\\\"mujeres y niños primero\\\"* para decidir las personas que iban a acceder a las naves de salvamento.\n",
        "\n",
        "En esta tarea usted debe representar gráficamente la cantidad de hombres, mujeres y niños que sobrevivieron y fallecieron en la tragedia. Para esto realice una **gráfica de barras** con el conteo de valores para cada caso como se muestra a continuación:\n",
        "\n",
        "> Para la imagen de referencia utilizamos el *colormap*  **`plasma`** como paleta de color.\n",
        "\n",
        "Almacene el resultado de la función de visualización en la variable **`titanic_mujeres_y_niños`**."
      ]
    },
    {
      "cell_type": "markdown",
      "metadata": {
        "id": "Z48UP5PE1Woq"
      },
      "source": [
        "<details>    \n",
        "<summary>\n",
        "    <font size=\"3\" color=\"darkgreen\"><b>Pistas</b></font>\n",
        "</summary>\n",
        "\n",
        "* Usa la función para graficar conteos de variables categóricas de *Seaborn*.\n",
        "* Fíjese en los nombres de las variables que va a utilizar. Algunas columnas son muy similares pero el resultado obtenido no es el mismo. En este caso puede usar la variable **`who`** que determina si el pasajero es hombre, mujer o niño.\n",
        "* Deberá agregar el título y etiquetas de los ejes por su cuenta. Para esto, utilice métodos de objetos **`Axes`** de *Matplotlib* como **`set_title`** y **`set_xlabel`** sobre el objeto **`titanic_mujeres_y_niños`**.\n",
        "* Las cadenas de texto exactas usadas en este ejercicio son:\n",
        "  * **Título**: `'Women and Children First'`\n",
        "  * **Etiqueta del eje X**: `'Category (W, M, C)'`\n",
        "  * **Etiqueta del eje Y**: `'Total of survivors'`"
      ]
    },
    {
      "cell_type": "code",
      "execution_count": 20,
      "metadata": {
        "id": "i0eQMYG_H3Uo",
        "outputId": "d719ad0c-3c14-4980-acee-1f6d8fca65a7",
        "colab": {
          "base_uri": "https://localhost:8080/",
          "height": 532
        }
      },
      "outputs": [
        {
          "output_type": "execute_result",
          "data": {
            "text/plain": [
              "<Axes: title={'center': 'Women and Children First'}, xlabel='Category (W, M, C)', ylabel='Total of survivors'>"
            ]
          },
          "metadata": {},
          "execution_count": 20
        },
        {
          "output_type": "display_data",
          "data": {
            "text/plain": [
              "<Figure size 704x528 with 1 Axes>"
            ],
            "image/png": "[encoded data removed]"
          },
          "metadata": {}
        }
      ],
      "source": [
        "## VARIABLE CALIFICADA: titanic_mujeres_y_niños\n",
        "### ESCRIBA SU CÓDIGO AQUÍ ### (~ 4 línea de código)\n",
        "titanic_mujeres_y_niños = sns.countplot(data=titanic, x='who', hue='survived', palette='plasma')\n",
        "plt.title('Women and Children First')\n",
        "plt.xlabel('Category (W, M, C)')\n",
        "plt.ylabel('Total of survivors')\n",
        "### FIN DEL CÓDIGO ###\n",
        "titanic_mujeres_y_niños"
      ]
    },
    {
      "cell_type": "markdown",
      "metadata": {
        "id": "B4tO9D-yzXdm"
      },
      "source": [
        "**Salida esperada:**\n",
        "\n",
        "\n",
        "![women and children](https://drive.google.com/uc?export=view&id=1eGiA-9dtkO4D5OSf0NBQwro0KeIcRbp3)"
      ]
    },
    {
      "cell_type": "code",
      "execution_count": 21,
      "metadata": {
        "id": "R_jvMxyS2jjs"
      },
      "outputs": [],
      "source": [
        "# NO ELIMINAR - NECESARIO PARA LA CORRECTA CALIFICACIÓN\n",
        "titanic_mujeres_y_niños.get_figure().show()\n",
        "plt.close()"
      ]
    },
    {
      "cell_type": "markdown",
      "metadata": {
        "id": "JRSalP9GHrQB"
      },
      "source": [
        "#### **Evaluar código**"
      ]
    },
    {
      "cell_type": "code",
      "execution_count": 22,
      "metadata": {
        "colab": {
          "base_uri": "https://localhost:8080/",
          "height": 141
        },
        "id": "xCCQvToXF5XN",
        "outputId": "9e4fea1a-1ceb-489f-c407-44a54e328233"
      },
      "outputs": [
        {
          "output_type": "stream",
          "name": "stdout",
          "text": [
            "Test 3_2_1\n"
          ]
        },
        {
          "output_type": "display_data",
          "data": {
            "text/plain": [
              "<IPython.core.display.HTML object>"
            ],
            "text/html": [
              "<h4>Test Run correctly</h4>"
            ]
          },
          "metadata": {}
        },
        {
          "output_type": "display_data",
          "data": {
            "text/plain": [
              "<IPython.core.display.HTML object>"
            ],
            "text/html": [
              "<h6 style=\"color: green;\">Your test grade: 100</h6>\n",
              "<h6>Feedback: Probando código</h6>"
            ]
          },
          "metadata": {}
        }
      ],
      "source": [
        "grader.run_test(\"Test 3_2_1\", globals())"
      ]
    },
    {
      "cell_type": "code",
      "execution_count": 23,
      "metadata": {
        "colab": {
          "base_uri": "https://localhost:8080/",
          "height": 141
        },
        "id": "j5logaXcKbVq",
        "outputId": "04d5f005-c2ee-4d3d-e29f-5f68a6e467f4"
      },
      "outputs": [
        {
          "output_type": "stream",
          "name": "stdout",
          "text": [
            "Test 3_2_1\n"
          ]
        },
        {
          "output_type": "display_data",
          "data": {
            "text/plain": [
              "<IPython.core.display.HTML object>"
            ],
            "text/html": [
              "<h4>Test Run correctly</h4>"
            ]
          },
          "metadata": {}
        },
        {
          "output_type": "display_data",
          "data": {
            "text/plain": [
              "<IPython.core.display.HTML object>"
            ],
            "text/html": [
              "<h6 style=\"color: green;\">Your test grade: 100</h6>\n",
              "<h6>Feedback: Probando código</h6>"
            ]
          },
          "metadata": {}
        }
      ],
      "source": [
        "grader.run_test(\"Test 3_2_2\", globals())"
      ]
    },
    {
      "cell_type": "markdown",
      "metadata": {
        "id": "ycBwGxeg_oq0"
      },
      "source": [
        "## **4. Primera, segunda y tercera clase**\n",
        "---\n",
        "\n",
        "En el momento de la tragedia, la evacuación se realizó dando prioridad con respecto a la clase de los pasajeros. Vamos a explorar la distribución de personas, por edad, que correspondían a cada clase para conocer cómo influyó esto en su supervivencia."
      ]
    },
    {
      "cell_type": "markdown",
      "metadata": {
        "id": "DiG5XfcZHZoW"
      },
      "source": [
        "### **4.1. Usando diagramas de cajas**\n",
        "---\n",
        "\n",
        "En este ejercicio deberá representar gráficamente la distribución y medidas de posición de las edades de los pasajeros a bordo del *Titanic* en cada clase utilizando una **diagramas de cajas** como se presenta a continuación:\n",
        "\n",
        "> Para la imagen de referencia utilizamos el *colormap* **`afmhot`** como paleta de color.\n",
        "\n",
        "Almacene el resultado de la función de visualización en la variable **`titanic_clase_cajas`**."
      ]
    },
    {
      "cell_type": "markdown",
      "metadata": {
        "id": "rPLg2Kx21mtW"
      },
      "source": [
        "<details>    \n",
        "<summary>\n",
        "    <font size=\"3\" color=\"darkgreen\"><b>Pistas</b></font>\n",
        "</summary>\n",
        "\n",
        "\n",
        "* Al construir el diagrama de cajas puede seleccionar una variable categórica en el eje *x* para conocer las distribuciones de cada grupo independientemente.\n",
        "* Fíjese en los nombres de las variables que va a utilizar. Algunas columnas son muy similares pero el resultado obtenido no es el mismo.\n",
        "* Deberá agregar el título y etiquetas de los ejes por su cuenta. Para esto, utilice métodos de objetos **`Axes`** de *Matplotlib* como **`set_title`** y **`set_xlabel`** sobre el objeto **`titanic_clase_cajas`**.\n",
        "* Las cadenas de texto exactas usadas en este ejercicio son:\n",
        "  * **Título**: `'Age distribution by class'`\n",
        "  * **Etiqueta del eje X**: `'Passenger travel class (I, II, III)'`\n",
        "  * **Etiqueta del eje Y**: `'Age (years)'`\n",
        "\n",
        "\n",
        "\n"
      ]
    },
    {
      "cell_type": "code",
      "execution_count": 24,
      "metadata": {
        "id": "zVykfUy4_oq0",
        "outputId": "83454382-5174-4631-f683-62b04a32941f",
        "colab": {
          "base_uri": "https://localhost:8080/",
          "height": 639
        }
      },
      "outputs": [
        {
          "output_type": "stream",
          "name": "stderr",
          "text": [
            "<ipython-input-24-af3486864842>:3: FutureWarning: \n",
            "\n",
            "Passing `palette` without assigning `hue` is deprecated and will be removed in v0.14.0. Assign the `x` variable to `hue` and set `legend=False` for the same effect.\n",
            "\n",
            "  titanic_clase_cajas = sns.boxplot(data=titanic, x='class', y='age', palette='afmhot')\n"
          ]
        },
        {
          "output_type": "execute_result",
          "data": {
            "text/plain": [
              "<Axes: title={'center': 'Age distribution by class'}, xlabel='Passenger travel class (I, II, III)', ylabel='Age (years)'>"
            ]
          },
          "metadata": {},
          "execution_count": 24
        },
        {
          "output_type": "display_data",
          "data": {
            "text/plain": [
              "<Figure size 704x528 with 1 Axes>"
            ],
            "image/png": "[encoded data removed]"
          },
          "metadata": {}
        }
      ],
      "source": [
        "## VARIABLE CALIFICADA: titanic_clase_cajas\n",
        "### ESCRIBA SU CÓDIGO AQUÍ ### (~ 4 línea de código)\n",
        "titanic_clase_cajas = sns.boxplot(data=titanic, x='class', y='age', palette='afmhot')\n",
        "plt.title('Age distribution by class')\n",
        "plt.xlabel('Passenger travel class (I, II, III)')\n",
        "plt.ylabel('Age (years)')\n",
        "### FIN DEL CÓDIGO ###\n",
        "\n",
        "titanic_clase_cajas"
      ]
    },
    {
      "cell_type": "markdown",
      "metadata": {
        "id": "4GhyvthbzgHQ"
      },
      "source": [
        "**Salida esperada:**\n",
        "\n",
        "![corr matrix](https://drive.google.com/uc?export=view&id=1FeXQWL70AXH-KcRDfTPIWmh5XPhJFaNN)"
      ]
    },
    {
      "cell_type": "markdown",
      "metadata": {
        "id": "qeSsdudCHsqm"
      },
      "source": [
        "#### **Evaluar código**"
      ]
    },
    {
      "cell_type": "code",
      "execution_count": 25,
      "metadata": {
        "colab": {
          "base_uri": "https://localhost:8080/",
          "height": 141
        },
        "id": "bqXFiTFrN3NN",
        "outputId": "0e2bafc8-9a60-49ac-c451-463317be16d5"
      },
      "outputs": [
        {
          "output_type": "stream",
          "name": "stdout",
          "text": [
            "Test 4_1_1\n"
          ]
        },
        {
          "output_type": "display_data",
          "data": {
            "text/plain": [
              "<IPython.core.display.HTML object>"
            ],
            "text/html": [
              "<h4>Test Run correctly</h4>"
            ]
          },
          "metadata": {}
        },
        {
          "output_type": "display_data",
          "data": {
            "text/plain": [
              "<IPython.core.display.HTML object>"
            ],
            "text/html": [
              "<h6 style=\"color: green;\">Your test grade: 100</h6>\n",
              "<h6>Feedback: Probando código</h6>"
            ]
          },
          "metadata": {}
        }
      ],
      "source": [
        "grader.run_test(\"Test 4_1_1\", globals())"
      ]
    },
    {
      "cell_type": "code",
      "execution_count": 26,
      "metadata": {
        "colab": {
          "base_uri": "https://localhost:8080/",
          "height": 141
        },
        "id": "vFOY6XDuSsZr",
        "outputId": "748450bb-804b-4347-9334-4384ce88beff"
      },
      "outputs": [
        {
          "output_type": "stream",
          "name": "stdout",
          "text": [
            "Test 4_1_2\n"
          ]
        },
        {
          "output_type": "display_data",
          "data": {
            "text/plain": [
              "<IPython.core.display.HTML object>"
            ],
            "text/html": [
              "<h4>Test Run correctly</h4>"
            ]
          },
          "metadata": {}
        },
        {
          "output_type": "display_data",
          "data": {
            "text/plain": [
              "<IPython.core.display.HTML object>"
            ],
            "text/html": [
              "<h6 style=\"color: green;\">Your test grade: 100</h6>\n",
              "<h6>Feedback: Probando código</h6>"
            ]
          },
          "metadata": {}
        }
      ],
      "source": [
        "grader.run_test(\"Test 4_1_2\", globals())"
      ]
    },
    {
      "cell_type": "markdown",
      "metadata": {
        "id": "amWmwspzHd1G"
      },
      "source": [
        "### **4.2. Usando gráficas de enjambre**\n",
        "---\n",
        "\n",
        "En este ejercicio deberá representar gráficamente la distribución de las edades de los pasajeros a bordo del *Titanic* en cada clase utilizando una **gráfica de enjambre o *swarm plot***, además, deberá diferenciar entre los que sobrevivieron y los que no, así:\n",
        "\n",
        "> * La paleta de colores usada para la imagen de referencia es **`Set1`**.\n",
        "* El radio de los puntos es de $2$ unidades.\n",
        "\n",
        "\n",
        "Almacene el resultado de la función de visualización en la variable **`titanic_clase_swarm`**."
      ]
    },
    {
      "cell_type": "markdown",
      "metadata": {
        "id": "YFO0M4Hv1rqe"
      },
      "source": [
        "<details>    \n",
        "<summary>\n",
        "    <font size=\"3\" color=\"darkgreen\"><b>Pistas</b></font>\n",
        "</summary>\n",
        "\n",
        "* Use la función **`swarmplot`** de *Seaborn* para generar el diagrama de enjambre.\n",
        "* En esta gráfica las dos categorías (sobrevivientes / no sobrevivientes) deben estar bien diferenciadas entre sí. Use el parámetro **`dodge`** para conseguirlo.\n",
        "* Si el anterior punto es correcto, debería usar los mismos nombres de variables.\n",
        "* Configure el tono del color de acuerdo al valor de la variable categórica **`survived`**.\n",
        "* Deberá agregar el título y etiquetas de los ejes por su cuenta. Para esto, utilice métodos de objetos **`Axes`** de *Matplotlib* como **`set_title`** y **`set_xlabel`** sobre el objeto **`titanic_clase_swarm`**.\n",
        "* Las cadenas de texto exactas usadas en este ejercicio son:\n",
        "  * **Título**: `'Age distribution by class'`\n",
        "  * **Etiqueta del eje X**: `'Passenger travel class (I, II, III)'`\n",
        "  * **Etiqueta del eje Y**: `'Age (years)'`\n"
      ]
    },
    {
      "cell_type": "code",
      "execution_count": 27,
      "metadata": {
        "id": "7PrDzHv5Hd1I",
        "outputId": "78ae884c-23f2-4dde-f008-ffb28e614ab1",
        "colab": {
          "base_uri": "https://localhost:8080/",
          "height": 532
        }
      },
      "outputs": [
        {
          "output_type": "execute_result",
          "data": {
            "text/plain": [
              "<Axes: title={'center': 'Age distribution by class'}, xlabel='Passenger travel class (I, II, III)', ylabel='Age (years)'>"
            ]
          },
          "metadata": {},
          "execution_count": 27
        },
        {
          "output_type": "display_data",
          "data": {
            "text/plain": [
              "<Figure size 704x528 with 1 Axes>"
            ],
            "image/png": "[encoded data removed]"
          },
          "metadata": {}
        }
      ],
      "source": [
        "## VARIABLE CALIFICADA: titanic_clase_swarm\n",
        "### ESCRIBA SU CÓDIGO AQUÍ ### (~ 4 línea de código)\n",
        "titanic_clase_swarm = sns.swarmplot(data=titanic, x='class', y='age', hue='survived', palette='Set1', dodge=True, size=2)\n",
        "plt.title('Age distribution by class')\n",
        "plt.xlabel('Passenger travel class (I, II, III)')\n",
        "plt.ylabel('Age (years)')\n",
        "### FIN DEL CÓDIGO ###\n",
        "\n",
        "titanic_clase_swarm"
      ]
    },
    {
      "cell_type": "markdown",
      "metadata": {
        "id": "2AU57JpqzmQK"
      },
      "source": [
        "**Salida esperada:**\n",
        "\n",
        "![swarm class](https://drive.google.com/uc?export=view&id=1L3l3wEuusPJhIxOaPmszGAh2_xeOocrx)"
      ]
    },
    {
      "cell_type": "markdown",
      "metadata": {
        "id": "T3zBCITyHutH"
      },
      "source": [
        "#### **Evaluar código**"
      ]
    },
    {
      "cell_type": "code",
      "execution_count": 28,
      "metadata": {
        "colab": {
          "base_uri": "https://localhost:8080/",
          "height": 141
        },
        "id": "C2VTWnmvWROu",
        "outputId": "8fdaf4f1-ef15-498e-bdd4-e3890e34b02d"
      },
      "outputs": [
        {
          "output_type": "stream",
          "name": "stdout",
          "text": [
            "Test 4_2_1\n"
          ]
        },
        {
          "output_type": "display_data",
          "data": {
            "text/plain": [
              "<IPython.core.display.HTML object>"
            ],
            "text/html": [
              "<h4>Test Run correctly</h4>"
            ]
          },
          "metadata": {}
        },
        {
          "output_type": "display_data",
          "data": {
            "text/plain": [
              "<IPython.core.display.HTML object>"
            ],
            "text/html": [
              "<h6 style=\"color: green;\">Your test grade: 100</h6>\n",
              "<h6>Feedback: Probando código</h6>"
            ]
          },
          "metadata": {}
        }
      ],
      "source": [
        "grader.run_test(\"Test 4_2_1\", globals())"
      ]
    },
    {
      "cell_type": "code",
      "execution_count": 29,
      "metadata": {
        "colab": {
          "base_uri": "https://localhost:8080/",
          "height": 141
        },
        "id": "_8ZAhmKjeKUU",
        "outputId": "3da8c5c6-937c-4db4-e4ce-226c9aedc02b"
      },
      "outputs": [
        {
          "output_type": "stream",
          "name": "stdout",
          "text": [
            "Test 4_2_2\n"
          ]
        },
        {
          "output_type": "display_data",
          "data": {
            "text/plain": [
              "<IPython.core.display.HTML object>"
            ],
            "text/html": [
              "<h4>Test Run correctly</h4>"
            ]
          },
          "metadata": {}
        },
        {
          "output_type": "display_data",
          "data": {
            "text/plain": [
              "<IPython.core.display.HTML object>"
            ],
            "text/html": [
              "<h6 style=\"color: green;\">Your test grade: 100</h6>\n",
              "<h6>Feedback: Probando código</h6>"
            ]
          },
          "metadata": {}
        }
      ],
      "source": [
        "grader.run_test(\"Test 4_2_2\", globals())"
      ]
    },
    {
      "cell_type": "markdown",
      "metadata": {
        "id": "QrU5ELZuMyF6"
      },
      "source": [
        "## **Evaluación**\n",
        "**¡Felicitaciones!** Ha terminado la tarea. ¡Buen trabajo!\n"
      ]
    },
    {
      "cell_type": "code",
      "execution_count": 30,
      "metadata": {
        "colab": {
          "base_uri": "https://localhost:8080/",
          "height": 1000
        },
        "id": "2LgeIiJhEf99",
        "outputId": "83867665-eafb-49d8-b27b-d8092faf986a"
      },
      "outputs": [
        {
          "output_type": "stream",
          "name": "stdout",
          "text": [
            "Test 1_1\n",
            "Test 1_2\n",
            "Test 2_1_1\n",
            "Test 2_1_2\n",
            "Test 2_2_1\n",
            "Test 2_2_2\n",
            "Test 3_1_1\n",
            "Test 3_1_2\n",
            "Test 3_2_1\n",
            "Test 3_2_1\n",
            "Test 4_1_1\n",
            "Test 4_1_2\n",
            "Test 4_2_1\n",
            "Test 4_2_2\n"
          ]
        },
        {
          "output_type": "display_data",
          "data": {
            "text/plain": [
              "<IPython.core.display.HTML object>"
            ],
            "text/html": [
              "<h3>Grading succeeded</h3>"
            ]
          },
          "metadata": {}
        },
        {
          "output_type": "display_data",
          "data": {
            "text/plain": [
              "<IPython.core.display.HTML object>"
            ],
            "text/html": [
              "<h6 style=\"color: green;\">TEST Test 1_1 , Your test grade: 100</h6>\n",
              "<h6>Feedback: Probando código</h6>"
            ]
          },
          "metadata": {}
        },
        {
          "output_type": "display_data",
          "data": {
            "text/plain": [
              "<IPython.core.display.HTML object>"
            ],
            "text/html": [
              "<h6 style=\"color: green;\">TEST Test 1_2 , Your test grade: 100</h6>\n",
              "<h6>Feedback: Probando código</h6>"
            ]
          },
          "metadata": {}
        },
        {
          "output_type": "display_data",
          "data": {
            "text/plain": [
              "<IPython.core.display.HTML object>"
            ],
            "text/html": [
              "<h6 style=\"color: green;\">TEST Test 2_1_1 , Your test grade: 100</h6>\n",
              "<h6>Feedback: Probando código</h6>"
            ]
          },
          "metadata": {}
        },
        {
          "output_type": "display_data",
          "data": {
            "text/plain": [
              "<IPython.core.display.HTML object>"
            ],
            "text/html": [
              "<h6 style=\"color: green;\">TEST Test 2_1_2 , Your test grade: 100</h6>\n",
              "<h6>Feedback: Probando código</h6>"
            ]
          },
          "metadata": {}
        },
        {
          "output_type": "display_data",
          "data": {
            "text/plain": [
              "<IPython.core.display.HTML object>"
            ],
            "text/html": [
              "<h6 style=\"color: green;\">TEST Test 2_2_1 , Your test grade: 100</h6>\n",
              "<h6>Feedback: Probando código</h6>"
            ]
          },
          "metadata": {}
        },
        {
          "output_type": "display_data",
          "data": {
            "text/plain": [
              "<IPython.core.display.HTML object>"
            ],
            "text/html": [
              "<h6 style=\"color: green;\">TEST Test 2_2_2 , Your test grade: 100</h6>\n",
              "<h6>Feedback: Probando código</h6>"
            ]
          },
          "metadata": {}
        },
        {
          "output_type": "display_data",
          "data": {
            "text/plain": [
              "<IPython.core.display.HTML object>"
            ],
            "text/html": [
              "<h6 style=\"color: green;\">TEST Test 3_1_1 , Your test grade: 100</h6>\n",
              "<h6>Feedback: Probando código</h6>"
            ]
          },
          "metadata": {}
        },
        {
          "output_type": "display_data",
          "data": {
            "text/plain": [
              "<IPython.core.display.HTML object>"
            ],
            "text/html": [
              "<h6 style=\"color: green;\">TEST Test 3_1_2 , Your test grade: 100</h6>\n",
              "<h6>Feedback: Probando código</h6>"
            ]
          },
          "metadata": {}
        },
        {
          "output_type": "display_data",
          "data": {
            "text/plain": [
              "<IPython.core.display.HTML object>"
            ],
            "text/html": [
              "<h6 style=\"color: green;\">TEST Test 3_2_1 , Your test grade: 100</h6>\n",
              "<h6>Feedback: Probando código</h6>"
            ]
          },
          "metadata": {}
        },
        {
          "output_type": "display_data",
          "data": {
            "text/plain": [
              "<IPython.core.display.HTML object>"
            ],
            "text/html": [
              "<h6 style=\"color: green;\">TEST Test 3_2_2 , Your test grade: 100</h6>\n",
              "<h6>Feedback: Probando código</h6>"
            ]
          },
          "metadata": {}
        },
        {
          "output_type": "display_data",
          "data": {
            "text/plain": [
              "<IPython.core.display.HTML object>"
            ],
            "text/html": [
              "<h6 style=\"color: green;\">TEST Test 4_1_1 , Your test grade: 100</h6>\n",
              "<h6>Feedback: Probando código</h6>"
            ]
          },
          "metadata": {}
        },
        {
          "output_type": "display_data",
          "data": {
            "text/plain": [
              "<IPython.core.display.HTML object>"
            ],
            "text/html": [
              "<h6 style=\"color: green;\">TEST Test 4_1_2 , Your test grade: 100</h6>\n",
              "<h6>Feedback: Probando código</h6>"
            ]
          },
          "metadata": {}
        },
        {
          "output_type": "display_data",
          "data": {
            "text/plain": [
              "<IPython.core.display.HTML object>"
            ],
            "text/html": [
              "<h6 style=\"color: green;\">TEST Test 4_2_1 , Your test grade: 100</h6>\n",
              "<h6>Feedback: Probando código</h6>"
            ]
          },
          "metadata": {}
        },
        {
          "output_type": "display_data",
          "data": {
            "text/plain": [
              "<IPython.core.display.HTML object>"
            ],
            "text/html": [
              "<h6 style=\"color: green;\">TEST Test 4_2_2 , Your test grade: 100</h6>\n",
              "<h6>Feedback: Probando código</h6>"
            ]
          },
          "metadata": {}
        },
        {
          "output_type": "display_data",
          "data": {
            "text/plain": [
              "<IPython.core.display.HTML object>"
            ],
            "text/html": [
              "<h3 style=\"color: purple;\">Your submission grade: \"100.0%\"</h3>"
            ]
          },
          "metadata": {}
        }
      ],
      "source": [
        "grader.submit_task(globals())"
      ]
    },
    {
      "cell_type": "markdown",
      "metadata": {
        "id": "JJbV7A38uZhC"
      },
      "source": [
        "## **Créditos**\n",
        "---\n",
        "\n",
        "* **Profesor:** [Felipe Restrepo Calle](https://dis.unal.edu.co/~ferestrepoca/)\n",
        "* **Asistentes docentes:**\n",
        "  - Alberto Nicolai Romero Martínez\n",
        "\n",
        "**Universidad Nacional de Colombia** - *Facultad de Ingeniería*\n"
      ]
    }
  ],
  "metadata": {
    "colab": {
      "collapsed_sections": [
        "07kzvBKYN3M_"
      ],
      "provenance": [],
      "toc_visible": true,
      "include_colab_link": true
    },
    "kernelspec": {
      "display_name": "Python 3",
      "name": "python3"
    }
  },
  "nbformat": 4,
  "nbformat_minor": 0
}