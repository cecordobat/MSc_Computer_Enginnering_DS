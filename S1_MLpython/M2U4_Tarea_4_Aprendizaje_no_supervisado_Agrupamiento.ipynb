{
  "cells": [
    {
      "cell_type": "markdown",
      "metadata": {
        "id": "view-in-github",
        "colab_type": "text"
      },
      "source": [
        "<a href=\"https://colab.research.google.com/github/cecordobat/MSc_Computer_Enginnering_DS/blob/main/S1_MLpython/M3/M2U4_Tarea_4_Aprendizaje_no_supervisado_Agrupamiento.ipynb\" target=\"_parent\"><img src=\"https://colab.research.google.com/assets/colab-badge.svg\" alt=\"Open In Colab\"/></a>"
      ]
    },
    {
      "cell_type": "markdown",
      "metadata": {
        "id": "fb9pUStUq6xf"
      },
      "source": [
        "<img src = \"https://drive.google.com/uc?export=view&id=1lrzkRlmABf8ZwwCzsSvo0b2lW_IhZXkv\" alt = \"Encabezado MLDS\" width = \"100%\">  </img>"
      ]
    },
    {
      "cell_type": "markdown",
      "metadata": {
        "id": "agPU4zWADxqI"
      },
      "source": [
        "# **Tarea 4: Aprendizaje no supervisado: agrupamiento**\n",
        "---\n",
        "En esta tarea podrá practicar las habilidades y conceptos adquiridos aplicando métodos de agrupamiento, en la caracterización de cuentas bancarias como posibles buenos o malos riesgos de crédito. Utilizaremos el conjunto de datos [**German Credit Data**](https://archive.ics.uci.edu/ml/datasets/Statlog+%28German+Credit+Data%29), atribuido al profesor Hans Hoffman.\n",
        "\n",
        "\n",
        "| Variable | Medida\t| Valores |\n",
        "| --- | --- | --- |\n",
        "| checking_status | \tEstado de la cuenta corriente. |\tcategórica |\n",
        "| disc_duration |  Duración en meses del crédito solicitado | \tnumérica\n",
        "| credit_history | Historial crediticio. \t| categórica |\n",
        "| purpose |\tPropósito del crédito. \t| categórica |\n",
        "| credit_amount |\tMonto del crédito en marcos alemanes (DM). | numérica |\n",
        "| savings_status |\tEstado de cuenta/bonos de ahorros. \t| categórica|\n",
        "| employment |\t Tiempo de empleo. \t| categórica |\n",
        "| personal_status |\tEstado personal (género y estado civil). \t| categórica |\n",
        "| other_parties |\tOtros deudores/garantes. \t| categórica |\n",
        "| property_magnitude |\tTipo de propiedad. \t| categórica |\n",
        "| age |\tEdad del solicitante en años.\t| numérica |\n",
        "| other_payment_plans  |\t Otros planes de pago. \t| categórica|\n",
        "| housing |\tTipo de alojamiento/vivienda. \t| categórica|\n",
        "| existing_credits |\tCantidad de créditos existentes. \t| categórica|\n",
        "| job |\tTipo de empleo y habilidad. \t| categórica|\n",
        "| num_dependents |\tNúmero de dependientes. \t| categórica|\n",
        "| own_telephone |\tTeléfono propio. \t| categórica |\n",
        "| foreign_worker |\tTrabajador extranjero. \t| categórica |\n",
        "| class |\tTipo de riesgo de crédito. \t| categórica - variable objetivo ('good', 'bad')|]\n",
        "\n",
        "\n",
        "\n",
        "> **Nota:** Esta tarea va a ser calificada en estableciendo una conexión con **[UNCode](https://juezun.github.io/)**. Para esto, en cada ejercicio se indicará si es calificable o no, también los lugares donde debe escribir su código sin modificar lo demás con un aproximado de cantidad de líneas a escribir. No se preocupe si su código toma más líneas, esto es simplemente un aproximado destinado a que pueda replantear su estrategia si el código está tomando más de las esperadas. No es un requisito estricto y soluciones más largas también son válidas.\n",
        "> **La tarea es incremental, es recomendable resolver los puntos en orden.**\n",
        "\n",
        "> En caso de tener dudas de cómo solucionar este tipo de ejercicios, por favor consultar el demo en la unidad 0"
      ]
    },
    {
      "cell_type": "markdown",
      "metadata": {
        "id": "UygV6iCUN1w4"
      },
      "source": [
        "## **0. Dependencias**\n",
        "---\n",
        "Ejecute la siguiente celda para importar las librerías necesarias."
      ]
    },
    {
      "cell_type": "code",
      "execution_count": 1,
      "metadata": {
        "id": "kh3RwM2u50Jz"
      },
      "outputs": [],
      "source": [
        "# Importamos Scikit-Learn.\n",
        "import sklearn\n",
        "\n",
        "# Librerías de utilidad para manipulación de datos.\n",
        "import pandas as pd\n",
        "import numpy as np\n",
        "import scipy\n",
        "\n",
        "# Ignorar advertencias del código.\n",
        "import warnings\n",
        "warnings.filterwarnings('ignore')"
      ]
    },
    {
      "cell_type": "code",
      "execution_count": 2,
      "metadata": {
        "id": "_ZMJ1zM4cMtJ"
      },
      "outputs": [],
      "source": [
        "#TEST_CELL\n",
        "# Librerías de utilidad para visualización de datos.\n",
        "import matplotlib as mpl\n",
        "import matplotlib.pyplot as plt\n",
        "import seaborn as sns\n",
        "\n",
        "# Configuramos el formato por defecto de la\n",
        "# librería de visualización Matplotlib.\n",
        "%matplotlib inline\n",
        "%config InlineBackend.figure_format = 'retina'\n",
        "mpl.rcParams['figure.dpi'] = 110\n",
        "mpl.rcParams['figure.figsize'] = (8, 6)\n",
        "sns.set_theme()"
      ]
    },
    {
      "cell_type": "code",
      "execution_count": 3,
      "metadata": {
        "id": "jUMP_2CPqwRY",
        "outputId": "fbcc69c0-e514-4876-9133-6ea9bdb1e353",
        "colab": {
          "base_uri": "https://localhost:8080/"
        }
      },
      "outputs": [
        {
          "output_type": "stream",
          "name": "stdout",
          "text": [
            "Python 3.10.12\n",
            "NumPy 1.26.4\n",
            "Pandas 2.2.2\n",
            "SciPy 1.13.1\n",
            "Matplotlib 3.7.1\n",
            "Seaborn 0.13.2\n",
            "Scikit-learn 1.5.2\n"
          ]
        }
      ],
      "source": [
        "#TEST_CELL\n",
        "# Versiones de las librerías usadas.\n",
        "\n",
        "!python --version\n",
        "print('NumPy', np.__version__)\n",
        "print('Pandas', pd.__version__)\n",
        "print('SciPy', scipy.__version__)\n",
        "print('Matplotlib', mpl.__version__)\n",
        "print('Seaborn', sns.__version__)\n",
        "print('Scikit-learn', sklearn.__version__)"
      ]
    },
    {
      "cell_type": "markdown",
      "metadata": {
        "id": "dxNzX3sfq3gZ"
      },
      "source": [
        "Esta actividad se realizó con las siguientes versiones:\n",
        "*  *Python*: 3.10.12\n",
        "*  *NumPy*:  1.25.2\n",
        "*  *Pandas*: 1.5.3\n",
        "*  *SciPy*: 1.11.4\n",
        "*  *Matplotlib*:  3.7.1\n",
        "*  *Seaborn*:  0.13.1\n",
        "*  *Scikit-learn*: 1.2.2"
      ]
    },
    {
      "cell_type": "markdown",
      "metadata": {
        "id": "v3KBjKC2PEeD"
      },
      "source": [
        "**Conectar con UNCode**"
      ]
    },
    {
      "cell_type": "code",
      "execution_count": 4,
      "metadata": {
        "id": "ZNrjNfyjO_k5",
        "outputId": "30355fdd-b9d1-4d83-b470-93859b759a2f",
        "colab": {
          "base_uri": "https://localhost:8080/"
        }
      },
      "outputs": [
        {
          "output_type": "stream",
          "name": "stdout",
          "text": [
            "Collecting rlxcrypt\n",
            "  Downloading rlxcrypt-0.0.4-cp310-cp310-manylinux_2_17_x86_64.manylinux2014_x86_64.whl.metadata (1.9 kB)\n",
            "Collecting imphook (from rlxcrypt)\n",
            "  Downloading imphook-1.0.tar.gz (12 kB)\n",
            "  Preparing metadata (setup.py) ... \u001b[?25l\u001b[?25hdone\n",
            "Requirement already satisfied: cython in /usr/local/lib/python3.10/dist-packages (from rlxcrypt) (3.0.11)\n",
            "Collecting pycryptodome (from rlxcrypt)\n",
            "  Downloading pycryptodome-3.21.0-cp36-abi3-manylinux_2_17_x86_64.manylinux2014_x86_64.whl.metadata (3.4 kB)\n",
            "Requirement already satisfied: cryptography in /usr/local/lib/python3.10/dist-packages (from rlxcrypt) (43.0.3)\n",
            "Requirement already satisfied: cffi>=1.12 in /usr/local/lib/python3.10/dist-packages (from cryptography->rlxcrypt) (1.17.1)\n",
            "Requirement already satisfied: pycparser in /usr/local/lib/python3.10/dist-packages (from cffi>=1.12->cryptography->rlxcrypt) (2.22)\n",
            "Downloading rlxcrypt-0.0.4-cp310-cp310-manylinux_2_17_x86_64.manylinux2014_x86_64.whl (297 kB)\n",
            "\u001b[2K   \u001b[90m━━━━━━━━━━━━━━━━━━━━━━━━━━━━━━━━━━━━━━━━\u001b[0m \u001b[32m297.9/297.9 kB\u001b[0m \u001b[31m12.1 MB/s\u001b[0m eta \u001b[36m0:00:00\u001b[0m\n",
            "\u001b[?25hDownloading pycryptodome-3.21.0-cp36-abi3-manylinux_2_17_x86_64.manylinux2014_x86_64.whl (2.3 MB)\n",
            "\u001b[2K   \u001b[90m━━━━━━━━━━━━━━━━━━━━━━━━━━━━━━━━━━━━━━━━\u001b[0m \u001b[32m2.3/2.3 MB\u001b[0m \u001b[31m23.2 MB/s\u001b[0m eta \u001b[36m0:00:00\u001b[0m\n",
            "\u001b[?25hBuilding wheels for collected packages: imphook\n",
            "  Building wheel for imphook (setup.py) ... \u001b[?25l\u001b[?25hdone\n",
            "  Created wheel for imphook: filename=imphook-1.0-py3-none-any.whl size=9423 sha256=28135cedcf7cf5e24d5740aabd1d99a1b7689ab8c6c9e18dea0ffb71d03243a8\n",
            "  Stored in directory: /root/.cache/pip/wheels/dc/e2/a4/fcb3817d09a2eb047b2b08eb58e7d9140041b0f3f415eb1256\n",
            "Successfully built imphook\n",
            "Installing collected packages: imphook, pycryptodome, rlxcrypt\n",
            "Successfully installed imphook-1.0 pycryptodome-3.21.0 rlxcrypt-0.0.4\n"
          ]
        }
      ],
      "source": [
        "!pip install rlxcrypt\n",
        "!wget --no-cache -O session.pye -q https://raw.githubusercontent.com/JuezUN/INGInious/master/external%20libs/session.pye"
      ]
    },
    {
      "cell_type": "code",
      "execution_count": 5,
      "metadata": {
        "id": "j0vo3XVPPCMp",
        "outputId": "61d4b8d5-ef3a-4acb-ae16-5ef79413098c",
        "colab": {
          "base_uri": "https://localhost:8080/",
          "height": 288
        }
      },
      "outputs": [
        {
          "output_type": "display_data",
          "data": {
            "text/plain": [
              "<IPython.core.display.HTML object>"
            ],
            "text/html": [
              "\n",
              "    <div>\n",
              "    <div style=\"display: flex\">\n",
              "        <div style=\"padding: 10px\">\n",
              "          <img\n",
              "            src=\"https://uncode.unal.edu.co/static/images/logo_unc.svg\"\n",
              "            width=\"50px\"\n",
              "            height=\"50px\"\n",
              "          />\n",
              "        </div>\n",
              "      \n",
              "        <div>\n",
              "          <h2>UNCode Notebooks grader API</h2>\n",
              "          <hr />\n",
              "        </div>\n",
              "      </div>\n",
              "      \n",
              "      <div style=\"display: flex\">\n",
              "        <span>Please enter authentication data</span>\n",
              "      </div>\n",
              "    </div>\n",
              "    "
            ]
          },
          "metadata": {}
        },
        {
          "name": "stdout",
          "output_type": "stream",
          "text": [
            "Please enter your UNCode username: cecordobat\n",
            "Please enter your password: ··········\n"
          ]
        },
        {
          "output_type": "display_data",
          "data": {
            "text/plain": [
              "<IPython.core.display.HTML object>"
            ],
            "text/html": [
              "<h5 style=\"color: green\"><Response [200]></h5>"
            ]
          },
          "metadata": {}
        },
        {
          "output_type": "display_data",
          "data": {
            "text/plain": [
              "<IPython.core.display.HTML object>"
            ],
            "text/html": [
              "<h5 style=\"color: green\">Auth process succeeded</h5>"
            ]
          },
          "metadata": {}
        },
        {
          "output_type": "display_data",
          "data": {
            "text/plain": [
              "<IPython.core.display.HTML object>"
            ],
            "text/html": [
              "<h5>View your courses <a href=\"https://uncode.unal.edu.co/courselist\">at UNCode platform</a></h5>"
            ]
          },
          "metadata": {}
        },
        {
          "output_type": "display_data",
          "data": {
            "text/plain": [
              "<IPython.core.display.HTML object>"
            ],
            "text/html": [
              "<h3>You will sumbit code to course: <span style=\"color: green\">Introducción a Machine Learning y Scikit-learn | Grupo MLDS-2 | 2024 - 2<span></h3>"
            ]
          },
          "metadata": {}
        },
        {
          "output_type": "display_data",
          "data": {
            "text/plain": [
              "<IPython.core.display.HTML object>"
            ],
            "text/html": [
              "<h3>You will sumbit code to task: <span style=\"color: blue\">Tarea 4 - Aprendizaje no Supervisado: Agrupamiento <span></h3>"
            ]
          },
          "metadata": {}
        }
      ],
      "source": [
        "import rlxcrypt\n",
        "import session\n",
        "\n",
        "grader = session.LoginSequence(\"IAMLYS-GroupMLDS-2-2024-2@a2da9137-22ab-4f17-91de-0fc528db2591\")"
      ]
    },
    {
      "cell_type": "markdown",
      "metadata": {
        "id": "XEvKnEZCKn3a"
      },
      "source": [
        "Descargamos el conjunto de datos:"
      ]
    },
    {
      "cell_type": "code",
      "execution_count": 6,
      "metadata": {
        "id": "YH5uAuXuKirX",
        "outputId": "a581b997-6da3-4e8b-839e-a57a1e8f243e",
        "colab": {
          "base_uri": "https://localhost:8080/"
        }
      },
      "outputs": [
        {
          "output_type": "stream",
          "name": "stdout",
          "text": [
            "--2024-10-31 04:12:23--  https://raw.githubusercontent.com/JuezUN/datasets/master/credit-german.csv\n",
            "Resolving raw.githubusercontent.com (raw.githubusercontent.com)... 185.199.108.133, 185.199.109.133, 185.199.110.133, ...\n",
            "Connecting to raw.githubusercontent.com (raw.githubusercontent.com)|185.199.108.133|:443... connected.\n",
            "HTTP request sent, awaiting response... 200 OK\n",
            "Length: 138139 (135K) [text/plain]\n",
            "Saving to: ‘credit-german.csv’\n",
            "\n",
            "\rcredit-german.csv     0%[                    ]       0  --.-KB/s               \rcredit-german.csv   100%[===================>] 134.90K  --.-KB/s    in 0.007s  \n",
            "\n",
            "2024-10-31 04:12:23 (20.1 MB/s) - ‘credit-german.csv’ saved [138139/138139]\n",
            "\n"
          ]
        }
      ],
      "source": [
        "#TEST_CELL\n",
        "!wget 'https://raw.githubusercontent.com/JuezUN/datasets/master/credit-german.csv'"
      ]
    },
    {
      "cell_type": "markdown",
      "metadata": {
        "id": "XvB4UaexKsM1"
      },
      "source": [
        "Y lo cargamos con _Pandas_:\n",
        "\n",
        "> **Nota**: Tenga cuidado de no modificar el archivo archivo **`'credit-german.csv'`** ya que se usará en los casos de prueba"
      ]
    },
    {
      "cell_type": "code",
      "execution_count": 7,
      "metadata": {
        "id": "nx6yIwKHEOhf"
      },
      "outputs": [],
      "source": [
        "credit_german_df = pd.read_csv('credit-german.csv', sep=';')"
      ]
    },
    {
      "cell_type": "markdown",
      "metadata": {
        "id": "yYDUZKExK2kp"
      },
      "source": [
        "Visualizamos información básica del *DataFrame*:"
      ]
    },
    {
      "cell_type": "code",
      "execution_count": 8,
      "metadata": {
        "id": "jAqSNtWg6B-v",
        "outputId": "6b41daf7-d8d7-4f17-da48-7bcb6e6060f4",
        "colab": {
          "base_uri": "https://localhost:8080/"
        }
      },
      "outputs": [
        {
          "output_type": "stream",
          "name": "stdout",
          "text": [
            "<class 'pandas.core.frame.DataFrame'>\n",
            "RangeIndex: 1000 entries, 0 to 999\n",
            "Data columns (total 19 columns):\n",
            " #   Column               Non-Null Count  Dtype \n",
            "---  ------               --------------  ----- \n",
            " 0   checking_status      1000 non-null   object\n",
            " 1   disc_duration        1000 non-null   int64 \n",
            " 2   credit_history       1000 non-null   object\n",
            " 3   purpose              1000 non-null   object\n",
            " 4   credit_amount        1000 non-null   int64 \n",
            " 5   savings_status       1000 non-null   object\n",
            " 6   employment           1000 non-null   object\n",
            " 7   personal_status      1000 non-null   object\n",
            " 8   other_parties        1000 non-null   object\n",
            " 9   property_magnitude   1000 non-null   object\n",
            " 10  age                  1000 non-null   int64 \n",
            " 11  other_payment_plans  1000 non-null   object\n",
            " 12  housing              1000 non-null   object\n",
            " 13  existing_credits     1000 non-null   object\n",
            " 14  job                  1000 non-null   object\n",
            " 15  num_dependents       1000 non-null   object\n",
            " 16  own_telephone        1000 non-null   object\n",
            " 17  foreign_worker       1000 non-null   object\n",
            " 18  class                1000 non-null   object\n",
            "dtypes: int64(3), object(16)\n",
            "memory usage: 148.6+ KB\n"
          ]
        }
      ],
      "source": [
        "#TEST_CELL\n",
        "credit_german_df.info()"
      ]
    },
    {
      "cell_type": "markdown",
      "metadata": {
        "id": "_ixhR0IjK7L4"
      },
      "source": [
        "Y revisamos los valores de unos cuantos ejemplos:"
      ]
    },
    {
      "cell_type": "code",
      "execution_count": 9,
      "metadata": {
        "id": "D0CdIUDs9gVS",
        "outputId": "be035abb-103a-4e1e-825d-ca014b69c553",
        "colab": {
          "base_uri": "https://localhost:8080/",
          "height": 295
        }
      },
      "outputs": [
        {
          "output_type": "execute_result",
          "data": {
            "text/plain": [
              "  checking_status  disc_duration            credit_history  \\\n",
              "0              <0              6  critical/other existing    \n",
              "1        0<=X<200             48             existing paid   \n",
              "2     no checking             12  critical/other existing    \n",
              "3              <0             42             existing paid   \n",
              "4              <0             24        delayed previously   \n",
              "\n",
              "               purpose  credit_amount    savings_status employment  \\\n",
              "0             radio/tv           1169  no known savings        >=7   \n",
              "1             radio/tv           5951              <100     1<=X<4   \n",
              "2            education           2096              <100     4<=X<7   \n",
              "3  furniture/equipment           7882              <100     4<=X<7   \n",
              "4              new car           4870              <100     1<=X<4   \n",
              "\n",
              "      personal_status other_parties property_magnitude  age  \\\n",
              "0         male single          none        real estate   67   \n",
              "1  female div/dep/mar          none        real estate   22   \n",
              "2         male single          none        real estate   49   \n",
              "3         male single     guarantor     life insurance   45   \n",
              "4         male single          none  no known property   53   \n",
              "\n",
              "  other_payment_plans   housing existing_credits                 job  \\\n",
              "0                none       own              two             skilled   \n",
              "1                none       own              one             skilled   \n",
              "2                none       own              one  unskilled resident   \n",
              "3                none  for free              one             skilled   \n",
              "4                none  for free              two             skilled   \n",
              "\n",
              "  num_dependents own_telephone foreign_worker class  \n",
              "0            one           yes            yes  good  \n",
              "1            one          none            yes   bad  \n",
              "2            two          none            yes  good  \n",
              "3            two          none            yes  good  \n",
              "4            two          none            yes   bad  "
            ],
            "text/html": [
              "\n",
              "  <div id=\"df-f43bd56c-0f0f-4af7-a9e7-5141ab65dfc5\" class=\"colab-df-container\">\n",
              "    <div>\n",
              "<style scoped>\n",
              "    .dataframe tbody tr th:only-of-type {\n",
              "        vertical-align: middle;\n",
              "    }\n",
              "\n",
              "    .dataframe tbody tr th {\n",
              "        vertical-align: top;\n",
              "    }\n",
              "\n",
              "    .dataframe thead th {\n",
              "        text-align: right;\n",
              "    }\n",
              "</style>\n",
              "<table border=\"1\" class=\"dataframe\">\n",
              "  <thead>\n",
              "    <tr style=\"text-align: right;\">\n",
              "      <th></th>\n",
              "      <th>checking_status</th>\n",
              "      <th>disc_duration</th>\n",
              "      <th>credit_history</th>\n",
              "      <th>purpose</th>\n",
              "      <th>credit_amount</th>\n",
              "      <th>savings_status</th>\n",
              "      <th>employment</th>\n",
              "      <th>personal_status</th>\n",
              "      <th>other_parties</th>\n",
              "      <th>property_magnitude</th>\n",
              "      <th>age</th>\n",
              "      <th>other_payment_plans</th>\n",
              "      <th>housing</th>\n",
              "      <th>existing_credits</th>\n",
              "      <th>job</th>\n",
              "      <th>num_dependents</th>\n",
              "      <th>own_telephone</th>\n",
              "      <th>foreign_worker</th>\n",
              "      <th>class</th>\n",
              "    </tr>\n",
              "  </thead>\n",
              "  <tbody>\n",
              "    <tr>\n",
              "      <th>0</th>\n",
              "      <td>&lt;0</td>\n",
              "      <td>6</td>\n",
              "      <td>critical/other existing</td>\n",
              "      <td>radio/tv</td>\n",
              "      <td>1169</td>\n",
              "      <td>no known savings</td>\n",
              "      <td>&gt;=7</td>\n",
              "      <td>male single</td>\n",
              "      <td>none</td>\n",
              "      <td>real estate</td>\n",
              "      <td>67</td>\n",
              "      <td>none</td>\n",
              "      <td>own</td>\n",
              "      <td>two</td>\n",
              "      <td>skilled</td>\n",
              "      <td>one</td>\n",
              "      <td>yes</td>\n",
              "      <td>yes</td>\n",
              "      <td>good</td>\n",
              "    </tr>\n",
              "    <tr>\n",
              "      <th>1</th>\n",
              "      <td>0&lt;=X&lt;200</td>\n",
              "      <td>48</td>\n",
              "      <td>existing paid</td>\n",
              "      <td>radio/tv</td>\n",
              "      <td>5951</td>\n",
              "      <td>&lt;100</td>\n",
              "      <td>1&lt;=X&lt;4</td>\n",
              "      <td>female div/dep/mar</td>\n",
              "      <td>none</td>\n",
              "      <td>real estate</td>\n",
              "      <td>22</td>\n",
              "      <td>none</td>\n",
              "      <td>own</td>\n",
              "      <td>one</td>\n",
              "      <td>skilled</td>\n",
              "      <td>one</td>\n",
              "      <td>none</td>\n",
              "      <td>yes</td>\n",
              "      <td>bad</td>\n",
              "    </tr>\n",
              "    <tr>\n",
              "      <th>2</th>\n",
              "      <td>no checking</td>\n",
              "      <td>12</td>\n",
              "      <td>critical/other existing</td>\n",
              "      <td>education</td>\n",
              "      <td>2096</td>\n",
              "      <td>&lt;100</td>\n",
              "      <td>4&lt;=X&lt;7</td>\n",
              "      <td>male single</td>\n",
              "      <td>none</td>\n",
              "      <td>real estate</td>\n",
              "      <td>49</td>\n",
              "      <td>none</td>\n",
              "      <td>own</td>\n",
              "      <td>one</td>\n",
              "      <td>unskilled resident</td>\n",
              "      <td>two</td>\n",
              "      <td>none</td>\n",
              "      <td>yes</td>\n",
              "      <td>good</td>\n",
              "    </tr>\n",
              "    <tr>\n",
              "      <th>3</th>\n",
              "      <td>&lt;0</td>\n",
              "      <td>42</td>\n",
              "      <td>existing paid</td>\n",
              "      <td>furniture/equipment</td>\n",
              "      <td>7882</td>\n",
              "      <td>&lt;100</td>\n",
              "      <td>4&lt;=X&lt;7</td>\n",
              "      <td>male single</td>\n",
              "      <td>guarantor</td>\n",
              "      <td>life insurance</td>\n",
              "      <td>45</td>\n",
              "      <td>none</td>\n",
              "      <td>for free</td>\n",
              "      <td>one</td>\n",
              "      <td>skilled</td>\n",
              "      <td>two</td>\n",
              "      <td>none</td>\n",
              "      <td>yes</td>\n",
              "      <td>good</td>\n",
              "    </tr>\n",
              "    <tr>\n",
              "      <th>4</th>\n",
              "      <td>&lt;0</td>\n",
              "      <td>24</td>\n",
              "      <td>delayed previously</td>\n",
              "      <td>new car</td>\n",
              "      <td>4870</td>\n",
              "      <td>&lt;100</td>\n",
              "      <td>1&lt;=X&lt;4</td>\n",
              "      <td>male single</td>\n",
              "      <td>none</td>\n",
              "      <td>no known property</td>\n",
              "      <td>53</td>\n",
              "      <td>none</td>\n",
              "      <td>for free</td>\n",
              "      <td>two</td>\n",
              "      <td>skilled</td>\n",
              "      <td>two</td>\n",
              "      <td>none</td>\n",
              "      <td>yes</td>\n",
              "      <td>bad</td>\n",
              "    </tr>\n",
              "  </tbody>\n",
              "</table>\n",
              "</div>\n",
              "    <div class=\"colab-df-buttons\">\n",
              "\n",
              "  <div class=\"colab-df-container\">\n",
              "    <button class=\"colab-df-convert\" onclick=\"convertToInteractive('df-f43bd56c-0f0f-4af7-a9e7-5141ab65dfc5')\"\n",
              "            title=\"Convert this dataframe to an interactive table.\"\n",
              "            style=\"display:none;\">\n",
              "\n",
              "  <svg xmlns=\"http://www.w3.org/2000/svg\" height=\"24px\" viewBox=\"0 -960 960 960\">\n",
              "    <path d=\"M120-120v-720h720v720H120Zm60-500h600v-160H180v160Zm220 220h160v-160H400v160Zm0 220h160v-160H400v160ZM180-400h160v-160H180v160Zm440 0h160v-160H620v160ZM180-180h160v-160H180v160Zm440 0h160v-160H620v160Z\"/>\n",
              "  </svg>\n",
              "    </button>\n",
              "\n",
              "  <style>\n",
              "    .colab-df-container {\n",
              "      display:flex;\n",
              "      gap: 12px;\n",
              "    }\n",
              "\n",
              "    .colab-df-convert {\n",
              "      background-color: #E8F0FE;\n",
              "      border: none;\n",
              "      border-radius: 50%;\n",
              "      cursor: pointer;\n",
              "      display: none;\n",
              "      fill: #1967D2;\n",
              "      height: 32px;\n",
              "      padding: 0 0 0 0;\n",
              "      width: 32px;\n",
              "    }\n",
              "\n",
              "    .colab-df-convert:hover {\n",
              "      background-color: #E2EBFA;\n",
              "      box-shadow: 0px 1px 2px rgba(60, 64, 67, 0.3), 0px 1px 3px 1px rgba(60, 64, 67, 0.15);\n",
              "      fill: #174EA6;\n",
              "    }\n",
              "\n",
              "    .colab-df-buttons div {\n",
              "      margin-bottom: 4px;\n",
              "    }\n",
              "\n",
              "    [theme=dark] .colab-df-convert {\n",
              "      background-color: #3B4455;\n",
              "      fill: #D2E3FC;\n",
              "    }\n",
              "\n",
              "    [theme=dark] .colab-df-convert:hover {\n",
              "      background-color: #434B5C;\n",
              "      box-shadow: 0px 1px 3px 1px rgba(0, 0, 0, 0.15);\n",
              "      filter: drop-shadow(0px 1px 2px rgba(0, 0, 0, 0.3));\n",
              "      fill: #FFFFFF;\n",
              "    }\n",
              "  </style>\n",
              "\n",
              "    <script>\n",
              "      const buttonEl =\n",
              "        document.querySelector('#df-f43bd56c-0f0f-4af7-a9e7-5141ab65dfc5 button.colab-df-convert');\n",
              "      buttonEl.style.display =\n",
              "        google.colab.kernel.accessAllowed ? 'block' : 'none';\n",
              "\n",
              "      async function convertToInteractive(key) {\n",
              "        const element = document.querySelector('#df-f43bd56c-0f0f-4af7-a9e7-5141ab65dfc5');\n",
              "        const dataTable =\n",
              "          await google.colab.kernel.invokeFunction('convertToInteractive',\n",
              "                                                    [key], {});\n",
              "        if (!dataTable) return;\n",
              "\n",
              "        const docLinkHtml = 'Like what you see? Visit the ' +\n",
              "          '<a target=\"_blank\" href=https://colab.research.google.com/notebooks/data_table.ipynb>data table notebook</a>'\n",
              "          + ' to learn more about interactive tables.';\n",
              "        element.innerHTML = '';\n",
              "        dataTable['output_type'] = 'display_data';\n",
              "        await google.colab.output.renderOutput(dataTable, element);\n",
              "        const docLink = document.createElement('div');\n",
              "        docLink.innerHTML = docLinkHtml;\n",
              "        element.appendChild(docLink);\n",
              "      }\n",
              "    </script>\n",
              "  </div>\n",
              "\n",
              "\n",
              "<div id=\"df-f4d92909-d30d-420d-b81d-420f46a472af\">\n",
              "  <button class=\"colab-df-quickchart\" onclick=\"quickchart('df-f4d92909-d30d-420d-b81d-420f46a472af')\"\n",
              "            title=\"Suggest charts\"\n",
              "            style=\"display:none;\">\n",
              "\n",
              "<svg xmlns=\"http://www.w3.org/2000/svg\" height=\"24px\"viewBox=\"0 0 24 24\"\n",
              "     width=\"24px\">\n",
              "    <g>\n",
              "        <path d=\"M19 3H5c-1.1 0-2 .9-2 2v14c0 1.1.9 2 2 2h14c1.1 0 2-.9 2-2V5c0-1.1-.9-2-2-2zM9 17H7v-7h2v7zm4 0h-2V7h2v10zm4 0h-2v-4h2v4z\"/>\n",
              "    </g>\n",
              "</svg>\n",
              "  </button>\n",
              "\n",
              "<style>\n",
              "  .colab-df-quickchart {\n",
              "      --bg-color: #E8F0FE;\n",
              "      --fill-color: #1967D2;\n",
              "      --hover-bg-color: #E2EBFA;\n",
              "      --hover-fill-color: #174EA6;\n",
              "      --disabled-fill-color: #AAA;\n",
              "      --disabled-bg-color: #DDD;\n",
              "  }\n",
              "\n",
              "  [theme=dark] .colab-df-quickchart {\n",
              "      --bg-color: #3B4455;\n",
              "      --fill-color: #D2E3FC;\n",
              "      --hover-bg-color: #434B5C;\n",
              "      --hover-fill-color: #FFFFFF;\n",
              "      --disabled-bg-color: #3B4455;\n",
              "      --disabled-fill-color: #666;\n",
              "  }\n",
              "\n",
              "  .colab-df-quickchart {\n",
              "    background-color: var(--bg-color);\n",
              "    border: none;\n",
              "    border-radius: 50%;\n",
              "    cursor: pointer;\n",
              "    display: none;\n",
              "    fill: var(--fill-color);\n",
              "    height: 32px;\n",
              "    padding: 0;\n",
              "    width: 32px;\n",
              "  }\n",
              "\n",
              "  .colab-df-quickchart:hover {\n",
              "    background-color: var(--hover-bg-color);\n",
              "    box-shadow: 0 1px 2px rgba(60, 64, 67, 0.3), 0 1px 3px 1px rgba(60, 64, 67, 0.15);\n",
              "    fill: var(--button-hover-fill-color);\n",
              "  }\n",
              "\n",
              "  .colab-df-quickchart-complete:disabled,\n",
              "  .colab-df-quickchart-complete:disabled:hover {\n",
              "    background-color: var(--disabled-bg-color);\n",
              "    fill: var(--disabled-fill-color);\n",
              "    box-shadow: none;\n",
              "  }\n",
              "\n",
              "  .colab-df-spinner {\n",
              "    border: 2px solid var(--fill-color);\n",
              "    border-color: transparent;\n",
              "    border-bottom-color: var(--fill-color);\n",
              "    animation:\n",
              "      spin 1s steps(1) infinite;\n",
              "  }\n",
              "\n",
              "  @keyframes spin {\n",
              "    0% {\n",
              "      border-color: transparent;\n",
              "      border-bottom-color: var(--fill-color);\n",
              "      border-left-color: var(--fill-color);\n",
              "    }\n",
              "    20% {\n",
              "      border-color: transparent;\n",
              "      border-left-color: var(--fill-color);\n",
              "      border-top-color: var(--fill-color);\n",
              "    }\n",
              "    30% {\n",
              "      border-color: transparent;\n",
              "      border-left-color: var(--fill-color);\n",
              "      border-top-color: var(--fill-color);\n",
              "      border-right-color: var(--fill-color);\n",
              "    }\n",
              "    40% {\n",
              "      border-color: transparent;\n",
              "      border-right-color: var(--fill-color);\n",
              "      border-top-color: var(--fill-color);\n",
              "    }\n",
              "    60% {\n",
              "      border-color: transparent;\n",
              "      border-right-color: var(--fill-color);\n",
              "    }\n",
              "    80% {\n",
              "      border-color: transparent;\n",
              "      border-right-color: var(--fill-color);\n",
              "      border-bottom-color: var(--fill-color);\n",
              "    }\n",
              "    90% {\n",
              "      border-color: transparent;\n",
              "      border-bottom-color: var(--fill-color);\n",
              "    }\n",
              "  }\n",
              "</style>\n",
              "\n",
              "  <script>\n",
              "    async function quickchart(key) {\n",
              "      const quickchartButtonEl =\n",
              "        document.querySelector('#' + key + ' button');\n",
              "      quickchartButtonEl.disabled = true;  // To prevent multiple clicks.\n",
              "      quickchartButtonEl.classList.add('colab-df-spinner');\n",
              "      try {\n",
              "        const charts = await google.colab.kernel.invokeFunction(\n",
              "            'suggestCharts', [key], {});\n",
              "      } catch (error) {\n",
              "        console.error('Error during call to suggestCharts:', error);\n",
              "      }\n",
              "      quickchartButtonEl.classList.remove('colab-df-spinner');\n",
              "      quickchartButtonEl.classList.add('colab-df-quickchart-complete');\n",
              "    }\n",
              "    (() => {\n",
              "      let quickchartButtonEl =\n",
              "        document.querySelector('#df-f4d92909-d30d-420d-b81d-420f46a472af button');\n",
              "      quickchartButtonEl.style.display =\n",
              "        google.colab.kernel.accessAllowed ? 'block' : 'none';\n",
              "    })();\n",
              "  </script>\n",
              "</div>\n",
              "\n",
              "    </div>\n",
              "  </div>\n"
            ],
            "application/vnd.google.colaboratory.intrinsic+json": {
              "type": "dataframe",
              "variable_name": "credit_german_df",
              "summary": "{\n  \"name\": \"credit_german_df\",\n  \"rows\": 1000,\n  \"fields\": [\n    {\n      \"column\": \"checking_status\",\n      \"properties\": {\n        \"dtype\": \"category\",\n        \"num_unique_values\": 4,\n        \"samples\": [\n          \"0<=X<200\",\n          \">=200\",\n          \"<0\"\n        ],\n        \"semantic_type\": \"\",\n        \"description\": \"\"\n      }\n    },\n    {\n      \"column\": \"disc_duration\",\n      \"properties\": {\n        \"dtype\": \"number\",\n        \"std\": 12,\n        \"min\": 4,\n        \"max\": 72,\n        \"num_unique_values\": 33,\n        \"samples\": [\n          72,\n          27,\n          22\n        ],\n        \"semantic_type\": \"\",\n        \"description\": \"\"\n      }\n    },\n    {\n      \"column\": \"credit_history\",\n      \"properties\": {\n        \"dtype\": \"category\",\n        \"num_unique_values\": 5,\n        \"samples\": [\n          \"existing paid\",\n          \"all paid\",\n          \"delayed previously\"\n        ],\n        \"semantic_type\": \"\",\n        \"description\": \"\"\n      }\n    },\n    {\n      \"column\": \"purpose\",\n      \"properties\": {\n        \"dtype\": \"category\",\n        \"num_unique_values\": 10,\n        \"samples\": [\n          \"other\",\n          \"education\",\n          \"business\"\n        ],\n        \"semantic_type\": \"\",\n        \"description\": \"\"\n      }\n    },\n    {\n      \"column\": \"credit_amount\",\n      \"properties\": {\n        \"dtype\": \"number\",\n        \"std\": 2822,\n        \"min\": 250,\n        \"max\": 18424,\n        \"num_unique_values\": 921,\n        \"samples\": [\n          1068,\n          2326,\n          683\n        ],\n        \"semantic_type\": \"\",\n        \"description\": \"\"\n      }\n    },\n    {\n      \"column\": \"savings_status\",\n      \"properties\": {\n        \"dtype\": \"category\",\n        \"num_unique_values\": 5,\n        \"samples\": [\n          \"<100\",\n          \"100<=X<500\",\n          \"500<=X<1000\"\n        ],\n        \"semantic_type\": \"\",\n        \"description\": \"\"\n      }\n    },\n    {\n      \"column\": \"employment\",\n      \"properties\": {\n        \"dtype\": \"category\",\n        \"num_unique_values\": 5,\n        \"samples\": [\n          \"1<=X<4\",\n          \"<1\",\n          \"4<=X<7\"\n        ],\n        \"semantic_type\": \"\",\n        \"description\": \"\"\n      }\n    },\n    {\n      \"column\": \"personal_status\",\n      \"properties\": {\n        \"dtype\": \"category\",\n        \"num_unique_values\": 4,\n        \"samples\": [\n          \"female div/dep/mar\",\n          \"male mar/wid\",\n          \"male single\"\n        ],\n        \"semantic_type\": \"\",\n        \"description\": \"\"\n      }\n    },\n    {\n      \"column\": \"other_parties\",\n      \"properties\": {\n        \"dtype\": \"category\",\n        \"num_unique_values\": 3,\n        \"samples\": [\n          \"none\",\n          \"guarantor\",\n          \"co applicant\"\n        ],\n        \"semantic_type\": \"\",\n        \"description\": \"\"\n      }\n    },\n    {\n      \"column\": \"property_magnitude\",\n      \"properties\": {\n        \"dtype\": \"category\",\n        \"num_unique_values\": 4,\n        \"samples\": [\n          \"life insurance\",\n          \"car\",\n          \"real estate\"\n        ],\n        \"semantic_type\": \"\",\n        \"description\": \"\"\n      }\n    },\n    {\n      \"column\": \"age\",\n      \"properties\": {\n        \"dtype\": \"number\",\n        \"std\": 11,\n        \"min\": 19,\n        \"max\": 75,\n        \"num_unique_values\": 53,\n        \"samples\": [\n          34,\n          38,\n          55\n        ],\n        \"semantic_type\": \"\",\n        \"description\": \"\"\n      }\n    },\n    {\n      \"column\": \"other_payment_plans\",\n      \"properties\": {\n        \"dtype\": \"category\",\n        \"num_unique_values\": 3,\n        \"samples\": [\n          \"none\",\n          \"bank\",\n          \"stores\"\n        ],\n        \"semantic_type\": \"\",\n        \"description\": \"\"\n      }\n    },\n    {\n      \"column\": \"housing\",\n      \"properties\": {\n        \"dtype\": \"category\",\n        \"num_unique_values\": 3,\n        \"samples\": [\n          \"own\",\n          \"for free\",\n          \"rent\"\n        ],\n        \"semantic_type\": \"\",\n        \"description\": \"\"\n      }\n    },\n    {\n      \"column\": \"existing_credits\",\n      \"properties\": {\n        \"dtype\": \"category\",\n        \"num_unique_values\": 4,\n        \"samples\": [\n          \"one\",\n          \"four\",\n          \"two\"\n        ],\n        \"semantic_type\": \"\",\n        \"description\": \"\"\n      }\n    },\n    {\n      \"column\": \"job\",\n      \"properties\": {\n        \"dtype\": \"category\",\n        \"num_unique_values\": 4,\n        \"samples\": [\n          \"unskilled resident\",\n          \"unemp/unskilled non res\",\n          \"skilled\"\n        ],\n        \"semantic_type\": \"\",\n        \"description\": \"\"\n      }\n    },\n    {\n      \"column\": \"num_dependents\",\n      \"properties\": {\n        \"dtype\": \"category\",\n        \"num_unique_values\": 2,\n        \"samples\": [\n          \"two\",\n          \"one\"\n        ],\n        \"semantic_type\": \"\",\n        \"description\": \"\"\n      }\n    },\n    {\n      \"column\": \"own_telephone\",\n      \"properties\": {\n        \"dtype\": \"category\",\n        \"num_unique_values\": 2,\n        \"samples\": [\n          \"none\",\n          \"yes\"\n        ],\n        \"semantic_type\": \"\",\n        \"description\": \"\"\n      }\n    },\n    {\n      \"column\": \"foreign_worker\",\n      \"properties\": {\n        \"dtype\": \"category\",\n        \"num_unique_values\": 2,\n        \"samples\": [\n          \"no\",\n          \"yes\"\n        ],\n        \"semantic_type\": \"\",\n        \"description\": \"\"\n      }\n    },\n    {\n      \"column\": \"class\",\n      \"properties\": {\n        \"dtype\": \"category\",\n        \"num_unique_values\": 2,\n        \"samples\": [\n          \"bad\",\n          \"good\"\n        ],\n        \"semantic_type\": \"\",\n        \"description\": \"\"\n      }\n    }\n  ]\n}"
            }
          },
          "metadata": {},
          "execution_count": 9
        }
      ],
      "source": [
        "#TEST_CELL\n",
        "credit_german_df.head(5)"
      ]
    },
    {
      "cell_type": "markdown",
      "metadata": {
        "id": "9zx6GNGQB6PO"
      },
      "source": [
        "Usando la utilidad de *Pandas* **`select_dtypes`** podemos fácilmente tomar las columnas que correspondan a variables categóricas. De esta manera, podemos verificar los valores posibles para cada una de estas con la siguiente celda:"
      ]
    },
    {
      "cell_type": "code",
      "execution_count": 10,
      "metadata": {
        "id": "eDmQJfkdcdtj",
        "outputId": "5c32894a-c2d8-47c3-b885-5f39b646231b",
        "colab": {
          "base_uri": "https://localhost:8080/"
        }
      },
      "outputs": [
        {
          "output_type": "stream",
          "name": "stdout",
          "text": [
            "Características categóricas y valores únicos\n",
            "\n",
            "Característica checking_status\n",
            "\t1. <0\n",
            "\t2. 0<=X<200\n",
            "\t3. no checking\n",
            "\t4. >=200\n",
            "\n",
            "Característica credit_history\n",
            "\t1. critical/other existing \n",
            "\t2. existing paid\n",
            "\t3. delayed previously\n",
            "\t4. no credits/all paid\n",
            "\t5. all paid\n",
            "\n",
            "Característica purpose\n",
            "\t1. radio/tv\n",
            "\t2. education\n",
            "\t3. furniture/equipment\n",
            "\t4. new car\n",
            "\t5. used car\n",
            "\t6. business\n",
            "\t7. domestic appliance\n",
            "\t8. repairs\n",
            "\t9. other\n",
            "\t10. retraining\n",
            "\n",
            "Característica savings_status\n",
            "\t1. no known savings\n",
            "\t2. <100\n",
            "\t3. 500<=X<1000\n",
            "\t4. >=1000\n",
            "\t5. 100<=X<500\n",
            "\n",
            "Característica employment\n",
            "\t1. >=7\n",
            "\t2. 1<=X<4\n",
            "\t3. 4<=X<7\n",
            "\t4. unemployed\n",
            "\t5. <1\n",
            "\n",
            "Característica personal_status\n",
            "\t1. male single\n",
            "\t2. female div/dep/mar\n",
            "\t3. male div/sep\n",
            "\t4. male mar/wid\n",
            "\n",
            "Característica other_parties\n",
            "\t1. none\n",
            "\t2. guarantor\n",
            "\t3. co applicant\n",
            "\n",
            "Característica property_magnitude\n",
            "\t1. real estate\n",
            "\t2. life insurance\n",
            "\t3. no known property\n",
            "\t4. car\n",
            "\n",
            "Característica other_payment_plans\n",
            "\t1. none\n",
            "\t2. bank\n",
            "\t3. stores\n",
            "\n",
            "Característica housing\n",
            "\t1. own\n",
            "\t2. for free\n",
            "\t3. rent\n",
            "\n",
            "Característica existing_credits\n",
            "\t1. two\n",
            "\t2. one\n",
            "\t3. three\n",
            "\t4. four\n",
            "\n",
            "Característica job\n",
            "\t1. skilled\n",
            "\t2. unskilled resident\n",
            "\t3. high qualif/self emp/mgm\n",
            "\t4. unemp/unskilled non res\n",
            "\n",
            "Característica num_dependents\n",
            "\t1. one\n",
            "\t2. two\n",
            "\n",
            "Característica own_telephone\n",
            "\t1. yes\n",
            "\t2. none\n",
            "\n",
            "Característica foreign_worker\n",
            "\t1. yes\n",
            "\t2. no\n",
            "\n",
            "Característica class\n",
            "\t1. good\n",
            "\t2. bad\n"
          ]
        }
      ],
      "source": [
        "#TEST_CELL\n",
        "categoric_df = credit_german_df.select_dtypes(['object'])\n",
        "\n",
        "print('Características categóricas y valores únicos')\n",
        "for col in categoric_df.columns:\n",
        "  print(f'\\nCaracterística {col}')\n",
        "  for i, val in enumerate(categoric_df[col].unique()):\n",
        "    print(f\"\\t{i + 1}. {val}\")"
      ]
    },
    {
      "cell_type": "markdown",
      "metadata": {
        "id": "OE-Sv_1LvKBt"
      },
      "source": [
        "## **1. Separe el conjunto de datos en la forma `X, y`**\n",
        "---\n",
        "\n",
        "El conjunto de datos cuenta con la característica **`class`**, la cual contiene los valores **`\"good\"`** y **`\"bad\"`**, representando la decisión de dar o no el crédito con base a los antecedentes personales y crediticios de cada persona. En este caso nos interesa analizar el desempeño de los agrupamientos de manera externa basados en esta característica.\n",
        "\n",
        "Complete la función **`separar_X_y`** de tal manera que retorne una tupla **`X, y`** que corresponda al conjunto de datos en la forma $X, y$, con **`y`** siendo la variable objetivo.\n",
        "\n",
        "**Entrada:**\n",
        "* **`df`**: objeto *DataFrame* de *Pandas* con el conjunto de datos *German Credit Data*.\n",
        "\n",
        "**Salida**\n",
        "* **`X`:** objeto _DataFrame_ con la matriz de datos, excluyendo la columna **`class`**.\n",
        "* **`y`:** objeto _Series_ con el vector de etiquetas reales contenido en la columna **`class`**.\n"
      ]
    },
    {
      "cell_type": "code",
      "execution_count": 11,
      "metadata": {
        "id": "6x6hJe2lwLJR"
      },
      "outputs": [],
      "source": [
        "# FUNCIÓN CALIFICADA separar_X_y:\n",
        "\n",
        "def separar_X_y(df):\n",
        "    \"\"\"\n",
        "    Entradas:\n",
        "      df: objeto DataFrame del conjunto de datos German Credit Data.\n",
        "    Retorna:\n",
        "      X: objeto DataFrame con la matriz de datos de entrada.\n",
        "      y: objeto Series con el vector de etiquetas reales.\n",
        "\n",
        "      X debe ser un DataFrame y y una Series de Pandas.\n",
        "    \"\"\"\n",
        "    ### ESCRIBA SU CÓDIGO AQUÍ ### (~ 2 líneas de código)\n",
        "\n",
        "    X = df.drop(columns=['class'])\n",
        "    y = df['class']\n",
        "\n",
        "    ### FIN DEL CÓDIGO ###\n",
        "\n",
        "    return X, y"
      ]
    },
    {
      "cell_type": "code",
      "execution_count": 12,
      "metadata": {
        "id": "q-2H-_n_l8KI",
        "outputId": "b7a4d35d-26b5-4112-f711-31e9d7d368d6",
        "colab": {
          "base_uri": "https://localhost:8080/"
        }
      },
      "outputs": [
        {
          "output_type": "stream",
          "name": "stdout",
          "text": [
            "Tamaño de X: (1000, 18)\n",
            "Tamaño de y: (1000,)\n"
          ]
        }
      ],
      "source": [
        "#TEST_CELL\n",
        "X, y = separar_X_y(credit_german_df)\n",
        "\n",
        "print(f'Tamaño de X: {X.shape}')\n",
        "print(f'Tamaño de y: {y.shape}')"
      ]
    },
    {
      "cell_type": "markdown",
      "metadata": {
        "id": "IXj1cTd89tXf"
      },
      "source": [
        "**Salida esperada:**\n",
        "\n",
        "```\n",
        "Tamaño de X: (1000, 18)\n",
        "Tamaño de y: (1000,)\n",
        "```"
      ]
    },
    {
      "cell_type": "code",
      "execution_count": 13,
      "metadata": {
        "id": "mDJDS_MAjcIt",
        "outputId": "6da2e574-0eb8-401e-8c08-232534e4bda3",
        "colab": {
          "base_uri": "https://localhost:8080/"
        }
      },
      "outputs": [
        {
          "output_type": "stream",
          "name": "stdout",
          "text": [
            "Tipo de X: <class 'pandas.core.frame.DataFrame'>\n",
            "Tipo de y: <class 'pandas.core.series.Series'>\n"
          ]
        }
      ],
      "source": [
        "#TEST_CELL\n",
        "X, y = separar_X_y(credit_german_df)\n",
        "\n",
        "print(f'Tipo de X: {type(X)}')\n",
        "print(f'Tipo de y: {type(y)}')"
      ]
    },
    {
      "cell_type": "markdown",
      "metadata": {
        "id": "8F-TP90QjcJW"
      },
      "source": [
        "**Salida esperada:**\n",
        "\n",
        "```\n",
        "Tipo de X: <class 'pandas.core.frame.DataFrame'>\n",
        "Tipo de y: <class 'pandas.core.series.Series'>\n",
        "```"
      ]
    },
    {
      "cell_type": "markdown",
      "metadata": {
        "id": "MWY97E-VItfl"
      },
      "source": [
        "<details>    \n",
        "<summary>\n",
        "    <font size=\"3\" color=\"darkgreen\"><b>Pista</b></font>\n",
        "</summary>\n",
        "<p>\n",
        "\n",
        "* Puede guardar la columna **`class`**  en una variable y luego usar el método **`drop`** del objeto *DataFrame* de la columna para retornar el subconjunto apropiado.\n",
        "    \n"
      ]
    },
    {
      "cell_type": "markdown",
      "metadata": {
        "id": "-Np6ylyTPPxV"
      },
      "source": [
        "### **Evaluar código**"
      ]
    },
    {
      "cell_type": "code",
      "execution_count": 14,
      "metadata": {
        "id": "OuitWhqhxPN1",
        "outputId": "dee922dc-426e-448e-b383-0b73f4d18e0c",
        "colab": {
          "base_uri": "https://localhost:8080/",
          "height": 141
        }
      },
      "outputs": [
        {
          "output_type": "stream",
          "name": "stdout",
          "text": [
            "Test 1_1\n"
          ]
        },
        {
          "output_type": "display_data",
          "data": {
            "text/plain": [
              "<IPython.core.display.HTML object>"
            ],
            "text/html": [
              "<h4>Test Run correctly</h4>"
            ]
          },
          "metadata": {}
        },
        {
          "output_type": "display_data",
          "data": {
            "text/plain": [
              "<IPython.core.display.HTML object>"
            ],
            "text/html": [
              "<h6 style=\"color: green;\">Your test grade: 100</h6>\n",
              "<h6>Feedback: Probando código con valores aleatorios</h6>"
            ]
          },
          "metadata": {}
        }
      ],
      "source": [
        "grader.run_test(\"Test 1_1\", globals())"
      ]
    },
    {
      "cell_type": "code",
      "execution_count": 15,
      "metadata": {
        "id": "d4o3yvA-q4Tm",
        "outputId": "8aea4a20-c432-4cbe-9085-15fc968c5de6",
        "colab": {
          "base_uri": "https://localhost:8080/",
          "height": 141
        }
      },
      "outputs": [
        {
          "output_type": "stream",
          "name": "stdout",
          "text": [
            "Test 1_2\n"
          ]
        },
        {
          "output_type": "display_data",
          "data": {
            "text/plain": [
              "<IPython.core.display.HTML object>"
            ],
            "text/html": [
              "<h4>Test Run correctly</h4>"
            ]
          },
          "metadata": {}
        },
        {
          "output_type": "display_data",
          "data": {
            "text/plain": [
              "<IPython.core.display.HTML object>"
            ],
            "text/html": [
              "<h6 style=\"color: green;\">Your test grade: 100</h6>\n",
              "<h6>Feedback: Probando código con credit_german</h6>"
            ]
          },
          "metadata": {}
        }
      ],
      "source": [
        "grader.run_test(\"Test 1_2\", globals())"
      ]
    },
    {
      "cell_type": "markdown",
      "metadata": {
        "id": "03siIaca-Pnk"
      },
      "source": [
        "## **2. Codifique las etiquetas en valores binarios**\n",
        "---\n",
        "La variable **`class`**, ahora contenida en el arreglo **`y`**, contiene únicamente los valores **`'good'`** y **`'bad'`**:"
      ]
    },
    {
      "cell_type": "code",
      "execution_count": 16,
      "metadata": {
        "id": "n5HLcket-fuC",
        "outputId": "015a8fdb-64d3-4ddd-b151-ad329237a037",
        "colab": {
          "base_uri": "https://localhost:8080/"
        }
      },
      "outputs": [
        {
          "output_type": "stream",
          "name": "stdout",
          "text": [
            "['good' 'bad' 'good' 'good' 'bad' 'good' 'good' 'good' 'good' 'bad' 'bad'\n",
            " 'bad' 'good' 'bad' 'good' 'bad' 'good' 'good' 'bad' 'good' 'good']\n"
          ]
        }
      ],
      "source": [
        "#TEST_CELL\n",
        "print(credit_german_df.loc[:20, 'class'].values)"
      ]
    },
    {
      "cell_type": "markdown",
      "metadata": {
        "id": "osEbM0y0Cjmb"
      },
      "source": [
        "Antes de realizar una evaluación del desempeño externa debemos codificar **`good`** como el número $1$ y **`bad`** como el número $0$. Complete la función **`codificar`** de tal manera que retorne un arreglo de _NumPy_ con las etiquetas codificadas en valores binarios.\n",
        "\n",
        "**Entrada:**\n",
        "\n",
        "* **`y_txt`**: serie de _Pandas_ de tamaño $n$ con las cadenas de texto **`good`** y **`bad`**.\n",
        "\n",
        "**Salida:**\n",
        "\n",
        "* **`y_num`**: arreglo de _NumPy_ de tamaño $n$ con los valores numéricos $0$ y $1$."
      ]
    },
    {
      "cell_type": "code",
      "execution_count": 17,
      "metadata": {
        "id": "faxHl6XtqBGi"
      },
      "outputs": [],
      "source": [
        "# FUNCIÓN CALIFICADA bin_X_y:\n",
        "\n",
        "def codificar(y_txt):\n",
        "    \"\"\"\n",
        "    Entradas\n",
        "      y_txt: serie de Pandas con las etiquetas en valores `good` y `bad`.\n",
        "    Retorna\n",
        "      y_num: arreglo de NumPy con 'good' codificado como 1 y 'bad' codificado como 0.\n",
        "    \"\"\"\n",
        "    ### ESCRIBA SU CÓDIGO AQUÍ ### (~ 2 líneas de código)\n",
        "\n",
        "    y_num = y_txt.map({'good': 1, 'bad': 0}).values\n",
        "\n",
        "    ### FIN DEL CÓDIGO ###\n",
        "    return y_num"
      ]
    },
    {
      "cell_type": "markdown",
      "metadata": {
        "id": "tGv7z0tODEiQ"
      },
      "source": [
        "Ejecute la siguiente celda para probar su código:\n",
        "\n",
        "> **Nota:** Asegúrese de que el ejercicio $1$ retorne un resultado correcto antes de evaluar este punto."
      ]
    },
    {
      "cell_type": "code",
      "execution_count": 18,
      "metadata": {
        "id": "tZ8LEzEHQ2Dk",
        "outputId": "0379f134-5190-4993-eae6-27ae36187ee5",
        "colab": {
          "base_uri": "https://localhost:8080/"
        }
      },
      "outputs": [
        {
          "output_type": "stream",
          "name": "stdout",
          "text": [
            "Valor: good\tCodificado: 1\n",
            "Valor: good\tCodificado: 1\n",
            "Valor: bad\tCodificado: 0\n",
            "Valor: good\tCodificado: 1\n",
            "Valor: bad\tCodificado: 0\n",
            "Valor: good\tCodificado: 1\n",
            "Valor: good\tCodificado: 1\n",
            "Valor: bad\tCodificado: 0\n",
            "Valor: good\tCodificado: 1\n",
            "Valor: good\tCodificado: 1\n"
          ]
        }
      ],
      "source": [
        "#TEST_CELL\n",
        "# 1. Separar el conjunto de datos en la forma X, y.\n",
        "_, y_raw = separar_X_y(credit_german_df)\n",
        "assert isinstance(y_raw, pd.Series) and y_raw.shape == (1000, ), \"Ej 1. Revise el resultado del ejercicio 1.\"\n",
        "\n",
        "y_encoded = codificar(y_raw)\n",
        "\n",
        "if isinstance(y_encoded, np.ndarray) and y_encoded.shape[0] > 0:\n",
        "  for i in range(85, 95):\n",
        "    print(f'Valor: {y_raw[i]}\\tCodificado: {y_encoded[i]}')\n",
        "\n",
        "else: print(\"El valor retornado no es un arreglo de NumPy válido.\")"
      ]
    },
    {
      "cell_type": "markdown",
      "metadata": {
        "id": "Vth2JnNjEg1U"
      },
      "source": [
        "**Salida esperada**:\n",
        "\n",
        "```\n",
        "Valor: good\t   Codificado: 1\n",
        "Valor: good\t   Codificado: 1\n",
        "Valor: bad\t    Codificado: 0\n",
        "Valor: good\t   Codificado: 1\n",
        "Valor: bad\t    Codificado: 0\n",
        "Valor: good\t   Codificado: 1\n",
        "Valor: good\t   Codificado: 1\n",
        "Valor: bad\t    Codificado: 0\n",
        "Valor: good\t   Codificado: 1\n",
        "Valor: good\t   Codificado: 1\n",
        "```"
      ]
    },
    {
      "cell_type": "markdown",
      "metadata": {
        "id": "S4bS1SC8Iska"
      },
      "source": [
        "<details>    \n",
        "<summary>\n",
        "    <font size=\"3\" color=\"darkgreen\"><b>Pista 1</b></font>\n",
        "</summary>\n",
        "<p>\n",
        "\n",
        "* Puede declarar una función o usar una [expresión lambda](https://docs.python.org/3/tutorial/controlflow.html#lambda-expressions) para mapear los datos con el método [**`map`**](https://pandas.pydata.org/docs/reference/api/pandas.Series.map.html) del objeto *Series* de *Pandas*.\n"
      ]
    },
    {
      "cell_type": "markdown",
      "metadata": {
        "id": "SFdeQpk5LM6x"
      },
      "source": [
        "<details>    \n",
        "<summary>\n",
        "    <font size=\"3\" color=\"darkgreen\"><b>Pista 2</b></font>\n",
        "</summary>\n",
        "\n",
        "\n",
        "* Otra alternativa es crear un nuevo arreglo de _NumPy_ con el tamaño deseado, iterar sobre **`y`** y asignar los valores correspondientes al nuevo arreglo.\n"
      ]
    },
    {
      "cell_type": "markdown",
      "metadata": {
        "id": "PWBrAkIePRUl"
      },
      "source": [
        "### **Evaluar código**"
      ]
    },
    {
      "cell_type": "code",
      "execution_count": 19,
      "metadata": {
        "id": "Q_PMj9RYAadM",
        "outputId": "9569310f-0639-486b-f560-b2543ff1a990",
        "colab": {
          "base_uri": "https://localhost:8080/",
          "height": 141
        }
      },
      "outputs": [
        {
          "output_type": "stream",
          "name": "stdout",
          "text": [
            "Test 2_1\n"
          ]
        },
        {
          "output_type": "display_data",
          "data": {
            "text/plain": [
              "<IPython.core.display.HTML object>"
            ],
            "text/html": [
              "<h4>Test Run correctly</h4>"
            ]
          },
          "metadata": {}
        },
        {
          "output_type": "display_data",
          "data": {
            "text/plain": [
              "<IPython.core.display.HTML object>"
            ],
            "text/html": [
              "<h6 style=\"color: green;\">Your test grade: 100</h6>\n",
              "<h6>Feedback: Probando código</h6>"
            ]
          },
          "metadata": {}
        }
      ],
      "source": [
        "grader.run_test(\"Test 2_1\", globals())"
      ]
    },
    {
      "cell_type": "code",
      "execution_count": 20,
      "metadata": {
        "id": "_jvyL46cHb9c",
        "outputId": "6f212c4f-3700-4a2f-fab2-6a6670be954f",
        "colab": {
          "base_uri": "https://localhost:8080/",
          "height": 141
        }
      },
      "outputs": [
        {
          "output_type": "stream",
          "name": "stdout",
          "text": [
            "Test 2_2\n"
          ]
        },
        {
          "output_type": "display_data",
          "data": {
            "text/plain": [
              "<IPython.core.display.HTML object>"
            ],
            "text/html": [
              "<h4>Test Run correctly</h4>"
            ]
          },
          "metadata": {}
        },
        {
          "output_type": "display_data",
          "data": {
            "text/plain": [
              "<IPython.core.display.HTML object>"
            ],
            "text/html": [
              "<h6 style=\"color: green;\">Your test grade: 100</h6>\n",
              "<h6>Feedback: Probando código con credit_german</h6>"
            ]
          },
          "metadata": {}
        }
      ],
      "source": [
        "grader.run_test(\"Test 2_2\", globals())"
      ]
    },
    {
      "cell_type": "markdown",
      "metadata": {
        "id": "kh0ZPuA1DNJj"
      },
      "source": [
        "## **3. Preprocese las variables categóricas y numéricas.**\n",
        "---\n",
        "\n",
        "Para aplicar el modelo $k$ _means_, es muy importante contar con únicamente variables numéricas con una escala común. Para esto, vamos a aplicar una transformación a variables categóricas y numéricas de la siguiente forma:\n",
        "\n",
        "* Para las variables categóricas se debe aplicar el algoritmo **`OneHotEncoder`** para expandir cada categoría a una columna numérica binaria independiente.\n",
        "\n",
        "* Para las variables numéricas se debe aplicar un reescalado con **`StandardScaler`** para delimitar los valores a una escala común, con media en $0$ y desviación estándar de $1$ unidad.\n",
        "\n",
        "En este caso, deberá usar **`ColumnTransformer`** para aplicar ambas transformaciones de manera simultánea. Al hacer esto, deberá usar la cadena **`'onehot'`** para representar la primera transformación y **`'scaler'`** para representar la segunda.\n",
        "\n",
        "Complete la función **`preprocesar`** de tal manera que tome el _DataFrame_ **`X`** y retorne un arreglo de _NumPy_ con la matriz de datos preprocesada y el objeto **`ColumnTransformer`** usado para preprocesar los datos.\n",
        "\n",
        "> **Nota**: Las características categóricas deben estar antes que las características numéricas. Es decir, la primera tupla de las transformaciones que recibe **`ColumnTransformer`** debe ser aquella que utiliza *One Hot Encoder*.\n",
        "\n",
        "\n",
        "**Entrada:**\n",
        "\n",
        "* **`df`**: objeto _DataFrame_ de _Pandas_ de tamaño $(n, m)$ con variables categóricas (con _dtype_ **`'object'`**) y numéricas enteras (con _dtype_ **`'int64'`**).\n",
        "\n",
        "**Salida:**\n",
        "\n",
        "* **`X`**: matriz [_sparse_ de _SciPy_](https://docs.scipy.org/doc/scipy/reference/sparse.html) con tamaño $(n, m^\\prime)$ únicamente valores numéricos, donde $m^\\prime \\geq m$.\n",
        "* **`tf`**: objeto de tipo **`ColumnTransformer`** usado en el preprocesamiento de los datos, con los transformadores **`onehot`** y **`scaler`**."
      ]
    },
    {
      "cell_type": "code",
      "execution_count": 23,
      "metadata": {
        "id": "2Q2Rf3SIe_Av"
      },
      "outputs": [],
      "source": [
        "# FUNCIÓN CALIFICADA preprocesar:\n",
        "\n",
        "# Funciones utilizadas en el ejercicio.\n",
        "from sklearn.compose import ColumnTransformer\n",
        "from sklearn.preprocessing import OneHotEncoder, StandardScaler\n",
        "\n",
        "def preprocesar(df):\n",
        "    \"\"\"\n",
        "    Entradas:\n",
        "      df: objeto DataFrame con las características originales.\n",
        "    Retorna:\n",
        "      X: arreglo sparse de SciPy con el conjunto de datos preprocesado\n",
        "      tf: objeto ColumnTransformer usado para preprocesar el conjunto de datos.\n",
        "    \"\"\"\n",
        "    ### ESCRIBA SU CÓDIGO AQUÍ ### (~ 5-6 líneas de código)\n",
        "\n",
        "    # Identificar las columnas categóricas y numéricas\n",
        "    columnas_categoricas = df.select_dtypes(include=['object']).columns\n",
        "    columnas_numericas = df.select_dtypes(include=['int64', 'float64']).columns\n",
        "\n",
        "    # Crear el ColumnTransformer con OneHotEncoder y StandardScaler\n",
        "    tf = ColumnTransformer(\n",
        "        transformers=[\n",
        "            ('onehot', OneHotEncoder(), columnas_categoricas),\n",
        "            ('scaler', StandardScaler(), columnas_numericas)\n",
        "        ]\n",
        "    )\n",
        "\n",
        "    # Ajustar y transformar los datos\n",
        "    X = tf.fit_transform(df)\n",
        "\n",
        "    return X, tf"
      ]
    },
    {
      "cell_type": "markdown",
      "metadata": {
        "id": "6A5WETT_EwTk"
      },
      "source": [
        "Ejecute las siguientes celdas para probar su código:"
      ]
    },
    {
      "cell_type": "code",
      "execution_count": 24,
      "metadata": {
        "id": "XyqkIfT5nkW-",
        "outputId": "cd66fa13-e850-4d20-9f70-78a4c288941a",
        "colab": {
          "base_uri": "https://localhost:8080/"
        }
      },
      "outputs": [
        {
          "output_type": "stream",
          "name": "stdout",
          "text": [
            "Tamaño de X_preprocessed: (1000, 63)\n"
          ]
        }
      ],
      "source": [
        "#TEST_CELL\n",
        "# 1. Separar el conjunto de datos en la forma X, y.\n",
        "X_raw, _ = separar_X_y(credit_german_df)\n",
        "assert (isinstance(X_raw, pd.DataFrame) and X_raw.shape == (1000, 18)), \"Ej 1. Revise el resultado del ejercicio 1.\"\n",
        "\n",
        "X_preprocessed, tf = preprocesar(X_raw)\n",
        "print(f'Tamaño de X_preprocessed: {X_preprocessed.shape}'\n",
        "      if isinstance(X_preprocessed, scipy.sparse.csr.csr_matrix)\n",
        "      else \"El valor retornado no es una matriz sparse válida.\")"
      ]
    },
    {
      "cell_type": "markdown",
      "metadata": {
        "id": "TBuMmWRFEjV8"
      },
      "source": [
        "**Salida esperada:**\n",
        "\n",
        "```\n",
        "Tamaño de X_preprocessed: (1000, 63)\n",
        "```"
      ]
    },
    {
      "cell_type": "code",
      "execution_count": 25,
      "metadata": {
        "id": "AJh8yXkJMUC2",
        "outputId": "dfdaef01-b330-4b3e-fec6-811561bd3ec5",
        "colab": {
          "base_uri": "https://localhost:8080/"
        }
      },
      "outputs": [
        {
          "output_type": "stream",
          "name": "stdout",
          "text": [
            "dict_keys(['onehot', 'scaler'])\n"
          ]
        }
      ],
      "source": [
        "#TEST_CELL\n",
        "# 1. Separar el conjunto de datos en la forma X, y.\n",
        "X_raw, _ = separar_X_y(credit_german_df)\n",
        "assert (isinstance(X_raw, pd.DataFrame) and X_raw.shape == (1000, 18)), \"Ej 1. Revise el resultado del ejercicio 1.\"\n",
        "\n",
        "X_preprocessed, tf = preprocesar(X_raw)\n",
        "\n",
        "print(tf.named_transformers_.keys()\n",
        "      if isinstance(X_preprocessed, scipy.sparse.csr.csr_matrix)\n",
        "      else \"El valor retornado no es una matriz sparse válida.\")"
      ]
    },
    {
      "cell_type": "markdown",
      "metadata": {
        "id": "RgWL6rmcMbG2"
      },
      "source": [
        "**Salida esperada:**\n",
        "\n",
        "```\n",
        "dict_keys(['onehot', 'scaler'])\n",
        "```"
      ]
    },
    {
      "cell_type": "code",
      "execution_count": 26,
      "metadata": {
        "id": "AMCgxXamE-AD",
        "outputId": "ba8037fe-9b19-45f1-b08d-6af9280cb080",
        "colab": {
          "base_uri": "https://localhost:8080/"
        }
      },
      "outputs": [
        {
          "output_type": "stream",
          "name": "stdout",
          "text": [
            "Primeros valores de X_preprocessed: \n",
            "  (0, 1)\t1.0\n",
            "  (0, 5)\t1.0\n",
            "  (0, 15)\t1.0\n",
            "  (0, 23)\t1.0\n",
            "  (0, 27)\t1.0\n",
            "  (0, 32)\t1.0\n",
            "  (0, 35)\t1.0\n",
            "  (0, 39)\t1.0\n",
            "  (0, 41)\t1.0\n",
            "  (0, 44)\t1.0\n",
            "  (0, 49)\t1.0\n",
            "  (0, 51)\t1.0\n",
            "  (0, 54)\t1.0\n",
            "  (0, 57)\t1.0\n",
            "  (0, 59)\t1.0\n",
            "  (0, 60)\t-1.2364778603818776\n",
            "  (0, 61)\t-0.7451314133870967\n",
            "  (0, 62)\t2.7664564848025224\n"
          ]
        }
      ],
      "source": [
        "#TEST_CELL\n",
        "# 1. Separar el conjunto de datos en la forma X, y.\n",
        "X_raw, _ = separar_X_y(credit_german_df)\n",
        "assert (isinstance(X_raw, pd.DataFrame) and X_raw.shape == (1000, 18)), \"Ej 1. Revise el resultado del ejercicio 1.\"\n",
        "\n",
        "X_preprocessed, tf = preprocesar(X_raw)\n",
        "\n",
        "print('Primeros valores de X_preprocessed: ')\n",
        "print(X_preprocessed[0]\n",
        "      if isinstance(X_preprocessed, scipy.sparse.csr.csr_matrix)\n",
        "      else \"- El valor retornado no es una matriz sparse válida.\")"
      ]
    },
    {
      "cell_type": "markdown",
      "metadata": {
        "id": "upQzwuRmFTIA"
      },
      "source": [
        "**Salida esperada**:\n",
        "> **Nota:** Note que la salida es distinta a la que tendría un arreglo normal. Esto es debido a que el transformador **`OneHotEncoder`** retorna por defecto una matriz de tipo [\"_dispersa_\" o *sparse* de _SciPy_](https://docs.scipy.org/doc/scipy/reference/sparse.html). Esta es usada cuando la matriz que representa está compuesta por una gran cantidad de valores en $0$, como en el caso de _One Hot Encoder_.\n",
        "\n",
        "```\n",
        "  (0, 1)\t1.0\n",
        "  (0, 5)\t1.0\n",
        "  (0, 15)\t1.0\n",
        "  (0, 23)\t1.0\n",
        "  (0, 27)\t1.0\n",
        "  (0, 32)\t1.0\n",
        "  (0, 35)\t1.0\n",
        "  (0, 39)\t1.0\n",
        "  (0, 41)\t1.0\n",
        "  (0, 44)\t1.0\n",
        "  (0, 49)\t1.0\n",
        "  (0, 51)\t1.0\n",
        "  (0, 54)\t1.0\n",
        "  (0, 57)\t1.0\n",
        "  (0, 59)\t1.0\n",
        "  (0, 60)\t-1.2364778603818776\n",
        "  (0, 61)\t-0.7451314133870967\n",
        "  (0, 62)\t2.7664564848025224\n",
        "```"
      ]
    },
    {
      "cell_type": "markdown",
      "metadata": {
        "id": "St3JH7vUIrcI"
      },
      "source": [
        "<details>    \n",
        "<summary>\n",
        "    <font size=\"3\" color=\"darkgreen\"><b>Pista 1</b></font>\n",
        "</summary>\n",
        "<p>\n",
        "\n",
        "* Use el método **`select_dtypes([dtype])`** para obtener un _DataFrame_ con sólo las variables que correspondan con el tipo indicado en la variable **`dtype`**. En este caso, puede considerar que las variables categóricas tienen _dtype_ **`object`** y las numéricas, al tener todas valores enteros, dtype **`int64`**.\n"
      ]
    },
    {
      "cell_type": "markdown",
      "metadata": {
        "id": "Mcsi5Yhw1RBJ"
      },
      "source": [
        "<details>    \n",
        "<summary>\n",
        "    <font size=\"3\" color=\"darkgreen\"><b>Pista 2</b></font>\n",
        "</summary>\n",
        "\n",
        "* El atributo **`columns`** de un *DataFrame* permite acceder a los nombres de las columnas. Esto será de utilidad al indicar las columnas que deben ser consideradas por cada transformador de **`ColumnTransformer`**.  \n"
      ]
    },
    {
      "cell_type": "markdown",
      "metadata": {
        "id": "svhQwX0ePSe2"
      },
      "source": [
        "### **Evaluar código**"
      ]
    },
    {
      "cell_type": "code",
      "execution_count": 27,
      "metadata": {
        "id": "YZrWpbQvMQE7",
        "outputId": "5c28c0a4-9205-4e5c-f48b-4dc11bd74692",
        "colab": {
          "base_uri": "https://localhost:8080/",
          "height": 141
        }
      },
      "outputs": [
        {
          "output_type": "stream",
          "name": "stdout",
          "text": [
            "Test 3_1\n"
          ]
        },
        {
          "output_type": "display_data",
          "data": {
            "text/plain": [
              "<IPython.core.display.HTML object>"
            ],
            "text/html": [
              "<h4>Test Run correctly</h4>"
            ]
          },
          "metadata": {}
        },
        {
          "output_type": "display_data",
          "data": {
            "text/plain": [
              "<IPython.core.display.HTML object>"
            ],
            "text/html": [
              "<h6 style=\"color: green;\">Your test grade: 100</h6>\n",
              "<h6>Feedback: Probando código con valores aleatorios</h6>"
            ]
          },
          "metadata": {}
        }
      ],
      "source": [
        "grader.run_test(\"Test 3_1\", globals())"
      ]
    },
    {
      "cell_type": "code",
      "execution_count": 28,
      "metadata": {
        "id": "W8hAwK96GbcP",
        "outputId": "4b1da5da-c59a-4f06-c802-ff68d78b9274",
        "colab": {
          "base_uri": "https://localhost:8080/",
          "height": 141
        }
      },
      "outputs": [
        {
          "output_type": "stream",
          "name": "stdout",
          "text": [
            "Test 3_2\n"
          ]
        },
        {
          "output_type": "display_data",
          "data": {
            "text/plain": [
              "<IPython.core.display.HTML object>"
            ],
            "text/html": [
              "<h4>Test Run correctly</h4>"
            ]
          },
          "metadata": {}
        },
        {
          "output_type": "display_data",
          "data": {
            "text/plain": [
              "<IPython.core.display.HTML object>"
            ],
            "text/html": [
              "<h6 style=\"color: green;\">Your test grade: 100</h6>\n",
              "<h6>Feedback: Probando código con valores aleatorios</h6>"
            ]
          },
          "metadata": {}
        }
      ],
      "source": [
        "grader.run_test(\"Test 3_2\", globals())"
      ]
    },
    {
      "cell_type": "code",
      "execution_count": 29,
      "metadata": {
        "id": "kTkOVxQrpo3h",
        "outputId": "f5f34989-eecb-4946-c86f-b513fd065016",
        "colab": {
          "base_uri": "https://localhost:8080/",
          "height": 141
        }
      },
      "outputs": [
        {
          "output_type": "stream",
          "name": "stdout",
          "text": [
            "Test 3_3\n"
          ]
        },
        {
          "output_type": "display_data",
          "data": {
            "text/plain": [
              "<IPython.core.display.HTML object>"
            ],
            "text/html": [
              "<h4>Test Run correctly</h4>"
            ]
          },
          "metadata": {}
        },
        {
          "output_type": "display_data",
          "data": {
            "text/plain": [
              "<IPython.core.display.HTML object>"
            ],
            "text/html": [
              "<h6 style=\"color: green;\">Your test grade: 100</h6>\n",
              "<h6>Feedback: Probando código con credit_german</h6>"
            ]
          },
          "metadata": {}
        }
      ],
      "source": [
        "grader.run_test(\"Test 3_3\", globals())"
      ]
    },
    {
      "cell_type": "code",
      "execution_count": 30,
      "metadata": {
        "id": "ByMlPSpSuRWi",
        "outputId": "87f11704-b8f2-4b19-aaa3-0f9a935d20b0",
        "colab": {
          "base_uri": "https://localhost:8080/",
          "height": 141
        }
      },
      "outputs": [
        {
          "output_type": "stream",
          "name": "stdout",
          "text": [
            "Test 3_4\n"
          ]
        },
        {
          "output_type": "display_data",
          "data": {
            "text/plain": [
              "<IPython.core.display.HTML object>"
            ],
            "text/html": [
              "<h4>Test Run correctly</h4>"
            ]
          },
          "metadata": {}
        },
        {
          "output_type": "display_data",
          "data": {
            "text/plain": [
              "<IPython.core.display.HTML object>"
            ],
            "text/html": [
              "<h6 style=\"color: green;\">Your test grade: 100</h6>\n",
              "<h6>Feedback: Probando código con credit_german</h6>"
            ]
          },
          "metadata": {}
        }
      ],
      "source": [
        "grader.run_test(\"Test 3_4\", globals())"
      ]
    },
    {
      "cell_type": "markdown",
      "metadata": {
        "id": "TjR-sb4lH0Ux"
      },
      "source": [
        "## **4. Obtenga el porcentaje de ejemplos con clase `good` de cada grupo.**\n",
        "---\n",
        "Dado el propósito original del análisis de distinguir entre clientes con buen riesgo y mal riesgo, vamos a realizar un modelo no supervisado de agrupamiento $k$-_means_ con $k$ igual a $2$. A partir de este queremos evaluar la tendencia de cada grupo a ser aceptado o rechazado por la entidad que emite el crédito, según los datos de la caracterización real. Para esto vamos a realizar el análisis de cada grupo obtenido de manera no supervisada, calculando el porcentaje de sus registros que fueron etiquetados con riesgo real **`'good'`**.\n",
        "\n",
        "Complete la función **`proporcion_cluster`** de tal manera que reciba las etiquetas reales codificadas, las etiquetas de grupo del agrupamiento, un número **`i`** y retorne el porcentaje de ejemplos en el $i$-ésimo grupo con clase **`'good'`**.\n",
        "\n",
        "**Entrada:**\n",
        "\n",
        "* **`model`**: modelo de agrupamiento **`KMeans`** entrenado con $2$ grupos.\n",
        "* **`X`**: arreglo sparse de _SciPy_ o regular de _NumPy_ con la matriz de datos reales sobre la cual realizar la predicción del agrupamiento.\n",
        "* **`y`**: arreglo de _NumPy_ con el vector de etiquetas reales, donde el valor $1$ corresponde a la categoría **`'good'`** y $0$ a la categoría **`'bad'`**.\n",
        "\n",
        "**Salida:**\n",
        "\n",
        "* **`ratios`**: lista de números reales de tamaño $k$ con el porcentaje de registros con valor $1$ (categoría **`'good'`**) de cada grupo."
      ]
    },
    {
      "cell_type": "code",
      "execution_count": 43,
      "metadata": {
        "id": "ht8Kh2Ab3f-y"
      },
      "outputs": [],
      "source": [
        "# FUNCIÓN CALIFICADA proporcion_cluster:\n",
        "\n",
        "def proporcion_cluster(model, X, y):\n",
        "    \"\"\"\n",
        "    Entradas:\n",
        "      model: modelo KMeans entrenado con 2 grupos.\n",
        "      X: arreglo sparse de SciPy o regular de NumPy con la matriz de datos preprocesados.\n",
        "      y: arreglo de NumPy con shape (n,): las etiquetas reales 0 (bad) o 1 (good).\n",
        "    Retorna:\n",
        "      ratios: lista de porcentajes de créditos con etiqueta 1 (good) del i-esimo cluster.\n",
        "    \"\"\"\n",
        "\n",
        "    ### ESCRIBA SU CÓDIGO AQUÍ ### (~ 2-4 líneas de código)\n",
        "\n",
        "    # Predecir los clusters para los datos\n",
        "    clusters = model.predict(X)\n",
        "\n",
        "    # Calcular el porcentaje de 'good' en cada cluster\n",
        "    ratios = []\n",
        "    for i in range(model.n_clusters):\n",
        "        cluster_indices = (clusters == i)\n",
        "        good_ratio = y[cluster_indices].sum() / cluster_indices.sum()\n",
        "        ratios.append(good_ratio)\n",
        "\n",
        "    ### FIN DEL CÓDIGO ###\n",
        "\n",
        "    return ratios"
      ]
    },
    {
      "cell_type": "code",
      "execution_count": 44,
      "metadata": {
        "id": "lypFHLi-ptvU",
        "outputId": "f451d3c3-fe60-4714-e27a-987cddf3ce22",
        "colab": {
          "base_uri": "https://localhost:8080/"
        }
      },
      "outputs": [
        {
          "output_type": "stream",
          "name": "stdout",
          "text": [
            "Grupo: 0, porcentaje: 0.74428\n",
            "Grupo: 1, porcentaje: 0.57198\n"
          ]
        }
      ],
      "source": [
        "#TEST_CELL\n",
        "from sklearn.cluster import KMeans\n",
        "\n",
        "# 1. Separar el conjunto de datos en la forma X, y.\n",
        "X_raw, y_raw = separar_X_y(credit_german_df)\n",
        "assert (isinstance(X_raw, pd.DataFrame) and isinstance(y_raw, pd.Series)\n",
        "      and X_raw.shape == (1000, 18) and y_raw.shape == (1000, )), \"Ej 1. Revise el resultado del ejercicio 1.\"\n",
        "\n",
        "# 2. Codificación de las etiquetas en valores binarios\n",
        "y = codificar(y_raw)\n",
        "assert isinstance(y, np.ndarray) and y.shape[0] > 0, \"Ej 2. Revise el resultado del ejercicio 2.\"\n",
        "\n",
        "# 3. Preprocesamiento de la matriz de entrada.\n",
        "X, _ = preprocesar(X_raw)\n",
        "assert isinstance(X, scipy.sparse.csr.csr_matrix) and \\\n",
        "        (X.shape[1] > X_raw.shape[1]),\"Ej 3. Revise el resultado del ejercicio 3.\"\n",
        "\n",
        "k = 2\n",
        "model = KMeans(n_clusters= 2, random_state=24)\n",
        "model.fit(X)\n",
        "\n",
        "ratios = proporcion_cluster(model, X, y)\n",
        "try:\n",
        "  for i, ratio in enumerate(ratios):\n",
        "    print(f'Grupo: {i}, porcentaje: {ratio:.5f}')\n",
        "except Exception as e:\n",
        "  print(e)\n",
        "  print(\"El valor retornado no es un iterable válido.\")"
      ]
    },
    {
      "cell_type": "markdown",
      "metadata": {
        "id": "wxBU196ByRgn"
      },
      "source": [
        "**Salida esperada**:\n",
        "\n",
        "```\n",
        "Grupo: 0, porcentaje: 0.74428\n",
        "Grupo: 1, porcentaje: 0.57198\n",
        "```"
      ]
    },
    {
      "cell_type": "markdown",
      "metadata": {
        "id": "ZNwLKNj2I8T8"
      },
      "source": [
        "<details>    \n",
        "<summary>\n",
        "    <font size=\"3\" color=\"darkgreen\"><b>Pista 1</b></font>\n",
        "</summary>\n",
        "\n",
        "* Use selección condicional de _NumPy_ para seleccionar los valores que correspondan."
      ]
    },
    {
      "cell_type": "markdown",
      "metadata": {
        "id": "LL8LVE4BVpN0"
      },
      "source": [
        "<details>    \n",
        "<summary>\n",
        "    <font size=\"3\" color=\"darkgreen\"><b>Pista 2</b></font>\n",
        "</summary>\n",
        "\n",
        "* Se puede calcular el porcentaje como la media, pues son valores binarios y nos interesa el porcentaje de ejemplos con valor $1$."
      ]
    },
    {
      "cell_type": "markdown",
      "metadata": {
        "id": "dIrH-rbCPWkO"
      },
      "source": [
        "### **Evaluar código**"
      ]
    },
    {
      "cell_type": "code",
      "execution_count": 45,
      "metadata": {
        "id": "bmLqM-PgxyDj",
        "outputId": "1380a163-e9b9-42f0-ef48-35918e474a44",
        "colab": {
          "base_uri": "https://localhost:8080/",
          "height": 141
        }
      },
      "outputs": [
        {
          "output_type": "stream",
          "name": "stdout",
          "text": [
            "Test 4_1\n"
          ]
        },
        {
          "output_type": "display_data",
          "data": {
            "text/plain": [
              "<IPython.core.display.HTML object>"
            ],
            "text/html": [
              "<h4>Test Run correctly</h4>"
            ]
          },
          "metadata": {}
        },
        {
          "output_type": "display_data",
          "data": {
            "text/plain": [
              "<IPython.core.display.HTML object>"
            ],
            "text/html": [
              "<h6 style=\"color: green;\">Your test grade: 100</h6>\n",
              "<h6>Feedback: Probando código con make_blobs</h6>"
            ]
          },
          "metadata": {}
        }
      ],
      "source": [
        "grader.run_test(\"Test 4_1\", globals())"
      ]
    },
    {
      "cell_type": "code",
      "execution_count": 46,
      "metadata": {
        "id": "O3bjXGxdUE7R",
        "outputId": "6b48990e-3bed-4973-a78b-ff2288baa439",
        "colab": {
          "base_uri": "https://localhost:8080/",
          "height": 284
        }
      },
      "outputs": [
        {
          "output_type": "stream",
          "name": "stdout",
          "text": [
            "Test 4_2\n"
          ]
        },
        {
          "output_type": "display_data",
          "data": {
            "text/plain": [
              "<IPython.core.display.HTML object>"
            ],
            "text/html": [
              "<h4>Test Run correctly</h4>"
            ]
          },
          "metadata": {}
        },
        {
          "output_type": "display_data",
          "data": {
            "text/plain": [
              "<IPython.core.display.HTML object>"
            ],
            "text/html": [
              "<h6 style=\"color: red;\">Your test grade: 32</h6>\n",
              "<h6>Feedback: Probando código con credit_german<p>\"ratios\" no tiene el tamaño esperado. Se esperaba <span style=\"color: green;\">2</span></p><p>Pero se obtuvo <span style=\"color: red;\">3</span></p><p>\"ratios\" no tiene el tamaño esperado. Se esperaba <span style=\"color: green;\">2</span></p><p>Pero se obtuvo <span style=\"color: red;\">4</span></p><p>\"ratios\" no tiene el tamaño esperado. Se esperaba <span style=\"color: green;\">2</span></p><p>Pero se obtuvo <span style=\"color: red;\">5</span></p><p>\"ratios\" no tiene el tamaño esperado. Se esperaba <span style=\"color: green;\">2</span></p><p>Pero se obtuvo <span style=\"color: red;\">6</span></p></h6>"
            ]
          },
          "metadata": {}
        }
      ],
      "source": [
        "grader.run_test(\"Test 4_2\", globals())"
      ]
    },
    {
      "cell_type": "markdown",
      "metadata": {
        "id": "vpI7D3q0yYCc"
      },
      "source": [
        "## **5. Realice evaluación del desempeño interna con el coeficiente de silueta.**\n",
        "---\n",
        "Para caracterizar y segmentar a los aplicantes de crédito del conjunto de datos vamos a construir modelos de agrupamiento basados en el algoritmo $k$-_means_ con distintos valores de $k$ y realizar un experimento de evaluación de su desempeño de manera interna con el coeficiente de silueta.\n",
        "\n",
        "Complete la función **`experimento_silueta`** de tal manera que reciba los datos preprocesados (**`X`**), un iterable con los valores de $k$ a explorar (**`K`**) y una semilla aleatoria **`seed`** para la construcción de los modelos **`KMeans`**, y retorne una lista o arreglo con los $n_k$ coeficientes de silueta obtenidos del agrupamiento de cada uno de los modelos.\n",
        "\n",
        "\n",
        "**Entrada:**\n",
        "* **`X`**: arreglo sparse de _SciPy_ o regular de _NumPy_ con tamaño $(n, m)$ con valores numéricos.\n",
        "* **`K`**: colección ordenada (lista, tupla o arreglo de _NumPy_) de números enteros de tamaño $n_k$ usado como el hiperparámetro $k$ del modelo $k$-_means_.\n",
        "* **`seed`**: número real con la semilla aleatoria para la declaración y ejecución del modelo **`KMeans`**.\n",
        "\n",
        "**Salida:**\n",
        "* **`silhouette`** colección ordenada (lista, tupla o arreglo de _NumPy_) de números reales correspondientes al coeficiente de silueta del modelo **`KMeans`** entrenado en cada iteración.\n",
        "\n"
      ]
    },
    {
      "cell_type": "code",
      "execution_count": 47,
      "metadata": {
        "id": "ngHOcOkqki2T"
      },
      "outputs": [],
      "source": [
        "# FUNCIÓN CALIFICADA experimento_silueta:\n",
        "\n",
        "# Funciones utilizadas en el ejercicio.\n",
        "from sklearn.cluster import KMeans\n",
        "from sklearn.metrics import silhouette_score\n",
        "\n",
        "def experimento_silueta(X, K, seed=100):\n",
        "    \"\"\"\n",
        "    Entradas:\n",
        "      X: arreglo sparse de SciPy o regular de NumPy con el conjunto\n",
        "                  de datos preprocesado para realizar agrupamiento.\n",
        "      K: iterable con los valores de k.\n",
        "      seed: semilla aleatoria para KMeans.\n",
        "    Retorna:\n",
        "      silhouette: Lista con el coeficiente de silueta de los agrupamientos resultantes.\n",
        "    \"\"\"\n",
        "    ### ESCRIBA SU CÓDIGO AQUÍ ### (~ 5-6 líneas de código)\n",
        "\n",
        "    silhouette = []\n",
        "\n",
        "    for k in K:\n",
        "        # Crear y ajustar el modelo KMeans con k clusters\n",
        "        model = KMeans(n_clusters=k, random_state=seed)\n",
        "        labels = model.fit_predict(X)\n",
        "\n",
        "        # Calcular el coeficiente de silueta\n",
        "        score = silhouette_score(X, labels)\n",
        "        silhouette.append(score)\n",
        "\n",
        "    ### FIN DEL CÓDIGO ###\n",
        "\n",
        "    return silhouette"
      ]
    },
    {
      "cell_type": "markdown",
      "metadata": {
        "id": "-0bHQCULb3N-"
      },
      "source": [
        "Ejecute la siguiente celda para probar su código:\n",
        "\n",
        "> **Nota:** la construcción de los modelos **`KMeans`** puede tardar un poco."
      ]
    },
    {
      "cell_type": "code",
      "execution_count": 48,
      "metadata": {
        "id": "ybhIc6_poNFc",
        "outputId": "baf5acab-6df2-46a0-8079-f3c1e7a56dd7",
        "colab": {
          "base_uri": "https://localhost:8080/"
        }
      },
      "outputs": [
        {
          "output_type": "stream",
          "name": "stdout",
          "text": [
            "[0.1431 0.0979 0.0805 0.0657 0.058  0.0606 0.0521 0.0507 0.0513]\n"
          ]
        }
      ],
      "source": [
        "#TEST_CELL\n",
        "\n",
        "# 1. Separar el conjunto de datos en la forma X, y.\n",
        "X_raw, y_raw = separar_X_y(credit_german_df)\n",
        "assert (isinstance(X_raw, pd.DataFrame) and isinstance(y_raw, pd.Series)\n",
        "      and X_raw.shape == (1000, 18) and y_raw.shape == (1000, )), \"Ej 1. Revise el resultado del ejercicio 1.\"\n",
        "\n",
        "# 3. Preprocesamiento de la matriz de entrada.\n",
        "X, _ = preprocesar(X_raw)\n",
        "assert isinstance(X, scipy.sparse.csr.csr_matrix) and X.shape[1] > X_raw.shape[1], \"Ej 3. Revise el resultado del ejercicio 3.\"\n",
        "\n",
        "K = np.arange(2, 11)\n",
        "silhouette = experimento_silueta(X, K)\n",
        "try:\n",
        "  print(np.round(silhouette, 4))\n",
        "except Exception as e:\n",
        "  print(e)\n",
        "  print(\"El valor retornado no es un iterable válido.\")"
      ]
    },
    {
      "cell_type": "markdown",
      "metadata": {
        "id": "E0Y54_vktEjv"
      },
      "source": [
        "**Salida esperada**:\n",
        "\n",
        "```\n",
        "[0.1431 0.0979 0.0805 0.0657 0.058  0.0606 0.0521 0.0507 0.0513]\n",
        "```"
      ]
    },
    {
      "cell_type": "code",
      "execution_count": 49,
      "metadata": {
        "id": "Qg5w4pub72Pu",
        "outputId": "2dc754cd-ea6f-4a46-b1bb-388ce4ad1310",
        "colab": {
          "base_uri": "https://localhost:8080/",
          "height": 416
        }
      },
      "outputs": [
        {
          "output_type": "display_data",
          "data": {
            "text/plain": [
              "<Figure size 800x400 with 1 Axes>"
            ],
            "image/png": "[encoded data removed]"
          },
          "metadata": {
            "image/png": {
              "width": 709,
              "height": 399
            }
          }
        }
      ],
      "source": [
        "#TEST_CELL\n",
        "#@markdown **Celda de pruebas**: Ejecute esta celda para probar de forma gráfica el resultado obtenido en la celda anterior.\n",
        "try:\n",
        "  plt.figure(dpi=100, figsize=(8, 4))\n",
        "  plt.plot(K, silhouette, 'bx-')\n",
        "  plt.xticks(K)\n",
        "  plt.xlabel('k')\n",
        "  plt.ylabel('Coeficiente de silueta')\n",
        "  plt.title(f'K vs Coeficiente de silueta')\n",
        "  plt.show()\n",
        "except Exception as e:\n",
        "  print(\"El valor retornado no es válido. Asegúrese de obtener una respuesta correcta y de ejecutar la celda de prueba anterior antes de ejecutar esta celda.\")"
      ]
    },
    {
      "cell_type": "markdown",
      "metadata": {
        "id": "N-XK970fdUPi"
      },
      "source": [
        "**Salida esperada:**\n",
        "\n",
        "![t4e5.png](data:image/png;base64,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)"
      ]
    },
    {
      "cell_type": "markdown",
      "metadata": {
        "id": "f5TgXz4wuTpR"
      },
      "source": [
        "> **Pregunta**: ¿Qué valor de $k$ escogería?"
      ]
    },
    {
      "cell_type": "markdown",
      "metadata": {
        "id": "Kj0lOGbmIotF"
      },
      "source": [
        "<details>    \n",
        "<summary>\n",
        "    <font size=\"3\" color=\"darkgreen\"><b>Pista 1</b></font>\n",
        "</summary>\n",
        "\n",
        "* Itere sobre cada valor de **`K`** con un bucle **`for`**, entrene un modelo por cada **`k`** y guarde los resultados en una lista.\n"
      ]
    },
    {
      "cell_type": "markdown",
      "metadata": {
        "id": "RBC4nq-YWRgn"
      },
      "source": [
        "<details>    \n",
        "<summary>\n",
        "    <font size=\"3\" color=\"darkgreen\"><b>Pista 2</b></font>\n",
        "</summary>\n",
        "\n",
        "* Obtenga el coeficiente de silueta de un modelo determinado con el método **`silhouette_score`** del módulo **`metrics`**.\n"
      ]
    },
    {
      "cell_type": "markdown",
      "metadata": {
        "id": "GTSU1mkxPXkZ"
      },
      "source": [
        "### **Evaluar código**"
      ]
    },
    {
      "cell_type": "code",
      "execution_count": 50,
      "metadata": {
        "id": "vvm4P5yAY0rR",
        "outputId": "d1a11f9d-b499-48ee-dbfd-0dcfb43a0c9c",
        "colab": {
          "base_uri": "https://localhost:8080/",
          "height": 141
        }
      },
      "outputs": [
        {
          "output_type": "stream",
          "name": "stdout",
          "text": [
            "Test 5_1\n"
          ]
        },
        {
          "output_type": "display_data",
          "data": {
            "text/plain": [
              "<IPython.core.display.HTML object>"
            ],
            "text/html": [
              "<h4>Test Run correctly</h4>"
            ]
          },
          "metadata": {}
        },
        {
          "output_type": "display_data",
          "data": {
            "text/plain": [
              "<IPython.core.display.HTML object>"
            ],
            "text/html": [
              "<h6 style=\"color: green;\">Your test grade: 100</h6>\n",
              "<h6>Feedback: Probando código con make_blobs</h6>"
            ]
          },
          "metadata": {}
        }
      ],
      "source": [
        "grader.run_test(\"Test 5_1\", globals())"
      ]
    },
    {
      "cell_type": "code",
      "execution_count": 51,
      "metadata": {
        "id": "lUnWIlRNaohM"
      },
      "outputs": [],
      "source": [
        "def test5():\n",
        "  try:\n",
        "    credit_german_df = pd.read_csv('credit-german.csv', sep=';')\n",
        "\n",
        "    X_df = credit_german_df.drop(['class'], axis=1)\n",
        "    tf = ColumnTransformer([\n",
        "      ('onehot', OneHotEncoder(), X_df.select_dtypes(['object']).columns),\n",
        "      ('scaler', StandardScaler(), X_df.select_dtypes(['int64']).columns)\n",
        "    ])\n",
        "    X = tf.fit_transform(X_df.copy())\n",
        "    X = X[:100]\n",
        "\n",
        "    y = credit_german_df.copy()['class']\n",
        "    y = y.map(lambda i: i==\"good\").astype(\"int32\").values[:100]\n",
        "\n",
        "    values = [\n",
        "        [0.1522370083361596, 0.11366815694329555, 0.10565332235042803],\n",
        "        [0.15809930271522277, 0.11215414091011139, 0.10714328591303471],\n",
        "        [0.1468306439846709, 0.11237197033756008, 0.09873019365287906]\n",
        "    ]\n",
        "    for i, seed in enumerate([23, 24, 27]):\n",
        "      K = range(2, 5)\n",
        "      silhouette = experimento_silueta(X, K, seed)\n",
        "      assert np.allclose(values[i], silhouette)\n",
        "    return True\n",
        "  except Exception as e:\n",
        "    print(e)\n",
        "    return False"
      ]
    },
    {
      "cell_type": "code",
      "execution_count": 52,
      "metadata": {
        "id": "Poy-ycQEaaZ3",
        "outputId": "96055384-dae0-457e-b4b9-496a5259cdb2",
        "colab": {
          "base_uri": "https://localhost:8080/",
          "height": 141
        }
      },
      "outputs": [
        {
          "output_type": "stream",
          "name": "stdout",
          "text": [
            "Test 5_2\n"
          ]
        },
        {
          "output_type": "display_data",
          "data": {
            "text/plain": [
              "<IPython.core.display.HTML object>"
            ],
            "text/html": [
              "<h4>Test Run correctly</h4>"
            ]
          },
          "metadata": {}
        },
        {
          "output_type": "display_data",
          "data": {
            "text/plain": [
              "<IPython.core.display.HTML object>"
            ],
            "text/html": [
              "<h6 style=\"color: green;\">Your test grade: 100</h6>\n",
              "<h6>Feedback: Probando código con credit german</h6>"
            ]
          },
          "metadata": {}
        }
      ],
      "source": [
        "grader.run_test(\"Test 5_2\", globals())"
      ]
    },
    {
      "cell_type": "markdown",
      "metadata": {
        "id": "UfWau34Ayb-P"
      },
      "source": [
        "## **6. Realice evaluación del desempeño externa con el índice de Rand.**\n",
        "---\n",
        "Dado que tenemos a nuestro alcance las categorías reales de la clasificación, podemos realizar un experimento de evaluación del desempeño de manera externa.\n",
        "\n",
        "En esta ocasión vamos a realizar un experimento análogo al del ejercicio $4$, evaluando el desempeño por medio del índice ajustado de _Rand_.\n",
        "\n",
        "Complete la función **`experimento_rand`** de tal manera que reciba los datos preprocesados (**`X`**), un iterable con los valores de $k$ a explorar (**`K`**) y una semilla aleatoria **`seed`** para la construcción de los modelos **`KMeans`**, y retorne una lista o arreglo con los $n_k$ índices ajustados de _Rand_ obtenidos del agrupamiento de cada uno de los modelos.\n",
        "\n",
        "\n",
        "**Entrada:**\n",
        "* **`X`**: arreglo sparse de _SciPy_ o regular de _NumPy_ con tamaño $(n, m)$ con valores numéricos.\n",
        "* **`y`**: arreglo de _NumPy_ de tamaño $(n, )$ con las etiquetas reales del conjunto de datos.\n",
        "* **`K`**: colección ordenada (lista, tupla o arreglo de _NumPy_) de números enteros de tamaño $n_k$ usado como el hiperparámetro $k$ del modelo $k$-_means_.\n",
        "* **`seed`**: número real con la semilla aleatoria para la declaración y ejecución del modelo **`KMeans`**.\n",
        "\n",
        "**Salida:**\n",
        "* **`rand`** colección ordenada (lista, tupla o arreglo de _NumPy_) de números reales correspondientes al índice ajustado de _Rand_ del modelo **`KMeans`** entrenado en cada iteración."
      ]
    },
    {
      "cell_type": "code",
      "execution_count": 53,
      "metadata": {
        "id": "rrhDfQdF5mk-"
      },
      "outputs": [],
      "source": [
        "# FUNCIÓN CALIFICADA experimento_silueta:\n",
        "\n",
        "# Funciones utilizadas en el ejercicio.\n",
        "from sklearn.cluster import KMeans\n",
        "from sklearn.metrics import adjusted_rand_score\n",
        "\n",
        "def experimento_rand(X, y, K, seed=481):\n",
        "    \"\"\"\n",
        "    Entradas:\n",
        "      X: arreglo sparse de SciPy o regular de NumPy con el conjunto\n",
        "                  de datos preprocesado para realizar agrupamiento.\n",
        "      y: arreglo de NumPy con las etiquetas preprocesadas del conjunto de datos.\n",
        "      K: iterable con los valores de k para probar.\n",
        "      seed: semilla aleatoria para KMeans.\n",
        "    Retorna:\n",
        "      rand: iterable con el coeficiente ajustado de Rand de los agrupamientos resultantes.\n",
        "    \"\"\"\n",
        "    ### ESCRIBA SU CÓDIGO AQUÍ ### (~ 5 - 6 líneas de código)\n",
        "\n",
        "    rand = []\n",
        "\n",
        "    for k in K:\n",
        "        # Crear y ajustar el modelo KMeans con k clusters\n",
        "        model = KMeans(n_clusters=k, random_state=seed)\n",
        "        labels = model.fit_predict(X)\n",
        "\n",
        "        # Calcular el índice ajustado de Rand\n",
        "        score = adjusted_rand_score(y, labels)\n",
        "        rand.append(score)\n",
        "\n",
        "    ### FIN DEL CÓDIGO ###\n",
        "\n",
        "    return rand"
      ]
    },
    {
      "cell_type": "code",
      "execution_count": 54,
      "metadata": {
        "id": "6oZTZE0b9NgU",
        "outputId": "085456fb-c492-4146-9b16-1556e0df21a2",
        "colab": {
          "base_uri": "https://localhost:8080/"
        }
      },
      "outputs": [
        {
          "output_type": "stream",
          "name": "stdout",
          "text": [
            "[0.0729 0.0235 0.0165 0.0128 0.0061 0.008  0.0097 0.0093 0.0145]\n"
          ]
        }
      ],
      "source": [
        "#TEST_CELL\n",
        "\n",
        "# 1. Separar el conjunto de datos en la forma X, y.\n",
        "X_raw, y_raw = separar_X_y(credit_german_df)\n",
        "assert (isinstance(X_raw, pd.DataFrame) and isinstance(y_raw, pd.Series)\n",
        "      and X_raw.shape == (1000, 18) and y_raw.shape == (1000, )), \"Ej 1. Revise el resultado del ejercicio 1.\"\n",
        "\n",
        "# 2. Codificación de las etiquetas en valores binarios\n",
        "y = codificar(y_raw)\n",
        "assert isinstance(y, np.ndarray) and y.shape[0] > 0, \"Ej 2. Revise el resultado del ejercicio 2.\"\n",
        "\n",
        "# 3. Preprocesamiento de la matriz de entrada.\n",
        "X, _ = preprocesar(X_raw)\n",
        "assert isinstance(X, scipy.sparse.csr.csr_matrix) and X.shape[1] > X_raw.shape[1], \"Ej 3. Revise el resultado del ejercicio 3.\"\n",
        "\n",
        "K = np.arange(2, 11)\n",
        "rand = experimento_rand(X, y, K)\n",
        "\n",
        "try:\n",
        "  print(np.round(rand, 4))\n",
        "except Exception as e:\n",
        "  print(e)\n",
        "  print(\"El valor retornado no es un iterable válido.\")"
      ]
    },
    {
      "cell_type": "markdown",
      "metadata": {
        "id": "ZlIgV0g4tH2C"
      },
      "source": [
        "**Salida esperada:**\n",
        "\n",
        "```\n",
        "[0.0729 0.0235 0.0165 0.0128 0.0061 0.008  0.0097 0.0093 0.0145]\n",
        "```"
      ]
    },
    {
      "cell_type": "code",
      "execution_count": 55,
      "metadata": {
        "id": "IAYSx3HmdjUe",
        "outputId": "f4677c8b-9fcd-4ce2-8b65-407b81084d44",
        "colab": {
          "base_uri": "https://localhost:8080/",
          "height": 418
        }
      },
      "outputs": [
        {
          "output_type": "display_data",
          "data": {
            "text/plain": [
              "<Figure size 800x400 with 1 Axes>"
            ],
            "image/png": "[encoded data removed]"
          },
          "metadata": {
            "image/png": {
              "width": 711,
              "height": 401
            }
          }
        }
      ],
      "source": [
        "#TEST_CELL\n",
        "#@markdown **Celda de pruebas**: Ejecute esta celda para probar de forma gráfica el resultado obtenido en la celda anterior.\n",
        "try:\n",
        "  plt.figure(dpi=100, figsize=(8, 4))\n",
        "  plt.plot(K, rand, 'bx-')\n",
        "  plt.xticks(K)\n",
        "  plt.xlabel('k')\n",
        "  plt.ylabel('Índice ajustado de Rand')\n",
        "  plt.title(f'K vs Índice ajustado de Rand')\n",
        "  plt.show()\n",
        "except Exception as e:\n",
        "  print(\"El valor retornado no es válido. Asegúrese de obtener una respuesta correcta y de ejecutar la celda de prueba anterior antes de ejecutar esta celda.\")"
      ]
    },
    {
      "cell_type": "markdown",
      "metadata": {
        "id": "Svf3-jf6egTx"
      },
      "source": [
        "**Salida esperada:**\n",
        "\n",
        "![t4e6.png](data:image/png;base64,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)"
      ]
    },
    {
      "cell_type": "markdown",
      "metadata": {
        "id": "sU6maoNzuoHA"
      },
      "source": [
        "> **Pregunta**: ¿Qué valor de $k$ escogería?"
      ]
    },
    {
      "cell_type": "markdown",
      "metadata": {
        "id": "8YEihuVLWjo_"
      },
      "source": [
        "<details>    \n",
        "<summary>\n",
        "    <font size=\"3\" color=\"darkgreen\"><b>Pista 1</b></font>\n",
        "</summary>\n",
        "\n",
        "* Itere sobre cada valor de **`K`** con un bucle **`for`**, entrene un modelo por cada **`k`** y guarde los resultados en una lista.\n"
      ]
    },
    {
      "cell_type": "markdown",
      "metadata": {
        "id": "sv92x18VWBB_"
      },
      "source": [
        "<details>    \n",
        "<summary>\n",
        "    <font size=\"3\" color=\"darkgreen\"><b>Pista 2</b></font>\n",
        "</summary>\n",
        "\n",
        "* Obtenga el índice de _Rand_ de un modelo determinado con el método **`ajusted_rand_score`** del módulo **`metrics`**.\n"
      ]
    },
    {
      "cell_type": "markdown",
      "metadata": {
        "id": "JzDT-jmUPYpg"
      },
      "source": [
        "### **Evaluar código**"
      ]
    },
    {
      "cell_type": "code",
      "execution_count": 56,
      "metadata": {
        "id": "f0gmEshSowGe",
        "outputId": "96a6ff6e-a5ed-4add-eb95-9620d0e1b4ed",
        "colab": {
          "base_uri": "https://localhost:8080/",
          "height": 141
        }
      },
      "outputs": [
        {
          "output_type": "stream",
          "name": "stdout",
          "text": [
            "Test 6_1\n"
          ]
        },
        {
          "output_type": "display_data",
          "data": {
            "text/plain": [
              "<IPython.core.display.HTML object>"
            ],
            "text/html": [
              "<h4>Test Run correctly</h4>"
            ]
          },
          "metadata": {}
        },
        {
          "output_type": "display_data",
          "data": {
            "text/plain": [
              "<IPython.core.display.HTML object>"
            ],
            "text/html": [
              "<h6 style=\"color: green;\">Your test grade: 100</h6>\n",
              "<h6>Feedback: Probando código con make_blobs</h6>"
            ]
          },
          "metadata": {}
        }
      ],
      "source": [
        "grader.run_test(\"Test 6_1\", globals())"
      ]
    },
    {
      "cell_type": "code",
      "execution_count": 57,
      "metadata": {
        "id": "J6lCpuFLqhSj",
        "outputId": "3c3dbd7f-f6b9-422e-cf20-6f4ef50ca09a",
        "colab": {
          "base_uri": "https://localhost:8080/",
          "height": 141
        }
      },
      "outputs": [
        {
          "output_type": "stream",
          "name": "stdout",
          "text": [
            "Test 6_2\n"
          ]
        },
        {
          "output_type": "display_data",
          "data": {
            "text/plain": [
              "<IPython.core.display.HTML object>"
            ],
            "text/html": [
              "<h4>Test Run correctly</h4>"
            ]
          },
          "metadata": {}
        },
        {
          "output_type": "display_data",
          "data": {
            "text/plain": [
              "<IPython.core.display.HTML object>"
            ],
            "text/html": [
              "<h6 style=\"color: green;\">Your test grade: 100</h6>\n",
              "<h6>Feedback: Probando código con credit german</h6>"
            ]
          },
          "metadata": {}
        }
      ],
      "source": [
        "grader.run_test(\"Test 6_2\", globals())"
      ]
    },
    {
      "cell_type": "markdown",
      "metadata": {
        "id": "Y0eaHEBLATR7"
      },
      "source": [
        "## **7. Interprete los centroides de cada grupo**\n",
        "---\n",
        "Con el objetivo de interpretar el agrupamiento encontrado, nos interesa inspeccionar los elementos representativos o centroides de cada grupo e  interpretar los valores promedio por variable obtenidos.\n",
        "\n",
        "Complete la función **`centroides`** de tal manera que reciba un modelo **`KMeans`** entrenado, un número entero **`col`** y un número entero **`group`** que representen la posición de la variable en la que estamos interesado y el índice del grupo a explorar.\n",
        "\n",
        "La función debe retornar el valor de la variable ubicada en la posición **`col`** del **`group`**-ésimo grupo.\n",
        "\n",
        "**Entrada:**\n",
        "\n",
        "* **`model`**: modelo de agrupamiento **`KMeans`** ajustado sobre **`X`**.\n",
        "* **`group`**: número entero con el índice del grupo sobre el cual calcular el centroide.\n",
        "* **`col`**: número entero con el índice de la columna del arreglo **`X`** correspondiente a la variable en la cual estamos interesados.\n",
        "\n",
        "**Salida:**\n",
        "\n",
        "* **`centroid`**: número real con el valor de la variable **`col`** del centroide del grupo **`group`** obtenido del modelo **`model`**.\n"
      ]
    },
    {
      "cell_type": "code",
      "execution_count": 58,
      "metadata": {
        "id": "6amiVPuhATR7"
      },
      "outputs": [],
      "source": [
        "# FUNCIÓN CALIFICADA centroides:\n",
        "\n",
        "def centroides(model, group, col):\n",
        "    \"\"\"\n",
        "    Entrada:\n",
        "      model: modelo KMeans ajustado a los datos.\n",
        "      group: número entero con el índice del centroide.\n",
        "      col:   número entero con el índice de la variable del centroide.\n",
        "    Retorna:\n",
        "      centroid: número real con el valor de la variable 'col' del centroide 'group'.\n",
        "    \"\"\"\n",
        "    ### ESCRIBA SU CÓDIGO AQUÍ ### (~ 3-4 líneas de código)\n",
        "\n",
        "    centroid = model.cluster_centers_[group, col]\n",
        "\n",
        "    ### FIN DEL CÓDIGO ###\n",
        "\n",
        "    return centroid"
      ]
    },
    {
      "cell_type": "markdown",
      "metadata": {
        "id": "-mgPXeZyATR8"
      },
      "source": [
        "Para evaluar el resultado de la función, vamos a inspeccionar los valores de dos variables para cada centroide. Estas son:\n",
        "\n",
        "- **`radio/tv`** (ubicada en la columna $15$) es uno de los valores posibles de la característica categórica **`purpose`**. Debido a que se realizó _One Hot Encoding_ de todas las características categóricas, la característica **`radio/tv`** de un centroide corresponde a el porcentaje de personas del grupo que pidieron un crédito para comprar una radio o una televisión.\n",
        "\n",
        "\n",
        "Use la siguiente celda para probar su código:"
      ]
    },
    {
      "cell_type": "code",
      "execution_count": 59,
      "metadata": {
        "id": "QMjHMDa2ATR9",
        "outputId": "f77cd059-dd7f-46b7-de64-ce646f2f9e3f",
        "colab": {
          "base_uri": "https://localhost:8080/"
        }
      },
      "outputs": [
        {
          "output_type": "stream",
          "name": "stdout",
          "text": [
            "Grupo \t radio/tv\n",
            "0 \t 0.31225\n",
            "1 \t 0.18677\n"
          ]
        }
      ],
      "source": [
        "#TEST_CELL\n",
        "\n",
        "# 1. Separar el conjunto de datos en la forma X, y.\n",
        "X_raw, y_raw = separar_X_y(credit_german_df)\n",
        "assert (isinstance(X_raw, pd.DataFrame) and isinstance(y_raw, pd.Series)\n",
        "      and X_raw.shape == (1000, 18) and y_raw.shape == (1000, )), \"Ej 1. Revise el resultado del ejercicio 1.\"\n",
        "\n",
        "# 2. Codificación de las etiquetas en valores binarios\n",
        "y = codificar(y_raw)\n",
        "assert isinstance(y, np.ndarray) and y.shape[0] > 0, \"Ej 2. Revise el resultado del ejercicio 2.\"\n",
        "\n",
        "# 3. Preprocesamiento de la matriz de entrada.\n",
        "X, tf = preprocesar(X_raw)\n",
        "assert (isinstance(X, scipy.sparse.csr.csr_matrix) and\n",
        "       (X.shape[1] > X_raw.shape[1]) and\n",
        "       isinstance(tf, sklearn.compose._column_transformer.ColumnTransformer\n",
        "       )), \"Ej 3. Revise el resultado del ejercicio 3.\"\n",
        "\n",
        "k = 2\n",
        "model = KMeans(n_clusters= k, random_state=24)\n",
        "model.fit(X)\n",
        "\n",
        "try:\n",
        "  print('Grupo \\t radio/tv')\n",
        "  for i in range(2):\n",
        "    print(f'{i} \\t {centroides(model, i, 15):.5f}' )\n",
        "except Exception as e:\n",
        "  print(e)\n",
        "  print(\"El valor retornado no es un iterable válido.\")"
      ]
    },
    {
      "cell_type": "markdown",
      "metadata": {
        "id": "kFkawqEbATR_"
      },
      "source": [
        "**Salida esperada**:\n",
        "\n",
        "```\n",
        "Grupo \t radio/tv\n",
        "0 \t     0.31225\n",
        "1 \t     0.18677\n",
        "```"
      ]
    },
    {
      "cell_type": "markdown",
      "metadata": {
        "id": "_2tEEmT6Lg9B"
      },
      "source": [
        "La segunda variable es:\n",
        "- **`disc_duration`** (ubicada en la columna $60$) corresponde a la duración del crédito en meses. De esta manera, el valor de **`disc_duration`** de un centroide corresponde a la media de este valor para los ejemplos del grupo relacionado. Sin embargo, dado que los datos fueron reescalados en el preprocesamiento el valor mostrado no corresponde al valor real de la media. Para corregir esto, podemos utilizar el transformador **`StandarScaler`** usado en el proceso para obtener el valor en su escala original de la siguiente forma:\n",
        "\n",
        "  ```python\n",
        "  centroide = centroides(model, i, 60)\n",
        "  scaler = tf.named_transformers_['scaler']\n",
        "  centroide_original = scaler.inverse_transform([[centroide, 0, 0]])[0, 0]\n",
        "```\n",
        "\n",
        "Use la siguiente celda para probar su código:"
      ]
    },
    {
      "cell_type": "code",
      "execution_count": 60,
      "metadata": {
        "id": "l5yI2jloMxXf",
        "outputId": "836a17c8-312f-4386-b779-c2b39cdb09ea",
        "colab": {
          "base_uri": "https://localhost:8080/"
        }
      },
      "outputs": [
        {
          "output_type": "stream",
          "name": "stdout",
          "text": [
            "Grupo \t disc_duration \t disc_duration (escala original)\n",
            "0 \t -0.43091 \t 15.70929\n",
            "1 \t 1.24579 \t 35.91829\n"
          ]
        }
      ],
      "source": [
        "#TEST_CELL\n",
        "\n",
        "# 1. Separar el conjunto de datos en la forma X, y.\n",
        "X_raw, y_raw = separar_X_y(credit_german_df)\n",
        "assert (isinstance(X_raw, pd.DataFrame) and isinstance(y_raw, pd.Series)\n",
        "      and X_raw.shape == (1000, 18) and y_raw.shape == (1000, )), \"Ej 1. Revise el resultado del ejercicio 1.\"\n",
        "\n",
        "# 2. Codificación de las etiquetas en valores binarios\n",
        "y = codificar(y_raw)\n",
        "assert isinstance(y, np.ndarray) and y.shape[0] > 0, \"Ej 2. Revise el resultado del ejercicio 2.\"\n",
        "\n",
        "# 3. Preprocesamiento de la matriz de entrada.\n",
        "X, tf = preprocesar(X_raw)\n",
        "assert (isinstance(X, scipy.sparse.csr.csr_matrix) and\n",
        "       (X.shape[1] > X_raw.shape[1]) and\n",
        "       isinstance(tf, sklearn.compose._column_transformer.ColumnTransformer\n",
        "       )), \"Ej 3. Revise el resultado del ejercicio 3.\"\n",
        "\n",
        "k = 2\n",
        "model = KMeans(n_clusters= k, random_state=24)\n",
        "model.fit(X)\n",
        "try:\n",
        "  print('Grupo \\t disc_duration \\t disc_duration (escala original)')\n",
        "  for i in range(2):\n",
        "    centroide = centroides(model, i, 60)\n",
        "    scaler = tf.named_transformers_['scaler']\n",
        "    centroide_original = scaler.inverse_transform([[centroide, 0, 0]])[0, 0]\n",
        "    print(f'{i} \\t {centroide:.5f} \\t {centroide_original:.5f}' )\n",
        "except Exception as e:\n",
        "  print(e)\n",
        "  print(\"El valor retornado no es un iterable válido.\")"
      ]
    },
    {
      "cell_type": "markdown",
      "metadata": {
        "id": "rybGUUKmQk3Z"
      },
      "source": [
        "**Salida esperada**:\n",
        "\n",
        "```\n",
        "Grupo \t disc_duration \t disc_duration (escala original)\n",
        "0 \t     -0.43091 \t      15.70929\n",
        "1 \t     1.24579 \t       35.91829\n",
        "```"
      ]
    },
    {
      "cell_type": "markdown",
      "metadata": {
        "id": "BjE07BNeATSA"
      },
      "source": [
        "> **Pregunta:** ¿Puede encontrar información importante en estos centroides?"
      ]
    },
    {
      "cell_type": "markdown",
      "metadata": {
        "id": "8ppuuViZATSA"
      },
      "source": [
        "<details>    \n",
        "<summary>\n",
        "    <font size=\"3\" color=\"darkgreen\"><b>Pista 1</b></font>\n",
        "</summary>\n",
        "\n",
        "* Puede obtener los centroides de un modelo $k$-_means_ entrenado con el atributo **`cluster_centers_`**. Obtenga una copia de ese arreglo y retorne el valor ubicado en el índice **`group, col`**."
      ]
    },
    {
      "cell_type": "markdown",
      "metadata": {
        "id": "7tXfI0UcPZ09"
      },
      "source": [
        "### **Evaluar código**"
      ]
    },
    {
      "cell_type": "code",
      "execution_count": 61,
      "metadata": {
        "id": "xzwYYT7BvkIl",
        "outputId": "bcf6e2fa-de54-47ca-9faa-b62c6558a383",
        "colab": {
          "base_uri": "https://localhost:8080/",
          "height": 141
        }
      },
      "outputs": [
        {
          "output_type": "stream",
          "name": "stdout",
          "text": [
            "Test 7_1\n"
          ]
        },
        {
          "output_type": "display_data",
          "data": {
            "text/plain": [
              "<IPython.core.display.HTML object>"
            ],
            "text/html": [
              "<h4>Test Run correctly</h4>"
            ]
          },
          "metadata": {}
        },
        {
          "output_type": "display_data",
          "data": {
            "text/plain": [
              "<IPython.core.display.HTML object>"
            ],
            "text/html": [
              "<h6 style=\"color: green;\">Your test grade: 100</h6>\n",
              "<h6>Feedback: Probando código con make_blobs</h6>"
            ]
          },
          "metadata": {}
        }
      ],
      "source": [
        "grader.run_test(\"Test 7_1\", globals())"
      ]
    },
    {
      "cell_type": "code",
      "execution_count": 62,
      "metadata": {
        "id": "sVSUrjT2O-5I",
        "outputId": "d514888d-ab11-4b93-f118-7d8aa0afa598",
        "colab": {
          "base_uri": "https://localhost:8080/",
          "height": 141
        }
      },
      "outputs": [
        {
          "output_type": "stream",
          "name": "stdout",
          "text": [
            "Test 7_2\n"
          ]
        },
        {
          "output_type": "display_data",
          "data": {
            "text/plain": [
              "<IPython.core.display.HTML object>"
            ],
            "text/html": [
              "<h4>Test Run correctly</h4>"
            ]
          },
          "metadata": {}
        },
        {
          "output_type": "display_data",
          "data": {
            "text/plain": [
              "<IPython.core.display.HTML object>"
            ],
            "text/html": [
              "<h6 style=\"color: green;\">Your test grade: 100</h6>\n",
              "<h6>Feedback: Probando código con credit german</h6>"
            ]
          },
          "metadata": {}
        }
      ],
      "source": [
        "grader.run_test(\"Test 7_2\", globals())"
      ]
    },
    {
      "cell_type": "markdown",
      "metadata": {
        "id": "QrU5ELZuMyF6"
      },
      "source": [
        "**¡Felicitaciones!** Ha terminado la tarea de la Unidad 4. ¡Buen trabajo!\n",
        "\n",
        "## **Evaluación**"
      ]
    },
    {
      "cell_type": "code",
      "execution_count": 63,
      "metadata": {
        "id": "bavDgQM9QjPe",
        "outputId": "2e26769f-44b7-4714-f638-a77dc8e680b5",
        "colab": {
          "base_uri": "https://localhost:8080/",
          "height": 1000
        }
      },
      "outputs": [
        {
          "output_type": "stream",
          "name": "stdout",
          "text": [
            "Test 1_1\n",
            "Test 1_2\n",
            "Test 2_1\n",
            "Test 2_2\n",
            "Test 3_1\n",
            "Test 3_2\n",
            "Test 3_3\n",
            "Test 3_4\n",
            "Test 4_1\n",
            "Test 4_2\n",
            "Test 5_1\n",
            "Test 5_2\n",
            "Test 6_1\n",
            "Test 6_2\n",
            "Test 7_2\n",
            "Test 7_1\n"
          ]
        },
        {
          "output_type": "display_data",
          "data": {
            "text/plain": [
              "<IPython.core.display.HTML object>"
            ],
            "text/html": [
              "<h3>Grading succeeded</h3>"
            ]
          },
          "metadata": {}
        },
        {
          "output_type": "display_data",
          "data": {
            "text/plain": [
              "<IPython.core.display.HTML object>"
            ],
            "text/html": [
              "<h6 style=\"color: green;\">TEST Test 1_1 , Your test grade: 100</h6>\n",
              "<h6>Feedback: Probando código con valores aleatorios</h6>"
            ]
          },
          "metadata": {}
        },
        {
          "output_type": "display_data",
          "data": {
            "text/plain": [
              "<IPython.core.display.HTML object>"
            ],
            "text/html": [
              "<h6 style=\"color: green;\">TEST Test 1_2 , Your test grade: 100</h6>\n",
              "<h6>Feedback: Probando código con credit_german</h6>"
            ]
          },
          "metadata": {}
        },
        {
          "output_type": "display_data",
          "data": {
            "text/plain": [
              "<IPython.core.display.HTML object>"
            ],
            "text/html": [
              "<h6 style=\"color: green;\">TEST Test 2_1 , Your test grade: 100</h6>\n",
              "<h6>Feedback: Probando código</h6>"
            ]
          },
          "metadata": {}
        },
        {
          "output_type": "display_data",
          "data": {
            "text/plain": [
              "<IPython.core.display.HTML object>"
            ],
            "text/html": [
              "<h6 style=\"color: green;\">TEST Test 2_2 , Your test grade: 100</h6>\n",
              "<h6>Feedback: Probando código con credit_german</h6>"
            ]
          },
          "metadata": {}
        },
        {
          "output_type": "display_data",
          "data": {
            "text/plain": [
              "<IPython.core.display.HTML object>"
            ],
            "text/html": [
              "<h6 style=\"color: green;\">TEST Test 3_1 , Your test grade: 100</h6>\n",
              "<h6>Feedback: Probando código con valores aleatorios</h6>"
            ]
          },
          "metadata": {}
        },
        {
          "output_type": "display_data",
          "data": {
            "text/plain": [
              "<IPython.core.display.HTML object>"
            ],
            "text/html": [
              "<h6 style=\"color: green;\">TEST Test 3_2 , Your test grade: 100</h6>\n",
              "<h6>Feedback: Probando código con valores aleatorios</h6>"
            ]
          },
          "metadata": {}
        },
        {
          "output_type": "display_data",
          "data": {
            "text/plain": [
              "<IPython.core.display.HTML object>"
            ],
            "text/html": [
              "<h6 style=\"color: green;\">TEST Test 3_3 , Your test grade: 100</h6>\n",
              "<h6>Feedback: Probando código con credit_german</h6>"
            ]
          },
          "metadata": {}
        },
        {
          "output_type": "display_data",
          "data": {
            "text/plain": [
              "<IPython.core.display.HTML object>"
            ],
            "text/html": [
              "<h6 style=\"color: green;\">TEST Test 3_4 , Your test grade: 100</h6>\n",
              "<h6>Feedback: Probando código con credit_german</h6>"
            ]
          },
          "metadata": {}
        },
        {
          "output_type": "display_data",
          "data": {
            "text/plain": [
              "<IPython.core.display.HTML object>"
            ],
            "text/html": [
              "<h6 style=\"color: green;\">TEST Test 4_1 , Your test grade: 100</h6>\n",
              "<h6>Feedback: Probando código con make_blobs</h6>"
            ]
          },
          "metadata": {}
        },
        {
          "output_type": "display_data",
          "data": {
            "text/plain": [
              "<IPython.core.display.HTML object>"
            ],
            "text/html": [
              "<h6 style=\"color: red;\">TEST Test 4_2 , Your test grade: 32</h6>\n",
              "<h6>Feedback: Probando código con credit_german<p>\"ratios\" no tiene el tamaño esperado. Se esperaba <span style=\"color: green;\">2</span></p><p>Pero se obtuvo <span style=\"color: red;\">3</span></p><p>\"ratios\" no tiene el tamaño esperado. Se esperaba <span style=\"color: green;\">2</span></p><p>Pero se obtuvo <span style=\"color: red;\">4</span></p><p>\"ratios\" no tiene el tamaño esperado. Se esperaba <span style=\"color: green;\">2</span></p><p>Pero se obtuvo <span style=\"color: red;\">5</span></p><p>\"ratios\" no tiene el tamaño esperado. Se esperaba <span style=\"color: green;\">2</span></p><p>Pero se obtuvo <span style=\"color: red;\">6</span></p></h6>"
            ]
          },
          "metadata": {}
        },
        {
          "output_type": "display_data",
          "data": {
            "text/plain": [
              "<IPython.core.display.HTML object>"
            ],
            "text/html": [
              "<h6 style=\"color: green;\">TEST Test 5_1 , Your test grade: 100</h6>\n",
              "<h6>Feedback: Probando código con make_blobs</h6>"
            ]
          },
          "metadata": {}
        },
        {
          "output_type": "display_data",
          "data": {
            "text/plain": [
              "<IPython.core.display.HTML object>"
            ],
            "text/html": [
              "<h6 style=\"color: green;\">TEST Test 5_2 , Your test grade: 100</h6>\n",
              "<h6>Feedback: Probando código con credit german</h6>"
            ]
          },
          "metadata": {}
        },
        {
          "output_type": "display_data",
          "data": {
            "text/plain": [
              "<IPython.core.display.HTML object>"
            ],
            "text/html": [
              "<h6 style=\"color: green;\">TEST Test 6_1 , Your test grade: 100</h6>\n",
              "<h6>Feedback: Probando código con make_blobs</h6>"
            ]
          },
          "metadata": {}
        },
        {
          "output_type": "display_data",
          "data": {
            "text/plain": [
              "<IPython.core.display.HTML object>"
            ],
            "text/html": [
              "<h6 style=\"color: green;\">TEST Test 6_2 , Your test grade: 100</h6>\n",
              "<h6>Feedback: Probando código con credit german</h6>"
            ]
          },
          "metadata": {}
        },
        {
          "output_type": "display_data",
          "data": {
            "text/plain": [
              "<IPython.core.display.HTML object>"
            ],
            "text/html": [
              "<h6 style=\"color: green;\">TEST Test 7_2 , Your test grade: 100</h6>\n",
              "<h6>Feedback: Probando código con credit german</h6>"
            ]
          },
          "metadata": {}
        },
        {
          "output_type": "display_data",
          "data": {
            "text/plain": [
              "<IPython.core.display.HTML object>"
            ],
            "text/html": [
              "<h6 style=\"color: green;\">TEST Test 7_1 , Your test grade: 100</h6>\n",
              "<h6>Feedback: Probando código con make_blobs</h6>"
            ]
          },
          "metadata": {}
        },
        {
          "output_type": "display_data",
          "data": {
            "text/plain": [
              "<IPython.core.display.HTML object>"
            ],
            "text/html": [
              "<h3 style=\"color: purple;\">Your submission grade: \"96.68%\"</h3>"
            ]
          },
          "metadata": {}
        }
      ],
      "source": [
        "grader.submit_task(globals())"
      ]
    },
    {
      "cell_type": "markdown",
      "metadata": {
        "id": "1_HFt5FsQ5ym"
      },
      "source": [
        "## **Créditos**\n",
        "---\n",
        "\n",
        "* **Profesor:** [Fabio Augusto González](https://dis.unal.edu.co/~fgonza/)\n",
        "* **Asistentes docentes:**\n",
        "  * Miguel Ángel Ortiz Marín\n",
        "  * Alberto Nicolai Romero Martínez\n",
        "\n",
        "**Universidad Nacional de Colombia** - *Facultad de Ingeniería*"
      ]
    }
  ],
  "metadata": {
    "colab": {
      "collapsed_sections": [
        "1_HFt5FsQ5ym"
      ],
      "provenance": [],
      "toc_visible": true,
      "include_colab_link": true
    },
    "kernelspec": {
      "display_name": "Python 3",
      "name": "python3"
    },
    "language_info": {
      "name": "python"
    }
  },
  "nbformat": 4,
  "nbformat_minor": 0
}