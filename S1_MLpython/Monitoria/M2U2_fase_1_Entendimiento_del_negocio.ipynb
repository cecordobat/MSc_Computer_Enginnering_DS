{
  "cells": [
    {
      "cell_type": "markdown",
      "id": "585dcbfa",
      "metadata": {
        "id": "585dcbfa"
      },
      "source": [
        "<img src = \"https://drive.google.com/uc?export=view&id=1FpwoiW7eC_aEKJ53NReEyrW8qAR3RFs0\" alt = \"Encabezado MLDS\" width = \"100%\">  </img>"
      ]
    },
    {
      "cell_type": "markdown",
      "id": "82ea3b5e",
      "metadata": {
        "id": "82ea3b5e"
      },
      "source": [
        "# **Entendimiento del Negocio y Carga de Datos**\n",
        "---\n",
        "\n",
        "Este notebook es una plantilla que le puede servir como guía para el primer entregable del proyecto aplicado."
      ]
    },
    {
      "cell_type": "markdown",
      "metadata": {
        "id": "ZE34UT9NZrYv"
      },
      "source": [
        "## **0. Integrantes del equipo de trabajo**\n",
        "---\n",
        "\n",
        "Por favor incluya los nombres completos y número de identificación de los integrantes del equipo de trabajo:"
      ],
      "id": "ZE34UT9NZrYv"
    },
    {
      "cell_type": "markdown",
      "metadata": {
        "id": "ckNDI7ftUrpa"
      },
      "source": [
        "1. Juan Sebastian Malagón Torres"
      ],
      "id": "ckNDI7ftUrpa"
    },
    {
      "cell_type": "markdown",
      "id": "fdb4c33d",
      "metadata": {
        "id": "fdb4c33d"
      },
      "source": [
        "## **1. Marco de Proyecto**\n",
        "---\n",
        "\n",
        "Normalmente, se suele construir un marco de proyecto para mostrar los resultados del entendimiento del negocio. Para ello, se debe dar respuesta a los siguientes elementos:"
      ]
    },
    {
      "cell_type": "markdown",
      "id": "7a974ec1",
      "metadata": {
        "id": "7a974ec1"
      },
      "source": [
        "### **1.1. Trasfondo del Negocio**\n",
        "---\n",
        "\n",
        "- ¿Quién es el cliente o los beneficiarios del proyecto? ¿En qué dominio se encuentran (marketing, medicina, entre otros)?\n",
        "- ¿Qué problemas del negocio o del dominio estamos tratando de solucionar?"
      ]
    },
    {
      "cell_type": "markdown",
      "id": "18d9305a",
      "metadata": {
        "id": "18d9305a"
      },
      "source": [
        "En esta ocasión estaremos trabajando sobre medical MNIST (https://medmnist.com/). Un grupo de bases de datos, diseñado para la exploración de modelos machine learning y deep learning en diferentes contextos de imágenes diagnósticas. Puntualmente, se utilizará el conjunto BreastMNIST.\n",
        "\n",
        "BreastMNIST es un conjunto de datos de imágenes de ecografía mamaria, donde se busca resolver una tarea de clasificación binaria, distinguiendo entre tumores benignos y malignos. Estos datos fueron recopilados en el 2018, de varios hospitales de estados unidos, constituyendo un total de 780 muestras.\n",
        "\n",
        "Este es un proyecto enfocado al área médica, donde los beneficiarios del proyecto será los centros dedicados al manejo en investigación del cáncer de mama. Proveyéndoles una herramienta para la identificación adecuada de casos de interés clínico."
      ]
    },
    {
      "cell_type": "markdown",
      "id": "d09c63e5",
      "metadata": {
        "id": "d09c63e5"
      },
      "source": [
        "### **1.2. Alcance**\n",
        "---\n",
        "\n",
        "- ¿Qué  solución se desea implementar?\n",
        "- ¿Cuáles son los límites y fronteras del proyecto de *machine learning*? ¿Qué aspectos específicos del negocio se incluirán y cuáles se excluyen en el alcance del proyecto?\n",
        "- ¿De qué forma el cliente o beneficiario utilizará el producto del proyecto?"
      ]
    },
    {
      "cell_type": "markdown",
      "id": "12e3be6b",
      "metadata": {
        "id": "12e3be6b"
      },
      "source": [
        "Teniendo presente los datos identificados, se plantea el desarrollo de un modelo de clasificación binaria, considerando como entrada una imagen de ecografía mamaria de baja resolución (30x30 píxeles), siendo importante considerara los siguientes aspectos por parte del usuario:\n",
        "\n",
        "El modelo no está diseñado para el manejo de imágenes masivas, por lo que es importante que el usuario delimite la región de interés donde pude estar la lesión.\n",
        "El modelo podrá discriminar entre casos malignos y benignos, sin embargo, los orígenes o características específicas de la lesión no serán incluidas como factor de decisión.\n",
        "El modelo utilizará una única imagen como entrada, por lo cual el análisis desde múltiples perspectivas será labora del usuario.\n",
        "El modelo bajo NINGÚN concepto remplaza la labor ni criterio de una especialista.\n",
        "A través de este proyecto de busca el desarrollo de una herramienta que facilite el proceso diagnóstico y agilice la identificación de lesiones malignas en el seno por medio de imágenes de ecografía mamaria."
      ]
    },
    {
      "cell_type": "markdown",
      "id": "370e4a5d",
      "metadata": {
        "id": "370e4a5d"
      },
      "source": [
        "### **1.3. Plan**\n",
        "---\n",
        "\n",
        "Puede agregar una lista de actividades con tiempos estimados, un diagrama de Gantt o integrar alguna herramienta de gestión de proyectos para mostrar la planeación del proyecto como [*Jira*](https://www.atlassian.com/software/jira?&aceid=&adposition=&adgroup=144583570757&campaign=19313283508&creative=641924587890&device=c&keyword=jira%20software%20online&matchtype=p&network=g&placement=&ds_kids=p74602877891&ds_e=GOOGLE&ds_eid=700000001558501&ds_e1=GOOGLE&gad_source=1&gclid=CjwKCAiAqNSsBhAvEiwAn_tmxStBdySS6RxbLNGXE0tWTeJc32ffjQD_1EXZvH6hmQkYZm5bTa3sgBoCX3oQAvD_BwE&gclsrc=aw.ds) o [*Trello*](https://trello.com/?&aceid=&adposition=&adgroup=144675712219&campaign=19250238609&creative=641300630637&device=c&keyword=trello&matchtype=e&network=g&placement=&ds_kids=p74526213668&ds_e=GOOGLE&ds_eid=700000001557344&ds_e1=GOOGLE&gad_source=1&gclid=CjwKCAiAqNSsBhAvEiwAn_tmxWW7Gdzf0Szf-mA-piM2GPM7tk8R0HsgpBALLGHNFq1-2xXMQbxB1RoCs-sQAvD_BwE&gclsrc=aw.ds)."
      ]
    },
    {
      "cell_type": "markdown",
      "id": "3b465355",
      "metadata": {
        "id": "3b465355"
      },
      "source": [
        "Acceso al tablero: https://trello.com/b/Oo9PAn77/mlds2"
      ]
    },
    {
      "cell_type": "markdown",
      "id": "4a4e145b",
      "metadata": {
        "id": "4a4e145b"
      },
      "source": [
        "## **2. Datos**\n",
        "---\n",
        "\n",
        "En esta sección debe adjuntar una descripción de los datos y agregar el código que permite su tratamiento."
      ]
    },
    {
      "cell_type": "markdown",
      "id": "2c5f8274",
      "metadata": {
        "id": "2c5f8274"
      },
      "source": [
        "### **2.1. Origen**\n",
        "---\n",
        "\n",
        "- ¿De dónde vienen los datos?\n",
        "- ¿Se usa alguna herramienta o proceso para la descarga de la información?\n",
        "- ¿Qué tipo de datos estamos manejando?"
      ]
    },
    {
      "cell_type": "markdown",
      "id": "7261ad96",
      "metadata": {
        "id": "7261ad96"
      },
      "source": [
        "BrestMNIST es un conjunto de 784 imágenes de ecografía mamaria disponible a través de la plataforma de descargas zendo (https://zenodo.org/records/10519652), adicionalmente pueden ser descargados por medio de la herramienta propia del proyecto instalable por medio de comando: pip install medmnist."
      ]
    },
    {
      "cell_type": "markdown",
      "id": "4a9cc180",
      "metadata": {
        "id": "4a9cc180"
      },
      "source": [
        "### **2.2. Carga o Adquisición de Datos**\n",
        "---\n",
        "\n",
        "Agregue el código necesario en _Python_ para obtener o cargar los datos."
      ]
    },
    {
      "cell_type": "code",
      "source": [
        "!pip install medmnist"
      ],
      "metadata": {
        "id": "zCPDzJ8L6K-0",
        "outputId": "56ce4760-b550-4deb-d079-89a290825b73",
        "colab": {
          "base_uri": "https://localhost:8080/"
        }
      },
      "id": "zCPDzJ8L6K-0",
      "execution_count": 1,
      "outputs": [
        {
          "output_type": "stream",
          "name": "stdout",
          "text": [
            "Collecting medmnist\n",
            "  Downloading medmnist-3.0.2-py3-none-any.whl.metadata (14 kB)\n",
            "Requirement already satisfied: numpy in /usr/local/lib/python3.10/dist-packages (from medmnist) (1.26.4)\n",
            "Requirement already satisfied: pandas in /usr/local/lib/python3.10/dist-packages (from medmnist) (2.2.2)\n",
            "Requirement already satisfied: scikit-learn in /usr/local/lib/python3.10/dist-packages (from medmnist) (1.5.2)\n",
            "Requirement already satisfied: scikit-image in /usr/local/lib/python3.10/dist-packages (from medmnist) (0.24.0)\n",
            "Requirement already satisfied: tqdm in /usr/local/lib/python3.10/dist-packages (from medmnist) (4.66.5)\n",
            "Requirement already satisfied: Pillow in /usr/local/lib/python3.10/dist-packages (from medmnist) (10.4.0)\n",
            "Collecting fire (from medmnist)\n",
            "  Downloading fire-0.7.0.tar.gz (87 kB)\n",
            "\u001b[2K     \u001b[90m━━━━━━━━━━━━━━━━━━━━━━━━━━━━━━━━━━━━━━━━\u001b[0m \u001b[32m87.2/87.2 kB\u001b[0m \u001b[31m1.9 MB/s\u001b[0m eta \u001b[36m0:00:00\u001b[0m\n",
            "\u001b[?25h  Preparing metadata (setup.py) ... \u001b[?25l\u001b[?25hdone\n",
            "Requirement already satisfied: torch in /usr/local/lib/python3.10/dist-packages (from medmnist) (2.4.1+cu121)\n",
            "Requirement already satisfied: torchvision in /usr/local/lib/python3.10/dist-packages (from medmnist) (0.19.1+cu121)\n",
            "Requirement already satisfied: termcolor in /usr/local/lib/python3.10/dist-packages (from fire->medmnist) (2.5.0)\n",
            "Requirement already satisfied: python-dateutil>=2.8.2 in /usr/local/lib/python3.10/dist-packages (from pandas->medmnist) (2.8.2)\n",
            "Requirement already satisfied: pytz>=2020.1 in /usr/local/lib/python3.10/dist-packages (from pandas->medmnist) (2024.2)\n",
            "Requirement already satisfied: tzdata>=2022.7 in /usr/local/lib/python3.10/dist-packages (from pandas->medmnist) (2024.2)\n",
            "Requirement already satisfied: scipy>=1.9 in /usr/local/lib/python3.10/dist-packages (from scikit-image->medmnist) (1.13.1)\n",
            "Requirement already satisfied: networkx>=2.8 in /usr/local/lib/python3.10/dist-packages (from scikit-image->medmnist) (3.3)\n",
            "Requirement already satisfied: imageio>=2.33 in /usr/local/lib/python3.10/dist-packages (from scikit-image->medmnist) (2.35.1)\n",
            "Requirement already satisfied: tifffile>=2022.8.12 in /usr/local/lib/python3.10/dist-packages (from scikit-image->medmnist) (2024.9.20)\n",
            "Requirement already satisfied: packaging>=21 in /usr/local/lib/python3.10/dist-packages (from scikit-image->medmnist) (24.1)\n",
            "Requirement already satisfied: lazy-loader>=0.4 in /usr/local/lib/python3.10/dist-packages (from scikit-image->medmnist) (0.4)\n",
            "Requirement already satisfied: joblib>=1.2.0 in /usr/local/lib/python3.10/dist-packages (from scikit-learn->medmnist) (1.4.2)\n",
            "Requirement already satisfied: threadpoolctl>=3.1.0 in /usr/local/lib/python3.10/dist-packages (from scikit-learn->medmnist) (3.5.0)\n",
            "Requirement already satisfied: filelock in /usr/local/lib/python3.10/dist-packages (from torch->medmnist) (3.16.1)\n",
            "Requirement already satisfied: typing-extensions>=4.8.0 in /usr/local/lib/python3.10/dist-packages (from torch->medmnist) (4.12.2)\n",
            "Requirement already satisfied: sympy in /usr/local/lib/python3.10/dist-packages (from torch->medmnist) (1.13.3)\n",
            "Requirement already satisfied: jinja2 in /usr/local/lib/python3.10/dist-packages (from torch->medmnist) (3.1.4)\n",
            "Requirement already satisfied: fsspec in /usr/local/lib/python3.10/dist-packages (from torch->medmnist) (2024.6.1)\n",
            "Requirement already satisfied: six>=1.5 in /usr/local/lib/python3.10/dist-packages (from python-dateutil>=2.8.2->pandas->medmnist) (1.16.0)\n",
            "Requirement already satisfied: MarkupSafe>=2.0 in /usr/local/lib/python3.10/dist-packages (from jinja2->torch->medmnist) (2.1.5)\n",
            "Requirement already satisfied: mpmath<1.4,>=1.1.0 in /usr/local/lib/python3.10/dist-packages (from sympy->torch->medmnist) (1.3.0)\n",
            "Downloading medmnist-3.0.2-py3-none-any.whl (25 kB)\n",
            "Building wheels for collected packages: fire\n",
            "  Building wheel for fire (setup.py) ... \u001b[?25l\u001b[?25hdone\n",
            "  Created wheel for fire: filename=fire-0.7.0-py3-none-any.whl size=114250 sha256=98a51a68ff72a07021382b5dd92aa955937f7da8e1c9e2972ac8406bdf24999c\n",
            "  Stored in directory: /root/.cache/pip/wheels/19/39/2f/2d3cadc408a8804103f1c34ddd4b9f6a93497b11fa96fe738e\n",
            "Successfully built fire\n",
            "Installing collected packages: fire, medmnist\n",
            "Successfully installed fire-0.7.0 medmnist-3.0.2\n"
          ]
        }
      ]
    },
    {
      "cell_type": "code",
      "source": [
        "from medmnist import BreastMNIST\n",
        "train_set = BreastMNIST(split=\"train\", download=True)\n",
        "val_set = BreastMNIST(split=\"val\", download=True)\n",
        "test_set = BreastMNIST(split=\"test\", download=True)"
      ],
      "metadata": {
        "colab": {
          "base_uri": "https://localhost:8080/"
        },
        "id": "2ylkbtyT6dca",
        "outputId": "ea734494-aae1-4c85-9de1-df0dfa480ce7"
      },
      "id": "2ylkbtyT6dca",
      "execution_count": 5,
      "outputs": [
        {
          "output_type": "stream",
          "name": "stdout",
          "text": [
            "Using downloaded and verified file: /root/.medmnist/breastmnist.npz\n",
            "Using downloaded and verified file: /root/.medmnist/breastmnist.npz\n",
            "Using downloaded and verified file: /root/.medmnist/breastmnist.npz\n"
          ]
        }
      ]
    },
    {
      "cell_type": "code",
      "source": [
        "import matplotlib.pyplot as plt\n",
        "\n",
        "plt.imshow(train_set.imgs[121], cmap=\"gray\")"
      ],
      "metadata": {
        "id": "HCwjZYX77LBO",
        "outputId": "e38c4257-cff5-4112-db47-2ade356c332c",
        "colab": {
          "base_uri": "https://localhost:8080/",
          "height": 448
        }
      },
      "id": "HCwjZYX77LBO",
      "execution_count": 14,
      "outputs": [
        {
          "output_type": "execute_result",
          "data": {
            "text/plain": [
              "<matplotlib.image.AxesImage at 0x7d17d57fb490>"
            ]
          },
          "metadata": {},
          "execution_count": 14
        },
        {
          "output_type": "display_data",
          "data": {
            "text/plain": [
              "<Figure size 640x480 with 1 Axes>"
            ],
            "image/png": "[encoded data removed]"
          },
          "metadata": {}
        }
      ]
    },
    {
      "cell_type": "markdown",
      "id": "698f42d4",
      "metadata": {
        "id": "698f42d4"
      },
      "source": [
        "## **Créditos**\n",
        "---\n",
        "\n",
        "* **Profesor:** [Fabio Augusto Gonzalez](https://dis.unal.edu.co/~fgonza/)\n",
        "* **Asistente docente :**\n",
        "  * [Rosa Alejandra Superlano Esquibel](https://www.linkedin.com/in/alejandrasuperlano/).\n",
        "* **Diseño de imágenes:**\n",
        "    - [Rosa Alejandra Superlano Esquibel](https://www.linkedin.com/in/alejandrasuperlano/).\n",
        "* **Coordinador de virtualización:**\n",
        "    - [Edder Hernández Forero](https://www.linkedin.com/in/edder-hernandez-forero-28aa8b207/).\n",
        "\n",
        "**Universidad Nacional de Colombia** - *Facultad de Ingeniería*"
      ]
    }
  ],
  "metadata": {
    "jupytext": {
      "cell_metadata_filter": "-all"
    },
    "kernelspec": {
      "display_name": "Python 3 (ipykernel)",
      "language": "python",
      "name": "python3"
    },
    "colab": {
      "provenance": []
    }
  },
  "nbformat": 4,
  "nbformat_minor": 5
}